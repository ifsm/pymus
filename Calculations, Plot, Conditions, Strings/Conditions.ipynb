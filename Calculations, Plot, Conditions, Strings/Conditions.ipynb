{
 "cells": [
  {
   "cell_type": "markdown",
   "id": "54eae298-c9ac-4956-b265-0ae2ec98702c",
   "metadata": {},
   "source": [
    "# Conditions\n",
    "Conditions are operators or statements that execute differently depending on the input data. Conditions are practical for writing code that executes differently depending on the input data. "
   ]
  },
  {
   "cell_type": "markdown",
   "id": "42eb61b1-4170-4206-8b74-014c7b610370",
   "metadata": {},
   "source": [
    "## Basic Conditions</h2>"
   ]
  },
  {
   "cell_type": "markdown",
   "id": "f9046304-817b-476f-b9c6-13052f24c2dd",
   "metadata": {},
   "source": [
    "<code>></code> is used to check if the left variable is bigger than the right variable. It returns as <code>True</code> or <code>False</code>. For example:"
   ]
  },
  {
   "cell_type": "code",
   "execution_count": 1,
   "id": "434ab6f7-1aef-4323-a5ea-f1d5e5c1e6fb",
   "metadata": {},
   "outputs": [
    {
     "name": "stdout",
     "output_type": "stream",
     "text": [
      "False\n"
     ]
    }
   ],
   "source": [
    "x = 5 \n",
    "y = 6 \n",
    "\n",
    "print (x>y)"
   ]
  },
  {
   "cell_type": "markdown",
   "id": "62627092-f3e6-4f50-81b8-bf115cae6f99",
   "metadata": {},
   "source": [
    "<code><</code> is the same as before but the other way around. It asks if the left variable is <em>smaller</em> than the right. "
   ]
  },
  {
   "cell_type": "code",
   "execution_count": 2,
   "id": "f41e0b77-5f96-49f9-bc12-11a0be2d67bb",
   "metadata": {},
   "outputs": [
    {
     "name": "stdout",
     "output_type": "stream",
     "text": [
      "True\n"
     ]
    }
   ],
   "source": [
    "print (x<y)"
   ]
  },
  {
   "cell_type": "markdown",
   "id": "4c241591-35c2-4dad-b5d4-107aecc239db",
   "metadata": {},
   "source": [
    "<code><=</code> asks if the left variable is <em>smaller than or equal to</em> the right."
   ]
  },
  {
   "cell_type": "code",
   "execution_count": 3,
   "id": "4977377c-2d69-4c05-96b6-ac9e84516929",
   "metadata": {},
   "outputs": [
    {
     "name": "stdout",
     "output_type": "stream",
     "text": [
      "True\n"
     ]
    }
   ],
   "source": [
    "x = 5\n",
    "print (x<=y)"
   ]
  },
  {
   "cell_type": "markdown",
   "id": "486b5e8f-66d2-43c4-a819-5dcfe2747427",
   "metadata": {},
   "source": [
    "<code>>=</code> asks if the left variable is <em>bigger or equal to</em> the right."
   ]
  },
  {
   "cell_type": "code",
   "execution_count": 4,
   "id": "260209e2-29f2-45f2-9a4b-84b1e965fd57",
   "metadata": {},
   "outputs": [
    {
     "name": "stdout",
     "output_type": "stream",
     "text": [
      "False\n"
     ]
    }
   ],
   "source": [
    "print (x>=y)"
   ]
  },
  {
   "cell_type": "markdown",
   "id": "03f3a2b2-c824-4b53-8c1d-70eeb7ef7bf8",
   "metadata": {},
   "source": [
    "<code>==</code> asks if both variables are <em>equal</em>."
   ]
  },
  {
   "cell_type": "code",
   "execution_count": 5,
   "id": "05d3c468-047c-49fc-8079-1fb7adb1c153",
   "metadata": {},
   "outputs": [
    {
     "name": "stdout",
     "output_type": "stream",
     "text": [
      "False\n"
     ]
    }
   ],
   "source": [
    "print (x==y)"
   ]
  },
  {
   "cell_type": "markdown",
   "id": "5d6cec9f-d2c3-4190-85d0-dfc8a7387d00",
   "metadata": {},
   "source": [
    "<code>!=</code> asks if both variables are <em>not equal</em>. (will return <code>True</code> if they are not equal)."
   ]
  },
  {
   "cell_type": "code",
   "execution_count": 6,
   "id": "4a869568-5ae9-4d3f-b060-738bd84e52c6",
   "metadata": {},
   "outputs": [
    {
     "name": "stdout",
     "output_type": "stream",
     "text": [
      "True\n"
     ]
    }
   ],
   "source": [
    "print (x!=y)"
   ]
  },
  {
   "cell_type": "markdown",
   "id": "25292113-1104-4a01-8a36-9f3fb84ff280",
   "metadata": {},
   "source": [
    "<code>is</code> asks if the two variables refer to the <em>same object</em>. It will return <code>False</code> if both variables have the same value but are not identical. "
   ]
  },
  {
   "cell_type": "code",
   "execution_count": 7,
   "id": "8f1c6395-d4c0-4fc8-ba23-2ec39bfaef65",
   "metadata": {},
   "outputs": [
    {
     "name": "stdout",
     "output_type": "stream",
     "text": [
      "True\n",
      "False\n"
     ]
    }
   ],
   "source": [
    "a = [4,5,6]\n",
    "b = [1,2,3]\n",
    "a = b #b is now the same as a \n",
    "c = [4,5,6]\n",
    "\n",
    "print (a is b) \n",
    "print (a is c) "
   ]
  },
  {
   "cell_type": "markdown",
   "id": "186fe4fe-baab-41e4-a996-5920d893b32d",
   "metadata": {},
   "source": [
    "<code>is not</code> asks the same question as <code>is</code> but logically reversed. It will return true if the variables are not identical. "
   ]
  },
  {
   "cell_type": "code",
   "execution_count": 8,
   "id": "99a18eb4-d263-403f-8c92-33d54c02f8d4",
   "metadata": {},
   "outputs": [
    {
     "name": "stdout",
     "output_type": "stream",
     "text": [
      "False\n",
      "True\n"
     ]
    }
   ],
   "source": [
    "a = [4,5,6] \n",
    "a = b \n",
    "c = [4,5,6] \n",
    "\n",
    "print (a is not b) \n",
    "print (a is not c) "
   ]
  },
  {
   "cell_type": "markdown",
   "id": "a631f848-2d04-452d-b0a1-42d3db2b38ff",
   "metadata": {},
   "source": [
    "<code>or</code> returns <code>True</code> if one of the variables is <code>True</code>."
   ]
  },
  {
   "cell_type": "code",
   "execution_count": 9,
   "id": "95179a3d-7bc1-4791-a2bb-5445153eb3a7",
   "metadata": {},
   "outputs": [
    {
     "name": "stdout",
     "output_type": "stream",
     "text": [
      "True\n"
     ]
    }
   ],
   "source": [
    "d = False\n",
    "e = True\n",
    "\n",
    "print (d or e)"
   ]
  },
  {
   "cell_type": "markdown",
   "id": "3f2ee91f-b227-430f-8305-7d2922a14842",
   "metadata": {},
   "source": [
    "<code>and</code> only returns <code>True</code> if both variables are also <code>True</code>."
   ]
  },
  {
   "cell_type": "code",
   "execution_count": 10,
   "id": "60487b67-39e8-429d-ad1b-fed742b3a48e",
   "metadata": {},
   "outputs": [
    {
     "name": "stdout",
     "output_type": "stream",
     "text": [
      "False\n"
     ]
    }
   ],
   "source": [
    "print (d and e)"
   ]
  },
  {
   "cell_type": "markdown",
   "id": "66d304e4-33f2-41d3-9289-99586d5cbed5",
   "metadata": {},
   "source": [
    "<code>not</code> reverses a <em>boolean</em> expression. "
   ]
  },
  {
   "cell_type": "code",
   "execution_count": 11,
   "id": "0fa4fb37-f6e7-403e-b67f-3a89e083a134",
   "metadata": {},
   "outputs": [
    {
     "name": "stdout",
     "output_type": "stream",
     "text": [
      "True\n"
     ]
    }
   ],
   "source": [
    "print (not d)"
   ]
  },
  {
   "cell_type": "markdown",
   "id": "b8c627da-830e-4849-8caa-5f59f61bc9ce",
   "metadata": {},
   "source": [
    "## if, elif and else statements</h2>"
   ]
  },
  {
   "cell_type": "markdown",
   "id": "a6f6583c-0fa2-4e50-993c-93c7043afd6c",
   "metadata": {},
   "source": [
    "#### if statement</h4> "
   ]
  },
  {
   "cell_type": "markdown",
   "id": "ca4b5335-3c12-4d59-9e69-14db88a504f9",
   "metadata": {},
   "source": [
    "The <code>if</code> statement returns as <code>True</code> if <em>specified criteria</em> is met. The criteria is specified within the statement. <br>\n",
    "The structure of the if statement is: <code>if (assignment_expression): suite</code>. The <code>suite</code> is the block of code that executes when the statement is <code>True</code>. <br>\n",
    "In this case the variable <code>e</code> needs to be <code>True</code> in order for the <code>if</code> statement to execute. Otherwise nothing happens. "
   ]
  },
  {
   "cell_type": "code",
   "execution_count": 12,
   "id": "cf93c6a7-0551-4845-ad47-5dd168ecf8a4",
   "metadata": {},
   "outputs": [
    {
     "name": "stdout",
     "output_type": "stream",
     "text": [
      "the if statement has executed\n"
     ]
    }
   ],
   "source": [
    "e = True\n",
    "\n",
    "if (e):\n",
    "    print (\"the if statement has executed\") "
   ]
  },
  {
   "cell_type": "markdown",
   "id": "f5bf822a-2278-4382-8f39-f9c53a190f4a",
   "metadata": {},
   "source": [
    "#### elif statement</h4>"
   ]
  },
  {
   "cell_type": "markdown",
   "id": "9310346c-32fb-4c51-a59b-2aad08d36d47",
   "metadata": {},
   "source": [
    "<code>elif</code> (short for <em>else if</em>) executes a block of code if a certain condition is not met. In this case the <code>f</code> variable is <em>smaller</em> than 3 but <em>bigger</em> than 0 so the <code>elif</code> statement is executed."
   ]
  },
  {
   "cell_type": "code",
   "execution_count": 13,
   "id": "0cee1256-daed-476d-8a27-126631627d9f",
   "metadata": {},
   "outputs": [
    {
     "name": "stdout",
     "output_type": "stream",
     "text": [
      "the elif statement has executed\n"
     ]
    }
   ],
   "source": [
    "f = 2\n",
    "\n",
    "if (f>=3): \n",
    "    print (\"the if statement has executed\") \n",
    "elif (f<3 and f>0): \n",
    "    print (\"the elif statement has executed\")\n",
    "else:\n",
    "    print (\"the else statement has executed\") "
   ]
  },
  {
   "cell_type": "markdown",
   "id": "4e518262-24c5-46ca-9969-c75840e08b37",
   "metadata": {},
   "source": [
    "#### else statement</h4>"
   ]
  },
  {
   "cell_type": "markdown",
   "id": "74d05e77-5ab1-479b-8a90-842fcdecf0bc",
   "metadata": {},
   "source": [
    "<code>else</code> executes a block of code if <em>none</em> of the conditions are met. "
   ]
  },
  {
   "cell_type": "code",
   "execution_count": 14,
   "id": "17c41f11-5814-445d-8383-366a44901e03",
   "metadata": {},
   "outputs": [
    {
     "name": "stdout",
     "output_type": "stream",
     "text": [
      "the else statement has executed\n"
     ]
    }
   ],
   "source": [
    "f = 0\n",
    "\n",
    "if (f>=3): \n",
    "    print (\"the if statement has executed\") \n",
    "elif (f<3 and f>0): \n",
    "    print (\"the elif statement has executed\")\n",
    "else:\n",
    "    print (\"the else statement has executed\") "
   ]
  },
  {
   "cell_type": "markdown",
   "id": "53019850-a91d-47bc-95f3-82c41372c097",
   "metadata": {},
   "source": [
    "#### pass</h4>"
   ]
  },
  {
   "cell_type": "markdown",
   "id": "bbcb6a68-017c-43f9-9014-83c59897bb70",
   "metadata": {},
   "source": [
    "If the block of code for a condition is <code>pass</code>, then nothing happens."
   ]
  },
  {
   "cell_type": "code",
   "execution_count": 15,
   "id": "d8f7c6b4-aee1-42dc-bf22-8416e3b41d4c",
   "metadata": {},
   "outputs": [],
   "source": [
    "if not (d and e):\n",
    "    pass \n",
    "else:\n",
    "    print (\"the else statement has executed\")"
   ]
  },
  {
   "cell_type": "markdown",
   "id": "ff2cfada-c1bf-49bb-b61a-3cf63e922941",
   "metadata": {},
   "source": [
    "### Nested if statements</h3> \n",
    "<em>Nested</em> statements are two or more control structures (for example <code>if</code>, <code>else</code>, <code>elif</code>) inside one another. In this example the program checks if a number is an <em>odd</em> number and <em>between 20 and 30</em>. <br>First the program checks if the number is between 20 and 30. If that is not the case it checks if the number is below 20. Afterwards it checks if the number is odd or even; using the <em>modulo</em> operator <code>%</code>."
   ]
  },
  {
   "cell_type": "code",
   "execution_count": 16,
   "id": "681f917e-8800-4e8b-b401-38aedfe97218",
   "metadata": {},
   "outputs": [
    {
     "name": "stdout",
     "output_type": "stream",
     "text": [
      "odd number higher than or equal to 30\n"
     ]
    }
   ],
   "source": [
    "a = 31\n",
    "\n",
    "if (a >= 20 and a<30): \n",
    "    if (a % 2 == 1):\n",
    "            print (\"odd number between 20 and 30\")\n",
    "    else:\n",
    "            print (\"even number between 20 and 30\")\n",
    "elif(a<20): \n",
    "    if (a % 2 == 1):\n",
    "            print (\"odd number lower than 20\") \n",
    "    else:\n",
    "            print (\"even number lower than 20\")\n",
    "else:\n",
    "    if (a % 2 == 1):\n",
    "        print (\"odd number higher than or equal to 30\")\n",
    "    else:\n",
    "        print (\"even number higher than or equal to 30\")"
   ]
  },
  {
   "cell_type": "markdown",
   "id": "761872ae-6246-4993-9806-8056670e2a9f",
   "metadata": {},
   "source": [
    "## Iteration (Loops)</h3>\n",
    "Loops are sets of statements. These statements are repeated until a certain condition has been met."
   ]
  },
  {
   "cell_type": "markdown",
   "id": "7090e50e-77d4-43ee-b74e-7df07aec99a4",
   "metadata": {},
   "source": [
    "#### While Loop</h4>\n",
    "The <code>while</code> statement executes repeatedly as long as the <em>assignment expression</em> (within the brackets) is <code>True</code>. The following program for example will add <code>1</code> to the variable in every <em>iteration</em> while checking everytime if the <em>criteria</em> has been met. It will stop as soon as that is the case. The calculation that is done here could be formulated as <code>1+1+1+1</code>."
   ]
  },
  {
   "cell_type": "code",
   "execution_count": 17,
   "id": "ea8b1f3b-6340-4545-bb1a-c971d5a86866",
   "metadata": {},
   "outputs": [
    {
     "name": "stdout",
     "output_type": "stream",
     "text": [
      "4\n"
     ]
    }
   ],
   "source": [
    "a = 1\n",
    "\n",
    "while (a<4):\n",
    "    a+=1\n",
    "print (a)"
   ]
  },
  {
   "cell_type": "markdown",
   "id": "5e4f2e15-0826-4517-82a8-d620ba62bbc4",
   "metadata": {},
   "source": [
    "The <code>break</code> statement can be used to break out of the loop if a condition is met. In this case it is used to break out of the loop one <em>iteration</em> earlier."
   ]
  },
  {
   "cell_type": "code",
   "execution_count": 18,
   "id": "4e914ec5-c7c8-4813-8894-4bae20e66552",
   "metadata": {},
   "outputs": [
    {
     "name": "stdout",
     "output_type": "stream",
     "text": [
      "3\n"
     ]
    }
   ],
   "source": [
    "a = 1\n",
    "\n",
    "while (a<4):\n",
    "    if a==3:\n",
    "        break\n",
    "    a+=1\n",
    "print (a)"
   ]
  },
  {
   "cell_type": "markdown",
   "id": "4d5832fb-e4e5-4dc1-b7d0-207d885b98d5",
   "metadata": {},
   "source": [
    "The <code>else</code> statement can also be used in a <code>while</code> loop. It is executed after the assignment becomes <code>False</code>. This is very similar to just putting the <em>suite</em> after the <code>while</code> loop."
   ]
  },
  {
   "cell_type": "code",
   "execution_count": 19,
   "id": "9a278932-5304-4d74-b358-87e9fac43be4",
   "metadata": {},
   "outputs": [
    {
     "name": "stdout",
     "output_type": "stream",
     "text": [
      "4\n"
     ]
    }
   ],
   "source": [
    "a = 1\n",
    "\n",
    "while (a<4):\n",
    "    a+=1\n",
    "else: print (a) "
   ]
  },
  {
   "cell_type": "markdown",
   "id": "37d31116-1d1d-415f-8b4d-5185c75dca71",
   "metadata": {},
   "source": [
    "#### For Loop</h4>\n",
    "The <code>for</code> statement is used on <em>iterable objects</em> (for example lists or tuples). \n",
    "The structure is: <code>\"for\" target_list \"in\" starred_list \":\" suite</code> <br>\n",
    "After entering <code>for</code> to signal the loop the target list needs to be defined; in this case it is called <code>n</code>. The target list is created by the <code>for</code> loop. After the keyword <code>in</code> the <em>starred list</em> is declared. This is the list on which the loop is performed. <br>\n",
    "The <code>else</code> statement can also be used here, in this case it is executed after the loop reaches its final destination."
   ]
  },
  {
   "cell_type": "code",
   "execution_count": 20,
   "id": "a72bbfd4-f321-40b3-84b0-07974febfa29",
   "metadata": {},
   "outputs": [
    {
     "name": "stdout",
     "output_type": "stream",
     "text": [
      "1\n",
      "2\n",
      "3\n",
      "4\n",
      "finished\n"
     ]
    }
   ],
   "source": [
    "numbers = [1, 2, 3, 4] \n",
    "for n in numbers:\n",
    "    print (n)\n",
    "else: print('finished') # the else statement does not need to be included for the loop to work"
   ]
  },
  {
   "cell_type": "markdown",
   "id": "66b5c9d8-a225-4f45-8e20-035312e56527",
   "metadata": {},
   "source": [
    "The <code>break</code> statement can also be used in for loops. "
   ]
  },
  {
   "cell_type": "code",
   "execution_count": 21,
   "id": "dc3d25d4-9f43-4c71-bd7a-d7ce22ef7ae6",
   "metadata": {},
   "outputs": [
    {
     "name": "stdout",
     "output_type": "stream",
     "text": [
      "1\n"
     ]
    }
   ],
   "source": [
    "numbers = [1, 2, 3, 4] \n",
    "for n in numbers:\n",
    "    if (n % 2 == 0): # if the number is even\n",
    "        break\n",
    "    print (n)"
   ]
  },
  {
   "cell_type": "markdown",
   "id": "dd753284-a064-4f1c-920a-6289f5ca49ba",
   "metadata": {},
   "source": [
    "If you want to skip an element of the list without ending the loop (like a <code>break</code> would), you can use the <code>continue</code> statement. "
   ]
  },
  {
   "cell_type": "code",
   "execution_count": 22,
   "id": "86654b03-9ccc-4819-a273-9d677a88c298",
   "metadata": {},
   "outputs": [
    {
     "name": "stdout",
     "output_type": "stream",
     "text": [
      "1\n",
      "3\n"
     ]
    }
   ],
   "source": [
    "numbers = [1, 2, 3, 4] \n",
    "for n in numbers:\n",
    "    if (n % 2 == 0): # if the number is even\n",
    "        continue\n",
    "    print (n)"
   ]
  },
  {
   "cell_type": "markdown",
   "id": "573b53a9-bb18-4176-a222-00f263c6fb7f",
   "metadata": {},
   "source": [
    "The <code>elif</code> statement can also be used in this context. In this case we are using the built-in <code>isinstance</code> function to check whether the element is an integer or a floating point value. If it is neither of those the <code>for</code> loop will break out early skipping over the string and the last number."
   ]
  },
  {
   "cell_type": "code",
   "execution_count": 23,
   "id": "5783b131-c004-434c-8b43-a336cc65000d",
   "metadata": {},
   "outputs": [
    {
     "name": "stdout",
     "output_type": "stream",
     "text": [
      "1\n",
      "2\n",
      "3\n",
      "4\n",
      "5.5\n",
      "non-number detected\n"
     ]
    }
   ],
   "source": [
    "numbers = [1, 2, 3, 4, 5.5, 'a', 6] \n",
    "for n in numbers:\n",
    "    if isinstance(n, int): # checks for integer\n",
    "        print (n)\n",
    "        continue\n",
    "    elif isinstance(n, float): # checks for floating point\n",
    "        print (n)\n",
    "        continue\n",
    "    print ('non-number detected')\n",
    "    break "
   ]
  },
  {
   "cell_type": "markdown",
   "id": "7c7eb3e1-533d-4fd0-bb36-df993f13261a",
   "metadata": {},
   "source": [
    "Letting the loop make a copy of the list (or in the following case the tuple) it is iterating over can be practical in many cases. "
   ]
  },
  {
   "cell_type": "code",
   "execution_count": 24,
   "id": "f73e9532-d801-486f-95e7-592a296e5d3d",
   "metadata": {},
   "outputs": [
    {
     "name": "stdout",
     "output_type": "stream",
     "text": [
      "(2, 4)\n"
     ]
    }
   ],
   "source": [
    "numbers = (1, 2, 3, 4) \n",
    "evennums = () # this tuple will contain the even numbers\n",
    "\n",
    "for n in numbers: # as before 'n' is just a stand-in; any unclaimed variable can be used here\n",
    "    if n%2==0: # as seen before; checks if the number is even\n",
    "        evennums +=(n,) # add the number to the new tuple \n",
    "print (evennums)"
   ]
  },
  {
   "cell_type": "markdown",
   "id": "efd1c78c-a474-493d-9721-811ab5a197ef",
   "metadata": {},
   "source": [
    "To create a <code>for</code> loop that iterates over a sequence of numbers the <code>'range()'</code> function can be used. "
   ]
  },
  {
   "cell_type": "code",
   "execution_count": 25,
   "id": "0c4c5636-25c0-41dc-8fef-7b331a20f416",
   "metadata": {},
   "outputs": [
    {
     "name": "stdout",
     "output_type": "stream",
     "text": [
      "0\n",
      "1\n",
      "2\n",
      "3\n"
     ]
    }
   ],
   "source": [
    "for i in range(4): \n",
    "    print(i)"
   ]
  },
  {
   "cell_type": "markdown",
   "id": "93a409fa-931c-41f1-a76c-f813ca8afd3f",
   "metadata": {},
   "source": [
    "Another use for the <code>'range()'</code> function could be to execute the suite a chosen number of times. The number within the brackets declares the amount of the iterations. The variable <code>g</code> is what the loop is iterating on. The variable <code>i</code> goes up by 1 with every iteration. "
   ]
  },
  {
   "cell_type": "code",
   "execution_count": 26,
   "id": "1cba883c-af5d-46a7-8582-5824d5de1193",
   "metadata": {},
   "outputs": [
    {
     "name": "stdout",
     "output_type": "stream",
     "text": [
      "4\n",
      "6\n",
      "8\n",
      "10\n",
      "4 iterations\n"
     ]
    }
   ],
   "source": [
    "g = 2\n",
    "for i in range(4): # this will execute 4 times\n",
    "    g+=2\n",
    "    print (g)\n",
    "print (f'{i+1} iterations') # the number i starts at zero"
   ]
  },
  {
   "cell_type": "markdown",
   "id": "4ad76dd9-1385-41ba-8c60-8a12f2b32d0b",
   "metadata": {},
   "source": [
    "Combined with the <code>'len()'</code> function it is also possible to iterate over the parts of a sequence. This function returns the length of an iterable object. Now we can use the length of the object as the value for the range function. In this case we are using the <code>list</code> data structure. Tuples and dictionaries are also sequences."
   ]
  },
  {
   "cell_type": "code",
   "execution_count": 27,
   "id": "0f741bfd-8696-4d1e-9a1f-97d7f5432fb5",
   "metadata": {},
   "outputs": [
    {
     "name": "stdout",
     "output_type": "stream",
     "text": [
      "3 \n",
      "\n",
      "a\n",
      "b\n",
      "c\n"
     ]
    }
   ],
   "source": [
    "sequence = ['a', 'b', 'c']\n",
    "print (len(sequence), '\\n') \n",
    "\n",
    "for i in range(len(sequence)):\n",
    "    print (sequence[i]) # prints the part of the sequence corresponding to the 'i' value"
   ]
  },
  {
   "cell_type": "markdown",
   "id": "125a1b16-1288-481f-b011-c51bf6fb4a1f",
   "metadata": {},
   "source": [
    "The <code>else</code> statement becomes relevant when looking at nested <code>for</code> loops. This code is looking for prime numbers between 3 and 10."
   ]
  },
  {
   "cell_type": "code",
   "execution_count": 28,
   "id": "fa93793d-9eda-496f-8884-37619b561be9",
   "metadata": {},
   "outputs": [
    {
     "name": "stdout",
     "output_type": "stream",
     "text": [
      "3 is a prime number\n",
      "4 is a prime number\n",
      "5 is a prime number\n",
      "6 is not a prime number\n",
      "7 is a prime number\n",
      "8 is not a prime number\n",
      "9 is not a prime number\n",
      "10 is not a prime number\n"
     ]
    }
   ],
   "source": [
    "for n in range(3,11):\n",
    "    for x in range(3,n):\n",
    "        if n % x == 0:\n",
    "            print (n, 'is not a prime number')\n",
    "            break\n",
    "    else: \n",
    "        print(n, 'is a prime number')"
   ]
  }
 ],
 "metadata": {
  "kernelspec": {
   "display_name": "Python 3 (ipykernel)",
   "language": "python",
   "name": "python3"
  },
  "language_info": {
   "codemirror_mode": {
    "name": "ipython",
    "version": 3
   },
   "file_extension": ".py",
   "mimetype": "text/x-python",
   "name": "python",
   "nbconvert_exporter": "python",
   "pygments_lexer": "ipython3",
   "version": "3.12.3"
  }
 },
 "nbformat": 4,
 "nbformat_minor": 5
}
