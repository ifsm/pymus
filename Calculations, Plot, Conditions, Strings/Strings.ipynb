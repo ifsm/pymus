{
 "cells": [
  {
   "cell_type": "markdown",
   "id": "3291b8bf-9acb-49c5-ad14-d24462d22272",
   "metadata": {},
   "source": [
    "# Strings\n",
    "Strings are used to represent text ```data``` in <code>Python</code>. "
   ]
  },
  {
   "cell_type": "code",
   "execution_count": 1,
   "id": "6c455abf-8baa-4062-8a11-0a88029d6c49",
   "metadata": {},
   "outputs": [
    {
     "name": "stdout",
     "output_type": "stream",
     "text": [
      "Hello, World!\n"
     ]
    }
   ],
   "source": [
    "example_string_a = 'Hello, World!'\n",
    "print(example_string_a)"
   ]
  },
  {
   "cell_type": "markdown",
   "id": "5252a6c3-6649-487b-a963-c946f39e7211",
   "metadata": {},
   "source": [
    "### Declare\n",
    "Strings can be declared by encasing words, letters or whole blocks of text within <em>single</em> <code>'</code>, <em>double</em><code>\"</code> or <em>triple</em> <code>'''</code> quotes. <em>Single</em> and <em>Double</em> Quotes are interchangeble. <br>\n",
    "If you want to put something in Quotation marks within the string you have to use the corresponding alternative type of Quotes. The string needs to be declared in double quotes if you want to put something inside the string in single Quotes and vice versa. <br>"
   ]
  },
  {
   "cell_type": "code",
   "execution_count": 2,
   "id": "88df76ef-1640-490e-84b1-15fee47ff144",
   "metadata": {},
   "outputs": [
    {
     "name": "stdout",
     "output_type": "stream",
     "text": [
      "Hello, 'World'!\n"
     ]
    }
   ],
   "source": [
    "# print a string with quotation marks\n",
    "example_string_b = \"Hello, 'World'!\"\n",
    "print (example_string_b)"
   ]
  },
  {
   "cell_type": "markdown",
   "id": "8dfb59ee-60ee-4e00-bd39-81eff7978050",
   "metadata": {},
   "source": [
    "<em>Triple Quoted</em> strings, like triple quoted comments, can span multiple lines."
   ]
  },
  {
   "cell_type": "code",
   "execution_count": 3,
   "id": "e3cf84c2-3c36-4551-9ba4-559ac8cf3d21",
   "metadata": {},
   "outputs": [
    {
     "name": "stdout",
     "output_type": "stream",
     "text": [
      "Hello, \n",
      "World\n"
     ]
    }
   ],
   "source": [
    "example_string_c = '''Hello, \n",
    "World'''\n",
    "print (example_string_c)"
   ]
  },
  {
   "cell_type": "markdown",
   "id": "4e80230b-7403-4592-85ab-ec5f38b5d92f",
   "metadata": {},
   "source": [
    "#### String literals\n",
    "You can create a string by assigning it to a <em>variable</em>. But it is also possible to just put something in quotes, making it a <em>string literal</em>. "
   ]
  },
  {
   "cell_type": "code",
   "execution_count": 4,
   "id": "27f457ff-7e76-49e2-989d-a4af7ca3885c",
   "metadata": {},
   "outputs": [
    {
     "name": "stdout",
     "output_type": "stream",
     "text": [
      "Hello, World!\n"
     ]
    }
   ],
   "source": [
    "print ('Hello, World!')"
   ]
  },
  {
   "cell_type": "markdown",
   "id": "320d3885-fd11-4c5d-90b7-1d70190ab30c",
   "metadata": {},
   "source": [
    "### String Operations and Formatting\n",
    "This section contains examples for operations and formatting options that can be used on strings. "
   ]
  },
  {
   "cell_type": "markdown",
   "id": "96f00dac-b1aa-45bd-94aa-1e6cf0f47c27",
   "metadata": {},
   "source": [
    "#### Escape Sequences \n",
    "<em>Escape Sequences</em> are commands that change something about the string. They can start a new line for example or make it possible to input a backslash or a <em>single quote</em>. Escape Sequences are used by inputting the backslash <code>\\\\</code> within the string. An Escape Sequence is not read as a part of the string but as a command to change the formatting. "
   ]
  },
  {
   "cell_type": "code",
   "execution_count": 5,
   "id": "26fafb46-4762-47f9-870a-963f524a3cf9",
   "metadata": {},
   "outputs": [
    {
     "name": "stdout",
     "output_type": "stream",
     "text": [
      "Hello\n",
      "World\n",
      "Name:\tMatthis\n",
      "C:\\Users\\Matthis\n",
      "It's a beautiful day\n",
      "She said, \"Hello!\"\n",
      "α\n"
     ]
    }
   ],
   "source": [
    "# Newline\n",
    "print(\"Hello\\nWorld\")\n",
    "\n",
    "# Tab\n",
    "print(\"Name:\\tMatthis\")\n",
    "\n",
    "# Backslash\n",
    "print(\"C:\\\\Users\\\\Matthis\")\n",
    "\n",
    "# Single Quote\n",
    "print('It\\'s a beautiful day')\n",
    "\n",
    "# Double Quote\n",
    "print(\"She said, \\\"Hello!\\\"\")\n",
    "\n",
    "# Unicode character\n",
    "print(\"\\u03B1\")  #Prints the greek letter alpha"
   ]
  },
  {
   "cell_type": "markdown",
   "id": "ef9f045e-528a-477f-b2de-9978cce48ecd",
   "metadata": {},
   "source": [
    "#### Raw Strings\n",
    "If you want to use a lot of backslashes like in a file path you might want to use a <em>raw string</em>. That can be done by using <code>r'</code>. Escape Sequences do not work within a <em>raw string</em>. "
   ]
  },
  {
   "cell_type": "code",
   "execution_count": 6,
   "id": "3a9e5a90-a3c0-42bd-9311-86fd083f6157",
   "metadata": {},
   "outputs": [
    {
     "name": "stdout",
     "output_type": "stream",
     "text": [
      "C:\\Users\\Matthis\\Desktop\\PythonVortrag\n"
     ]
    }
   ],
   "source": [
    "raw_string = r'C:\\Users\\Matthis\\Desktop\\PythonVortrag' \n",
    "print (raw_string)"
   ]
  },
  {
   "cell_type": "markdown",
   "id": "2667cf4c-ff59-4c52-9d73-9dd8f38d06c3",
   "metadata": {},
   "source": [
    "#### Formatted String Literals\n",
    "The operator <code>f'</code> in front of a string means you can add so-called <em>replacement fields</em>. These fields are curly brackets <code>{}</code> which can contain <em>variables</em>. As you can see below, the string prints a value corresponding to the current value of the <em>variable</em>. "
   ]
  },
  {
   "cell_type": "code",
   "execution_count": 7,
   "id": "90ee0647-b25f-4a75-8a1c-f0ab7afdbb3c",
   "metadata": {},
   "outputs": [
    {
     "name": "stdout",
     "output_type": "stream",
     "text": [
      "you are walking at 6km/h!\n",
      "you are running at 7km/h!\n"
     ]
    }
   ],
   "source": [
    "activity = 'walking'\n",
    "speed = 6\n",
    "message = f'you are {activity} at {speed}km/h!'\n",
    "print(message)\n",
    "activity = 'running'\n",
    "speed = 7\n",
    "message = f'you are {activity} at {speed}km/h!'\n",
    "print(message)"
   ]
  },
  {
   "cell_type": "markdown",
   "id": "9ff917ff-cda8-4f27-89ad-cf957ae8c034",
   "metadata": {},
   "source": [
    "#### Capitalize and Lowercase</h4>"
   ]
  },
  {
   "cell_type": "code",
   "execution_count": 8,
   "id": "c0df168d-57e1-42f0-8bb0-c352b4037210",
   "metadata": {},
   "outputs": [
    {
     "name": "stdout",
     "output_type": "stream",
     "text": [
      "hello, World!\n",
      "Hello, world!\n",
      "hello, world!\n"
     ]
    }
   ],
   "source": [
    "example_string_b = 'hello, World!'\n",
    "print(example_string_b)\n",
    "\n",
    "print (example_string_b.capitalize())\n",
    "# returns a copy of the string with its first character capitalized and the rest lowercased\n",
    "\n",
    "print (example_string_b.lower())\n",
    "# returns a copy of the string with all characters lowercased\n"
   ]
  },
  {
   "cell_type": "markdown",
   "id": "652abe84-53c2-4f15-9b0b-46eed4952977",
   "metadata": {},
   "source": [
    "#### Check Contents</h4>\n",
    "Here are a few operations that check if a string consists of certain Elements."
   ]
  },
  {
   "cell_type": "code",
   "execution_count": 9,
   "id": "5aa02efd-4edf-44ea-af0e-7327b5ed356a",
   "metadata": {},
   "outputs": [
    {
     "name": "stdout",
     "output_type": "stream",
     "text": [
      "False\n",
      "False\n",
      "False\n",
      "False\n",
      "False\n"
     ]
    }
   ],
   "source": [
    "example_string_a = 'Hello, World!'\n",
    "\n",
    "print (example_string_a.isalnum())\n",
    "# are all characters in the string alphabetical or numeric? (excludes characters like #)\n",
    "\n",
    "print (example_string_a.isalpha())\n",
    "# are all characters in the string alphabetical?\n",
    "\n",
    "print (example_string_a.isnumeric())\n",
    "# are all characters in the string numeric?\n",
    "\n",
    "print (example_string_a.islower())\n",
    "# are all characters in the string lowercase?\n",
    "\n",
    "print (example_string_a.isupper())\n",
    "# are all characters in the string uppercase?"
   ]
  },
  {
   "cell_type": "markdown",
   "id": "fe2aebdf-749d-4678-bb1a-37217899cc02",
   "metadata": {},
   "source": [
    "### Partition a string</h4>\n",
    " <code>str.partition(sep)</code> can be used to split the string at the chosen <em>separator</em> <code>sep</code>. The operation will return a 3-Tuple containing the part before the <em>separator</em>, the <em>separator</em> itself and the part after the <em>separator</em>."
   ]
  },
  {
   "cell_type": "code",
   "execution_count": 10,
   "id": "f9e5262a-6d22-4660-a74e-f064cea9abd7",
   "metadata": {},
   "outputs": [
    {
     "name": "stdout",
     "output_type": "stream",
     "text": [
      "('Hello, ', 'W', 'orld!')\n"
     ]
    }
   ],
   "source": [
    "example_string_a = 'Hello, World!'\n",
    "print (example_string_a.partition('W'))"
   ]
  },
  {
   "cell_type": "markdown",
   "id": "1684b72e-f137-41b4-8aab-dce60172b8cc",
   "metadata": {},
   "source": [
    "#### Construct a string from multiple fragments</h4>\n",
    "Strings can be joined together using <code>str.join</code> which has the structure: <code>separator.join(iterable)</code>. <br>\n",
    "The <em>separator</em> is going to be put between the elements of the string and the <em>iterable</em> is the string the operation is used on.\n",
    "Any character or number can be used as <em>separator</em>. Escape sequences can also be used.\n"
   ]
  },
  {
   "cell_type": "code",
   "execution_count": 11,
   "id": "a485fa04-d04d-4d55-820c-62d446845e4a",
   "metadata": {},
   "outputs": [
    {
     "name": "stdout",
     "output_type": "stream",
     "text": [
      "abcde\n",
      "a b c d e\n",
      "a\n",
      " \n",
      "b\n",
      " \n",
      "c\n",
      " \n",
      "d\n",
      " \n",
      "e\n"
     ]
    }
   ],
   "source": [
    "example_string_d = 'abcde'\n",
    "print (example_string_d)\n",
    "\n",
    "example_string_d = ' '.join(example_string_d)\n",
    "print (example_string_d)\n",
    "\n",
    "example_string_d = '\\n'.join(example_string_d)\n",
    "print (example_string_d)"
   ]
  },
  {
   "cell_type": "markdown",
   "id": "7ab24a2c-d3c7-4036-9dd4-a0e2e90d6424",
   "metadata": {},
   "source": [
    "### Add two strings together</h4>\n",
    "To add strings together you can use the <code>+</code> and <code>*</code> operators."
   ]
  },
  {
   "cell_type": "code",
   "execution_count": 12,
   "id": "f39e0579-f809-447e-a6ed-30ff4deb25c4",
   "metadata": {},
   "outputs": [
    {
     "name": "stdout",
     "output_type": "stream",
     "text": [
      "Hello, World!Hello, World!\n",
      "Hello, World!Hello, World!Hello, World!\n"
     ]
    }
   ],
   "source": [
    "print (example_string_a+example_string_a)\n",
    "print (3 * example_string_a)"
   ]
  },
  {
   "cell_type": "markdown",
   "id": "b1df5c7a-662a-45ec-a0d2-28b7ad573a20",
   "metadata": {},
   "source": [
    "Two or more <em>string literals</em> (the ones in quotes) put next to each other are joined <em>automatically</em>. "
   ]
  },
  {
   "cell_type": "code",
   "execution_count": 13,
   "id": "6d5bc6a8-4b4d-49ea-8895-c14a50e09458",
   "metadata": {},
   "outputs": [
    {
     "name": "stdout",
     "output_type": "stream",
     "text": [
      "Hello, World!\n"
     ]
    }
   ],
   "source": [
    "example_string_a = ('Hello,' ' World!')\n",
    "print (example_string_a)"
   ]
  },
  {
   "cell_type": "markdown",
   "id": "270a041e-326a-49ba-924c-60c8ba3acb4c",
   "metadata": {},
   "source": [
    "This does not work with <em>variables</em>. You can use <code>+</code> to join two <em>variables</em> or a <em>variable</em> and a <em>literal</em>."
   ]
  },
  {
   "cell_type": "code",
   "execution_count": 14,
   "id": "69d898d8-9ed7-4162-8a92-8d5b8e0e7a2c",
   "metadata": {},
   "outputs": [
    {
     "name": "stdout",
     "output_type": "stream",
     "text": [
      "Hello, World!2\n"
     ]
    }
   ],
   "source": [
    "print (example_string_a + '2')"
   ]
  },
  {
   "cell_type": "markdown",
   "id": "3ce92f56-9a92-4fa2-bbdc-1c4650522fec",
   "metadata": {},
   "source": [
    "#### Retrieve character</h4>\n",
    "You can retrieve a character at a point of your choosing, the <code>index</code> using <code>string[index]</code>. The count starts at <code>0</code>. <br>If you use <em>positive</em> numbers the characters are counted from the left. If you use <em>negative</em> numbers the characters are counted from the right. <br>\n",
    "You can retrieve all characters within a certain range using <code>string[a:b]</code> in which case the first number <code>a</code> represents the starting point and the second number <code>b</code> represents the length of the range."
   ]
  },
  {
   "cell_type": "code",
   "execution_count": 15,
   "id": "ac62ecd3-4b3d-434b-9903-ad1af11c39fb",
   "metadata": {},
   "outputs": [
    {
     "name": "stdout",
     "output_type": "stream",
     "text": [
      "you are walking\n",
      "a\n",
      "k\n",
      "you\n"
     ]
    }
   ],
   "source": [
    "message2 = 'you are walking'\n",
    "print(message2)\n",
    "\n",
    "# retrieve the fourth character of the string\n",
    "print(message2[4])\n",
    "\n",
    "# retrieve the fourth character from the left \n",
    "print(message2[-4])\n",
    "\n",
    "# retrieve the word 'you' \n",
    "# starting at the start of the string '0' retrieve '3' characters\n",
    "print(message2[0:3])\n"
   ]
  },
  {
   "cell_type": "markdown",
   "id": "04237535-485d-4f91-b5c2-06966b449e7c",
   "metadata": {},
   "source": [
    "#### Count specific elements</h4>\n",
    "To count the number of (non-overlapping) substrings within a string use: <code>str.count(sub[, start[, end]])</code> <br>\n",
    "First define the substring and then define where to start counting and where to end. It is not necessary to declare <code>start</code> or <code>end</code> for the operation to work."
   ]
  },
  {
   "cell_type": "code",
   "execution_count": 16,
   "id": "d7e66f68-1e9c-4ac7-928d-8e1e12bb2fcf",
   "metadata": {},
   "outputs": [
    {
     "name": "stdout",
     "output_type": "stream",
     "text": [
      "2\n",
      "1\n",
      "1\n"
     ]
    }
   ],
   "source": [
    "example_string_a = 'Hello, World!'\n",
    "\n",
    "# since the string contains the letter o twice the operation will return 2\n",
    "print (example_string_a.count('o'))\n",
    "\n",
    "# if the start is index 7 the first 'o' is not counted\n",
    "print (example_string_a.count('o', 7))\n",
    "\n",
    "# if the start is 0 and the end is 7 the second 'o' is not counted\n",
    "print (example_string_a.count('o', 0, 7))"
   ]
  },
  {
   "cell_type": "markdown",
   "id": "7bf99e07-45b8-45ad-88fe-ae0ab04fb2fd",
   "metadata": {},
   "source": [
    "#### Membership test</h4>\n",
    "To check if a substring is contained in another string use the operator <code>in</code>. The operation Returns as boolean."
   ]
  },
  {
   "cell_type": "code",
   "execution_count": 17,
   "id": "3747bb08-214e-4f39-bfbd-0ec666f7c84e",
   "metadata": {},
   "outputs": [
    {
     "name": "stdout",
     "output_type": "stream",
     "text": [
      "True\n",
      "False\n"
     ]
    }
   ],
   "source": [
    "example_string_a = 'Hello, World!' \n",
    "\n",
    "print ('o' in example_string_a)\n",
    "print ('a' in example_string_a)"
   ]
  },
  {
   "cell_type": "markdown",
   "id": "4070ef13-f2b7-40ee-9043-fb3c51d6a5bf",
   "metadata": {},
   "source": [
    "#### Replace substrings</h4>\n",
    "<code>str.replace(old, new[, count])</code> replaces the old substring with the new substring a certain amount of times (<code>count</code>). If <code>count</code> is left out, every substring will be replaced."
   ]
  },
  {
   "cell_type": "code",
   "execution_count": 18,
   "id": "ed0afb19-220d-4d7f-976f-8e4e3c351d00",
   "metadata": {},
   "outputs": [
    {
     "name": "stdout",
     "output_type": "stream",
     "text": [
      "Hello, World!\n",
      "Hexlo, World!\n",
      "Hexxo, World!\n",
      "Hexxo, Worxd!\n"
     ]
    }
   ],
   "source": [
    "a = 'Hello, World!'\n",
    "print (a.replace('l', 'x', 0))\n",
    "print (a.replace('l', 'x', 1))\n",
    "print (a.replace('l', 'x', 2))\n",
    "print (a.replace('l', 'x'))"
   ]
  },
  {
   "cell_type": "markdown",
   "id": "14b4e796-1910-48cc-a691-66f19e2c4e00",
   "metadata": {},
   "source": [
    "#### Remove prefix/suffix</h4>\n",
    "With <code>removeprefix</code> and <code>removesuffix</code> a substring can be removed from the start or end of the string, but only then. If the chosen substring is not where it needs to be the operation returns the string."
   ]
  },
  {
   "cell_type": "code",
   "execution_count": 19,
   "id": "724a7594-341e-4e55-88b0-07f225948e21",
   "metadata": {},
   "outputs": [
    {
     "name": "stdout",
     "output_type": "stream",
     "text": [
      ", World!\n",
      "Hello, World!\n",
      "Hello, World!\n",
      "Hello, \n"
     ]
    }
   ],
   "source": [
    "a = 'Hello, World!'\n",
    "print (a.removeprefix('Hello'))\n",
    "print (a.removeprefix('World!'))\n",
    "\n",
    "print (a.removesuffix('Hello'))\n",
    "print (a.removesuffix('World!'))"
   ]
  },
  {
   "cell_type": "markdown",
   "id": "90959495-6ce6-4849-8a1b-63cd2fd90b43",
   "metadata": {},
   "source": [
    "#### str.strip([chars])</h4>\n",
    "Strips a string from its outermost elements specified in <code>[chars]</code>. All elements contained in <code>[chars]</code> are removed from he string until an element is found which is not contained in <code>chars</code>. "
   ]
  },
  {
   "cell_type": "code",
   "execution_count": 20,
   "id": "cab1e0c2-b5a2-4dad-89f2-f890f669d379",
   "metadata": {},
   "outputs": [
    {
     "name": "stdout",
     "output_type": "stream",
     "text": [
      "Hello, World!\n"
     ]
    },
    {
     "data": {
      "text/plain": [
       "', Wor'"
      ]
     },
     "execution_count": 20,
     "metadata": {},
     "output_type": "execute_result"
    }
   ],
   "source": [
    "example_string_a = 'Hello, World!'\n",
    "print (example_string_a)\n",
    "\n",
    "# as you can see here just one of the o's is removed because r is not part of chars\n",
    "example_string_a.strip('H!edlo')"
   ]
  }
 ],
 "metadata": {
  "kernelspec": {
   "display_name": "Python 3 (ipykernel)",
   "language": "python",
   "name": "python3"
  },
  "language_info": {
   "codemirror_mode": {
    "name": "ipython",
    "version": 3
   },
   "file_extension": ".py",
   "mimetype": "text/x-python",
   "name": "python",
   "nbconvert_exporter": "python",
   "pygments_lexer": "ipython3",
   "version": "3.12.3"
  }
 },
 "nbformat": 4,
 "nbformat_minor": 5
}
