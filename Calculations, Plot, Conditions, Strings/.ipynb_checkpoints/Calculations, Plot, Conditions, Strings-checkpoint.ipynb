{
 "cells": [
  {
   "cell_type": "markdown",
   "id": "6f584453-9574-4146-ad21-55fae5192006",
   "metadata": {
    "jp-MarkdownHeadingCollapsed": true
   },
   "source": [
    "<h2>Calculations</h2>\n",
    "In the following I will explain some of the Calculations that can be made using Python and NumPy. \n"
   ]
  },
  {
   "cell_type": "markdown",
   "id": "5c421837-b936-4fec-b749-282a75f258f6",
   "metadata": {},
   "source": [
    "<h3>Basic Arithmetic Calculations</h3>\n",
    "The operators <b>‘+’, ‘*’, ‘-’</b> and <b>‘/’</b> can be used to perform basic calculations. In order from left to right they are used for addition, multiplication, subtraction and division. Division always returns a floating point number, whereas the other operators return integer values. The floating point data type (‘float’) can store decimal numbers; the integer data type can not. "
   ]
  },
  {
   "cell_type": "code",
   "execution_count": 2,
   "id": "31894b1f-5fcd-4a36-b060-c599b6dcc436",
   "metadata": {},
   "outputs": [
    {
     "name": "stdout",
     "output_type": "stream",
     "text": [
      "4\n",
      "4\n",
      "0\n",
      "1.0\n"
     ]
    }
   ],
   "source": [
    "print (2+2)\n",
    "print (2*2)\n",
    "print (2-2)\n",
    "print (2/2)"
   ]
  },
  {
   "cell_type": "markdown",
   "id": "6c5827bf-2ff8-401c-8470-96f610bb6411",
   "metadata": {},
   "source": [
    "To get an integer result out of a division you can  do floor division. Floor division is performed using the ‘//’ operator. This calculation leaves a remainder that can be calculated with the ‘%’ operator. "
   ]
  },
  {
   "cell_type": "code",
   "execution_count": 4,
   "id": "7716c4b6-708b-4792-afe1-6d9847d44712",
   "metadata": {},
   "outputs": [
    {
     "name": "stdout",
     "output_type": "stream",
     "text": [
      "2.5\n",
      "2\n",
      "1\n"
     ]
    }
   ],
   "source": [
    "print (5/2) # displays the usual result as float\n",
    "print (5//2) # this will discard the fractional part, always rounded down\n",
    "print (5%2) # this will display the remainder of the division"
   ]
  },
  {
   "cell_type": "markdown",
   "id": "7b750630-8b14-47f2-a35c-0e1d4718090e",
   "metadata": {},
   "source": [
    "When mixing floating point values and other data types; python will convert the interg´"
   ]
  },
  {
   "cell_type": "markdown",
   "id": "b5e52d58-bbf0-4196-b3f5-d998aefa06e0",
   "metadata": {},
   "source": [
    "To calculate powers it is possible to use the ‘**’ operator. "
   ]
  },
  {
   "cell_type": "code",
   "execution_count": 6,
   "id": "f6f402d2-c15c-4725-acb8-b88643e5a71f",
   "metadata": {},
   "outputs": [
    {
     "name": "stdout",
     "output_type": "stream",
     "text": [
      "6\n",
      "9\n"
     ]
    }
   ],
   "source": [
    "print (3*2)\n",
    "print (3**2)"
   ]
  },
  {
   "cell_type": "markdown",
   "id": "823f464b-1645-4eae-b02f-9a47e4a9c6a8",
   "metadata": {},
   "source": [
    "To assign value to a variable you can use the equal sign ‘=’. Python automatically assigns a data type to the variable that matches the value. "
   ]
  },
  {
   "cell_type": "code",
   "execution_count": 7,
   "id": "1ab0ae2c-e699-419e-9d58-53bb9573ade4",
   "metadata": {},
   "outputs": [
    {
     "name": "stdout",
     "output_type": "stream",
     "text": [
      "6\n"
     ]
    }
   ],
   "source": [
    "result = 3+3\n",
    "print (result)"
   ]
  },
  {
   "cell_type": "markdown",
   "id": "641ee412-8beb-4f87-8e0c-ca0b1cea6c8c",
   "metadata": {},
   "source": [
    "To perform calculations on a variable you can also utilize the equal sign ‘=’. "
   ]
  },
  {
   "cell_type": "code",
   "execution_count": 9,
   "id": "4b6ea15d-3cc0-49ac-8552-1b97aab18ef3",
   "metadata": {},
   "outputs": [
    {
     "name": "stdout",
     "output_type": "stream",
     "text": [
      "First result: 7\n",
      "Second result: 10\n",
      "Third result: 8\n"
     ]
    }
   ],
   "source": [
    "print ('First result:', result)\n",
    "result += 3 # this will add 3 to the variable \n",
    "print ('Second result:', result)\n",
    "result -= 2 # this will subtract 2 again\n",
    "print ('Third result:', result)"
   ]
  },
  {
   "cell_type": "markdown",
   "id": "e5b02d1a-3bf9-484a-b40c-0c21e1bedb7f",
   "metadata": {},
   "source": [
    "<h4>Calculation Order</h4>\n",
    "The order in which calculations are performed is as follows. \n",
    "<ol><li>Parentheses/Brackets'()'</li>\n",
    "<li>Indices (squareroot, power etc)</li>\n",
    "<li>Divide '/'</li>\n",
    "<li>Multiply '*'</li>\n",
    "<li>Add '+'</li>\n",
    "<li>Subtract '-'</li>\n",
    "</ol>"
   ]
  },
  {
   "cell_type": "markdown",
   "id": "05927a66-5f63-45e2-a7d8-7798ebdcbf0b",
   "metadata": {},
   "source": [
    "<b>Parentheses</b> <b>'()'</b>can be used to group calculations together thus changing the order the calculations are performed in. "
   ]
  },
  {
   "cell_type": "code",
   "execution_count": 3,
   "id": "b80538fc-b764-4f21-8bb2-b2c48e15e47d",
   "metadata": {},
   "outputs": [
    {
     "name": "stdout",
     "output_type": "stream",
     "text": [
      "2.5\n",
      "3.5\n"
     ]
    }
   ],
   "source": [
    "print ((2+3)/2)\n",
    "print (2+3/2)"
   ]
  },
  {
   "cell_type": "markdown",
   "id": "14b32f3b-6e29-416e-a925-d46dfaf7a3ab",
   "metadata": {},
   "source": [
    "<h2>Conditions</h2>\n",
    "Conditions are operators or statements that execute differently depending on the input data. "
   ]
  },
  {
   "cell_type": "markdown",
   "id": "e0d34ff0-1f11-4a85-be9f-10e2e6ce82b3",
   "metadata": {},
   "source": [
    "\">\" is used to check if the left variable is bigger than the right variable. It returns as true or false. For example:"
   ]
  },
  {
   "cell_type": "code",
   "execution_count": null,
   "id": "d17ec9c8-4e27-4e62-9da9-0ce3c2dfe8c5",
   "metadata": {},
   "outputs": [],
   "source": [
    "x = 5 \n",
    "y = 6 \n",
    "\n",
    "print (x>y)"
   ]
  },
  {
   "cell_type": "markdown",
   "id": "e2e58fce-d62f-4015-b4ec-55b629fdeadb",
   "metadata": {},
   "source": [
    "\"<\" is the same as before but the other way around. It asks if the left variable is smaller than the right. "
   ]
  },
  {
   "cell_type": "code",
   "execution_count": null,
   "id": "c851ed6a-90eb-401c-aac2-f7a32565844a",
   "metadata": {},
   "outputs": [],
   "source": [
    "print (x<y)"
   ]
  },
  {
   "cell_type": "markdown",
   "id": "1a0f27ef-7ca6-4787-9a08-0c1d24325919",
   "metadata": {},
   "source": [
    "\"<=\" asks if the left variable is smaller than or equal to the right."
   ]
  },
  {
   "cell_type": "code",
   "execution_count": null,
   "id": "f46b369d-0137-4d14-bc2f-692647a682fe",
   "metadata": {},
   "outputs": [],
   "source": [
    "x = 5\n",
    "print (x<=y)"
   ]
  },
  {
   "cell_type": "markdown",
   "id": "3b3ad9a1-b440-41a6-ba45-b3ec6dbf612e",
   "metadata": {},
   "source": [
    "\">=\" asks if the left variable is bigger or equal to the right."
   ]
  },
  {
   "cell_type": "code",
   "execution_count": null,
   "id": "902cb69d-0138-4835-b46d-2178394aef09",
   "metadata": {},
   "outputs": [],
   "source": [
    "print (x>=y)"
   ]
  },
  {
   "cell_type": "markdown",
   "id": "d982d5ea-61cf-43f6-936c-f159df221cf1",
   "metadata": {},
   "source": [
    "\"==\" asks if both variables are equal."
   ]
  },
  {
   "cell_type": "code",
   "execution_count": null,
   "id": "ce9a55d9-71fb-4292-bcde-278c7f98d8a1",
   "metadata": {},
   "outputs": [],
   "source": [
    "print (x==y)"
   ]
  },
  {
   "cell_type": "markdown",
   "id": "70a19e76-b8e4-4f4f-a6a7-251af62cf8f1",
   "metadata": {},
   "source": [
    "\"!=\" asks if both variables are not equal. (will return as true if not equal)"
   ]
  },
  {
   "cell_type": "code",
   "execution_count": null,
   "id": "c3047808-d79f-4c57-a182-b78c5e976cea",
   "metadata": {},
   "outputs": [],
   "source": [
    "print (x!=y)"
   ]
  },
  {
   "cell_type": "markdown",
   "id": "4813a4dc-2c92-4e93-b1b2-1ee00e9eacb8",
   "metadata": {},
   "source": [
    "\"is\" asks if the two variables refer to the same object. It will return false if both variables have the same value but are not identical. "
   ]
  },
  {
   "cell_type": "code",
   "execution_count": null,
   "id": "0d28c0a9-a2f8-4cf3-bb1b-ca711695f2e2",
   "metadata": {},
   "outputs": [],
   "source": [
    "a = [4,5,6]\n",
    "b = [1,2,3]\n",
    "a = b #b is now the same as a \n",
    "c = [4,5,6]\n",
    "\n",
    "print (a is b) \n",
    "print (a is c) "
   ]
  },
  {
   "cell_type": "markdown",
   "id": "9b6827c6-422a-4e74-a643-35b7b5ef672e",
   "metadata": {},
   "source": [
    "\"is not\" asks the same question as \"is\" but logically reversed. It will return true if the variables are not identical. "
   ]
  },
  {
   "cell_type": "code",
   "execution_count": null,
   "id": "7aea20ff-c270-45ab-91c1-ac9ffc943801",
   "metadata": {},
   "outputs": [],
   "source": [
    "a = [4,5,6] \n",
    "a = b \n",
    "c = [4,5,6] \n",
    "\n",
    "print (a is not b) \n",
    "print (a is not c) "
   ]
  },
  {
   "cell_type": "markdown",
   "id": "d7cb9683-8b0c-426d-9499-a533ea9b023f",
   "metadata": {},
   "source": [
    "\"or\" returns true if one of the variables is true."
   ]
  },
  {
   "cell_type": "code",
   "execution_count": null,
   "id": "e6d232f3-e5dc-43b5-9c6b-cb677b1f52a7",
   "metadata": {},
   "outputs": [],
   "source": [
    "d = False\n",
    "e = True\n",
    "\n",
    "print (d or e)"
   ]
  },
  {
   "cell_type": "markdown",
   "id": "6b4b8ec5-2f01-4414-8e15-6f0d9a894998",
   "metadata": {},
   "source": [
    "\"and\" only returns true if both variables are also true."
   ]
  },
  {
   "cell_type": "code",
   "execution_count": null,
   "id": "818b2c3c-c841-4885-a2a8-410ba93a5aea",
   "metadata": {},
   "outputs": [],
   "source": [
    "print (d and e)"
   ]
  },
  {
   "cell_type": "markdown",
   "id": "0ffa66e0-9042-490b-968f-4e7e4c2519f9",
   "metadata": {},
   "source": [
    "\"not\" reverses a boolean expression. "
   ]
  },
  {
   "cell_type": "code",
   "execution_count": null,
   "id": "6334e3a4-2ce3-4235-90a5-1242455d5eba",
   "metadata": {},
   "outputs": [],
   "source": [
    "print (not d)"
   ]
  },
  {
   "cell_type": "markdown",
   "id": "97573020-5ddf-4e7d-a3b5-e22a0df9f9d8",
   "metadata": {},
   "source": [
    "<h3>if, elif and else statements</h3>\n",
    "The if statement returns as true if specified criteria is met. "
   ]
  },
  {
   "cell_type": "markdown",
   "id": "c976a6a4-1057-42b1-a7c3-d2fa12d31ad4",
   "metadata": {},
   "source": [
    "In this case either the boolean d or e need to be 'True' in order for the if statement to execute. Otherwise nothing happens. <br>The structure of the if statement is: \"if\" assignment_expression \":\" suite "
   ]
  },
  {
   "cell_type": "code",
   "execution_count": 4,
   "id": "1049cbea-a085-4a3d-8373-56276563cac5",
   "metadata": {},
   "outputs": [
    {
     "name": "stdout",
     "output_type": "stream",
     "text": [
      "the if statement has executed\n"
     ]
    }
   ],
   "source": [
    "e = True\n",
    "\n",
    "if (e):\n",
    "    print (\"the if statement has executed\") "
   ]
  },
  {
   "cell_type": "markdown",
   "id": "40ec65db-8d62-431e-a6dd-6c83a00fd78b",
   "metadata": {},
   "source": [
    "\"elif\" (short for else if) executes a block of code if a certain condition is not met. In this case the f variable is smaller than 3 but bigger than 0 so the elif statement is executed."
   ]
  },
  {
   "cell_type": "code",
   "execution_count": 5,
   "id": "875e408b-7417-48bf-b572-ade61055276e",
   "metadata": {},
   "outputs": [
    {
     "name": "stdout",
     "output_type": "stream",
     "text": [
      "the elif statement has executed\n"
     ]
    }
   ],
   "source": [
    "f = 2\n",
    "\n",
    "if (f>=3): \n",
    "    print (\"the if statement has executed\") \n",
    "elif (f<3 and f>0): \n",
    "    print (\"the elif statement has executed\")\n",
    "else:\n",
    "    print (\"the else statement has executed\") "
   ]
  },
  {
   "cell_type": "markdown",
   "id": "5275bca3-222b-497b-9e65-15e94ea10bc9",
   "metadata": {},
   "source": [
    "\"else\" executes a block of code if none of the conditions are met. "
   ]
  },
  {
   "cell_type": "code",
   "execution_count": 2,
   "id": "b074f80d-beef-4f31-a7c3-ea3396b437a9",
   "metadata": {},
   "outputs": [
    {
     "name": "stdout",
     "output_type": "stream",
     "text": [
      "the else statement has executed\n"
     ]
    }
   ],
   "source": [
    "f = 0\n",
    "\n",
    "if (f>=3): \n",
    "    print (\"the if statement has executed\") \n",
    "elif (f<3 and f>0): \n",
    "    print (\"the elif statement has executed\")\n",
    "else:\n",
    "    print (\"the else statement has executed\") "
   ]
  },
  {
   "cell_type": "markdown",
   "id": "ec3aae79-d7f7-4c3b-a054-187ab8b9a7aa",
   "metadata": {},
   "source": [
    "\"pass\": if the block of code for a condition is \"pass\", then nothing happens."
   ]
  },
  {
   "cell_type": "code",
   "execution_count": null,
   "id": "f9c10ba5-8234-41c8-8c40-77816a25bc83",
   "metadata": {},
   "outputs": [],
   "source": [
    "if not (d and e):\n",
    "    pass \n",
    "else:\n",
    "    print (\"the else statement has executed\")"
   ]
  },
  {
   "cell_type": "markdown",
   "id": "6c307f03-b02b-419e-b015-2ba7af82897b",
   "metadata": {},
   "source": [
    "<h4>Nested if statements</h4> Nested statements are two or more control structures (for example if, else, elif) inside one another. In this example the program checks if a number is an odd number and between 20 and 30. First the program checks if the number is between 20 and 30. If that is not the case it checks if the number is below 20. Afterwards it checks if the number is odd or even; using the modulo operator."
   ]
  },
  {
   "cell_type": "code",
   "execution_count": null,
   "id": "3913fa03-6a5a-439d-ae71-9f6de768484f",
   "metadata": {},
   "outputs": [],
   "source": [
    "a = 31\n",
    "\n",
    "if (a >= 20 and a<30): \n",
    "    if (a % 2 == 1):\n",
    "            print (\"odd number between 20 and 30\")\n",
    "    else:\n",
    "            print (\"even number between 20 and 30\")\n",
    "elif(a<20): \n",
    "    if (a % 2 == 1):\n",
    "            print (\"odd number lower than 20\") \n",
    "    else:\n",
    "            print (\"even number lower than 20\")\n",
    "else:\n",
    "    if (a % 2 == 1):\n",
    "        print (\"odd number higher than or equal to 30\")\n",
    "    else:\n",
    "        print (\"even number higher than or equal to 30\")"
   ]
  },
  {
   "cell_type": "markdown",
   "id": "047df581-173b-4d3a-a5d7-0ba1ddf7bd0d",
   "metadata": {},
   "source": [
    "<h3>Iteration (Loops)</h3>\n",
    "Loops are sets of statements. These statements are repeated until a certain condition has been met."
   ]
  },
  {
   "cell_type": "markdown",
   "id": "d9ef70f9-87e5-4272-bd48-215c2f6cc652",
   "metadata": {},
   "source": [
    "<h4>While Loop</h4>\n",
    "The while statement executes repeatedly as long as the assignment expression (within the brackets) is true. The following program for example will add 1 to the variable in every iteration while checking everytime if the criteria has been met. It will stop as soon as that is the case. The calculation that is done here could be formulated as '1+1+1+1'."
   ]
  },
  {
   "cell_type": "code",
   "execution_count": 6,
   "id": "390c8b34-b896-4ab9-8e4d-c97b042011cf",
   "metadata": {},
   "outputs": [
    {
     "name": "stdout",
     "output_type": "stream",
     "text": [
      "4\n"
     ]
    }
   ],
   "source": [
    "a = 1\n",
    "\n",
    "while (a<4):\n",
    "    a+=1\n",
    "print (a)"
   ]
  },
  {
   "cell_type": "markdown",
   "id": "6ccc13c3-e150-4c5c-a565-43ab1665f7c3",
   "metadata": {},
   "source": [
    "The <b>break</b> statement can be used to break out of the loop if a condition is met. In this case it is used to break out of the loop one iteration earlier."
   ]
  },
  {
   "cell_type": "code",
   "execution_count": 6,
   "id": "261ba62b-e3cf-4508-8c41-9e33fba4831a",
   "metadata": {},
   "outputs": [
    {
     "name": "stdout",
     "output_type": "stream",
     "text": [
      "3\n"
     ]
    }
   ],
   "source": [
    "a = 1\n",
    "\n",
    "while (a<4):\n",
    "    if a==3:\n",
    "        break\n",
    "    a+=1\n",
    "print (a)"
   ]
  },
  {
   "cell_type": "markdown",
   "id": "5026b084-ec1a-475e-bb42-dc074f065fd5",
   "metadata": {},
   "source": [
    "The <b>else</b> statement can also be used in a while loop. It is executed after the assignment becomes false. This is very similar to just putting the suite after the while loop."
   ]
  },
  {
   "cell_type": "code",
   "execution_count": 8,
   "id": "15d9d9bd-9581-4a9b-ab97-5d7e421b858c",
   "metadata": {},
   "outputs": [
    {
     "name": "stdout",
     "output_type": "stream",
     "text": [
      "4\n"
     ]
    }
   ],
   "source": [
    "a = 1\n",
    "\n",
    "while (a<4):\n",
    "    a+=1\n",
    "else: print (a) "
   ]
  },
  {
   "cell_type": "markdown",
   "id": "ddd96f86-755d-4102-9b1f-dd45654f052e",
   "metadata": {},
   "source": [
    "<h4>For Loop</h4>\n",
    "The for statement is used on iterable objects (for example lists or tuples). \n",
    "The structure is: <b>\"for\" target_list \"in\" starred_list \":\" suite</b> <br>\n",
    "After entering 'for' to signal the loop the target list needs to be defined; in this case it is called 'n'. The target list is created by the for loop. After the keyword 'in' the starred list is declared. This is the list on which the loop is performed. <br>\n",
    "The <b>else</b> statement can also be used here, in this case it is executed after the loop reaches its final destination."
   ]
  },
  {
   "cell_type": "code",
   "execution_count": 10,
   "id": "f853d8df-d815-4553-8e61-6dc87f49411a",
   "metadata": {},
   "outputs": [
    {
     "name": "stdout",
     "output_type": "stream",
     "text": [
      "1\n",
      "2\n",
      "3\n",
      "4\n",
      "finished\n"
     ]
    }
   ],
   "source": [
    "numbers = [1, 2, 3, 4] \n",
    "for n in numbers:\n",
    "    print (n)\n",
    "else: print('finished') # the else statement does not need to be included for the loop to work"
   ]
  },
  {
   "cell_type": "markdown",
   "id": "a88673c3-789d-4157-baa6-dedd9b05524a",
   "metadata": {},
   "source": [
    "The <b>break</b> statement can also be used in for loops. "
   ]
  },
  {
   "cell_type": "code",
   "execution_count": 15,
   "id": "72c889ee-8d83-4613-877b-3ab8af4b46e8",
   "metadata": {},
   "outputs": [
    {
     "name": "stdout",
     "output_type": "stream",
     "text": [
      "1\n"
     ]
    }
   ],
   "source": [
    "numbers = [1, 2, 3, 4] \n",
    "for n in numbers:\n",
    "    if (n % 2 == 0): # if the number is even\n",
    "        break\n",
    "    print (n)\n",
    "\n",
    "    "
   ]
  },
  {
   "cell_type": "markdown",
   "id": "1dd9c91f-6f65-453a-83a1-b5dc7a55c626",
   "metadata": {},
   "source": [
    "If you want to skip an element of the list without ending the loop (like a break would), you can use the <b>continue</b> statement. "
   ]
  },
  {
   "cell_type": "code",
   "execution_count": 22,
   "id": "b1784e0d-c862-45ca-b84f-5ff17d21eb14",
   "metadata": {},
   "outputs": [
    {
     "name": "stdout",
     "output_type": "stream",
     "text": [
      "1\n",
      "3\n"
     ]
    }
   ],
   "source": [
    "numbers = [1, 2, 3, 4] \n",
    "for n in numbers:\n",
    "    if (n % 2 == 0): # if the number is even\n",
    "        continue\n",
    "    print (n)"
   ]
  },
  {
   "cell_type": "markdown",
   "id": "843facb5-ca9e-42a6-b7e4-da09aaa2accb",
   "metadata": {},
   "source": [
    "The <b>else</b> statement becomes interesting again when looking at <b>nested for loops</b>."
   ]
  },
  {
   "cell_type": "code",
   "execution_count": null,
   "id": "c9732d0c-e0b4-4157-ab71-d7559ad667fa",
   "metadata": {},
   "outputs": [],
   "source": [
    "for n in range(3,15):\n",
    "    for x in range(3,n):\n",
    "        if n % x == 0:\n",
    "            print (n, '=', x, '*', n//x)\n",
    "            break\n",
    "    else: "
   ]
  },
  {
   "cell_type": "markdown",
   "id": "27ae3696-dbc9-439b-825d-fd5b9310a19e",
   "metadata": {},
   "source": [
    "The <b>elif</b> statement can also be used in this context. In this case we are using the built-in 'isinstance' function to check whether the element is an integer or a floating point value. If it is neither of those the for loop will break out early skipping over the string and the last number."
   ]
  },
  {
   "cell_type": "code",
   "execution_count": 1,
   "id": "e405f2cb-f2b6-419c-9c90-7163de736f55",
   "metadata": {},
   "outputs": [
    {
     "name": "stdout",
     "output_type": "stream",
     "text": [
      "1\n",
      "2\n",
      "3\n",
      "4\n",
      "5.5\n",
      "non-number detected\n"
     ]
    }
   ],
   "source": [
    "numbers = [1, 2, 3, 4, 5.5, 'a', 6] \n",
    "for n in numbers:\n",
    "    if isinstance(n, int): # checks for integer\n",
    "        print (n)\n",
    "        continue\n",
    "    elif isinstance(n, float): # checks for floating point\n",
    "        print (n)\n",
    "        continue\n",
    "    print ('non-number detected')\n",
    "    break "
   ]
  },
  {
   "cell_type": "markdown",
   "id": "768bb62b-e20a-4b90-9297-c8ca3096c7fa",
   "metadata": {},
   "source": [
    "Letting the loop make a copy of the list (or in the following case the tuple) it is iterating over can be practical in many cases. Tuples can not be changed after creation (they are immutable); this is a way to work around that. "
   ]
  },
  {
   "cell_type": "code",
   "execution_count": 8,
   "id": "979551b4-6228-42fe-a4e4-28e01cad8574",
   "metadata": {},
   "outputs": [
    {
     "name": "stdout",
     "output_type": "stream",
     "text": [
      "(2, 4)\n"
     ]
    }
   ],
   "source": [
    "numbers = (1, 2, 3, 4) \n",
    "evennums = () # this tuple will contain the even numbers\n",
    "\n",
    "for n in numbers: # as before 'n' is just a stand-in; any unclaimed variable can be used here\n",
    "    if n%2==0: # as seen before; checks if the number is even\n",
    "        evennums +=(n,) # add the number to the new tuple \n",
    "print (evennums)"
   ]
  },
  {
   "cell_type": "markdown",
   "id": "d9f7d542-1bbf-45bb-a6b3-50991cc298b3",
   "metadata": {},
   "source": [
    "To create a for loop that iterates over a sequence of numbers the <b>'range()'</b> function can be used. "
   ]
  },
  {
   "cell_type": "code",
   "execution_count": 10,
   "id": "6bc2ea56-717c-48d8-adf0-b71280311ffc",
   "metadata": {},
   "outputs": [
    {
     "name": "stdout",
     "output_type": "stream",
     "text": [
      "0\n",
      "1\n",
      "2\n",
      "3\n"
     ]
    }
   ],
   "source": [
    "for i in range(4): \n",
    "    print(i)"
   ]
  },
  {
   "cell_type": "markdown",
   "id": "625a795a-8045-4835-b1aa-dd9f121218c0",
   "metadata": {},
   "source": [
    "Another use for the <b>'range()'</b> function could be to execute the suite (block of code that follows the expression) a chosen number of times. The number within the brackets declares the amount of the iterations. The variable 'g' is what the loop is iterating on. The variable 'i' goes up by 1 with every iteration. "
   ]
  },
  {
   "cell_type": "code",
   "execution_count": 20,
   "id": "c9a80d7f-4ecb-46e4-9857-ee30cb35c9f5",
   "metadata": {},
   "outputs": [
    {
     "name": "stdout",
     "output_type": "stream",
     "text": [
      "4\n",
      "6\n",
      "8\n",
      "10\n",
      "4 iterations\n"
     ]
    }
   ],
   "source": [
    "g = 2\n",
    "for i in range(4): # this will execute 4 times\n",
    "    g+=2\n",
    "    print (g)\n",
    "print (f'{i+1} iterations') # the number i starts at zero"
   ]
  },
  {
   "cell_type": "markdown",
   "id": "22ba2348-0818-4760-a566-02871705c9d8",
   "metadata": {},
   "source": [
    "Combined with the <b>'len()'</b> function it is also possible to iterate over the parts of a sequence. This function returns the length of an iterable object. Now we can use the length of the object as the value for the range function. In this case we are using the <b>list</b> data structure. Tuples and dictionaries are also sequences."
   ]
  },
  {
   "cell_type": "code",
   "execution_count": 5,
   "id": "ad630dd0-7e74-4282-8d1b-6a2412a4e66b",
   "metadata": {},
   "outputs": [
    {
     "name": "stdout",
     "output_type": "stream",
     "text": [
      "3 \n",
      "\n",
      "a\n",
      "b\n",
      "c\n"
     ]
    }
   ],
   "source": [
    "sequence = ['a', 'b', 'c']\n",
    "print (len(sequence), '\\n') \n",
    "\n",
    "for i in range(len(sequence)):\n",
    "    print (sequence[i]) # prints the part of the sequence corresponding to the 'i' value"
   ]
  },
  {
   "cell_type": "markdown",
   "id": "47d86497-7d52-4b36-87b2-531524a50e3b",
   "metadata": {},
   "source": []
  },
  {
   "cell_type": "markdown",
   "id": "3824c651-94b1-4ca3-987e-cd143a41dbc4",
   "metadata": {
    "jp-MarkdownHeadingCollapsed": true
   },
   "source": [
    "<h2>Matplotlib</h2>"
   ]
  },
  {
   "cell_type": "markdown",
   "id": "ce11b7cb-e49e-4ded-9a93-120b21706a8c",
   "metadata": {},
   "source": [
    "Additional help for Matplotlib can be found <a href=\"https://matplotlib.org/stable/users/explain/quick_start.html\">here</a> "
   ]
  },
  {
   "cell_type": "code",
   "execution_count": null,
   "id": "0ea15270-0ada-444d-be71-a66dd55274d7",
   "metadata": {},
   "outputs": [],
   "source": [
    "import matplotlib.pyplot as plt\n",
    "import numpy as np"
   ]
  },
  {
   "cell_type": "markdown",
   "id": "3d7d77c3-1d75-4e01-ad01-58437e5c434d",
   "metadata": {},
   "source": [
    "Square root:\n",
    "In numpy the square root is calculated with \"np.sqrt\" <br> \n",
    "The Comments show what each line is responsible for in the finished plot. "
   ]
  },
  {
   "cell_type": "code",
   "execution_count": null,
   "id": "7ea25c28-d767-47e6-be2d-bed15cf2a063",
   "metadata": {},
   "outputs": [],
   "source": [
    "#Generating x values\n",
    "x = np.linspace(0, 10, 100)  #inside the brackets is the range of the x values. The first one is the starting point, the second one is the end. \n",
    "#and the third one is the number of equally spaced samples in between the start and endpoint.\n",
    "\n",
    "#Calculating square root for x\n",
    "y = np.sqrt(x)\n",
    "\n",
    "plt.plot(x, y, label='y = sqrt(x)') #name of the plot\n",
    "plt.xlabel('x') #label for the x axis\n",
    "plt.ylabel('y') #label for the y axis\n",
    "plt.title('Square Root Function') #title of the function\n",
    "plt.legend() #plt.legend is responsible for the little window in the corner labeling the elements of the plot \n",
    "plt.grid(True) #toggle grid \n",
    "plt.show() #this function opens a seperate window to display the plot "
   ]
  },
  {
   "cell_type": "markdown",
   "id": "8d7d2456-dc82-4f73-8c0a-90913cf28a5e",
   "metadata": {},
   "source": [
    "The exponential function is calculated with \"np.exp\""
   ]
  },
  {
   "cell_type": "code",
   "execution_count": null,
   "id": "e3a63139-2841-4504-b34a-d1ffff2745ae",
   "metadata": {},
   "outputs": [],
   "source": [
    "#range of x values\n",
    "x = np.linspace(-2, 2, 100)  #generates 100 equally spaced points between -2 and 2\n",
    "\n",
    "#exponential function (y = e^x)\n",
    "y = np.exp(x)\n",
    "\n",
    "#plot the exponential function\n",
    "plt.plot(x, y, label='y = e^x')\n",
    "plt.xlabel('x')\n",
    "plt.ylabel('y')\n",
    "plt.title('Exponential Function')\n",
    "plt.legend()\n",
    "plt.grid(True)\n",
    "plt.show()"
   ]
  },
  {
   "cell_type": "markdown",
   "id": "4873fb7e-87f0-448f-80fe-d21216a2b239",
   "metadata": {},
   "source": [
    "The natural logarithmic function can be plottet using \"np.log\""
   ]
  },
  {
   "cell_type": "code",
   "execution_count": null,
   "id": "99ce32cd-46f0-4967-ac91-7e16d26b6ceb",
   "metadata": {},
   "outputs": [],
   "source": [
    "x = np.linspace(0.01, 2, 100)  \n",
    "\n",
    "y = np.log(x)\n",
    "\n",
    "plt.plot(x, y, label='y = ln(x)')\n",
    "plt.xlabel('x')\n",
    "plt.ylabel('y')\n",
    "plt.title('Natural Logarithm Function: y = ln(x)')\n",
    "plt.legend()\n",
    "plt.grid(True)\n",
    "plt.show()"
   ]
  },
  {
   "cell_type": "markdown",
   "id": "ebcf6c1d-535e-4eb5-895e-593827eed2a8",
   "metadata": {},
   "source": [
    "The natural sine function can be plottet using \"np.sin\""
   ]
  },
  {
   "cell_type": "code",
   "execution_count": null,
   "id": "0bc43a25-b9de-4c44-b395-6d22fca5e239",
   "metadata": {},
   "outputs": [],
   "source": [
    "x = np.linspace(0, 2*np.pi, 100)\n",
    "y = np.sin(x)\n",
    "\n",
    "plt.plot(x, y)\n",
    "plt.title('Sine Function')\n",
    "plt.xlabel('x')\n",
    "plt.ylabel('sin(x)')\n",
    "plt.grid(True)\n",
    "plt.show()"
   ]
  },
  {
   "cell_type": "markdown",
   "id": "acb926db-24ef-4c74-872d-4fb8ba42af68",
   "metadata": {},
   "source": [
    "to plot the cosine function \"np.cos\" is used"
   ]
  },
  {
   "cell_type": "code",
   "execution_count": null,
   "id": "d89e0c3a-6b76-4541-9356-f663b9d5c45b",
   "metadata": {},
   "outputs": [],
   "source": [
    "x = np.linspace(0, 2*np.pi, 100)\n",
    "y = np.cos(x)\n",
    "\n",
    "plt.plot(x, y)\n",
    "plt.title('Cosine Function')\n",
    "plt.xlabel('x')\n",
    "plt.ylabel('cos(x)')\n",
    "plt.grid(True)\n",
    "plt.show()"
   ]
  },
  {
   "cell_type": "markdown",
   "id": "2fed0e6b-c52e-43b6-9d5f-f55de7ad686e",
   "metadata": {},
   "source": [
    "to plot the tangent function \"np.tan\" is used "
   ]
  },
  {
   "cell_type": "code",
   "execution_count": null,
   "id": "d8f0ee19-1a49-4900-9d22-f4aa72b1c51e",
   "metadata": {},
   "outputs": [],
   "source": [
    "x = np.linspace(-np.pi/2+0.01, np.pi/2 - 0.01, 100) #the function becomes infinite at -pi/2 and pi/2, these points are excluded here\n",
    "y = np.tan(x)\n",
    "\n",
    "# Plot the tangent function\n",
    "plt.plot(x, y)\n",
    "plt.title('Tangent Function')\n",
    "plt.xlabel('x')\n",
    "plt.ylabel('tan(x)')\n",
    "plt.grid(True)\n",
    "plt.show()"
   ]
  },
  {
   "cell_type": "markdown",
   "id": "c985c106-62c3-4ee5-9fee-0dafbd6bc824",
   "metadata": {},
   "source": [
    "\"np.cot\" does not exist so we just use \"1/np.tan\" since cot is the inverse of tan"
   ]
  },
  {
   "cell_type": "code",
   "execution_count": null,
   "id": "0db2c06c-8d32-43ee-b7c7-4fc84b6a875e",
   "metadata": {},
   "outputs": [],
   "source": [
    "x = np.linspace(0.01, np.pi-0.01, 100) #if you use np.pi without subtracting 0.01 or another small number the plot gets weird, I could not figure out why \n",
    "y = 1/np.tan(x)\n",
    "\n",
    "# Plot the cotangent function\n",
    "plt.plot(x, y)\n",
    "plt.title('Cotangent Function')\n",
    "plt.xlabel('x')\n",
    "plt.ylabel('cot(x)')\n",
    "plt.grid(True)\n",
    "plt.show()"
   ]
  },
  {
   "cell_type": "markdown",
   "id": "33dcc85f-96f2-482a-8db9-b9c079863896",
   "metadata": {},
   "source": [
    "to plot acos we'll use \"np.arccos\""
   ]
  },
  {
   "cell_type": "code",
   "execution_count": null,
   "id": "8f8e26d1-ad34-479b-8e58-e79286e5717b",
   "metadata": {},
   "outputs": [],
   "source": [
    "x = np.linspace(-1, 1, 100)\n",
    "y = np.arccos(x)\n",
    "\n",
    "plt.plot(x, y)\n",
    "plt.title('arccos')\n",
    "plt.xlabel('x')\n",
    "plt.ylabel('arccos(x)')\n",
    "plt.grid(True)\n",
    "plt.show()\n"
   ]
  },
  {
   "cell_type": "markdown",
   "id": "68b3ddd3-2058-4a2e-95fe-0f4ac0a4df9e",
   "metadata": {},
   "source": [
    "asin"
   ]
  },
  {
   "cell_type": "code",
   "execution_count": null,
   "id": "946b26d6-e7cf-4b1e-81c1-b2ab6265f299",
   "metadata": {},
   "outputs": [],
   "source": [
    "x = np.linspace(-1, 1, 100)\n",
    "y = np.arcsin(x)\n",
    "\n",
    "plt.plot(x, y)\n",
    "plt.title('arcsine')\n",
    "plt.xlabel('x')\n",
    "plt.ylabel('arcsin(x)')\n",
    "plt.grid(True)\n",
    "plt.show()\n"
   ]
  },
  {
   "cell_type": "markdown",
   "id": "0f352a8f-dbb3-415d-a35b-e5b859da4363",
   "metadata": {},
   "source": [
    "atan"
   ]
  },
  {
   "cell_type": "code",
   "execution_count": null,
   "id": "b8deb722-3282-4421-b234-6795507eabf7",
   "metadata": {},
   "outputs": [],
   "source": [
    "x = np.linspace(-5, 5, 100)\n",
    "y = np.arctan(x)\n",
    "\n",
    "plt.plot(x, y)\n",
    "plt.title('arctangent')\n",
    "plt.xlabel('x')\n",
    "plt.ylabel('arctan(x)')\n",
    "plt.grid(True)\n",
    "plt.show()"
   ]
  },
  {
   "cell_type": "markdown",
   "id": "bbf7619b-2769-4a88-9177-96edf933e1f5",
   "metadata": {},
   "source": [
    "sinc is just sin(x)/x so we'll plot that"
   ]
  },
  {
   "cell_type": "code",
   "execution_count": null,
   "id": "137a9955-92fa-4478-a59b-663939afac39",
   "metadata": {},
   "outputs": [],
   "source": [
    "x = np.linspace(-10, 10, 1000)\n",
    "y = np.sin(x)/x\n",
    "\n",
    "\n",
    "plt.plot(x, y)\n",
    "plt.title('sinc')\n",
    "plt.xlabel('x')\n",
    "plt.ylabel('sinc(x)')\n",
    "plt.grid(True)\n",
    "plt.show()"
   ]
  },
  {
   "cell_type": "markdown",
   "id": "a66e047d-9246-4d98-bef3-8536139a0d60",
   "metadata": {},
   "source": [
    "the hyperbolic sine function sinh is plotted by using \"np.sinh\""
   ]
  },
  {
   "cell_type": "code",
   "execution_count": null,
   "id": "28e57d79-a0b7-4516-a200-d09e1f0d5ba0",
   "metadata": {},
   "outputs": [],
   "source": [
    "x = np.linspace(-5, 5, 100)\n",
    "y = np.sinh(x)\n",
    "\n",
    "plt.plot(x, y)\n",
    "plt.title('sinh')\n",
    "plt.xlabel('x')\n",
    "plt.ylabel('sinh(x)')\n",
    "plt.grid(True)\n",
    "plt.show()\n"
   ]
  },
  {
   "cell_type": "markdown",
   "id": "903e263f-c4f0-432d-ab88-b0bd24d40ede",
   "metadata": {},
   "source": [
    "tanh"
   ]
  },
  {
   "cell_type": "code",
   "execution_count": null,
   "id": "3542e7d2-f1db-4289-a5fa-da00e0cf710f",
   "metadata": {},
   "outputs": [],
   "source": [
    "x = np.linspace(-5, 5, 100)\n",
    "y = np.tanh(x)\n",
    "\n",
    "plt.plot(x, y)\n",
    "plt.title('tanh')\n",
    "plt.xlabel('x')\n",
    "plt.ylabel('tanh(x)')\n",
    "plt.grid(True)\n",
    "plt.show()"
   ]
  },
  {
   "cell_type": "markdown",
   "id": "e6367c5e-7f0f-4388-b879-f4f10b9c92c2",
   "metadata": {},
   "source": [
    "<h2>Strings</h2>\n",
    "Strings are used to represent text data in Python. They are immutable, meaning they cannot be changed once created."
   ]
  },
  {
   "cell_type": "code",
   "execution_count": 13,
   "id": "6c455abf-8baa-4062-8a11-0a88029d6c49",
   "metadata": {},
   "outputs": [
    {
     "name": "stdout",
     "output_type": "stream",
     "text": [
      "Hello, World!\n"
     ]
    }
   ],
   "source": [
    "example_string_a = 'Hello, World!'\n",
    "print(example_string_a)"
   ]
  },
  {
   "cell_type": "markdown",
   "id": "5252a6c3-6649-487b-a963-c946f39e7211",
   "metadata": {},
   "source": [
    "<h3>Declaring</h3>\n",
    "Strings can be declared with <u>single</u>, <u>double</u> or <u>triple</u> quotes. Single and Double Quotes are interchangeble. <br>\n",
    "If you want to put something in Quotation marks you have to use the other type of Quotes. "
   ]
  },
  {
   "cell_type": "code",
   "execution_count": null,
   "id": "88df76ef-1640-490e-84b1-15fee47ff144",
   "metadata": {},
   "outputs": [],
   "source": [
    "example_string_b = \"Hello, 'World'!\"\n",
    "print (example_string_b)"
   ]
  },
  {
   "cell_type": "markdown",
   "id": "8dfb59ee-60ee-4e00-bd39-81eff7978050",
   "metadata": {},
   "source": [
    "<u>Triple Quoted</u> strings, like triple quoted comments, can span multiple lines."
   ]
  },
  {
   "cell_type": "code",
   "execution_count": 16,
   "id": "e3cf84c2-3c36-4551-9ba4-559ac8cf3d21",
   "metadata": {},
   "outputs": [
    {
     "name": "stdout",
     "output_type": "stream",
     "text": [
      "Hello, \n",
      "World\n"
     ]
    }
   ],
   "source": [
    "example_string_c = '''Hello, \n",
    "World'''\n",
    "print (example_string_c)"
   ]
  },
  {
   "cell_type": "markdown",
   "id": "320d3885-fd11-4c5d-90b7-1d70190ab30c",
   "metadata": {},
   "source": [
    "<h3>String Operations and Formatting</h3>"
   ]
  },
  {
   "cell_type": "markdown",
   "id": "96f00dac-b1aa-45bd-94aa-1e6cf0f47c27",
   "metadata": {},
   "source": [
    "<h4>Escape Sequences</u></h4> are commands that change something about the string. For example start a new line or input a backslash or a single quote."
   ]
  },
  {
   "cell_type": "code",
   "execution_count": 15,
   "id": "26fafb46-4762-47f9-870a-963f524a3cf9",
   "metadata": {},
   "outputs": [
    {
     "name": "stdout",
     "output_type": "stream",
     "text": [
      "Hello\n",
      "World\n",
      "Name:\tMatthis\n",
      "C:\\Users\\Matthis\n",
      "It's a beautiful day\n",
      "She said, \"Hello!\"\n",
      "α\n"
     ]
    }
   ],
   "source": [
    "#Newline\n",
    "print(\"Hello\\nWorld\")\n",
    "\n",
    "#Tab\n",
    "print(\"Name:\\tMatthis\")\n",
    "\n",
    "#Backslash\n",
    "print(\"C:\\\\Users\\\\Matthis\")\n",
    "\n",
    "#Single Quote\n",
    "print('It\\'s a beautiful day')\n",
    "\n",
    "#Double Quote\n",
    "print(\"She said, \\\"Hello!\\\"\")\n",
    "\n",
    "#Unicode character\n",
    "print(\"\\u03B1\")  #Prints the Greek letter alpha"
   ]
  },
  {
   "cell_type": "markdown",
   "id": "ef9f045e-528a-477f-b2de-9978cce48ecd",
   "metadata": {},
   "source": [
    "<h4>Raw Strings</h4>\n",
    "If you want to use a lot of backslashes like in a file path you might want to use a raw string. That can be done by using \"r'\""
   ]
  },
  {
   "cell_type": "code",
   "execution_count": null,
   "id": "3a9e5a90-a3c0-42bd-9311-86fd083f6157",
   "metadata": {},
   "outputs": [],
   "source": [
    "raw_string = r'C:\\Users\\Matthis\\Desktop\\PythonVortrag' \n",
    "print (raw_string)"
   ]
  },
  {
   "cell_type": "markdown",
   "id": "2667cf4c-ff59-4c52-9d73-9dd8f38d06c3",
   "metadata": {},
   "source": [
    "<h4>Formatted String Literals</h4> \n",
    "The operator \"f'\" in front of a string means you can add so-called replacement fields. These fields are curly brackets {} which can contain variables."
   ]
  },
  {
   "cell_type": "code",
   "execution_count": 2,
   "id": "90ee0647-b25f-4a75-8a1c-f0ab7afdbb3c",
   "metadata": {},
   "outputs": [
    {
     "name": "stdout",
     "output_type": "stream",
     "text": [
      "you are walking at 6km/h!\n",
      "you are running at 7km/h!\n"
     ]
    }
   ],
   "source": [
    "activity = 'walking'\n",
    "speed = 6\n",
    "message = f'you are {activity} at {speed}km/h!'\n",
    "print(message)\n",
    "activity = 'running'\n",
    "speed = 7\n",
    "message = f'you are {activity} at {speed}km/h!'\n",
    "print(message)"
   ]
  },
  {
   "cell_type": "markdown",
   "id": "9ff917ff-cda8-4f27-89ad-cf957ae8c034",
   "metadata": {
    "jp-MarkdownHeadingCollapsed": true
   },
   "source": [
    "<h4>Capitalize and Lowercase</h4>\n"
   ]
  },
  {
   "cell_type": "code",
   "execution_count": 11,
   "id": "c0df168d-57e1-42f0-8bb0-c352b4037210",
   "metadata": {},
   "outputs": [
    {
     "name": "stdout",
     "output_type": "stream",
     "text": [
      "hello, World!\n",
      "Hello, world!\n",
      "hello, world!\n"
     ]
    }
   ],
   "source": [
    "example_string_b = 'hello, World!'\n",
    "print(example_string_b)\n",
    "\n",
    "print (example_string_b.capitalize())\n",
    "#Returns a copy of the string with its first character capitalized and the rest lowercased\n",
    "\n",
    "print (example_string_b.lower())\n",
    "#Returns a copy of the string with all characters lowercased\n"
   ]
  },
  {
   "cell_type": "markdown",
   "id": "652abe84-53c2-4f15-9b0b-46eed4952977",
   "metadata": {
    "jp-MarkdownHeadingCollapsed": true
   },
   "source": [
    "<h4>What does the string contain?</h4>\n",
    "Here are a few operations that check if a string consists of certain Elements."
   ]
  },
  {
   "cell_type": "code",
   "execution_count": 7,
   "id": "5aa02efd-4edf-44ea-af0e-7327b5ed356a",
   "metadata": {},
   "outputs": [
    {
     "name": "stdout",
     "output_type": "stream",
     "text": [
      "False\n",
      "False\n",
      "False\n",
      "False\n",
      "False\n"
     ]
    }
   ],
   "source": [
    "example_string_a = 'Hello, World!'\n",
    "\n",
    "print (example_string_a.isalnum())\n",
    "#are all characters in the string alphabetical or numeric? (excludes characters like #)\n",
    "\n",
    "print (example_string_a.isalpha())\n",
    "#are all characters in the string alphabetical?\n",
    "\n",
    "print (example_string_a.isnumeric())\n",
    "#are all characters in the string numeric?\n",
    "\n",
    "print (example_string_a.islower())\n",
    "#are all characters in the string lowercase?\n",
    "\n",
    "print (example_string_a.isupper())\n",
    "#are all characters in the string uppercase?"
   ]
  },
  {
   "cell_type": "markdown",
   "id": "fe2aebdf-749d-4678-bb1a-37217899cc02",
   "metadata": {
    "jp-MarkdownHeadingCollapsed": true
   },
   "source": [
    "<h4>Partition a string</h4>\n",
    " str.partition(sep) can be used to split the string at the chosen separator (sep). The Operation will return a 3-Tuple containing the part before the separator, the separator itself and the part after the separator."
   ]
  },
  {
   "cell_type": "code",
   "execution_count": 14,
   "id": "f9e5262a-6d22-4660-a74e-f064cea9abd7",
   "metadata": {},
   "outputs": [
    {
     "name": "stdout",
     "output_type": "stream",
     "text": [
      "('Hello, ', 'W', 'orld!')\n"
     ]
    }
   ],
   "source": [
    "example_string_a = 'Hello, World!'\n",
    "print (example_string_a.partition('W'))"
   ]
  },
  {
   "cell_type": "markdown",
   "id": "1684b72e-f137-41b4-8aab-dce60172b8cc",
   "metadata": {
    "jp-MarkdownHeadingCollapsed": true
   },
   "source": [
    "<h4>Construct a string from multiple fragments</h4>\n",
    "Strings can be joined together using 'str.join' which has the structure: 'separator.join(iterable)'. <br>\n",
    "The separator is going to be put between the elements of the string and the iterable is the string the operation is used on.\n",
    "Any character or number can be used as separator. Escape sequences can also be used.\n"
   ]
  },
  {
   "cell_type": "code",
   "execution_count": 26,
   "id": "a485fa04-d04d-4d55-820c-62d446845e4a",
   "metadata": {},
   "outputs": [
    {
     "name": "stdout",
     "output_type": "stream",
     "text": [
      "abcde\n",
      "a b c d e\n",
      "a\n",
      " \n",
      "b\n",
      " \n",
      "c\n",
      " \n",
      "d\n",
      " \n",
      "e\n"
     ]
    }
   ],
   "source": [
    "example_string_d = 'abcde'\n",
    "print (example_string_d)\n",
    "\n",
    "example_string_d = ' '.join(example_string_d)\n",
    "print (example_string_d)\n",
    "\n",
    "example_string_d = '\\n'.join(example_string_d)\n",
    "print (example_string_d)"
   ]
  },
  {
   "cell_type": "markdown",
   "id": "3ce92f56-9a92-4fa2-bbdc-1c4650522fec",
   "metadata": {
    "jp-MarkdownHeadingCollapsed": true
   },
   "source": [
    "<h4>Retrieve character</h4>\n",
    "You can retrieve a character at a point of your choosing (index) using \"string[index]\"\n",
    "You can retrieve all characters within a certain range using \"string[a:b]\"\n",
    "    In this case the first number 'a' represents the starting point and the second number 'b' represents the length of the range"
   ]
  },
  {
   "cell_type": "code",
   "execution_count": 8,
   "id": "ac62ecd3-4b3d-434b-9903-ad1af11c39fb",
   "metadata": {},
   "outputs": [
    {
     "name": "stdout",
     "output_type": "stream",
     "text": [
      "you are walking\n",
      "a\n",
      "you\n"
     ]
    }
   ],
   "source": [
    "message2 = 'you are walking'\n",
    "print(message2)\n",
    "\n",
    "# retrieve the fourth character of the string\n",
    "print(message2[4])\n",
    "\n",
    "# retrieve the word 'you' \n",
    "# starting at the start of the string '0' retrieve '3' characters\n",
    "print(message2[0:3])\n",
    "\n"
   ]
  },
  {
   "cell_type": "markdown",
   "id": "04237535-485d-4f91-b5c2-06966b449e7c",
   "metadata": {
    "jp-MarkdownHeadingCollapsed": true
   },
   "source": [
    "<h4>Count specific elements</h4>\n",
    "To count the number of (non-overlapping) substrings within a string use: 'str.count(sub[, start[, end]])' <br>\n",
    "First Define the substring and then define where to start counting and where to end. It is not necessary to declare start or and for the operation to work."
   ]
  },
  {
   "cell_type": "code",
   "execution_count": 45,
   "id": "d7e66f68-1e9c-4ac7-928d-8e1e12bb2fcf",
   "metadata": {},
   "outputs": [
    {
     "name": "stdout",
     "output_type": "stream",
     "text": [
      "2\n",
      "1\n",
      "1\n"
     ]
    }
   ],
   "source": [
    "example_string_a = 'Hello, World!'\n",
    "\n",
    "# since the string contains the letter o twice the operation will return 2\n",
    "print (example_string_a.count('o'))\n",
    "\n",
    "# if the start is index 7 the first 'o' is not counted\n",
    "print (example_string_a.count('o', 7))\n",
    "\n",
    "# if the start is 0 and the end is 7 the second 'o' is not counted\n",
    "print (example_string_a.count('o', 0, 7))"
   ]
  },
  {
   "cell_type": "markdown",
   "id": "7bf99e07-45b8-45ad-88fe-ae0ab04fb2fd",
   "metadata": {
    "jp-MarkdownHeadingCollapsed": true
   },
   "source": [
    "<h4>Membership test</h4>\n",
    "To check if a substring is in a string use the operator 'in'. Returns as boolean."
   ]
  },
  {
   "cell_type": "code",
   "execution_count": 48,
   "id": "3747bb08-214e-4f39-bfbd-0ec666f7c84e",
   "metadata": {},
   "outputs": [
    {
     "name": "stdout",
     "output_type": "stream",
     "text": [
      "True\n",
      "False\n"
     ]
    }
   ],
   "source": [
    "example_string_a = 'Hello, World!' \n",
    "\n",
    "print ('o' in example_string_a)\n",
    "print ('a' in example_string_a)"
   ]
  },
  {
   "cell_type": "markdown",
   "id": "4070ef13-f2b7-40ee-9043-fb3c51d6a5bf",
   "metadata": {
    "jp-MarkdownHeadingCollapsed": true
   },
   "source": [
    "<h4>Replace substrings</h4>\n",
    "str.replace(old, new[, count]) Replaces the old substring with the new substring a certain amount of times (count). If count is left out, every substring will be replaced."
   ]
  },
  {
   "cell_type": "code",
   "execution_count": 23,
   "id": "ed0afb19-220d-4d7f-976f-8e4e3c351d00",
   "metadata": {},
   "outputs": [
    {
     "name": "stdout",
     "output_type": "stream",
     "text": [
      "Hello, World!\n",
      "Hexlo, World!\n",
      "Hexxo, World!\n",
      "Hexxo, Worxd!\n"
     ]
    }
   ],
   "source": [
    "a = 'Hello, World!'\n",
    "print (a.replace('l', 'x', 0))\n",
    "print (a.replace('l', 'x', 1))\n",
    "print (a.replace('l', 'x', 2))\n",
    "print (a.replace('l', 'x'))"
   ]
  },
  {
   "cell_type": "markdown",
   "id": "14b4e796-1910-48cc-a691-66f19e2c4e00",
   "metadata": {
    "jp-MarkdownHeadingCollapsed": true
   },
   "source": [
    "<h4>Remove prefix/suffix</h4>\n",
    "With removeprefix and removesuffix a substring can be removed from the start or end of the string, but only then. If the chosen substring is not where it needs to be the Operation returns the string"
   ]
  },
  {
   "cell_type": "code",
   "execution_count": 17,
   "id": "724a7594-341e-4e55-88b0-07f225948e21",
   "metadata": {},
   "outputs": [
    {
     "name": "stdout",
     "output_type": "stream",
     "text": [
      ", World!\n",
      "Hello, World!\n",
      "Hello, World!\n",
      "Hello, \n"
     ]
    }
   ],
   "source": [
    "a = 'Hello, World!'\n",
    "print (a.removeprefix('Hello'))\n",
    "print (a.removeprefix('World!'))\n",
    "\n",
    "print (a.removesuffix('Hello'))\n",
    "print (a.removesuffix('World!'))"
   ]
  },
  {
   "cell_type": "markdown",
   "id": "90959495-6ce6-4849-8a1b-63cd2fd90b43",
   "metadata": {
    "jp-MarkdownHeadingCollapsed": true
   },
   "source": [
    "<h4>str.strip([chars])</h4>\n",
    "Strips a string from its outermost elements specified in [chars]. All elements contained in [chars] are removed from he string until an element is found which is not contained in chars. "
   ]
  },
  {
   "cell_type": "code",
   "execution_count": 54,
   "id": "cab1e0c2-b5a2-4dad-89f2-f890f669d379",
   "metadata": {},
   "outputs": [
    {
     "name": "stdout",
     "output_type": "stream",
     "text": [
      "Hello, World!\n"
     ]
    },
    {
     "data": {
      "text/plain": [
       "', Wor'"
      ]
     },
     "execution_count": 54,
     "metadata": {},
     "output_type": "execute_result"
    }
   ],
   "source": [
    "example_string_a = 'Hello, World!'\n",
    "print (example_string_a)\n",
    "\n",
    "# as you can see here just one of the o's is removed because r is not part of chars\n",
    "example_string_a.strip('H!edlo')"
   ]
  }
 ],
 "metadata": {
  "kernelspec": {
   "display_name": "Python 3 (ipykernel)",
   "language": "python",
   "name": "python3"
  },
  "language_info": {
   "codemirror_mode": {
    "name": "ipython",
    "version": 3
   },
   "file_extension": ".py",
   "mimetype": "text/x-python",
   "name": "python",
   "nbconvert_exporter": "python",
   "pygments_lexer": "ipython3",
   "version": "3.12.6"
  }
 },
 "nbformat": 4,
 "nbformat_minor": 5
}
