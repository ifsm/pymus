{
 "cells": [
  {
   "cell_type": "markdown",
   "id": "6f584453-9574-4146-ad21-55fae5192006",
   "metadata": {
    "jp-MarkdownHeadingCollapsed": true
   },
   "source": [
    "<h2>Calculations</h2>\n",
    "In the following I will explain some of the Calculations that can be made using Python and NumPy. \n"
   ]
  },
  {
   "cell_type": "markdown",
   "id": "5c421837-b936-4fec-b749-282a75f258f6",
   "metadata": {},
   "source": [
    "<h3>Basic Arithmetic Calculations</h3>\n",
    "The operators <b>‘+’, ‘*’, ‘-’</b> and <b>‘/’</b> can be used to perform basic calculations. In order from left to right they are used for addition, multiplication, subtraction and division. Division always returns a floating point number, whereas the other operators return integer values. The floating point data type (‘float’) can store decimal numbers; the integer data type can not. "
   ]
  },
  {
   "cell_type": "code",
   "execution_count": 1,
   "id": "31894b1f-5fcd-4a36-b060-c599b6dcc436",
   "metadata": {},
   "outputs": [
    {
     "name": "stdout",
     "output_type": "stream",
     "text": [
      "4\n",
      "4\n",
      "0\n",
      "1.0\n"
     ]
    }
   ],
   "source": [
    "print (2+2)\n",
    "print (2*2)\n",
    "print (2-2)\n",
    "print (2/2)"
   ]
  },
  {
   "cell_type": "markdown",
   "id": "6c5827bf-2ff8-401c-8470-96f610bb6411",
   "metadata": {},
   "source": [
    "To get an integer result out of a division you can  do floor division. Floor division is performed using the ‘//’ operator. This calculation leaves a remainder that can be calculated with the ‘%’ operator. "
   ]
  },
  {
   "cell_type": "code",
   "execution_count": 2,
   "id": "7716c4b6-708b-4792-afe1-6d9847d44712",
   "metadata": {},
   "outputs": [
    {
     "name": "stdout",
     "output_type": "stream",
     "text": [
      "2.5\n",
      "2\n",
      "1\n"
     ]
    }
   ],
   "source": [
    "print (5/2) # displays the usual result as float\n",
    "print (5//2) # this will discard the fractional part, always rounded down\n",
    "print (5%2) # this will display the remainder of the division"
   ]
  },
  {
   "cell_type": "markdown",
   "id": "7b750630-8b14-47f2-a35c-0e1d4718090e",
   "metadata": {},
   "source": [
    "When mixing floating point values and other data types; python will convert the interg´"
   ]
  },
  {
   "cell_type": "markdown",
   "id": "b5e52d58-bbf0-4196-b3f5-d998aefa06e0",
   "metadata": {},
   "source": [
    "To calculate powers it is possible to use the ‘**’ operator. "
   ]
  },
  {
   "cell_type": "code",
   "execution_count": 3,
   "id": "f6f402d2-c15c-4725-acb8-b88643e5a71f",
   "metadata": {},
   "outputs": [
    {
     "name": "stdout",
     "output_type": "stream",
     "text": [
      "6\n",
      "9\n"
     ]
    }
   ],
   "source": [
    "print (3*2)\n",
    "print (3**2)"
   ]
  },
  {
   "cell_type": "markdown",
   "id": "823f464b-1645-4eae-b02f-9a47e4a9c6a8",
   "metadata": {},
   "source": [
    "To assign value to a variable you can use the equal sign ‘=’. Python automatically assigns a data type to the variable that matches the value. "
   ]
  },
  {
   "cell_type": "code",
   "execution_count": 4,
   "id": "1ab0ae2c-e699-419e-9d58-53bb9573ade4",
   "metadata": {},
   "outputs": [
    {
     "name": "stdout",
     "output_type": "stream",
     "text": [
      "6\n"
     ]
    }
   ],
   "source": [
    "result = 3+3\n",
    "print (result)"
   ]
  },
  {
   "cell_type": "markdown",
   "id": "641ee412-8beb-4f87-8e0c-ca0b1cea6c8c",
   "metadata": {},
   "source": [
    "To perform calculations on a variable you can also utilize the equal sign ‘=’. "
   ]
  },
  {
   "cell_type": "code",
   "execution_count": 5,
   "id": "4b6ea15d-3cc0-49ac-8552-1b97aab18ef3",
   "metadata": {},
   "outputs": [
    {
     "name": "stdout",
     "output_type": "stream",
     "text": [
      "First result: 6\n",
      "Second result: 9\n",
      "Third result: 7\n"
     ]
    }
   ],
   "source": [
    "print ('First result:', result)\n",
    "result += 3 # this will add 3 to the variable \n",
    "print ('Second result:', result)\n",
    "result -= 2 # this will subtract 2 again\n",
    "print ('Third result:', result)"
   ]
  },
  {
   "cell_type": "markdown",
   "id": "e5b02d1a-3bf9-484a-b40c-0c21e1bedb7f",
   "metadata": {},
   "source": [
    "<h4>Calculation Order</h4>\n",
    "The order in which calculations are performed is as follows. \n",
    "<ol><li>Parentheses/Brackets'()'</li>\n",
    "<li>Indices (squareroot, power etc)</li>\n",
    "<li>Divide '/'</li>\n",
    "<li>Multiply '*'</li>\n",
    "<li>Add '+'</li>\n",
    "<li>Subtract '-'</li>\n",
    "</ol>"
   ]
  },
  {
   "cell_type": "markdown",
   "id": "05927a66-5f63-45e2-a7d8-7798ebdcbf0b",
   "metadata": {},
   "source": [
    "<b>Parentheses</b> <b>'()'</b>can be used to group calculations together thus changing the order the calculations are performed in. "
   ]
  },
  {
   "cell_type": "code",
   "execution_count": 6,
   "id": "b80538fc-b764-4f21-8bb2-b2c48e15e47d",
   "metadata": {},
   "outputs": [
    {
     "name": "stdout",
     "output_type": "stream",
     "text": [
      "2.5\n",
      "3.5\n"
     ]
    }
   ],
   "source": [
    "print ((2+3)/2)\n",
    "print (2+3/2)"
   ]
  },
  {
   "cell_type": "markdown",
   "id": "fec57e19-55c0-4ade-8611-68b6c4ca35b5",
   "metadata": {
    "jp-MarkdownHeadingCollapsed": true
   },
   "source": [
    "<h2>Strings</h2>\n",
    "Strings are used to represent text data in Python. They are immutable, meaning they cannot be changed once created."
   ]
  },
  {
   "cell_type": "code",
   "execution_count": 7,
   "id": "6c455abf-8baa-4062-8a11-0a88029d6c49",
   "metadata": {},
   "outputs": [
    {
     "name": "stdout",
     "output_type": "stream",
     "text": [
      "Hello, World!\n"
     ]
    }
   ],
   "source": [
    "example_string_a = 'Hello, World!'\n",
    "print(example_string_a)"
   ]
  },
  {
   "cell_type": "markdown",
   "id": "5252a6c3-6649-487b-a963-c946f39e7211",
   "metadata": {},
   "source": [
    "<h3>Declaring</h3>\n",
    "Strings can be declared with <u>single</u>, <u>double</u> or <u>triple</u> quotes. Single and Double Quotes are interchangeble. <br>\n",
    "If you want to put something in Quotation marks you have to use the other type of Quotes. Meaning if you want to put something in single Quotes as seen below the string needs to be declared in double quotes and vice versa. <br>\n",
    "Be careful to not name the string 'string' as that would overwrite the data type into a variable."
   ]
  },
  {
   "cell_type": "code",
   "execution_count": 8,
   "id": "88df76ef-1640-490e-84b1-15fee47ff144",
   "metadata": {},
   "outputs": [
    {
     "name": "stdout",
     "output_type": "stream",
     "text": [
      "Hello, 'World'!\n"
     ]
    }
   ],
   "source": [
    "example_string_b = \"Hello, 'World'!\"\n",
    "print (example_string_b)"
   ]
  },
  {
   "cell_type": "markdown",
   "id": "8dfb59ee-60ee-4e00-bd39-81eff7978050",
   "metadata": {},
   "source": [
    "<u>Triple Quoted</u> strings, like triple quoted comments, can span multiple lines."
   ]
  },
  {
   "cell_type": "code",
   "execution_count": 9,
   "id": "e3cf84c2-3c36-4551-9ba4-559ac8cf3d21",
   "metadata": {},
   "outputs": [
    {
     "name": "stdout",
     "output_type": "stream",
     "text": [
      "Hello, \n",
      "World\n"
     ]
    }
   ],
   "source": [
    "example_string_c = '''Hello, \n",
    "World'''\n",
    "print (example_string_c)"
   ]
  },
  {
   "cell_type": "markdown",
   "id": "4e80230b-7403-4592-85ab-ec5f38b5d92f",
   "metadata": {},
   "source": [
    "<h4>String literals</h4>\n",
    "You can create a string by assigning it to a variable. But it is also possible to just put something in quotes, making it a string literal. "
   ]
  },
  {
   "cell_type": "code",
   "execution_count": 10,
   "id": "27f457ff-7e76-49e2-989d-a4af7ca3885c",
   "metadata": {},
   "outputs": [
    {
     "name": "stdout",
     "output_type": "stream",
     "text": [
      "Hello, World!\n"
     ]
    }
   ],
   "source": [
    "print ('Hello, World!')"
   ]
  },
  {
   "cell_type": "markdown",
   "id": "320d3885-fd11-4c5d-90b7-1d70190ab30c",
   "metadata": {},
   "source": [
    "<h3>String Operations and Formatting</h3>\n",
    "In the following I will show examples for operations and formatting options that can be used on strings. "
   ]
  },
  {
   "cell_type": "markdown",
   "id": "96f00dac-b1aa-45bd-94aa-1e6cf0f47c27",
   "metadata": {},
   "source": [
    "<h4>Escape Sequences</u></h4> are commands that change something about the string. For example start a new line or input a backslash or a single quote."
   ]
  },
  {
   "cell_type": "code",
   "execution_count": 11,
   "id": "26fafb46-4762-47f9-870a-963f524a3cf9",
   "metadata": {},
   "outputs": [
    {
     "name": "stdout",
     "output_type": "stream",
     "text": [
      "Hello\n",
      "World\n",
      "Name:\tMatthis\n",
      "C:\\Users\\Matthis\n",
      "It's a beautiful day\n",
      "She said, \"Hello!\"\n",
      "α\n"
     ]
    }
   ],
   "source": [
    "#Newline\n",
    "print(\"Hello\\nWorld\")\n",
    "\n",
    "#Tab\n",
    "print(\"Name:\\tMatthis\")\n",
    "\n",
    "#Backslash\n",
    "print(\"C:\\\\Users\\\\Matthis\")\n",
    "\n",
    "#Single Quote\n",
    "print('It\\'s a beautiful day')\n",
    "\n",
    "#Double Quote\n",
    "print(\"She said, \\\"Hello!\\\"\")\n",
    "\n",
    "#Unicode character\n",
    "print(\"\\u03B1\")  #Prints the Greek letter alpha"
   ]
  },
  {
   "cell_type": "markdown",
   "id": "ef9f045e-528a-477f-b2de-9978cce48ecd",
   "metadata": {},
   "source": [
    "<h4>Raw Strings</h4>\n",
    "If you want to use a lot of backslashes like in a file path you might want to use a raw string. That can be done by using \"r'\""
   ]
  },
  {
   "cell_type": "code",
   "execution_count": 12,
   "id": "3a9e5a90-a3c0-42bd-9311-86fd083f6157",
   "metadata": {},
   "outputs": [
    {
     "name": "stdout",
     "output_type": "stream",
     "text": [
      "C:\\Users\\Matthis\\Desktop\\PythonVortrag\n"
     ]
    }
   ],
   "source": [
    "raw_string = r'C:\\Users\\Matthis\\Desktop\\PythonVortrag' \n",
    "print (raw_string)"
   ]
  },
  {
   "cell_type": "markdown",
   "id": "2667cf4c-ff59-4c52-9d73-9dd8f38d06c3",
   "metadata": {},
   "source": [
    "<h4>Formatted String Literals</h4> \n",
    "The operator \"f'\" in front of a string means you can add so-called replacement fields. These fields are curly brackets {} which can contain variables."
   ]
  },
  {
   "cell_type": "code",
   "execution_count": 13,
   "id": "90ee0647-b25f-4a75-8a1c-f0ab7afdbb3c",
   "metadata": {},
   "outputs": [
    {
     "name": "stdout",
     "output_type": "stream",
     "text": [
      "you are walking at 6km/h!\n",
      "you are running at 7km/h!\n"
     ]
    }
   ],
   "source": [
    "activity = 'walking'\n",
    "speed = 6\n",
    "message = f'you are {activity} at {speed}km/h!'\n",
    "print(message)\n",
    "activity = 'running'\n",
    "speed = 7\n",
    "message = f'you are {activity} at {speed}km/h!'\n",
    "print(message)"
   ]
  },
  {
   "cell_type": "markdown",
   "id": "9ff917ff-cda8-4f27-89ad-cf957ae8c034",
   "metadata": {},
   "source": [
    "<h4>Capitalize and Lowercase</h4>\n"
   ]
  },
  {
   "cell_type": "code",
   "execution_count": 14,
   "id": "c0df168d-57e1-42f0-8bb0-c352b4037210",
   "metadata": {},
   "outputs": [
    {
     "name": "stdout",
     "output_type": "stream",
     "text": [
      "hello, World!\n",
      "Hello, world!\n",
      "hello, world!\n"
     ]
    }
   ],
   "source": [
    "example_string_b = 'hello, World!'\n",
    "print(example_string_b)\n",
    "\n",
    "print (example_string_b.capitalize())\n",
    "# returns a copy of the string with its first character capitalized and the rest lowercased\n",
    "\n",
    "print (example_string_b.lower())\n",
    "# returns a copy of the string with all characters lowercased\n"
   ]
  },
  {
   "cell_type": "markdown",
   "id": "652abe84-53c2-4f15-9b0b-46eed4952977",
   "metadata": {},
   "source": [
    "<h4>Check Contents</h4>\n",
    "Here are a few operations that check if a string consists of certain Elements."
   ]
  },
  {
   "cell_type": "code",
   "execution_count": 15,
   "id": "5aa02efd-4edf-44ea-af0e-7327b5ed356a",
   "metadata": {},
   "outputs": [
    {
     "name": "stdout",
     "output_type": "stream",
     "text": [
      "False\n",
      "False\n",
      "False\n",
      "False\n",
      "False\n"
     ]
    }
   ],
   "source": [
    "example_string_a = 'Hello, World!'\n",
    "\n",
    "print (example_string_a.isalnum())\n",
    "#are all characters in the string alphabetical or numeric? (excludes characters like #)\n",
    "\n",
    "print (example_string_a.isalpha())\n",
    "#are all characters in the string alphabetical?\n",
    "\n",
    "print (example_string_a.isnumeric())\n",
    "#are all characters in the string numeric?\n",
    "\n",
    "print (example_string_a.islower())\n",
    "#are all characters in the string lowercase?\n",
    "\n",
    "print (example_string_a.isupper())\n",
    "#are all characters in the string uppercase?"
   ]
  },
  {
   "cell_type": "markdown",
   "id": "fe2aebdf-749d-4678-bb1a-37217899cc02",
   "metadata": {},
   "source": [
    "<h4>Partition a string</h4>\n",
    " str.partition(sep) can be used to split the string at the chosen separator (sep). The Operation will return a 3-Tuple containing the part before the separator, the separator itself and the part after the separator."
   ]
  },
  {
   "cell_type": "code",
   "execution_count": 16,
   "id": "f9e5262a-6d22-4660-a74e-f064cea9abd7",
   "metadata": {},
   "outputs": [
    {
     "name": "stdout",
     "output_type": "stream",
     "text": [
      "('Hello, ', 'W', 'orld!')\n"
     ]
    }
   ],
   "source": [
    "example_string_a = 'Hello, World!'\n",
    "print (example_string_a.partition('W'))"
   ]
  },
  {
   "cell_type": "markdown",
   "id": "1684b72e-f137-41b4-8aab-dce60172b8cc",
   "metadata": {},
   "source": [
    "<h4>Construct a string from multiple fragments</h4>\n",
    "Strings can be joined together using 'str.join' which has the structure: 'separator.join(iterable)'. <br>\n",
    "The separator is going to be put between the elements of the string and the iterable is the string the operation is used on.\n",
    "Any character or number can be used as separator. Escape sequences can also be used.\n"
   ]
  },
  {
   "cell_type": "code",
   "execution_count": 17,
   "id": "a485fa04-d04d-4d55-820c-62d446845e4a",
   "metadata": {},
   "outputs": [
    {
     "name": "stdout",
     "output_type": "stream",
     "text": [
      "abcde\n",
      "a b c d e\n",
      "a\n",
      " \n",
      "b\n",
      " \n",
      "c\n",
      " \n",
      "d\n",
      " \n",
      "e\n"
     ]
    }
   ],
   "source": [
    "example_string_d = 'abcde'\n",
    "print (example_string_d)\n",
    "\n",
    "example_string_d = ' '.join(example_string_d)\n",
    "print (example_string_d)\n",
    "\n",
    "example_string_d = '\\n'.join(example_string_d)\n",
    "print (example_string_d)"
   ]
  },
  {
   "cell_type": "markdown",
   "id": "7ab24a2c-d3c7-4036-9dd4-a0e2e90d6424",
   "metadata": {},
   "source": [
    "<h4>Adding two strings together</h4>\n",
    "If you just want to add strings together you can use the <b>'+'</b> and <b>'*'</b> operators."
   ]
  },
  {
   "cell_type": "code",
   "execution_count": 18,
   "id": "f39e0579-f809-447e-a6ed-30ff4deb25c4",
   "metadata": {},
   "outputs": [
    {
     "name": "stdout",
     "output_type": "stream",
     "text": [
      "Hello, World!Hello, World!\n",
      "Hello, World!Hello, World!Hello, World!\n"
     ]
    }
   ],
   "source": [
    "print (example_string_a+example_string_a)\n",
    "print (3 * example_string_a)"
   ]
  },
  {
   "cell_type": "markdown",
   "id": "b1df5c7a-662a-45ec-a0d2-28b7ad573a20",
   "metadata": {},
   "source": [
    "Two or more string literals (the ones in quotes) put next to each other are joined automatically. "
   ]
  },
  {
   "cell_type": "code",
   "execution_count": 19,
   "id": "6d5bc6a8-4b4d-49ea-8895-c14a50e09458",
   "metadata": {},
   "outputs": [
    {
     "name": "stdout",
     "output_type": "stream",
     "text": [
      "Hello, World!\n"
     ]
    }
   ],
   "source": [
    "example_string_a = ('Hello,' ' World!')\n",
    "print (example_string_a)"
   ]
  },
  {
   "cell_type": "markdown",
   "id": "270a041e-326a-49ba-924c-60c8ba3acb4c",
   "metadata": {},
   "source": [
    "This does not work with variables. You can use <b>'+'</b> to join two variables or a variable and a literal."
   ]
  },
  {
   "cell_type": "code",
   "execution_count": 20,
   "id": "69d898d8-9ed7-4162-8a92-8d5b8e0e7a2c",
   "metadata": {},
   "outputs": [
    {
     "name": "stdout",
     "output_type": "stream",
     "text": [
      "Hello, World!2\n"
     ]
    }
   ],
   "source": [
    "print (example_string_a + '2')"
   ]
  },
  {
   "cell_type": "markdown",
   "id": "3ce92f56-9a92-4fa2-bbdc-1c4650522fec",
   "metadata": {},
   "source": [
    "<h4>Retrieve character</h4>\n",
    "You can retrieve a character at a point of your choosing (index) using \"string[index]\". The count starts at '0'. <br>If you use positive numbers the characters are counted from the left. If you use negative numbers the characters are counted from the right. <br>\n",
    "You can retrieve all characters within a certain range using \"string[a:b]\"\n",
    "    In this case the first number 'a' represents the starting point and the second number 'b' represents the length of the range."
   ]
  },
  {
   "cell_type": "code",
   "execution_count": 21,
   "id": "ac62ecd3-4b3d-434b-9903-ad1af11c39fb",
   "metadata": {},
   "outputs": [
    {
     "name": "stdout",
     "output_type": "stream",
     "text": [
      "you are walking\n",
      "a\n",
      "k\n",
      "you\n"
     ]
    }
   ],
   "source": [
    "message2 = 'you are walking'\n",
    "print(message2)\n",
    "\n",
    "# retrieve the fourth character of the string\n",
    "print(message2[4])\n",
    "\n",
    "# retrieve the fourth character from the left \n",
    "print(message2[-4])\n",
    "\n",
    "# retrieve the word 'you' \n",
    "# starting at the start of the string '0' retrieve '3' characters\n",
    "print(message2[0:3])\n"
   ]
  },
  {
   "cell_type": "markdown",
   "id": "76d30698-0024-4cec-9e01-7c22cf821515",
   "metadata": {
    "jp-MarkdownHeadingCollapsed": true
   },
   "source": [
    "<h4>Slicing</h4>\n",
    "Strings can be sliced into substrings. ADD CONTENT HERE "
   ]
  },
  {
   "cell_type": "markdown",
   "id": "04237535-485d-4f91-b5c2-06966b449e7c",
   "metadata": {},
   "source": [
    "<h4>Count specific elements</h4>\n",
    "To count the number of (non-overlapping) substrings within a string use: 'str.count(sub[, start[, end]])' <br>\n",
    "First Define the substring and then define where to start counting and where to end. It is not necessary to declare start or and for the operation to work."
   ]
  },
  {
   "cell_type": "code",
   "execution_count": 22,
   "id": "d7e66f68-1e9c-4ac7-928d-8e1e12bb2fcf",
   "metadata": {},
   "outputs": [
    {
     "name": "stdout",
     "output_type": "stream",
     "text": [
      "2\n",
      "1\n",
      "1\n"
     ]
    }
   ],
   "source": [
    "example_string_a = 'Hello, World!'\n",
    "\n",
    "# since the string contains the letter o twice the operation will return 2\n",
    "print (example_string_a.count('o'))\n",
    "\n",
    "# if the start is index 7 the first 'o' is not counted\n",
    "print (example_string_a.count('o', 7))\n",
    "\n",
    "# if the start is 0 and the end is 7 the second 'o' is not counted\n",
    "print (example_string_a.count('o', 0, 7))"
   ]
  },
  {
   "cell_type": "markdown",
   "id": "7bf99e07-45b8-45ad-88fe-ae0ab04fb2fd",
   "metadata": {},
   "source": [
    "<h4>Membership test</h4>\n",
    "To check if a substring is in a string use the operator 'in'. Returns as boolean."
   ]
  },
  {
   "cell_type": "code",
   "execution_count": 23,
   "id": "3747bb08-214e-4f39-bfbd-0ec666f7c84e",
   "metadata": {},
   "outputs": [
    {
     "name": "stdout",
     "output_type": "stream",
     "text": [
      "True\n",
      "False\n"
     ]
    }
   ],
   "source": [
    "example_string_a = 'Hello, World!' \n",
    "\n",
    "print ('o' in example_string_a)\n",
    "print ('a' in example_string_a)"
   ]
  },
  {
   "cell_type": "markdown",
   "id": "4070ef13-f2b7-40ee-9043-fb3c51d6a5bf",
   "metadata": {},
   "source": [
    "<h4>Replace substrings</h4>\n",
    "str.replace(old, new[, count]) Replaces the old substring with the new substring a certain amount of times (count). If count is left out, every substring will be replaced."
   ]
  },
  {
   "cell_type": "code",
   "execution_count": 24,
   "id": "ed0afb19-220d-4d7f-976f-8e4e3c351d00",
   "metadata": {},
   "outputs": [
    {
     "name": "stdout",
     "output_type": "stream",
     "text": [
      "Hello, World!\n",
      "Hexlo, World!\n",
      "Hexxo, World!\n",
      "Hexxo, Worxd!\n"
     ]
    }
   ],
   "source": [
    "a = 'Hello, World!'\n",
    "print (a.replace('l', 'x', 0))\n",
    "print (a.replace('l', 'x', 1))\n",
    "print (a.replace('l', 'x', 2))\n",
    "print (a.replace('l', 'x'))"
   ]
  },
  {
   "cell_type": "markdown",
   "id": "14b4e796-1910-48cc-a691-66f19e2c4e00",
   "metadata": {},
   "source": [
    "<h4>Remove prefix/suffix</h4>\n",
    "With removeprefix and removesuffix a substring can be removed from the start or end of the string, but only then. If the chosen substring is not where it needs to be the Operation returns the string"
   ]
  },
  {
   "cell_type": "code",
   "execution_count": 25,
   "id": "724a7594-341e-4e55-88b0-07f225948e21",
   "metadata": {},
   "outputs": [
    {
     "name": "stdout",
     "output_type": "stream",
     "text": [
      ", World!\n",
      "Hello, World!\n",
      "Hello, World!\n",
      "Hello, \n"
     ]
    }
   ],
   "source": [
    "a = 'Hello, World!'\n",
    "print (a.removeprefix('Hello'))\n",
    "print (a.removeprefix('World!'))\n",
    "\n",
    "print (a.removesuffix('Hello'))\n",
    "print (a.removesuffix('World!'))"
   ]
  },
  {
   "cell_type": "markdown",
   "id": "90959495-6ce6-4849-8a1b-63cd2fd90b43",
   "metadata": {},
   "source": [
    "<h4>str.strip([chars])</h4>\n",
    "Strips a string from its outermost elements specified in [chars]. All elements contained in [chars] are removed from he string until an element is found which is not contained in chars. "
   ]
  },
  {
   "cell_type": "code",
   "execution_count": 26,
   "id": "cab1e0c2-b5a2-4dad-89f2-f890f669d379",
   "metadata": {},
   "outputs": [
    {
     "name": "stdout",
     "output_type": "stream",
     "text": [
      "Hello, World!\n"
     ]
    },
    {
     "data": {
      "text/plain": [
       "', Wor'"
      ]
     },
     "execution_count": 26,
     "metadata": {},
     "output_type": "execute_result"
    }
   ],
   "source": [
    "example_string_a = 'Hello, World!'\n",
    "print (example_string_a)\n",
    "\n",
    "# as you can see here just one of the o's is removed because r is not part of chars\n",
    "example_string_a.strip('H!edlo')"
   ]
  },
  {
   "cell_type": "markdown",
   "id": "14b32f3b-6e29-416e-a925-d46dfaf7a3ab",
   "metadata": {
    "jp-MarkdownHeadingCollapsed": true
   },
   "source": [
    "<h2>Conditions</h2>\n",
    "Conditions are operators or statements that execute differently depending on the input data. "
   ]
  },
  {
   "cell_type": "markdown",
   "id": "e0d34ff0-1f11-4a85-be9f-10e2e6ce82b3",
   "metadata": {},
   "source": [
    "\">\" is used to check if the left variable is bigger than the right variable. It returns as true or false. For example:"
   ]
  },
  {
   "cell_type": "code",
   "execution_count": 27,
   "id": "d17ec9c8-4e27-4e62-9da9-0ce3c2dfe8c5",
   "metadata": {},
   "outputs": [
    {
     "name": "stdout",
     "output_type": "stream",
     "text": [
      "False\n"
     ]
    }
   ],
   "source": [
    "x = 5 \n",
    "y = 6 \n",
    "\n",
    "print (x>y)"
   ]
  },
  {
   "cell_type": "markdown",
   "id": "e2e58fce-d62f-4015-b4ec-55b629fdeadb",
   "metadata": {},
   "source": [
    "\"<\" is the same as before but the other way around. It asks if the left variable is smaller than the right. "
   ]
  },
  {
   "cell_type": "code",
   "execution_count": 28,
   "id": "c851ed6a-90eb-401c-aac2-f7a32565844a",
   "metadata": {},
   "outputs": [
    {
     "name": "stdout",
     "output_type": "stream",
     "text": [
      "True\n"
     ]
    }
   ],
   "source": [
    "print (x<y)"
   ]
  },
  {
   "cell_type": "markdown",
   "id": "1a0f27ef-7ca6-4787-9a08-0c1d24325919",
   "metadata": {},
   "source": [
    "\"<=\" asks if the left variable is smaller than or equal to the right."
   ]
  },
  {
   "cell_type": "code",
   "execution_count": 29,
   "id": "f46b369d-0137-4d14-bc2f-692647a682fe",
   "metadata": {},
   "outputs": [
    {
     "name": "stdout",
     "output_type": "stream",
     "text": [
      "True\n"
     ]
    }
   ],
   "source": [
    "x = 5\n",
    "print (x<=y)"
   ]
  },
  {
   "cell_type": "markdown",
   "id": "3b3ad9a1-b440-41a6-ba45-b3ec6dbf612e",
   "metadata": {},
   "source": [
    "\">=\" asks if the left variable is bigger or equal to the right."
   ]
  },
  {
   "cell_type": "code",
   "execution_count": 30,
   "id": "902cb69d-0138-4835-b46d-2178394aef09",
   "metadata": {},
   "outputs": [
    {
     "name": "stdout",
     "output_type": "stream",
     "text": [
      "False\n"
     ]
    }
   ],
   "source": [
    "print (x>=y)"
   ]
  },
  {
   "cell_type": "markdown",
   "id": "d982d5ea-61cf-43f6-936c-f159df221cf1",
   "metadata": {},
   "source": [
    "\"==\" asks if both variables are equal."
   ]
  },
  {
   "cell_type": "code",
   "execution_count": 31,
   "id": "ce9a55d9-71fb-4292-bcde-278c7f98d8a1",
   "metadata": {},
   "outputs": [
    {
     "name": "stdout",
     "output_type": "stream",
     "text": [
      "False\n"
     ]
    }
   ],
   "source": [
    "print (x==y)"
   ]
  },
  {
   "cell_type": "markdown",
   "id": "70a19e76-b8e4-4f4f-a6a7-251af62cf8f1",
   "metadata": {},
   "source": [
    "\"!=\" asks if both variables are not equal. (will return as true if not equal)"
   ]
  },
  {
   "cell_type": "code",
   "execution_count": 32,
   "id": "c3047808-d79f-4c57-a182-b78c5e976cea",
   "metadata": {},
   "outputs": [
    {
     "name": "stdout",
     "output_type": "stream",
     "text": [
      "True\n"
     ]
    }
   ],
   "source": [
    "print (x!=y)"
   ]
  },
  {
   "cell_type": "markdown",
   "id": "4813a4dc-2c92-4e93-b1b2-1ee00e9eacb8",
   "metadata": {},
   "source": [
    "\"is\" asks if the two variables refer to the same object. It will return false if both variables have the same value but are not identical. "
   ]
  },
  {
   "cell_type": "code",
   "execution_count": 33,
   "id": "0d28c0a9-a2f8-4cf3-bb1b-ca711695f2e2",
   "metadata": {},
   "outputs": [
    {
     "name": "stdout",
     "output_type": "stream",
     "text": [
      "True\n",
      "False\n"
     ]
    }
   ],
   "source": [
    "a = [4,5,6]\n",
    "b = [1,2,3]\n",
    "a = b #b is now the same as a \n",
    "c = [4,5,6]\n",
    "\n",
    "print (a is b) \n",
    "print (a is c) "
   ]
  },
  {
   "cell_type": "markdown",
   "id": "9b6827c6-422a-4e74-a643-35b7b5ef672e",
   "metadata": {},
   "source": [
    "\"is not\" asks the same question as \"is\" but logically reversed. It will return true if the variables are not identical. "
   ]
  },
  {
   "cell_type": "code",
   "execution_count": 34,
   "id": "7aea20ff-c270-45ab-91c1-ac9ffc943801",
   "metadata": {},
   "outputs": [
    {
     "name": "stdout",
     "output_type": "stream",
     "text": [
      "False\n",
      "True\n"
     ]
    }
   ],
   "source": [
    "a = [4,5,6] \n",
    "a = b \n",
    "c = [4,5,6] \n",
    "\n",
    "print (a is not b) \n",
    "print (a is not c) "
   ]
  },
  {
   "cell_type": "markdown",
   "id": "d7cb9683-8b0c-426d-9499-a533ea9b023f",
   "metadata": {},
   "source": [
    "\"or\" returns true if one of the variables is true."
   ]
  },
  {
   "cell_type": "code",
   "execution_count": 35,
   "id": "e6d232f3-e5dc-43b5-9c6b-cb677b1f52a7",
   "metadata": {},
   "outputs": [
    {
     "name": "stdout",
     "output_type": "stream",
     "text": [
      "True\n"
     ]
    }
   ],
   "source": [
    "d = False\n",
    "e = True\n",
    "\n",
    "print (d or e)"
   ]
  },
  {
   "cell_type": "markdown",
   "id": "6b4b8ec5-2f01-4414-8e15-6f0d9a894998",
   "metadata": {},
   "source": [
    "\"and\" only returns true if both variables are also true."
   ]
  },
  {
   "cell_type": "code",
   "execution_count": 36,
   "id": "818b2c3c-c841-4885-a2a8-410ba93a5aea",
   "metadata": {},
   "outputs": [
    {
     "name": "stdout",
     "output_type": "stream",
     "text": [
      "False\n"
     ]
    }
   ],
   "source": [
    "print (d and e)"
   ]
  },
  {
   "cell_type": "markdown",
   "id": "0ffa66e0-9042-490b-968f-4e7e4c2519f9",
   "metadata": {},
   "source": [
    "\"not\" reverses a boolean expression. "
   ]
  },
  {
   "cell_type": "code",
   "execution_count": 37,
   "id": "6334e3a4-2ce3-4235-90a5-1242455d5eba",
   "metadata": {},
   "outputs": [
    {
     "name": "stdout",
     "output_type": "stream",
     "text": [
      "True\n"
     ]
    }
   ],
   "source": [
    "print (not d)"
   ]
  },
  {
   "cell_type": "markdown",
   "id": "97573020-5ddf-4e7d-a3b5-e22a0df9f9d8",
   "metadata": {
    "jp-MarkdownHeadingCollapsed": true
   },
   "source": [
    "<h3>if, elif and else statements</h3>\n",
    "The if statement returns as true if specified criteria is met. "
   ]
  },
  {
   "cell_type": "markdown",
   "id": "c976a6a4-1057-42b1-a7c3-d2fa12d31ad4",
   "metadata": {},
   "source": [
    "In this case either the boolean d or e need to be 'True' in order for the if statement to execute. Otherwise nothing happens. <br>The structure of the if statement is: \"if\" assignment_expression \":\" suite "
   ]
  },
  {
   "cell_type": "code",
   "execution_count": 38,
   "id": "1049cbea-a085-4a3d-8373-56276563cac5",
   "metadata": {},
   "outputs": [
    {
     "name": "stdout",
     "output_type": "stream",
     "text": [
      "the if statement has executed\n"
     ]
    }
   ],
   "source": [
    "e = True\n",
    "\n",
    "if (e):\n",
    "    print (\"the if statement has executed\") "
   ]
  },
  {
   "cell_type": "markdown",
   "id": "40ec65db-8d62-431e-a6dd-6c83a00fd78b",
   "metadata": {},
   "source": [
    "\"elif\" (short for else if) executes a block of code if a certain condition is not met. In this case the f variable is smaller than 3 but bigger than 0 so the elif statement is executed."
   ]
  },
  {
   "cell_type": "code",
   "execution_count": 39,
   "id": "875e408b-7417-48bf-b572-ade61055276e",
   "metadata": {},
   "outputs": [
    {
     "name": "stdout",
     "output_type": "stream",
     "text": [
      "the elif statement has executed\n"
     ]
    }
   ],
   "source": [
    "f = 2\n",
    "\n",
    "if (f>=3): \n",
    "    print (\"the if statement has executed\") \n",
    "elif (f<3 and f>0): \n",
    "    print (\"the elif statement has executed\")\n",
    "else:\n",
    "    print (\"the else statement has executed\") "
   ]
  },
  {
   "cell_type": "markdown",
   "id": "5275bca3-222b-497b-9e65-15e94ea10bc9",
   "metadata": {},
   "source": [
    "\"else\" executes a block of code if none of the conditions are met. "
   ]
  },
  {
   "cell_type": "code",
   "execution_count": 40,
   "id": "b074f80d-beef-4f31-a7c3-ea3396b437a9",
   "metadata": {},
   "outputs": [
    {
     "name": "stdout",
     "output_type": "stream",
     "text": [
      "the else statement has executed\n"
     ]
    }
   ],
   "source": [
    "f = 0\n",
    "\n",
    "if (f>=3): \n",
    "    print (\"the if statement has executed\") \n",
    "elif (f<3 and f>0): \n",
    "    print (\"the elif statement has executed\")\n",
    "else:\n",
    "    print (\"the else statement has executed\") "
   ]
  },
  {
   "cell_type": "markdown",
   "id": "ec3aae79-d7f7-4c3b-a054-187ab8b9a7aa",
   "metadata": {},
   "source": [
    "\"pass\": if the block of code for a condition is \"pass\", then nothing happens."
   ]
  },
  {
   "cell_type": "code",
   "execution_count": 41,
   "id": "f9c10ba5-8234-41c8-8c40-77816a25bc83",
   "metadata": {},
   "outputs": [],
   "source": [
    "if not (d and e):\n",
    "    pass \n",
    "else:\n",
    "    print (\"the else statement has executed\")"
   ]
  },
  {
   "cell_type": "markdown",
   "id": "6c307f03-b02b-419e-b015-2ba7af82897b",
   "metadata": {
    "jp-MarkdownHeadingCollapsed": true
   },
   "source": [
    "<h4>Nested if statements</h4> Nested statements are two or more control structures (for example if, else, elif) inside one another. In this example the program checks if a number is an odd number and between 20 and 30. First the program checks if the number is between 20 and 30. If that is not the case it checks if the number is below 20. Afterwards it checks if the number is odd or even; using the modulo operator."
   ]
  },
  {
   "cell_type": "code",
   "execution_count": 42,
   "id": "3913fa03-6a5a-439d-ae71-9f6de768484f",
   "metadata": {},
   "outputs": [
    {
     "name": "stdout",
     "output_type": "stream",
     "text": [
      "odd number higher than or equal to 30\n"
     ]
    }
   ],
   "source": [
    "a = 31\n",
    "\n",
    "if (a >= 20 and a<30): \n",
    "    if (a % 2 == 1):\n",
    "            print (\"odd number between 20 and 30\")\n",
    "    else:\n",
    "            print (\"even number between 20 and 30\")\n",
    "elif(a<20): \n",
    "    if (a % 2 == 1):\n",
    "            print (\"odd number lower than 20\") \n",
    "    else:\n",
    "            print (\"even number lower than 20\")\n",
    "else:\n",
    "    if (a % 2 == 1):\n",
    "        print (\"odd number higher than or equal to 30\")\n",
    "    else:\n",
    "        print (\"even number higher than or equal to 30\")"
   ]
  },
  {
   "cell_type": "markdown",
   "id": "047df581-173b-4d3a-a5d7-0ba1ddf7bd0d",
   "metadata": {
    "jp-MarkdownHeadingCollapsed": true
   },
   "source": [
    "<h3>Iteration (Loops)</h3>\n",
    "Loops are sets of statements. These statements are repeated until a certain condition has been met."
   ]
  },
  {
   "cell_type": "markdown",
   "id": "d9ef70f9-87e5-4272-bd48-215c2f6cc652",
   "metadata": {},
   "source": [
    "<h4>While Loop</h4>\n",
    "The while statement executes repeatedly as long as the assignment expression (within the brackets) is true. The following program for example will add 1 to the variable in every iteration while checking everytime if the criteria has been met. It will stop as soon as that is the case. The calculation that is done here could be formulated as '1+1+1+1'."
   ]
  },
  {
   "cell_type": "code",
   "execution_count": 43,
   "id": "390c8b34-b896-4ab9-8e4d-c97b042011cf",
   "metadata": {},
   "outputs": [
    {
     "name": "stdout",
     "output_type": "stream",
     "text": [
      "4\n"
     ]
    }
   ],
   "source": [
    "a = 1\n",
    "\n",
    "while (a<4):\n",
    "    a+=1\n",
    "print (a)"
   ]
  },
  {
   "cell_type": "markdown",
   "id": "6ccc13c3-e150-4c5c-a565-43ab1665f7c3",
   "metadata": {},
   "source": [
    "The <b>break</b> statement can be used to break out of the loop if a condition is met. In this case it is used to break out of the loop one iteration earlier."
   ]
  },
  {
   "cell_type": "code",
   "execution_count": 44,
   "id": "261ba62b-e3cf-4508-8c41-9e33fba4831a",
   "metadata": {},
   "outputs": [
    {
     "name": "stdout",
     "output_type": "stream",
     "text": [
      "3\n"
     ]
    }
   ],
   "source": [
    "a = 1\n",
    "\n",
    "while (a<4):\n",
    "    if a==3:\n",
    "        break\n",
    "    a+=1\n",
    "print (a)"
   ]
  },
  {
   "cell_type": "markdown",
   "id": "5026b084-ec1a-475e-bb42-dc074f065fd5",
   "metadata": {},
   "source": [
    "The <b>else</b> statement can also be used in a while loop. It is executed after the assignment becomes false. This is very similar to just putting the suite after the while loop."
   ]
  },
  {
   "cell_type": "code",
   "execution_count": 45,
   "id": "15d9d9bd-9581-4a9b-ab97-5d7e421b858c",
   "metadata": {},
   "outputs": [
    {
     "name": "stdout",
     "output_type": "stream",
     "text": [
      "4\n"
     ]
    }
   ],
   "source": [
    "a = 1\n",
    "\n",
    "while (a<4):\n",
    "    a+=1\n",
    "else: print (a) "
   ]
  },
  {
   "cell_type": "markdown",
   "id": "ddd96f86-755d-4102-9b1f-dd45654f052e",
   "metadata": {},
   "source": [
    "<h4>For Loop</h4>\n",
    "The for statement is used on iterable objects (for example lists or tuples). \n",
    "The structure is: <b>\"for\" target_list \"in\" starred_list \":\" suite</b> <br>\n",
    "After entering 'for' to signal the loop the target list needs to be defined; in this case it is called 'n'. The target list is created by the for loop. After the keyword 'in' the starred list is declared. This is the list on which the loop is performed. <br>\n",
    "The <b>else</b> statement can also be used here, in this case it is executed after the loop reaches its final destination."
   ]
  },
  {
   "cell_type": "code",
   "execution_count": 46,
   "id": "f853d8df-d815-4553-8e61-6dc87f49411a",
   "metadata": {},
   "outputs": [
    {
     "name": "stdout",
     "output_type": "stream",
     "text": [
      "1\n",
      "2\n",
      "3\n",
      "4\n",
      "finished\n"
     ]
    }
   ],
   "source": [
    "numbers = [1, 2, 3, 4] \n",
    "for n in numbers:\n",
    "    print (n)\n",
    "else: print('finished') # the else statement does not need to be included for the loop to work"
   ]
  },
  {
   "cell_type": "markdown",
   "id": "a88673c3-789d-4157-baa6-dedd9b05524a",
   "metadata": {},
   "source": [
    "The <b>break</b> statement can also be used in for loops. "
   ]
  },
  {
   "cell_type": "code",
   "execution_count": 47,
   "id": "72c889ee-8d83-4613-877b-3ab8af4b46e8",
   "metadata": {},
   "outputs": [
    {
     "name": "stdout",
     "output_type": "stream",
     "text": [
      "1\n"
     ]
    }
   ],
   "source": [
    "numbers = [1, 2, 3, 4] \n",
    "for n in numbers:\n",
    "    if (n % 2 == 0): # if the number is even\n",
    "        break\n",
    "    print (n)\n",
    "\n",
    "    "
   ]
  },
  {
   "cell_type": "markdown",
   "id": "1dd9c91f-6f65-453a-83a1-b5dc7a55c626",
   "metadata": {},
   "source": [
    "If you want to skip an element of the list without ending the loop (like a break would), you can use the <b>continue</b> statement. "
   ]
  },
  {
   "cell_type": "code",
   "execution_count": 48,
   "id": "b1784e0d-c862-45ca-b84f-5ff17d21eb14",
   "metadata": {},
   "outputs": [
    {
     "name": "stdout",
     "output_type": "stream",
     "text": [
      "1\n",
      "3\n"
     ]
    }
   ],
   "source": [
    "numbers = [1, 2, 3, 4] \n",
    "for n in numbers:\n",
    "    if (n % 2 == 0): # if the number is even\n",
    "        continue\n",
    "    print (n)"
   ]
  },
  {
   "cell_type": "markdown",
   "id": "27ae3696-dbc9-439b-825d-fd5b9310a19e",
   "metadata": {},
   "source": [
    "The <b>elif</b> statement can also be used in this context. In this case we are using the built-in 'isinstance' function to check whether the element is an integer or a floating point value. If it is neither of those the for loop will break out early skipping over the string and the last number."
   ]
  },
  {
   "cell_type": "code",
   "execution_count": 49,
   "id": "e405f2cb-f2b6-419c-9c90-7163de736f55",
   "metadata": {},
   "outputs": [
    {
     "name": "stdout",
     "output_type": "stream",
     "text": [
      "1\n",
      "2\n",
      "3\n",
      "4\n",
      "5.5\n",
      "non-number detected\n"
     ]
    }
   ],
   "source": [
    "numbers = [1, 2, 3, 4, 5.5, 'a', 6] \n",
    "for n in numbers:\n",
    "    if isinstance(n, int): # checks for integer\n",
    "        print (n)\n",
    "        continue\n",
    "    elif isinstance(n, float): # checks for floating point\n",
    "        print (n)\n",
    "        continue\n",
    "    print ('non-number detected')\n",
    "    break "
   ]
  },
  {
   "cell_type": "markdown",
   "id": "768bb62b-e20a-4b90-9297-c8ca3096c7fa",
   "metadata": {},
   "source": [
    "Letting the loop make a copy of the list (or in the following case the tuple) it is iterating over can be practical in many cases. Tuples can not be changed after creation (they are immutable); this is a way to work around that. "
   ]
  },
  {
   "cell_type": "code",
   "execution_count": 50,
   "id": "979551b4-6228-42fe-a4e4-28e01cad8574",
   "metadata": {},
   "outputs": [
    {
     "name": "stdout",
     "output_type": "stream",
     "text": [
      "(2, 4)\n"
     ]
    }
   ],
   "source": [
    "numbers = (1, 2, 3, 4) \n",
    "evennums = () # this tuple will contain the even numbers\n",
    "\n",
    "for n in numbers: # as before 'n' is just a stand-in; any unclaimed variable can be used here\n",
    "    if n%2==0: # as seen before; checks if the number is even\n",
    "        evennums +=(n,) # add the number to the new tuple \n",
    "print (evennums)"
   ]
  },
  {
   "cell_type": "markdown",
   "id": "d9f7d542-1bbf-45bb-a6b3-50991cc298b3",
   "metadata": {},
   "source": [
    "To create a for loop that iterates over a sequence of numbers the <b>'range()'</b> function can be used. "
   ]
  },
  {
   "cell_type": "code",
   "execution_count": 51,
   "id": "6bc2ea56-717c-48d8-adf0-b71280311ffc",
   "metadata": {},
   "outputs": [
    {
     "name": "stdout",
     "output_type": "stream",
     "text": [
      "0\n",
      "1\n",
      "2\n",
      "3\n"
     ]
    }
   ],
   "source": [
    "for i in range(4): \n",
    "    print(i)"
   ]
  },
  {
   "cell_type": "markdown",
   "id": "625a795a-8045-4835-b1aa-dd9f121218c0",
   "metadata": {},
   "source": [
    "Another use for the <b>'range()'</b> function could be to execute the suite (block of code that follows the expression) a chosen number of times. The number within the brackets declares the amount of the iterations. The variable 'g' is what the loop is iterating on. The variable 'i' goes up by 1 with every iteration. "
   ]
  },
  {
   "cell_type": "code",
   "execution_count": 52,
   "id": "c9a80d7f-4ecb-46e4-9857-ee30cb35c9f5",
   "metadata": {},
   "outputs": [
    {
     "name": "stdout",
     "output_type": "stream",
     "text": [
      "4\n",
      "6\n",
      "8\n",
      "10\n",
      "4 iterations\n"
     ]
    }
   ],
   "source": [
    "g = 2\n",
    "for i in range(4): # this will execute 4 times\n",
    "    g+=2\n",
    "    print (g)\n",
    "print (f'{i+1} iterations') # the number i starts at zero"
   ]
  },
  {
   "cell_type": "markdown",
   "id": "22ba2348-0818-4760-a566-02871705c9d8",
   "metadata": {},
   "source": [
    "Combined with the <b>'len()'</b> function it is also possible to iterate over the parts of a sequence. This function returns the length of an iterable object. Now we can use the length of the object as the value for the range function. In this case we are using the <b>list</b> data structure. Tuples and dictionaries are also sequences."
   ]
  },
  {
   "cell_type": "code",
   "execution_count": 53,
   "id": "ad630dd0-7e74-4282-8d1b-6a2412a4e66b",
   "metadata": {},
   "outputs": [
    {
     "name": "stdout",
     "output_type": "stream",
     "text": [
      "3 \n",
      "\n",
      "a\n",
      "b\n",
      "c\n"
     ]
    }
   ],
   "source": [
    "sequence = ['a', 'b', 'c']\n",
    "print (len(sequence), '\\n') \n",
    "\n",
    "for i in range(len(sequence)):\n",
    "    print (sequence[i]) # prints the part of the sequence corresponding to the 'i' value"
   ]
  },
  {
   "cell_type": "markdown",
   "id": "843facb5-ca9e-42a6-b7e4-da09aaa2accb",
   "metadata": {},
   "source": [
    "The <b>else</b> statement becomes relevant when looking at <b>nested for loops</b>. This code is looking for prime numbers between 3 and 10."
   ]
  },
  {
   "cell_type": "code",
   "execution_count": 54,
   "id": "c9732d0c-e0b4-4157-ab71-d7559ad667fa",
   "metadata": {},
   "outputs": [
    {
     "name": "stdout",
     "output_type": "stream",
     "text": [
      "3 is a prime number\n",
      "4 is a prime number\n",
      "5 is a prime number\n",
      "6 is not a prime number\n",
      "7 is a prime number\n",
      "8 is not a prime number\n",
      "9 is not a prime number\n",
      "10 is not a prime number\n"
     ]
    }
   ],
   "source": [
    "for n in range(3,11):\n",
    "    for x in range(3,n):\n",
    "        if n % x == 0:\n",
    "            print (n, 'is not a prime number')\n",
    "            break\n",
    "    else: \n",
    "        print(n, 'is a prime number')"
   ]
  },
  {
   "cell_type": "markdown",
   "id": "3824c651-94b1-4ca3-987e-cd143a41dbc4",
   "metadata": {},
   "source": [
    "<h2>Matplotlib</h2>"
   ]
  },
  {
   "cell_type": "markdown",
   "id": "ce11b7cb-e49e-4ded-9a93-120b21706a8c",
   "metadata": {},
   "source": [
    "Matplotlib is a python library that can be used for plotting calculations. Matplotlib uses NumPy-Arrays and displays them in so-called figures. There will be an introduction to some NumPy features here as that is fundamental to understand how Matplotlib works. \n",
    "<br> We will mainly be working with pyplot, an interface designed to work similar to Matlab.\n",
    "<br>More information on NumPy can be found in the wiki. \n",
    "<br>Additional help for Matplotlib can be found <a href=\"https://matplotlib.org/stable/users/explain/quick_start.html\">here</a>. "
   ]
  },
  {
   "cell_type": "code",
   "execution_count": 55,
   "id": "0ea15270-0ada-444d-be71-a66dd55274d7",
   "metadata": {},
   "outputs": [],
   "source": [
    "import matplotlib.pyplot as plt\n",
    "import numpy as np"
   ]
  },
  {
   "cell_type": "markdown",
   "id": "ec8eaea9-8b9a-4781-8594-881d986b012a",
   "metadata": {
    "jp-MarkdownHeadingCollapsed": true
   },
   "source": [
    "<h3>Arrays with equally spaced values</h3>\n",
    "Knowing how to create and plot arrays with evenly spaced values can be important for plotting idealized waveforms (like sinewaves). <br>\n",
    "Two important ways to get arrays like that are <b>np.arange</b> and <b>np.linspace</b>. These two functions do different calculations but can often both be used to get the same result. <br>"
   ]
  },
  {
   "cell_type": "markdown",
   "id": "df70ebd1-7631-4189-a997-d27327872336",
   "metadata": {},
   "source": [
    "<b>np.arange</b> has the structure: np.arange(\\[start, ]stop, \\[step, ]dtype=None)\n",
    "<ul>\n",
    "    <li>start declares the starting point of the function; the default is 0</li>\n",
    "    <li>stop declares the endpoint of the function</li>\n",
    "    <li>step declares the spacing of the steps between start and stop; the default step size is 1</li>\n",
    "    <li>the values are generated in a half open interval meaning start is included but stop is not</li>\n",
    "    <li>dtype declares the data type; if not declared it is infered from the input</li>\n",
    "    <li>there are other things you can specify about the array that are not listed here. You can read about them in the official <a href=\"https://numpy.org/doc/stable/reference/generated/numpy.arange.html#\">NumPy documentation</a>.</li>\n",
    "</ul>"
   ]
  },
  {
   "cell_type": "code",
   "execution_count": 56,
   "id": "5f58a1ee-83fd-49fa-97be-b0246d089a2f",
   "metadata": {},
   "outputs": [
    {
     "data": {
      "image/png": "[encoded data removed]",
      "text/plain": [
       "<Figure size 640x480 with 1 Axes>"
      ]
     },
     "metadata": {},
     "output_type": "display_data"
    }
   ],
   "source": [
    "x = np.arange(1, 8, 1) # start = 2; stop = 8; step = 2\n",
    "# the array ends at 7 even though the stop value is 8 since it is a half open interval\n",
    "y = x\n",
    "\n",
    "plt.scatter(x, y) # a scatter plot is used to visualize the individual points \n",
    "plt.xlim(0,8) # how much of the x-axis is shown\n",
    "plt.ylim(0, 8) # how much of the y-axis is shown\n",
    "plt.grid(True) # toggle grid\n",
    "plt.show() # display the figure"
   ]
  },
  {
   "cell_type": "markdown",
   "id": "2d33ad39-0b49-4c3c-9c61-fb9e820e908d",
   "metadata": {},
   "source": [
    "<b>np.linspace</b> is very similar regarding the output it produces but has some other practical uses. It is preferable when using floating point variables for the steps. <br>\n",
    "With <b>np.linspace</b> you specify the number of steps in between the start and stop points as opposed to the step size with np.arange.<br>\n",
    "The structure is: numpy.linspace(start, stop, num=50, endpoint=True, retstep=False)\n",
    "<ul>\n",
    "    <li>start is the starting point</li>\n",
    "    <li>stop is the end value of the sequence</li>\n",
    "    <li>num is the number of samples that are generated</li>\n",
    "    <li>endpoint specifies whether the stop value is included in the array; the default is True</li>\n",
    "    <li>retstep returns the calculated sepsize as a floating point number; default is False</li>\n",
    "    <ul><li>when setting retstep to True you need to declare a second variable to store the stepsize in</li></ul>\n",
    "    <li>there are other things you can specify that are not listed here. You can read about them in the official <a href=\"https://numpy.org/doc/stable/reference/generated/numpy.linspace.html#numpy.linspace\">NumPy documentation</a>.</li>\n",
    "</ul>"
   ]
  },
  {
   "cell_type": "code",
   "execution_count": 57,
   "id": "3de5950b-a781-4c52-b555-9b4dd8f38a48",
   "metadata": {},
   "outputs": [
    {
     "data": {
      "image/png": "[encoded data removed]",
      "text/plain": [
       "<Figure size 640x480 with 1 Axes>"
      ]
     },
     "metadata": {},
     "output_type": "display_data"
    },
    {
     "name": "stdout",
     "output_type": "stream",
     "text": [
      "stepsize: 0.5263157894736842\n"
     ]
    }
   ],
   "source": [
    "x, step = np.linspace(0, 10, 20, retstep=True) # step stores the stepsize\n",
    "y = x \n",
    "\n",
    "plt.scatter(x, y)\n",
    "plt.grid(True)\n",
    "plt.show()\n",
    "\n",
    "print ('stepsize:', step)"
   ]
  },
  {
   "cell_type": "markdown",
   "id": "1cdf9a58-1c43-43aa-a23a-f2208b6b4866",
   "metadata": {},
   "source": [
    "They way the stepsize is calculated is not always intuitive. In the last example the stepsize is slightly smaller than 0.5, even though one might be inclined to guess it as 0.5 before seeing the results. The reason for that is because <b>np.linspace</b> automatically includes the <b>start</b> as well as the <b>stop</b> value. <br>\n",
    "To get a step size of 0.5 you would need to set the endpoint to False, reducing the calculated distance. Setting the start point to 0.5 would also work for the same reason.<br>\n",
    "This is only important to showcase how <b>np.linspace</b> is different from <b>np.arange</b>. If the exact stepsize is more important than the number of steps <b>np.arange</b> might be the easier choice."
   ]
  },
  {
   "cell_type": "code",
   "execution_count": 58,
   "id": "f20d4168-86fc-4a38-9247-cc4ee7f6b440",
   "metadata": {},
   "outputs": [
    {
     "data": {
      "image/png": "[encoded data removed]",
      "text/plain": [
       "<Figure size 640x480 with 1 Axes>"
      ]
     },
     "metadata": {},
     "output_type": "display_data"
    },
    {
     "name": "stdout",
     "output_type": "stream",
     "text": [
      "stepsize: 0.5\n"
     ]
    }
   ],
   "source": [
    "x, step = np.linspace(0, 10, 20, endpoint=False, retstep=True) \n",
    "y = x \n",
    "\n",
    "plt.scatter(x, y)\n",
    "plt.xlim(-0.5,10.5)\n",
    "plt.ylim(-0.5, 10.5)\n",
    "plt.grid(True)\n",
    "plt.show()\n",
    "\n",
    "print ('stepsize:', step)"
   ]
  },
  {
   "cell_type": "markdown",
   "id": "1ac10b20-bd12-438a-bc72-8f099ef089a9",
   "metadata": {},
   "source": [
    "<h3>Basic Functions of Matplotlib</h3>\n",
    "Some of the features of Matplotlib were already used when talking about array generating NumPy functions. Now we will go into detail about what exactly these features (and others) are doing. "
   ]
  },
  {
   "cell_type": "markdown",
   "id": "18c06597-5831-4bb9-914e-2fb9c649ea67",
   "metadata": {
    "jp-MarkdownHeadingCollapsed": true
   },
   "source": [
    "<h5>Limits of the axis</h5>\n",
    "Using <b>plt.xlim</b> and <b>plt.ylim</b> we can determine the size of the figure. Even if the array goes on for much longer. <br>\n",
    "If we wanted to show only a specific area or change the ratio we can do that by limiting the length of the individual axis. "
   ]
  },
  {
   "cell_type": "markdown",
   "id": "056ebe1a-bdde-423f-b456-38a9ff29658f",
   "metadata": {
    "jp-MarkdownHeadingCollapsed": true
   },
   "source": [
    "<h4>Displaying Plots</h4>\n",
    "To display a figure you can use <b>plt.show()</b> or you can input the command <b>%matplotlib inline</b> at the start of your cell. With <b>%matplotlib inline</b> all plots are automatically shown after executing the cell. "
   ]
  },
  {
   "cell_type": "code",
   "execution_count": 59,
   "id": "8261e410-53d4-41aa-a4ce-4cf8c7e51a15",
   "metadata": {},
   "outputs": [
    {
     "data": {
      "image/png": "[encoded data removed]",
      "text/plain": [
       "<Figure size 640x480 with 1 Axes>"
      ]
     },
     "metadata": {},
     "output_type": "display_data"
    },
    {
     "data": {
      "image/png": "[encoded data removed]",
      "text/plain": [
       "<Figure size 640x480 with 1 Axes>"
      ]
     },
     "metadata": {},
     "output_type": "display_data"
    },
    {
     "data": {
      "image/png": "[encoded data removed]",
      "text/plain": [
       "<Figure size 640x480 with 1 Axes>"
      ]
     },
     "metadata": {},
     "output_type": "display_data"
    }
   ],
   "source": [
    "x = np.arange (0, 100) \n",
    "y = x**2 \n",
    "plt.plot(x, y) \n",
    "plt.show()\n",
    "\n",
    "plt.plot(x, y) \n",
    "plt.xlim(0, 100)\n",
    "plt.ylim(0, 1000)\n",
    "plt.show()\n",
    "\n",
    "plt.plot(x, y) \n",
    "plt.xlim(0, 100)\n",
    "plt.ylim(0, 100)\n",
    "plt.show()"
   ]
  },
  {
   "cell_type": "markdown",
   "id": "83b6b46e-6e51-453f-898c-ad4b0b000c5b",
   "metadata": {},
   "source": [
    "<h4>Plot Types for Pairwise Data</h4>\n",
    "To visualize how the functions above work, <b>plt.scatter</b> was used. That is a plot type which shows only the data points without connecting them. However there are quite a few more ways to plot data in Matplotlib. "
   ]
  },
  {
   "cell_type": "markdown",
   "id": "33975241-c5b9-4c97-959e-cf3ecb3e0743",
   "metadata": {
    "jp-MarkdownHeadingCollapsed": true
   },
   "source": [
    "<h5>plt.plot</h5>\n",
    "<b>plt.plot</b> creates a plot following the sample points."
   ]
  },
  {
   "cell_type": "code",
   "execution_count": 60,
   "id": "2f07829f-3ee9-4d19-a785-b992c44250c0",
   "metadata": {},
   "outputs": [
    {
     "data": {
      "image/png": "[encoded data removed]",
      "text/plain": [
       "<Figure size 640x480 with 1 Axes>"
      ]
     },
     "metadata": {},
     "output_type": "display_data"
    }
   ],
   "source": [
    "x = np.arange(6)\n",
    "y = x \n",
    "plt.plot(x, y)\n",
    "plt.show()"
   ]
  },
  {
   "cell_type": "markdown",
   "id": "90767294-66a3-4541-a516-bb9360c0cb3a",
   "metadata": {
    "jp-MarkdownHeadingCollapsed": true
   },
   "source": [
    "<h5>plt.bar</h5>\n",
    "<b>plt.bar</b> creates a bar graph. In this example we used <i>width</i> to leave no gaps between the bars and <i>edgecolor</i> for contrast."
   ]
  },
  {
   "cell_type": "code",
   "execution_count": 61,
   "id": "01b63ac8-cea2-4774-b2b1-1368bb2e4ad0",
   "metadata": {},
   "outputs": [
    {
     "data": {
      "text/plain": [
       "<function matplotlib.pyplot.show(close=None, block=None)>"
      ]
     },
     "execution_count": 61,
     "metadata": {},
     "output_type": "execute_result"
    },
    {
     "data": {
      "image/png": "[encoded data removed]",
      "text/plain": [
       "<Figure size 640x480 with 1 Axes>"
      ]
     },
     "metadata": {},
     "output_type": "display_data"
    }
   ],
   "source": [
    "import matplotlib.pyplot as plt\n",
    "import numpy as np\n",
    "\n",
    "x = np.arange(2016, 2025) # numbers from 2016-2025 excluding 2025\n",
    "y = [10, 20, 30, 80, 40, 60, 92, 70, 100]\n",
    "\n",
    "plt.bar(x,y, width=1, edgecolor=\"white\")\n",
    "plt.xlim(2015.5, 2024.5)\n",
    "plt.ylim(0, 100)\n",
    "plt.show"
   ]
  },
  {
   "cell_type": "markdown",
   "id": "57b97294-c463-4bbb-a482-ac876f22476f",
   "metadata": {
    "jp-MarkdownHeadingCollapsed": true
   },
   "source": [
    "<h5>plt.stem</h5>\n",
    "<b>plt.stem</b> creates a stem graph. Here is the same data as above visualized with a stem graph. "
   ]
  },
  {
   "cell_type": "code",
   "execution_count": 62,
   "id": "43bd7f2f-47f3-4a99-9cc1-7c61f31d20e8",
   "metadata": {},
   "outputs": [
    {
     "data": {
      "text/plain": [
       "<function matplotlib.pyplot.show(close=None, block=None)>"
      ]
     },
     "execution_count": 62,
     "metadata": {},
     "output_type": "execute_result"
    },
    {
     "data": {
      "image/png": "[encoded data removed]",
      "text/plain": [
       "<Figure size 640x480 with 1 Axes>"
      ]
     },
     "metadata": {},
     "output_type": "display_data"
    }
   ],
   "source": [
    "x = np.arange(2016, 2025) # numbers from 2016-2025 excluding 2025\n",
    "y = [10, 20, 30, 80, 40, 60, 92, 70, 100]\n",
    "\n",
    "plt.stem(x,y, linefmt=':')\n",
    "plt.xlim(2015.5, 2024.5)\n",
    "plt.ylim(0, 100)\n",
    "plt.show"
   ]
  },
  {
   "cell_type": "markdown",
   "id": "4e674919-e0e4-4d02-8b6b-5b895fee1fb2",
   "metadata": {
    "jp-MarkdownHeadingCollapsed": true
   },
   "source": [
    "<h5>plt.fill_between</h5>\n",
    "<b>plt.fill_between</b> fills the area between two horizontal curves."
   ]
  },
  {
   "cell_type": "code",
   "execution_count": 63,
   "id": "4f727bd5-aa2b-4061-8542-de2928e9c5dd",
   "metadata": {},
   "outputs": [
    {
     "data": {
      "image/png": "[encoded data removed]",
      "text/plain": [
       "<Figure size 640x480 with 1 Axes>"
      ]
     },
     "metadata": {},
     "output_type": "display_data"
    }
   ],
   "source": [
    "x = np.linspace(0, 10, 20)\n",
    "y1 = x\n",
    "y2 = x*2\n",
    "\n",
    "plt.fill_between(x, y1, y2, alpha=.5, linewidth=0) \n",
    "plt.show()"
   ]
  },
  {
   "cell_type": "markdown",
   "id": "0dc77ccd-43ba-40b6-a3c9-b52ca7d0b3de",
   "metadata": {},
   "source": [
    "<h5>plt.stackplot</h5>\n",
    "<b>plt.stackplot</b> creates a stackplot. In this case visualizing three different arrays. We have three y-arrays with the same length as x. The arrays can be combined using <a href=\"https://numpy.org/doc/stable/reference/generated/numpy.vstack.html#numpy.vstack\">np.vstack</a>. A very interesting thing about plt.stackplot is the calculation of the baseline. The default baseline is 0 which just means that all values are stacked on top of each other. There are other ways to calculate the baseline; you can read about them <a href=\"https://matplotlib.org/stable/api/_as_gen/matplotlib.axes.Axes.stackplot.html#matplotlib.axes.Axes.stackplot\">here</a>."
   ]
  },
  {
   "cell_type": "code",
   "execution_count": 86,
   "id": "e9190ab2-4de3-4865-99aa-740a15788b77",
   "metadata": {},
   "outputs": [
    {
     "data": {
      "image/png": "[encoded data removed]",
      "text/plain": [
       "<Figure size 640x480 with 1 Axes>"
      ]
     },
     "metadata": {},
     "output_type": "display_data"
    }
   ],
   "source": [
    "x = np.arange(0, 12, 2) \n",
    "ay = [0, 1, 3, 2.5, 1, 0]\n",
    "by = [1, 2, 3, 4, 5, 4]\n",
    "cy = [4, 5, 2, 3, 2, 1]\n",
    "y = np.vstack([ay, by, cy])\n",
    "\n",
    "plt.stackplot (x, y)\n",
    "plt.xlim (0, 10)\n",
    "plt.ylim (0, 10)\n",
    "plt.show()"
   ]
  },
  {
   "cell_type": "markdown",
   "id": "3bdd7a7a-059d-4402-a399-bc14045eab3b",
   "metadata": {
    "jp-MarkdownHeadingCollapsed": true
   },
   "source": [
    "<h5>plt.stairs</h5>\n",
    "<b>plt.stairs</b> creates a stair graph. It does not need specified x-variables as the x-variables are equal to the number of elements in y. "
   ]
  },
  {
   "cell_type": "code",
   "execution_count": 120,
   "id": "5a8d25ff-488b-4e2a-981d-5672b10ef13b",
   "metadata": {},
   "outputs": [
    {
     "data": {
      "image/png": "[encoded data removed]",
      "text/plain": [
       "<Figure size 640x480 with 1 Axes>"
      ]
     },
     "metadata": {},
     "output_type": "display_data"
    }
   ],
   "source": [
    "y = [12, 14, 18, 16, 10]\n",
    "\n",
    "plt.stairs(y, linewidth = 2.5)\n",
    "plt.xlim(0, np.size(y)) # np.size returns the amount of elements within y\n",
    "plt.ylim(5, np.max(y)+1) # np.max returns the highest value within y \n",
    "plt.show()"
   ]
  },
  {
   "cell_type": "markdown",
   "id": "7950079c-4801-4ccc-8bc5-05652046de59",
   "metadata": {},
   "source": []
  },
  {
   "cell_type": "code",
   "execution_count": 64,
   "id": "aeb54436-394c-419c-be4e-562f3c09e8b0",
   "metadata": {},
   "outputs": [
    {
     "data": {
      "text/plain": [
       "[<matplotlib.lines.Line2D at 0x14a4b99ae70>]"
      ]
     },
     "execution_count": 64,
     "metadata": {},
     "output_type": "execute_result"
    },
    {
     "data": {
      "image/png": "[encoded data removed]",
      "text/plain": [
       "<Figure size 640x480 with 1 Axes>"
      ]
     },
     "metadata": {},
     "output_type": "display_data"
    }
   ],
   "source": [
    "%matplotlib inline \n",
    "x = np.arange(6)\n",
    "y = x+1\n",
    "plt.plot(x, y)"
   ]
  },
  {
   "cell_type": "markdown",
   "id": "d0be8df5-6704-4d39-b141-ae902b109c8e",
   "metadata": {},
   "source": [
    "<h3>Labeling Plots</h3>\n",
    "There are numerous ways to label plots "
   ]
  },
  {
   "cell_type": "markdown",
   "id": "302d8c58-00f3-4b9e-93b4-7f129373a420",
   "metadata": {},
   "source": [
    "<h3>Colors and Designs</h3>\n",
    "The Artist class is responsible for the appearence of the individual subplots. %%%include the most important features for pyplot"
   ]
  },
  {
   "cell_type": "markdown",
   "id": "cc97937c-d5e1-4d6d-a290-efdbe06614eb",
   "metadata": {},
   "source": [
    "<h4>Colors</h4>\n",
    "There are a bunch of different possible ways to choose color for your graphs. For improved visualization, it is helpful to use colors that have high contrast with each other. We will not discuss all color options for that reason. However Matplotlib does support a wide range of possible color formats. All color formats can be used in combination with each other. Additional info can be found <a href=\"https://matplotlib.org/stable/users/explain/colors/colors.html#colors-def\"> here</a>."
   ]
  },
  {
   "cell_type": "markdown",
   "id": "299695c4-9bb5-47e4-a6b3-330632fcb406",
   "metadata": {},
   "source": [
    "<h5><u>Default Color Cycle</u></h5>\n",
    "The default color cycle is chosen from the 'T10' categorical palette. The colors are as follows: \n",
    "<ul>\n",
    "    <li>'tab:blue'</li>\n",
    "    <li>'tab:orange'</li>\n",
    "    <li>'tab:green'</li>\n",
    "    <li>'tab:red'</li>\n",
    "    <li>'tab:brown'</li>\n",
    "    <li>tab:purple'</li>\n",
    "    <li>'tab:pink'</li>\n",
    "    <li>'tab:cyan'</li>\n",
    "    <li>'tab:gray'</li>\n",
    "    <li>'tab:olive'</li>\n",
    "</ul>\n",
    "If you do not put 'tab' before the color it will be chosen from the simplified color chart. "
   ]
  },
  {
   "cell_type": "code",
   "execution_count": 36,
   "id": "869cc97a-8119-4a2a-be62-bb9cf4f744d1",
   "metadata": {},
   "outputs": [
    {
     "data": {
      "image/png": "[encoded data removed]",
      "text/plain": [
       "<Figure size 640x480 with 1 Axes>"
      ]
     },
     "metadata": {},
     "output_type": "display_data"
    }
   ],
   "source": [
    "import numpy as np\n",
    "import matplotlib.pyplot as plt\n",
    "\n",
    "x = np.arange(0, 12, 2) \n",
    "ay = [0.5, 0.5, 0.5, 0.5, 0.5, 0.5]\n",
    "by = [0.5, 0.5, 0.5, 0.5, 0.5, 0.5]\n",
    "cy = [0.5, 0.5, 0.5, 0.5, 0.5, 0.5]\n",
    "dy = [0.5, 0.5, 0.5, 0.5, 0.5, 0.5]\n",
    "ey = [0.5, 0.5, 0.5, 0.5, 0.5, 0.5]\n",
    "fy = [0.5, 0.5, 0.5, 0.5, 0.5, 0.5]\n",
    "gy = [0.5, 0.5, 0.5, 0.5, 0.5, 0.5]\n",
    "hy = [0.5, 0.5, 0.5, 0.5, 0.5, 0.5]\n",
    "iy = [0.5, 0.5, 0.5, 0.5, 0.5, 0.5]\n",
    "jy = [0.5, 0.5, 0.5, 0.5, 0.5, 0.5]\n",
    "y = np.vstack([ay, by, cy, dy, ey, fy, gy, hy, iy, jy])\n",
    "\n",
    "plt.stackplot (x, y, colors=['tab:blue', 'tab:orange', 'tab:green', 'tab:red', 'tab:brown', 'tab:purple', 'tab:pink', 'tab:cyan', 'tab:gray', 'tab:olive' ]) # the colors list doesn't need to have the same amount of elements as the y-stack\n",
    "plt.xlim (0, 10)\n",
    "plt.ylim (0, 5)\n",
    "plt.show()"
   ]
  },
  {
   "cell_type": "markdown",
   "id": "7e2c647a-3a45-47f6-b788-fdbb1c7c5859",
   "metadata": {},
   "source": [
    "<h5><u>Single Character Shorthand</u></h5>\n",
    "For simplified colors you can use a single character. \n",
    "<ul>\n",
    "    <li>'b' as blue</li>\n",
    "    <li>'g' as green</li>\n",
    "    <li>'r' as red</li>\n",
    "    <li>'c' as cyan</li>\n",
    "    <li>'m' as magenta</li>\n",
    "    <li>'y' as yellow</li>\n",
    "    <li>'k' as black</li>\n",
    "    <li>'w' as white</li>\n",
    "</ul>\n",
    "As you can see the colors are chosen to have a high contrast with each other. "
   ]
  },
  {
   "cell_type": "code",
   "execution_count": 10,
   "id": "475674f8-e6ff-4721-92ec-d25135544a06",
   "metadata": {},
   "outputs": [
    {
     "data": {
      "image/png": "[encoded data removed]",
      "text/plain": [
       "<Figure size 640x480 with 1 Axes>"
      ]
     },
     "metadata": {},
     "output_type": "display_data"
    }
   ],
   "source": [
    "import numpy as np\n",
    "import matplotlib.pyplot as plt\n",
    "\n",
    "x = np.arange(0, 12, 2) \n",
    "ay = [0.5, 0.5, 0.5, 0.5, 0.5, 0.5]\n",
    "by = [0.5, 0.5, 0.5, 0.5, 0.5, 0.5]\n",
    "cy = [0.5, 0.5, 0.5, 0.5, 0.5, 0.5]\n",
    "dy = [0.5, 0.5, 0.5, 0.5, 0.5, 0.5]\n",
    "ey = [0.5, 0.5, 0.5, 0.5, 0.5, 0.5]\n",
    "fy = [0.5, 0.5, 0.5, 0.5, 0.5, 0.5]\n",
    "gy = [0.5, 0.5, 0.5, 0.5, 0.5, 0.5]\n",
    "hy = [0.5, 0.5, 0.5, 0.5, 0.5, 0.5]\n",
    "y = np.vstack([ay, by, cy, dy, ey, fy, gy, hy])\n",
    "\n",
    "plt.stackplot (x, y, colors=['b', 'g',  'r', 'c', 'k', 'm','w', 'y']) \n",
    "plt.xlim (0, 10)\n",
    "plt.ylim (0, 4)\n",
    "plt.show()"
   ]
  },
  {
   "cell_type": "markdown",
   "id": "ca0f70fe-8b4c-4e99-9071-ec867623cfdd",
   "metadata": {
    "jp-MarkdownHeadingCollapsed": true
   },
   "source": [
    "<h5><u>Grayscale in closed Interval</u></h5>\n",
    "By inputting a string containing a number between 0 and 1 you can choose a color on the grayscale. '0' is black and '1' is white. "
   ]
  },
  {
   "cell_type": "code",
   "execution_count": 20,
   "id": "49241699-8027-46a9-8cd8-25ff70dc4d57",
   "metadata": {},
   "outputs": [
    {
     "data": {
      "image/png": "[encoded data removed]",
      "text/plain": [
       "<Figure size 640x480 with 1 Axes>"
      ]
     },
     "metadata": {},
     "output_type": "display_data"
    }
   ],
   "source": [
    "import numpy as np\n",
    "import matplotlib.pyplot as plt\n",
    "\n",
    "x = np.arange(0, 12, 2) \n",
    "ay = [0.5, 0.5, 0.5, 0.5, 0.5, 0.5]\n",
    "by = [0.5, 0.5, 0.5, 0.5, 0.5, 0.5]\n",
    "cy = [0.5, 0.5, 0.5, 0.5, 0.5, 0.5]\n",
    "dy = [0.5, 0.5, 0.5, 0.5, 0.5, 0.5]\n",
    "ey = [0.5, 0.5, 0.5, 0.5, 0.5, 0.5]\n",
    "fy = [0.5, 0.5, 0.5, 0.5, 0.5, 0.5]\n",
    "gy = [0.5, 0.5, 0.5, 0.5, 0.5, 0.5]\n",
    "hy = [0.5, 0.5, 0.5, 0.5, 0.5, 0.5]\n",
    "iy = [0.5, 0.5, 0.5, 0.5, 0.5, 0.5]\n",
    "jy = [0.5, 0.5, 0.5, 0.5, 0.5, 0.5]\n",
    "ky = [0.5, 0.5, 0.5, 0.5, 0.5, 0.5]\n",
    "y = np.vstack([ay, by, cy, dy, ey, fy, gy, hy, iy, jy, ky])\n",
    "\n",
    "plt.stackplot (x, y, colors=['0', '0.1', '0.2', '0.3', '0.4', '0.5', '0.6', '0.7', '0.8', '0.9', '1']) \n",
    "plt.xlim (0, 10)\n",
    "plt.ylim (0, 5.5)\n",
    "plt.show()"
   ]
  },
  {
   "cell_type": "markdown",
   "id": "809f2fb3-37c8-4bd1-8f4c-8d9b45655c95",
   "metadata": {
    "jp-MarkdownHeadingCollapsed": true
   },
   "source": [
    "<h5><u>RGB and CSS4 Colors</u></h5>\n",
    "You can specify RGB colors with a hexacode or by inputting three numbers in a float interval between 0 and 1. CSS4 colors can be used by inputting their name without spaces."
   ]
  },
  {
   "cell_type": "code",
   "execution_count": 37,
   "id": "9db80a48-e530-451d-8214-16d5f209bc81",
   "metadata": {},
   "outputs": [
    {
     "data": {
      "image/png": "[encoded data removed]",
      "text/plain": [
       "<Figure size 640x480 with 1 Axes>"
      ]
     },
     "metadata": {},
     "output_type": "display_data"
    }
   ],
   "source": [
    "import numpy as np\n",
    "import matplotlib.pyplot as plt\n",
    "\n",
    "x = np.arange(0, 12, 2) \n",
    "ay = x * 2\n",
    "by = np.sqrt(x) + 10\n",
    "cy = x + 2\n",
    "\n",
    "plt.plot(x, ay, color='aqua', linewidth=3) # CSS4 color\n",
    "plt.plot(x, by, color='#9932cc', linewidth=3) # hexcode for RGB\n",
    "plt.plot(x, cy, color=(0.25, 0.45, 0.5), linewidth=3)  # specifiyng the RGB values individually\n",
    "\n",
    "plt.show()"
   ]
  },
  {
   "cell_type": "markdown",
   "id": "9382ae3a-b089-4ac8-889c-c29af4400827",
   "metadata": {
    "jp-MarkdownHeadingCollapsed": true
   },
   "source": [
    "<h5><u>Changing the Transparency<u></h5>\n",
    "You can change the alpha value (the transparency) by putting any of the methods above into a tuple with a floating point variable between 0 and 1 (open interval). In this example, since the background is white, making the colors more transparent just makes them lighter. "
   ]
  },
  {
   "cell_type": "code",
   "execution_count": 40,
   "id": "0410f151-2222-4227-be43-a041abcfa69a",
   "metadata": {},
   "outputs": [
    {
     "data": {
      "image/png": "[encoded data removed]",
      "text/plain": [
       "<Figure size 640x480 with 1 Axes>"
      ]
     },
     "metadata": {},
     "output_type": "display_data"
    }
   ],
   "source": [
    "import numpy as np\n",
    "import matplotlib.pyplot as plt\n",
    "\n",
    "x = [0, 1]\n",
    "ay = [1, 1]\n",
    "by = [1, 1]\n",
    "cy = [1, 1]\n",
    "dy = [1, 1]\n",
    "ey = [1, 1]\n",
    "fy = [1, 1]\n",
    "gy = [1, 1]\n",
    "y = np.vstack([ay, by, cy, dy, ey, fy, gy])\n",
    "\n",
    "\n",
    "plt.stackplot(x, y, colors=['tab:purple', 'tab:pink', ('tab:pink', 0.5), '1', ('tab:orange', 0.6), ('tab:orange', 0.8), '#da7200'])\n",
    "plt.xlim(0, 1)\n",
    "plt.ylim(0, len(y))\n",
    "plt.show()"
   ]
  },
  {
   "cell_type": "markdown",
   "id": "c0abe0d6-78fc-4759-8f6f-b10e8d22c900",
   "metadata": {},
   "source": [
    "<h3>Square Root etc</h3>"
   ]
  },
  {
   "cell_type": "markdown",
   "id": "3d7d77c3-1d75-4e01-ad01-58437e5c434d",
   "metadata": {},
   "source": [
    "Square root:\n",
    "In numpy the square root is calculated with \"np.sqrt\" <br> \n",
    "The Comments show what each line is responsible for in the finished plot. "
   ]
  },
  {
   "cell_type": "code",
   "execution_count": null,
   "id": "7ea25c28-d767-47e6-be2d-bed15cf2a063",
   "metadata": {},
   "outputs": [],
   "source": [
    "#Generating x values\n",
    "x = np.linspace(0, 10, 100)  #inside the brackets is the range of the x values. The first one is the starting point, the second one is the end. \n",
    "#and the third one is the number of equally spaced samples in between the start and endpoint.\n",
    "\n",
    "#Calculating square root for x\n",
    "y = np.sqrt(x)\n",
    "\n",
    "plt.plot(x, y, label='y = sqrt(x)') #name of the plot\n",
    "plt.xlabel('x') #label for the x axis\n",
    "plt.ylabel('y') #label for the y axis\n",
    "plt.title('Square Root Function') #title of the function\n",
    "plt.legend() #plt.legend is responsible for the little window in the corner labeling the elements of the plot \n",
    "plt.grid(True) #toggle grid \n",
    "plt.show() #this function opens a seperate window to display the plot "
   ]
  },
  {
   "cell_type": "markdown",
   "id": "8d7d2456-dc82-4f73-8c0a-90913cf28a5e",
   "metadata": {},
   "source": [
    "The exponential function is calculated with \"np.exp\""
   ]
  },
  {
   "cell_type": "code",
   "execution_count": null,
   "id": "e3a63139-2841-4504-b34a-d1ffff2745ae",
   "metadata": {},
   "outputs": [],
   "source": [
    "#range of x values\n",
    "x = np.linspace(-2, 2, 100)  #generates 100 equally spaced points between -2 and 2\n",
    "\n",
    "#exponential function (y = e^x)\n",
    "y = np.exp(x)\n",
    "\n",
    "#plot the exponential function\n",
    "plt.plot(x, y, label='y = e^x')\n",
    "plt.xlabel('x')\n",
    "plt.ylabel('y')\n",
    "plt.title('Exponential Function')\n",
    "plt.legend()\n",
    "plt.grid(True)\n",
    "plt.show()"
   ]
  },
  {
   "cell_type": "markdown",
   "id": "4873fb7e-87f0-448f-80fe-d21216a2b239",
   "metadata": {},
   "source": [
    "The natural logarithmic function can be plottet using \"np.log\""
   ]
  },
  {
   "cell_type": "code",
   "execution_count": null,
   "id": "99ce32cd-46f0-4967-ac91-7e16d26b6ceb",
   "metadata": {},
   "outputs": [],
   "source": [
    "x = np.linspace(0.01, 2, 100)  \n",
    "\n",
    "y = np.log(x)\n",
    "\n",
    "plt.plot(x, y, label='y = ln(x)')\n",
    "plt.xlabel('x')\n",
    "plt.ylabel('y')\n",
    "plt.title('Natural Logarithm Function: y = ln(x)')\n",
    "plt.legend()\n",
    "plt.grid(True)\n",
    "plt.show()"
   ]
  },
  {
   "cell_type": "markdown",
   "id": "ebcf6c1d-535e-4eb5-895e-593827eed2a8",
   "metadata": {},
   "source": [
    "The natural sine function can be plottet using \"np.sin\""
   ]
  },
  {
   "cell_type": "code",
   "execution_count": null,
   "id": "0bc43a25-b9de-4c44-b395-6d22fca5e239",
   "metadata": {},
   "outputs": [],
   "source": [
    "x = np.linspace(0, 2*np.pi, 100)\n",
    "y = np.sin(x)\n",
    "\n",
    "plt.plot(x, y)\n",
    "plt.title('Sine Function')\n",
    "plt.xlabel('x')\n",
    "plt.ylabel('sin(x)')\n",
    "plt.grid(True)\n",
    "plt.show()"
   ]
  },
  {
   "cell_type": "markdown",
   "id": "acb926db-24ef-4c74-872d-4fb8ba42af68",
   "metadata": {},
   "source": [
    "to plot the cosine function \"np.cos\" is used"
   ]
  },
  {
   "cell_type": "code",
   "execution_count": null,
   "id": "d89e0c3a-6b76-4541-9356-f663b9d5c45b",
   "metadata": {},
   "outputs": [],
   "source": [
    "x = np.linspace(0, 2*np.pi, 100)\n",
    "y = np.cos(x)\n",
    "\n",
    "plt.plot(x, y)\n",
    "plt.title('Cosine Function')\n",
    "plt.xlabel('x')\n",
    "plt.ylabel('cos(x)')\n",
    "plt.grid(True)\n",
    "plt.show()"
   ]
  },
  {
   "cell_type": "markdown",
   "id": "2fed0e6b-c52e-43b6-9d5f-f55de7ad686e",
   "metadata": {},
   "source": [
    "to plot the tangent function \"np.tan\" is used "
   ]
  },
  {
   "cell_type": "code",
   "execution_count": null,
   "id": "d8f0ee19-1a49-4900-9d22-f4aa72b1c51e",
   "metadata": {},
   "outputs": [],
   "source": [
    "x = np.linspace(-np.pi/2+0.01, np.pi/2 - 0.01, 100) #the function becomes infinite at -pi/2 and pi/2, these points are excluded here\n",
    "y = np.tan(x)\n",
    "\n",
    "# Plot the tangent function\n",
    "plt.plot(x, y)\n",
    "plt.title('Tangent Function')\n",
    "plt.xlabel('x')\n",
    "plt.ylabel('tan(x)')\n",
    "plt.grid(True)\n",
    "plt.show()"
   ]
  },
  {
   "cell_type": "markdown",
   "id": "c985c106-62c3-4ee5-9fee-0dafbd6bc824",
   "metadata": {},
   "source": [
    "\"np.cot\" does not exist so we just use \"1/np.tan\" since cot is the inverse of tan"
   ]
  },
  {
   "cell_type": "code",
   "execution_count": null,
   "id": "0db2c06c-8d32-43ee-b7c7-4fc84b6a875e",
   "metadata": {},
   "outputs": [],
   "source": [
    "x = np.linspace(0.01, np.pi-0.01, 100) #if you use np.pi without subtracting 0.01 or another small number the plot gets weird, I could not figure out why \n",
    "y = 1/np.tan(x)\n",
    "\n",
    "# Plot the cotangent function\n",
    "plt.plot(x, y)\n",
    "plt.title('Cotangent Function')\n",
    "plt.xlabel('x')\n",
    "plt.ylabel('cot(x)')\n",
    "plt.grid(True)\n",
    "plt.show()"
   ]
  },
  {
   "cell_type": "markdown",
   "id": "33dcc85f-96f2-482a-8db9-b9c079863896",
   "metadata": {},
   "source": [
    "to plot acos we'll use \"np.arccos\""
   ]
  },
  {
   "cell_type": "code",
   "execution_count": null,
   "id": "8f8e26d1-ad34-479b-8e58-e79286e5717b",
   "metadata": {},
   "outputs": [],
   "source": [
    "x = np.linspace(-1, 1, 100)\n",
    "y = np.arccos(x)\n",
    "\n",
    "plt.plot(x, y)\n",
    "plt.title('arccos')\n",
    "plt.xlabel('x')\n",
    "plt.ylabel('arccos(x)')\n",
    "plt.grid(True)\n",
    "plt.show()\n"
   ]
  },
  {
   "cell_type": "markdown",
   "id": "68b3ddd3-2058-4a2e-95fe-0f4ac0a4df9e",
   "metadata": {},
   "source": [
    "asin"
   ]
  },
  {
   "cell_type": "code",
   "execution_count": null,
   "id": "946b26d6-e7cf-4b1e-81c1-b2ab6265f299",
   "metadata": {},
   "outputs": [],
   "source": [
    "x = np.linspace(-1, 1, 100)\n",
    "y = np.arcsin(x)\n",
    "\n",
    "plt.plot(x, y)\n",
    "plt.title('arcsine')\n",
    "plt.xlabel('x')\n",
    "plt.ylabel('arcsin(x)')\n",
    "plt.grid(True)\n",
    "plt.show()\n"
   ]
  },
  {
   "cell_type": "markdown",
   "id": "0f352a8f-dbb3-415d-a35b-e5b859da4363",
   "metadata": {},
   "source": [
    "atan"
   ]
  },
  {
   "cell_type": "code",
   "execution_count": null,
   "id": "b8deb722-3282-4421-b234-6795507eabf7",
   "metadata": {},
   "outputs": [],
   "source": [
    "x = np.linspace(-5, 5, 100)\n",
    "y = np.arctan(x)\n",
    "\n",
    "plt.plot(x, y)\n",
    "plt.title('arctangent')\n",
    "plt.xlabel('x')\n",
    "plt.ylabel('arctan(x)')\n",
    "plt.grid(True)\n",
    "plt.show()"
   ]
  },
  {
   "cell_type": "markdown",
   "id": "bbf7619b-2769-4a88-9177-96edf933e1f5",
   "metadata": {},
   "source": [
    "sinc is just sin(x)/x so we'll plot that"
   ]
  },
  {
   "cell_type": "code",
   "execution_count": null,
   "id": "137a9955-92fa-4478-a59b-663939afac39",
   "metadata": {},
   "outputs": [],
   "source": [
    "x = np.linspace(-10, 10, 1000)\n",
    "y = np.sin(x)/x\n",
    "\n",
    "\n",
    "plt.plot(x, y)\n",
    "plt.title('sinc')\n",
    "plt.xlabel('x')\n",
    "plt.ylabel('sinc(x)')\n",
    "plt.grid(True)\n",
    "plt.show()"
   ]
  },
  {
   "cell_type": "markdown",
   "id": "a66e047d-9246-4d98-bef3-8536139a0d60",
   "metadata": {},
   "source": [
    "the hyperbolic sine function sinh is plotted by using \"np.sinh\""
   ]
  },
  {
   "cell_type": "code",
   "execution_count": null,
   "id": "28e57d79-a0b7-4516-a200-d09e1f0d5ba0",
   "metadata": {},
   "outputs": [],
   "source": [
    "x = np.linspace(-5, 5, 100)\n",
    "y = np.sinh(x)\n",
    "\n",
    "plt.plot(x, y)\n",
    "plt.title('sinh')\n",
    "plt.xlabel('x')\n",
    "plt.ylabel('sinh(x)')\n",
    "plt.grid(True)\n",
    "plt.show()\n"
   ]
  },
  {
   "cell_type": "markdown",
   "id": "903e263f-c4f0-432d-ab88-b0bd24d40ede",
   "metadata": {},
   "source": [
    "tanh"
   ]
  },
  {
   "cell_type": "code",
   "execution_count": null,
   "id": "3542e7d2-f1db-4289-a5fa-da00e0cf710f",
   "metadata": {},
   "outputs": [],
   "source": [
    "x = np.linspace(-5, 5, 100)\n",
    "y = np.tanh(x)\n",
    "\n",
    "plt.plot(x, y)\n",
    "plt.title('tanh')\n",
    "plt.xlabel('x')\n",
    "plt.ylabel('tanh(x)')\n",
    "plt.grid(True)\n",
    "plt.show()"
   ]
  }
 ],
 "metadata": {
  "kernelspec": {
   "display_name": "Python 3 (ipykernel)",
   "language": "python",
   "name": "python3"
  },
  "language_info": {
   "codemirror_mode": {
    "name": "ipython",
    "version": 3
   },
   "file_extension": ".py",
   "mimetype": "text/x-python",
   "name": "python",
   "nbconvert_exporter": "python",
   "pygments_lexer": "ipython3",
   "version": "3.12.3"
  }
 },
 "nbformat": 4,
 "nbformat_minor": 5
}
