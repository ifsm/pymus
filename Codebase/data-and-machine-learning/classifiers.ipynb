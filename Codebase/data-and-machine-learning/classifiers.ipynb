{
 "cells": [
  {
   "cell_type": "code",
   "execution_count": 1,
   "id": "f90255f1",
   "metadata": {},
   "outputs": [
    {
     "name": "stderr",
     "output_type": "stream",
     "text": [
      "C:\\Users\\t_ziemer\\AppData\\Local\\Programs\\Python\\Python310\\lib\\site-packages\\scipy\\__init__.py:155: UserWarning: A NumPy version >=1.18.5 and <1.25.0 is required for this version of SciPy (detected version 1.26.4\n",
      "  warnings.warn(f\"A NumPy version >={np_minversion} and <{np_maxversion}\"\n"
     ]
    },
    {
     "ename": "SystemError",
     "evalue": "initialization of _internal failed without raising an exception",
     "output_type": "error",
     "traceback": [
      "\u001b[1;31m---------------------------------------------------------------------------\u001b[0m",
      "\u001b[1;31mSystemError\u001b[0m                               Traceback (most recent call last)",
      "Cell \u001b[1;32mIn [1], line 8\u001b[0m\n\u001b[0;32m      6\u001b[0m \u001b[38;5;28;01mimport\u001b[39;00m \u001b[38;5;21;01msounddevice\u001b[39;00m \u001b[38;5;28;01mas\u001b[39;00m \u001b[38;5;21;01msd\u001b[39;00m\u001b[38;5;66;03m#to play back sounds\u001b[39;00m\n\u001b[0;32m      7\u001b[0m \u001b[38;5;28;01mimport\u001b[39;00m \u001b[38;5;21;01mwarnings\u001b[39;00m\u001b[38;5;66;03m#necessary to suppress the display of warnings when your wave file contains unexpected chunks\u001b[39;00m\n\u001b[1;32m----> 8\u001b[0m \u001b[38;5;28;01mimport\u001b[39;00m \u001b[38;5;21;01mlibrosa\u001b[39;00m\u001b[38;5;66;03m#standard library for audio analysis and feature extraction\u001b[39;00m\n\u001b[0;32m      9\u001b[0m \u001b[38;5;28;01mimport\u001b[39;00m \u001b[38;5;21;01mlibrosa\u001b[39;00m\u001b[38;5;21;01m.\u001b[39;00m\u001b[38;5;21;01mdisplay\u001b[39;00m\n\u001b[0;32m     10\u001b[0m \u001b[38;5;28;01mimport\u001b[39;00m \u001b[38;5;21;01mIPython\u001b[39;00m\u001b[38;5;21;01m.\u001b[39;00m\u001b[38;5;21;01mdisplay\u001b[39;00m \u001b[38;5;28;01mas\u001b[39;00m \u001b[38;5;21;01mipd\u001b[39;00m\u001b[38;5;66;03m#can play audio files with a simple GUI\u001b[39;00m\n",
      "File \u001b[1;32m~\\AppData\\Local\\Programs\\Python\\Python310\\lib\\site-packages\\librosa\\__init__.py:209\u001b[0m\n\u001b[0;32m    207\u001b[0m \u001b[38;5;66;03m# And all the librosa sub-modules\u001b[39;00m\n\u001b[0;32m    208\u001b[0m \u001b[38;5;28;01mfrom\u001b[39;00m \u001b[38;5;21;01m.\u001b[39;00m\u001b[38;5;21;01m_cache\u001b[39;00m \u001b[38;5;28;01mimport\u001b[39;00m cache\n\u001b[1;32m--> 209\u001b[0m \u001b[38;5;28;01mfrom\u001b[39;00m \u001b[38;5;21;01m.\u001b[39;00m \u001b[38;5;28;01mimport\u001b[39;00m core\n\u001b[0;32m    210\u001b[0m \u001b[38;5;28;01mfrom\u001b[39;00m \u001b[38;5;21;01m.\u001b[39;00m \u001b[38;5;28;01mimport\u001b[39;00m beat\n\u001b[0;32m    211\u001b[0m \u001b[38;5;28;01mfrom\u001b[39;00m \u001b[38;5;21;01m.\u001b[39;00m \u001b[38;5;28;01mimport\u001b[39;00m decompose\n",
      "File \u001b[1;32m~\\AppData\\Local\\Programs\\Python\\Python310\\lib\\site-packages\\librosa\\core\\__init__.py:5\u001b[0m\n\u001b[0;32m      1\u001b[0m \u001b[38;5;66;03m#!/usr/bin/env python\u001b[39;00m\n\u001b[0;32m      2\u001b[0m \u001b[38;5;66;03m# -*- coding: utf-8 -*-\u001b[39;00m\n\u001b[0;32m      3\u001b[0m \u001b[38;5;124;03m\"\"\" Core IO and DSP functions\"\"\"\u001b[39;00m\n\u001b[1;32m----> 5\u001b[0m \u001b[38;5;28;01mfrom\u001b[39;00m \u001b[38;5;21;01m.\u001b[39;00m\u001b[38;5;21;01mconvert\u001b[39;00m \u001b[38;5;28;01mimport\u001b[39;00m \u001b[38;5;241m*\u001b[39m  \u001b[38;5;66;03m# pylint: disable=wildcard-import\u001b[39;00m\n\u001b[0;32m      6\u001b[0m \u001b[38;5;28;01mfrom\u001b[39;00m \u001b[38;5;21;01m.\u001b[39;00m\u001b[38;5;21;01maudio\u001b[39;00m \u001b[38;5;28;01mimport\u001b[39;00m \u001b[38;5;241m*\u001b[39m  \u001b[38;5;66;03m# pylint: disable=wildcard-import\u001b[39;00m\n\u001b[0;32m      7\u001b[0m \u001b[38;5;28;01mfrom\u001b[39;00m \u001b[38;5;21;01m.\u001b[39;00m\u001b[38;5;21;01mspectrum\u001b[39;00m \u001b[38;5;28;01mimport\u001b[39;00m \u001b[38;5;241m*\u001b[39m  \u001b[38;5;66;03m# pylint: disable=wildcard-import\u001b[39;00m\n",
      "File \u001b[1;32m~\\AppData\\Local\\Programs\\Python\\Python310\\lib\\site-packages\\librosa\\core\\convert.py:7\u001b[0m\n\u001b[0;32m      5\u001b[0m \u001b[38;5;28;01mimport\u001b[39;00m \u001b[38;5;21;01mre\u001b[39;00m\n\u001b[0;32m      6\u001b[0m \u001b[38;5;28;01mimport\u001b[39;00m \u001b[38;5;21;01mnumpy\u001b[39;00m \u001b[38;5;28;01mas\u001b[39;00m \u001b[38;5;21;01mnp\u001b[39;00m\n\u001b[1;32m----> 7\u001b[0m \u001b[38;5;28;01mfrom\u001b[39;00m \u001b[38;5;21;01m.\u001b[39;00m \u001b[38;5;28;01mimport\u001b[39;00m notation\n\u001b[0;32m      8\u001b[0m \u001b[38;5;28;01mfrom\u001b[39;00m \u001b[38;5;21;01m.\u001b[39;00m\u001b[38;5;21;01m.\u001b[39;00m\u001b[38;5;21;01mutil\u001b[39;00m\u001b[38;5;21;01m.\u001b[39;00m\u001b[38;5;21;01mexceptions\u001b[39;00m \u001b[38;5;28;01mimport\u001b[39;00m ParameterError\n\u001b[0;32m      9\u001b[0m \u001b[38;5;28;01mfrom\u001b[39;00m \u001b[38;5;21;01m.\u001b[39;00m\u001b[38;5;21;01m.\u001b[39;00m\u001b[38;5;21;01mutil\u001b[39;00m\u001b[38;5;21;01m.\u001b[39;00m\u001b[38;5;21;01mdecorators\u001b[39;00m \u001b[38;5;28;01mimport\u001b[39;00m deprecate_positional_args\n",
      "File \u001b[1;32m~\\AppData\\Local\\Programs\\Python\\Python310\\lib\\site-packages\\librosa\\core\\notation.py:8\u001b[0m\n\u001b[0;32m      6\u001b[0m \u001b[38;5;28;01mimport\u001b[39;00m \u001b[38;5;21;01mnumpy\u001b[39;00m \u001b[38;5;28;01mas\u001b[39;00m \u001b[38;5;21;01mnp\u001b[39;00m\n\u001b[0;32m      7\u001b[0m \u001b[38;5;28;01mfrom\u001b[39;00m \u001b[38;5;21;01m.\u001b[39;00m\u001b[38;5;21;01m.\u001b[39;00m\u001b[38;5;21;01m_cache\u001b[39;00m \u001b[38;5;28;01mimport\u001b[39;00m cache\n\u001b[1;32m----> 8\u001b[0m \u001b[38;5;28;01mfrom\u001b[39;00m \u001b[38;5;21;01m.\u001b[39;00m\u001b[38;5;21;01m.\u001b[39;00m\u001b[38;5;21;01mutil\u001b[39;00m\u001b[38;5;21;01m.\u001b[39;00m\u001b[38;5;21;01mexceptions\u001b[39;00m \u001b[38;5;28;01mimport\u001b[39;00m ParameterError\n\u001b[0;32m      9\u001b[0m \u001b[38;5;28;01mfrom\u001b[39;00m \u001b[38;5;21;01m.\u001b[39;00m\u001b[38;5;21;01m.\u001b[39;00m\u001b[38;5;21;01mutil\u001b[39;00m\u001b[38;5;21;01m.\u001b[39;00m\u001b[38;5;21;01mdecorators\u001b[39;00m \u001b[38;5;28;01mimport\u001b[39;00m deprecate_positional_args\n\u001b[0;32m     11\u001b[0m __all__ \u001b[38;5;241m=\u001b[39m [\n\u001b[0;32m     12\u001b[0m     \u001b[38;5;124m\"\u001b[39m\u001b[38;5;124mkey_to_degrees\u001b[39m\u001b[38;5;124m\"\u001b[39m,\n\u001b[0;32m     13\u001b[0m     \u001b[38;5;124m\"\u001b[39m\u001b[38;5;124mkey_to_notes\u001b[39m\u001b[38;5;124m\"\u001b[39m,\n\u001b[1;32m   (...)\u001b[0m\n\u001b[0;32m     18\u001b[0m     \u001b[38;5;124m\"\u001b[39m\u001b[38;5;124mlist_thaat\u001b[39m\u001b[38;5;124m\"\u001b[39m,\n\u001b[0;32m     19\u001b[0m ]\n",
      "File \u001b[1;32m~\\AppData\\Local\\Programs\\Python\\Python310\\lib\\site-packages\\librosa\\util\\__init__.py:77\u001b[0m\n\u001b[0;32m      1\u001b[0m \u001b[38;5;66;03m#!/usr/bin/env python\u001b[39;00m\n\u001b[0;32m      2\u001b[0m \u001b[38;5;66;03m# -*- coding: utf-8 -*-\u001b[39;00m\n\u001b[0;32m      3\u001b[0m \u001b[38;5;124;03m\"\"\"\u001b[39;00m\n\u001b[0;32m      4\u001b[0m \u001b[38;5;124;03mUtilities\u001b[39;00m\n\u001b[0;32m      5\u001b[0m \u001b[38;5;124;03m=========\u001b[39;00m\n\u001b[1;32m   (...)\u001b[0m\n\u001b[0;32m     74\u001b[0m \n\u001b[0;32m     75\u001b[0m \u001b[38;5;124;03m\"\"\"\u001b[39;00m\n\u001b[1;32m---> 77\u001b[0m \u001b[38;5;28;01mfrom\u001b[39;00m \u001b[38;5;21;01m.\u001b[39;00m\u001b[38;5;21;01mutils\u001b[39;00m \u001b[38;5;28;01mimport\u001b[39;00m \u001b[38;5;241m*\u001b[39m  \u001b[38;5;66;03m# pylint: disable=wildcard-import\u001b[39;00m\n\u001b[0;32m     78\u001b[0m \u001b[38;5;28;01mfrom\u001b[39;00m \u001b[38;5;21;01m.\u001b[39;00m\u001b[38;5;21;01mfiles\u001b[39;00m \u001b[38;5;28;01mimport\u001b[39;00m \u001b[38;5;241m*\u001b[39m  \u001b[38;5;66;03m# pylint: disable=wildcard-import\u001b[39;00m\n\u001b[0;32m     79\u001b[0m \u001b[38;5;28;01mfrom\u001b[39;00m \u001b[38;5;21;01m.\u001b[39;00m\u001b[38;5;21;01mmatching\u001b[39;00m \u001b[38;5;28;01mimport\u001b[39;00m \u001b[38;5;241m*\u001b[39m  \u001b[38;5;66;03m# pylint: disable=wildcard-import\u001b[39;00m\n",
      "File \u001b[1;32m~\\AppData\\Local\\Programs\\Python\\Python310\\lib\\site-packages\\librosa\\util\\utils.py:9\u001b[0m\n\u001b[0;32m      6\u001b[0m \u001b[38;5;28;01mimport\u001b[39;00m \u001b[38;5;21;01mscipy\u001b[39;00m\u001b[38;5;21;01m.\u001b[39;00m\u001b[38;5;21;01msparse\u001b[39;00m\n\u001b[0;32m      8\u001b[0m \u001b[38;5;28;01mimport\u001b[39;00m \u001b[38;5;21;01mnumpy\u001b[39;00m \u001b[38;5;28;01mas\u001b[39;00m \u001b[38;5;21;01mnp\u001b[39;00m\n\u001b[1;32m----> 9\u001b[0m \u001b[38;5;28;01mimport\u001b[39;00m \u001b[38;5;21;01mnumba\u001b[39;00m\n\u001b[0;32m     10\u001b[0m \u001b[38;5;28;01mfrom\u001b[39;00m \u001b[38;5;21;01mnumpy\u001b[39;00m\u001b[38;5;21;01m.\u001b[39;00m\u001b[38;5;21;01mlib\u001b[39;00m\u001b[38;5;21;01m.\u001b[39;00m\u001b[38;5;21;01mstride_tricks\u001b[39;00m \u001b[38;5;28;01mimport\u001b[39;00m as_strided\n\u001b[0;32m     12\u001b[0m \u001b[38;5;28;01mfrom\u001b[39;00m \u001b[38;5;21;01m.\u001b[39;00m\u001b[38;5;21;01m.\u001b[39;00m\u001b[38;5;21;01m_cache\u001b[39;00m \u001b[38;5;28;01mimport\u001b[39;00m cache\n",
      "File \u001b[1;32m~\\AppData\\Local\\Programs\\Python\\Python310\\lib\\site-packages\\numba\\__init__.py:42\u001b[0m\n\u001b[0;32m     38\u001b[0m \u001b[38;5;28;01mfrom\u001b[39;00m \u001b[38;5;21;01mnumba\u001b[39;00m\u001b[38;5;21;01m.\u001b[39;00m\u001b[38;5;21;01mcore\u001b[39;00m\u001b[38;5;21;01m.\u001b[39;00m\u001b[38;5;21;01mdecorators\u001b[39;00m \u001b[38;5;28;01mimport\u001b[39;00m (cfunc, generated_jit, jit, njit, stencil,\n\u001b[0;32m     39\u001b[0m                                    jit_module)\n\u001b[0;32m     41\u001b[0m \u001b[38;5;66;03m# Re-export vectorize decorators and the thread layer querying function\u001b[39;00m\n\u001b[1;32m---> 42\u001b[0m \u001b[38;5;28;01mfrom\u001b[39;00m \u001b[38;5;21;01mnumba\u001b[39;00m\u001b[38;5;21;01m.\u001b[39;00m\u001b[38;5;21;01mnp\u001b[39;00m\u001b[38;5;21;01m.\u001b[39;00m\u001b[38;5;21;01mufunc\u001b[39;00m \u001b[38;5;28;01mimport\u001b[39;00m (vectorize, guvectorize, threading_layer,\n\u001b[0;32m     43\u001b[0m                             get_num_threads, set_num_threads,\n\u001b[0;32m     44\u001b[0m                             set_parallel_chunksize, get_parallel_chunksize,\n\u001b[0;32m     45\u001b[0m                             get_thread_id)\n\u001b[0;32m     47\u001b[0m \u001b[38;5;66;03m# Re-export Numpy helpers\u001b[39;00m\n\u001b[0;32m     48\u001b[0m \u001b[38;5;28;01mfrom\u001b[39;00m \u001b[38;5;21;01mnumba\u001b[39;00m\u001b[38;5;21;01m.\u001b[39;00m\u001b[38;5;21;01mnp\u001b[39;00m\u001b[38;5;21;01m.\u001b[39;00m\u001b[38;5;21;01mnumpy_support\u001b[39;00m \u001b[38;5;28;01mimport\u001b[39;00m carray, farray, from_dtype\n",
      "File \u001b[1;32m~\\AppData\\Local\\Programs\\Python\\Python310\\lib\\site-packages\\numba\\np\\ufunc\\__init__.py:3\u001b[0m\n\u001b[0;32m      1\u001b[0m \u001b[38;5;66;03m# -*- coding: utf-8 -*-\u001b[39;00m\n\u001b[1;32m----> 3\u001b[0m \u001b[38;5;28;01mfrom\u001b[39;00m \u001b[38;5;21;01mnumba\u001b[39;00m\u001b[38;5;21;01m.\u001b[39;00m\u001b[38;5;21;01mnp\u001b[39;00m\u001b[38;5;21;01m.\u001b[39;00m\u001b[38;5;21;01mufunc\u001b[39;00m\u001b[38;5;21;01m.\u001b[39;00m\u001b[38;5;21;01mdecorators\u001b[39;00m \u001b[38;5;28;01mimport\u001b[39;00m Vectorize, GUVectorize, vectorize, guvectorize\n\u001b[0;32m      4\u001b[0m \u001b[38;5;28;01mfrom\u001b[39;00m \u001b[38;5;21;01mnumba\u001b[39;00m\u001b[38;5;21;01m.\u001b[39;00m\u001b[38;5;21;01mnp\u001b[39;00m\u001b[38;5;21;01m.\u001b[39;00m\u001b[38;5;21;01mufunc\u001b[39;00m\u001b[38;5;21;01m.\u001b[39;00m\u001b[38;5;21;01m_internal\u001b[39;00m \u001b[38;5;28;01mimport\u001b[39;00m PyUFunc_None, PyUFunc_Zero, PyUFunc_One\n\u001b[0;32m      5\u001b[0m \u001b[38;5;28;01mfrom\u001b[39;00m \u001b[38;5;21;01mnumba\u001b[39;00m\u001b[38;5;21;01m.\u001b[39;00m\u001b[38;5;21;01mnp\u001b[39;00m\u001b[38;5;21;01m.\u001b[39;00m\u001b[38;5;21;01mufunc\u001b[39;00m \u001b[38;5;28;01mimport\u001b[39;00m _internal, array_exprs\n",
      "File \u001b[1;32m~\\AppData\\Local\\Programs\\Python\\Python310\\lib\\site-packages\\numba\\np\\ufunc\\decorators.py:3\u001b[0m\n\u001b[0;32m      1\u001b[0m \u001b[38;5;28;01mimport\u001b[39;00m \u001b[38;5;21;01minspect\u001b[39;00m\n\u001b[1;32m----> 3\u001b[0m \u001b[38;5;28;01mfrom\u001b[39;00m \u001b[38;5;21;01mnumba\u001b[39;00m\u001b[38;5;21;01m.\u001b[39;00m\u001b[38;5;21;01mnp\u001b[39;00m\u001b[38;5;21;01m.\u001b[39;00m\u001b[38;5;21;01mufunc\u001b[39;00m \u001b[38;5;28;01mimport\u001b[39;00m _internal\n\u001b[0;32m      4\u001b[0m \u001b[38;5;28;01mfrom\u001b[39;00m \u001b[38;5;21;01mnumba\u001b[39;00m\u001b[38;5;21;01m.\u001b[39;00m\u001b[38;5;21;01mnp\u001b[39;00m\u001b[38;5;21;01m.\u001b[39;00m\u001b[38;5;21;01mufunc\u001b[39;00m\u001b[38;5;21;01m.\u001b[39;00m\u001b[38;5;21;01mparallel\u001b[39;00m \u001b[38;5;28;01mimport\u001b[39;00m ParallelUFuncBuilder, ParallelGUFuncBuilder\n\u001b[0;32m      6\u001b[0m \u001b[38;5;28;01mfrom\u001b[39;00m \u001b[38;5;21;01mnumba\u001b[39;00m\u001b[38;5;21;01m.\u001b[39;00m\u001b[38;5;21;01mcore\u001b[39;00m\u001b[38;5;21;01m.\u001b[39;00m\u001b[38;5;21;01mregistry\u001b[39;00m \u001b[38;5;28;01mimport\u001b[39;00m DelayedRegistry\n",
      "\u001b[1;31mSystemError\u001b[0m: initialization of _internal failed without raising an exception"
     ]
    }
   ],
   "source": [
    "from scipy.io import wavfile#necessary to import wavefiles. Important: \"wavfile\", not \"wavefile\"\n",
    "from scipy.fft import fft, ifft, fftfreq\n",
    "from scipy.signal import blackman\n",
    "import matplotlib.pyplot as plt\n",
    "import numpy as np#includes important mathematical functions, such as log10(), abs(), etc.\n",
    "import sounddevice as sd#to play back sounds\n",
    "import warnings#necessary to suppress the display of warnings when your wave file contains unexpected chunks\n",
    "import librosa#standard library for audio analysis and feature extraction\n",
    "import librosa.display\n",
    "import IPython.display as ipd#can play audio files with a simple GUI\n",
    "import os#library for file paths, etc.\n",
    "import statistics as stat#for mean cvalues, etc"
   ]
  },
  {
   "cell_type": "markdown",
   "id": "79523cd0",
   "metadata": {},
   "source": [
    "# One Example"
   ]
  },
  {
   "cell_type": "markdown",
   "id": "1f6d241e",
   "metadata": {},
   "source": [
    "# Data Import and Preparation"
   ]
  },
  {
   "cell_type": "code",
   "execution_count": 1,
   "id": "2b3a65a6",
   "metadata": {},
   "outputs": [],
   "source": [
    "import pandas as pd\n",
    "import seaborn as sns#for plotting some data\n",
    "from sklearn.ensemble import RandomForestClassifier# \"Ask the Audience\" -> A bunch of decision trees guesses\n",
    "from sklearn.svm import SVC# Support Vector Machines transform the data and search for the optimal separation hyperplanes\n",
    "from sklearn import svm\n",
    "from sklearn.neural_network import MLPClassifier# Multi Layer Perceptron, the \"classical\" neural network\n",
    "from sklearn.metrics import confusion_matrix, classification_report# To calculate and display classification performance\n",
    "from sklearn.preprocessing import StandardScaler, LabelEncoder# to normalize the data\n",
    "from sklearn.model_selection import train_test_split# Splitting the data into training and evaluation data"
   ]
  },
  {
   "cell_type": "markdown",
   "id": "1817f4c1",
   "metadata": {},
   "source": [
    "First, you have to load a dataset, which is often included in one or many csv files. You should print some entries to ensure that the data looks as expected."
   ]
  },
  {
   "cell_type": "code",
   "execution_count": 2,
   "id": "dca6054a",
   "metadata": {
    "scrolled": true
   },
   "outputs": [
    {
     "data": {
      "text/html": [
       "<div>\n",
       "<style scoped>\n",
       "    .dataframe tbody tr th:only-of-type {\n",
       "        vertical-align: middle;\n",
       "    }\n",
       "\n",
       "    .dataframe tbody tr th {\n",
       "        vertical-align: top;\n",
       "    }\n",
       "\n",
       "    .dataframe thead th {\n",
       "        text-align: right;\n",
       "    }\n",
       "</style>\n",
       "<table border=\"1\" class=\"dataframe\">\n",
       "  <thead>\n",
       "    <tr style=\"text-align: right;\">\n",
       "      <th></th>\n",
       "      <th>f1</th>\n",
       "      <th>f2</th>\n",
       "      <th>f3</th>\n",
       "      <th>f4</th>\n",
       "      <th>f5</th>\n",
       "      <th>class</th>\n",
       "    </tr>\n",
       "  </thead>\n",
       "  <tbody>\n",
       "    <tr>\n",
       "      <th>0</th>\n",
       "      <td>11519</td>\n",
       "      <td>3</td>\n",
       "      <td>-32768</td>\n",
       "      <td>32764</td>\n",
       "      <td>1254.803165</td>\n",
       "      <td>0</td>\n",
       "    </tr>\n",
       "    <tr>\n",
       "      <th>1</th>\n",
       "      <td>14030</td>\n",
       "      <td>116</td>\n",
       "      <td>-32767</td>\n",
       "      <td>27232</td>\n",
       "      <td>40.455868</td>\n",
       "      <td>0</td>\n",
       "    </tr>\n",
       "    <tr>\n",
       "      <th>2</th>\n",
       "      <td>16344</td>\n",
       "      <td>7813</td>\n",
       "      <td>-32768</td>\n",
       "      <td>32767</td>\n",
       "      <td>1.002877</td>\n",
       "      <td>0</td>\n",
       "    </tr>\n",
       "    <tr>\n",
       "      <th>3</th>\n",
       "      <td>12164</td>\n",
       "      <td>44</td>\n",
       "      <td>-21017</td>\n",
       "      <td>32767</td>\n",
       "      <td>67.288722</td>\n",
       "      <td>0</td>\n",
       "    </tr>\n",
       "    <tr>\n",
       "      <th>4</th>\n",
       "      <td>22293</td>\n",
       "      <td>-1</td>\n",
       "      <td>-32767</td>\n",
       "      <td>31909</td>\n",
       "      <td>-3465.763859</td>\n",
       "      <td>0</td>\n",
       "    </tr>\n",
       "  </tbody>\n",
       "</table>\n",
       "</div>"
      ],
      "text/plain": [
       "      f1    f2     f3     f4           f5  class\n",
       "0  11519     3 -32768  32764  1254.803165      0\n",
       "1  14030   116 -32767  27232    40.455868      0\n",
       "2  16344  7813 -32768  32767     1.002877      0\n",
       "3  12164    44 -21017  32767    67.288722      0\n",
       "4  22293    -1 -32767  31909 -3465.763859      0"
      ]
     },
     "execution_count": 2,
     "metadata": {},
     "output_type": "execute_result"
    }
   ],
   "source": [
    "#load dataset:\n",
    "drumtypes = pd.read_csv('arbitrary_drims.csv')\n",
    "drumtypes.head()#prints the first 5 rows for an overview of the data"
   ]
  },
  {
   "cell_type": "markdown",
   "id": "8b84ee23",
   "metadata": {},
   "source": [
    "Check for the dimensions of the matrix: How many rows (individual items) and columns (features)? Are there undesired NaN-values (null)? Are the features numerical or strings?"
   ]
  },
  {
   "cell_type": "code",
   "execution_count": 3,
   "id": "c4750f8f",
   "metadata": {},
   "outputs": [
    {
     "name": "stdout",
     "output_type": "stream",
     "text": [
      "<class 'pandas.core.frame.DataFrame'>\n",
      "RangeIndex: 168 entries, 0 to 167\n",
      "Data columns (total 6 columns):\n",
      " #   Column  Non-Null Count  Dtype  \n",
      "---  ------  --------------  -----  \n",
      " 0   f1      168 non-null    int64  \n",
      " 1   f2      168 non-null    int64  \n",
      " 2   f3      168 non-null    int64  \n",
      " 3   f4      168 non-null    int64  \n",
      " 4   f5      168 non-null    float64\n",
      " 5   class   168 non-null    int64  \n",
      "dtypes: float64(1), int64(5)\n",
      "memory usage: 8.0 KB\n"
     ]
    }
   ],
   "source": [
    "drumtypes.info()#prints information about format and indicates whether we have null values"
   ]
  },
  {
   "cell_type": "markdown",
   "id": "8f29295f",
   "metadata": {},
   "source": [
    "Next, you should check how many classes are contained in your dataset:"
   ]
  },
  {
   "cell_type": "code",
   "execution_count": 5,
   "id": "f524f14a",
   "metadata": {
    "scrolled": true
   },
   "outputs": [
    {
     "data": {
      "text/plain": [
       "array([0, 1, 2, 3, 4], dtype=int64)"
      ]
     },
     "execution_count": 5,
     "metadata": {},
     "output_type": "execute_result"
    }
   ],
   "source": [
    "drumtypes['class'].unique()#only works if you have a class column labeled as \"class\""
   ]
  },
  {
   "cell_type": "markdown",
   "id": "ea1ae167",
   "metadata": {},
   "source": [
    "You should also check the frequencies of each class (ideally, each class has the same number of items):"
   ]
  },
  {
   "cell_type": "code",
   "execution_count": 40,
   "id": "0618e506",
   "metadata": {
    "scrolled": true
   },
   "outputs": [
    {
     "data": {
      "text/plain": [
       "3    74\n",
       "4    38\n",
       "0    24\n",
       "2    14\n",
       "1    10\n",
       "Name: class, dtype: int64"
      ]
     },
     "execution_count": 40,
     "metadata": {},
     "output_type": "execute_result"
    }
   ],
   "source": [
    "drumtypes['class'].value_counts()#tells you how many members each class has. The more similar, the better"
   ]
  },
  {
   "cell_type": "markdown",
   "id": "c227d985",
   "metadata": {},
   "source": [
    "Now, you separate the class vector (y) from the feature matrix (X) and display how many items and features you've got):"
   ]
  },
  {
   "cell_type": "code",
   "execution_count": 7,
   "id": "c1bf3d9b",
   "metadata": {},
   "outputs": [
    {
     "name": "stdout",
     "output_type": "stream",
     "text": [
      "X : (168, 5)\n"
     ]
    }
   ],
   "source": [
    "y = drumtypes['class']#these are the class labels that need to be predicted by the clasifier\n",
    "X = drumtypes.drop(['class'], axis = 1)# these are the features, excluding the classes\n",
    "print(f'X : {X.shape}')"
   ]
  },
  {
   "cell_type": "markdown",
   "id": "4d213150",
   "metadata": {},
   "source": [
    "Split the data into a training data set (train), and an evaluation data set (test). Using 80% for training and 20% for evaluation is quite common:"
   ]
  },
  {
   "cell_type": "code",
   "execution_count": 15,
   "id": "494dcdb6",
   "metadata": {},
   "outputs": [
    {
     "name": "stdout",
     "output_type": "stream",
     "text": [
      "X_train : (134, 5)\n",
      "y_train : (134,)\n",
      "X_test : (34, 5)\n",
      "y_test : (34,)\n"
     ]
    }
   ],
   "source": [
    "X_train, X_test, y_train, y_test = train_test_split(X, y, test_size=0.20, random_state=6)#46&73&74&77-> .812\n",
    "print(f'X_train : {X_train.shape}')\n",
    "print(f'y_train : {y_train.shape}')\n",
    "print(f'X_test : {X_test.shape}')\n",
    "print(f'y_test : {y_test.shape}')"
   ]
  },
  {
   "cell_type": "markdown",
   "id": "e3e791b4",
   "metadata": {},
   "source": [
    "# Random Forest Model"
   ]
  },
  {
   "cell_type": "markdown",
   "id": "d69f705a",
   "metadata": {},
   "source": [
    "The machine learning is just a one-liner. You transform the X_train (features) in such way that it results in the y_train (classes) according to the rules and metrics of the classifier using fit(). You memorize this transform. And you should display how well this worked for the training data:"
   ]
  },
  {
   "cell_type": "code",
   "execution_count": 78,
   "id": "cc9758d8",
   "metadata": {},
   "outputs": [
    {
     "name": "stdout",
     "output_type": "stream",
     "text": [
      "Train Accuracy: 1.000\n",
      "Test Accuracy: 0.471\n"
     ]
    }
   ],
   "source": [
    "rf = RandomForestClassifier()#load an instance of the RF classifier\n",
    "#rfn = RandomForestClassifier(n_estimators=100)#here you can manually set the desired number of trees in the forest\n",
    "rf.fit(X_train, y_train)#train the classifier on the train data\n",
    "#Plot acuracy: A train accuracy near 1 can indicate over-fitting, or very explanatory features\n",
    "# the higher the test accuracy, the better. To be sure, repeat with multiple seeds and calculate mean acc. & 95% Confidence\n",
    "# intervals or standard deviation\n",
    "print(f'Train Accuracy: {rf.score(X_train, y_train):.3f}')\n",
    "print(f'Test Accuracy: {rf.score(X_test, y_test):.3f}')"
   ]
  },
  {
   "cell_type": "markdown",
   "id": "a4ae9bec",
   "metadata": {},
   "source": [
    "A high training accuracy may indicate that each class clusters well and different classes separate well. Or it means that you over-fitted, i.e., that the machine learning captures every outlier instead of capturing the overall trends and tendencies  within the data. The higher the test accuracy, the better. When the test accuracy is low, this usually means that the features are not explanatory. But it can also mean that the machine learning algorithm is not able to find the structure behind the data distribution.\n",
    "\n",
    "In systematic musicology, we tend to have typologies, not classes. Classes are defined according to requirements that separates the class from other classes. Classes are mutually exclusive, i.e., one item can never belong to more than one class. One example for classes in musicology are the classes of musical instruments according to the oscillator: chordophones, membranophones, brass instruments (human lips vibrating), woodwind instruments (vibrating reed or air oscillation due to edge or blade), idiophones and electrophones. In contrast, musical genres are typologies. One music piece can be allocated, e.g., to both rock and hip hop. While each genre can be described in terms of typical elements, these are neither unique, nor exclusive to the genre."
   ]
  },
  {
   "cell_type": "markdown",
   "id": "4a6947ab",
   "metadata": {},
   "source": [
    "In the field of computer science, there used to be a focus on the performance of the machine learnign algorithm. The assumption is: When we have a dataset with a ground truth, i.e., objective class labels, the machine learning algorithm should be able to reproduce the ground truth as good as possible. Hence, they introduced metrics that enables them to compare the performance of different machine learning tools. These are the precision (correctly classified as x divided by all classified as x), recall (correctly classified as x divided by all items of the class x), f1-score (harmonic mean of precision and recall), accuracy (percentage of correct classifications), and, sometimes, the confusion matrix (true class over classified class):"
   ]
  },
  {
   "cell_type": "code",
   "execution_count": 164,
   "id": "0621b012",
   "metadata": {},
   "outputs": [
    {
     "name": "stdout",
     "output_type": "stream",
     "text": [
      "              precision    recall  f1-score   support\n",
      "\n",
      "           0       1.00      0.29      0.44         7\n",
      "           1       0.25      0.14      0.18         7\n",
      "           2       1.00      1.00      1.00         1\n",
      "           3       0.20      0.12      0.15         8\n",
      "           4       0.50      1.00      0.67        11\n",
      "\n",
      "    accuracy                           0.47        34\n",
      "   macro avg       0.59      0.51      0.49        34\n",
      "weighted avg       0.50      0.47      0.41        34\n",
      "\n",
      "[[ 2  2  0  2  1]\n",
      " [ 0  1  0  2  4]\n",
      " [ 0  0  1  0  0]\n",
      " [ 0  1  0  1  6]\n",
      " [ 0  0  0  0 11]]\n",
      "Train Accuracy: 1.000\n",
      "Test Accuracy: 0.471\n"
     ]
    },
    {
     "data": {
      "image/png": "[encoded data removed]",
      "text/plain": [
       "<Figure size 640x480 with 2 Axes>"
      ]
     },
     "metadata": {},
     "output_type": "display_data"
    }
   ],
   "source": [
    "from sklearn.metrics import confusion_matrix, ConfusionMatrixDisplay# to display confusion matrix\n",
    "rf_predict = rf.predict(X_test)\n",
    "cm = confusion_matrix(y_test, rf_predict)\n",
    "labels = ['bd', 'clap','hh','sd', 'TOM']\n",
    "cmd = ConfusionMatrixDisplay(cm, display_labels=labels)\n",
    "cmd.plot()# plots pretty confusion matrix\n",
    "print(classification_report(y_test, rf_predict))# reports precision, recall, f1-score and support\n",
    "print(confusion_matrix(y_test, rf_predict))# plots confusion matrix in text form\n",
    "print(f'Train Accuracy: {rf.score(X_train, y_train):.3f}')\n",
    "print(f'Test Accuracy: {rf.score(X_test, y_test):.3f}')"
   ]
  },
  {
   "cell_type": "markdown",
   "id": "6a5d131e",
   "metadata": {},
   "source": [
    "You can take a look at every single item to see the actual class and the predicted class (for all data):"
   ]
  },
  {
   "cell_type": "code",
   "execution_count": 61,
   "id": "3b7edf87",
   "metadata": {},
   "outputs": [
    {
     "data": {
      "text/plain": [
       "[[0, 3, 0],\n",
       " [1, 0, 0],\n",
       " [2, 1, 0],\n",
       " [3, 0, 0],\n",
       " [4, 3, 0],\n",
       " [5, 1, 0],\n",
       " [6, 4, 0],\n",
       " [7, 0, 0],\n",
       " [8, 0, 0],\n",
       " [9, 0, 0],\n",
       " [10, 0, 0],\n",
       " [11, 0, 0],\n",
       " [12, 0, 0],\n",
       " [13, 0, 0],\n",
       " [14, 0, 0],\n",
       " [15, 0, 0],\n",
       " [16, 0, 0],\n",
       " [17, 0, 0],\n",
       " [18, 0, 0],\n",
       " [19, 0, 0],\n",
       " [20, 0, 0],\n",
       " [21, 0, 0],\n",
       " [22, 0, 0],\n",
       " [23, 0, 0],\n",
       " [24, 0, 0],\n",
       " [25, 0, 0],\n",
       " [26, 0, 0],\n",
       " [27, 0, 0],\n",
       " [28, 0, 0],\n",
       " [29, 0, 0],\n",
       " [30, 0, 0],\n",
       " [31, 1, 1],\n",
       " [32, 1, 1],\n",
       " [33, 1, 1],\n",
       " [34, 1, 1],\n",
       " [35, 1, 1],\n",
       " [36, 1, 1],\n",
       " [37, 1, 1],\n",
       " [38, 0, 1],\n",
       " [39, 1, 1],\n",
       " [40, 1, 1],\n",
       " [41, 1, 1],\n",
       " [42, 1, 1],\n",
       " [43, 1, 1],\n",
       " [44, 1, 1],\n",
       " [45, 1, 1],\n",
       " [46, 1, 1],\n",
       " [47, 1, 1],\n",
       " [48, 1, 1],\n",
       " [49, 1, 1],\n",
       " [50, 1, 1],\n",
       " [51, 4, 1],\n",
       " [52, 4, 1],\n",
       " [53, 1, 1],\n",
       " [54, 4, 1],\n",
       " [55, 1, 1],\n",
       " [56, 1, 1],\n",
       " [57, 1, 1],\n",
       " [58, 1, 1],\n",
       " [59, 4, 1],\n",
       " [60, 1, 1],\n",
       " [61, 4, 1],\n",
       " [62, 2, 2],\n",
       " [63, 2, 2],\n",
       " [64, 2, 2],\n",
       " [65, 2, 2],\n",
       " [66, 2, 2],\n",
       " [67, 2, 2],\n",
       " [68, 2, 2],\n",
       " [69, 2, 2],\n",
       " [70, 2, 2],\n",
       " [71, 2, 2],\n",
       " [72, 2, 2],\n",
       " [73, 2, 2],\n",
       " [74, 2, 2],\n",
       " [75, 2, 2],\n",
       " [76, 2, 2],\n",
       " [77, 2, 2],\n",
       " [78, 2, 2],\n",
       " [79, 2, 2],\n",
       " [80, 3, 3],\n",
       " [81, 3, 3],\n",
       " [82, 3, 3],\n",
       " [83, 4, 3],\n",
       " [84, 3, 3],\n",
       " [85, 3, 3],\n",
       " [86, 3, 3],\n",
       " [87, 4, 3],\n",
       " [88, 1, 3],\n",
       " [89, 3, 3],\n",
       " [90, 3, 3],\n",
       " [91, 3, 3],\n",
       " [92, 3, 3],\n",
       " [93, 3, 3],\n",
       " [94, 3, 3],\n",
       " [95, 4, 3],\n",
       " [96, 4, 3],\n",
       " [97, 3, 3],\n",
       " [98, 3, 3],\n",
       " [99, 3, 3],\n",
       " [100, 4, 3],\n",
       " [101, 3, 3],\n",
       " [102, 3, 3],\n",
       " [103, 3, 3],\n",
       " [104, 3, 3],\n",
       " [105, 3, 3],\n",
       " [106, 3, 3],\n",
       " [107, 4, 3],\n",
       " [108, 3, 3],\n",
       " [109, 3, 3],\n",
       " [110, 3, 3],\n",
       " [111, 4, 4],\n",
       " [112, 4, 4],\n",
       " [113, 4, 4],\n",
       " [114, 4, 4],\n",
       " [115, 4, 4],\n",
       " [116, 4, 4],\n",
       " [117, 4, 4],\n",
       " [118, 4, 4],\n",
       " [119, 4, 4],\n",
       " [120, 4, 4],\n",
       " [121, 4, 4],\n",
       " [122, 4, 4],\n",
       " [123, 4, 4],\n",
       " [124, 4, 4],\n",
       " [125, 4, 4],\n",
       " [126, 4, 4],\n",
       " [127, 4, 4],\n",
       " [128, 4, 4],\n",
       " [129, 4, 4],\n",
       " [130, 4, 4],\n",
       " [131, 4, 4],\n",
       " [132, 4, 4],\n",
       " [133, 4, 4],\n",
       " [134, 4, 4],\n",
       " [135, 4, 4],\n",
       " [136, 4, 4],\n",
       " [137, 4, 4],\n",
       " [138, 4, 4],\n",
       " [139, 4, 4],\n",
       " [140, 4, 4],\n",
       " [141, 4, 4],\n",
       " [142, 4, 4],\n",
       " [143, 4, 4],\n",
       " [144, 4, 4],\n",
       " [145, 4, 4],\n",
       " [146, 4, 4],\n",
       " [147, 4, 4],\n",
       " [148, 4, 4],\n",
       " [149, 4, 4],\n",
       " [150, 4, 4],\n",
       " [151, 4, 4],\n",
       " [152, 4, 4],\n",
       " [153, 4, 4],\n",
       " [154, 4, 4],\n",
       " [155, 4, 4],\n",
       " [156, 4, 4],\n",
       " [157, 4, 4],\n",
       " [158, 4, 4],\n",
       " [159, 4, 4],\n",
       " [160, 4, 4],\n",
       " [161, 4, 4],\n",
       " [162, 4, 4],\n",
       " [163, 4, 4],\n",
       " [164, 4, 4],\n",
       " [165, 4, 4],\n",
       " [166, 4, 4],\n",
       " [167, 4, 4]]"
      ]
     },
     "execution_count": 61,
     "metadata": {},
     "output_type": "execute_result"
    }
   ],
   "source": [
    "npdrumtypes = drumtypes.to_numpy()# converts the DataFrame to a numpy array\n",
    "classification=[0]*len(npdrumtypes)\n",
    "for i in range(len(npdrumtypes)):\n",
    "    classification[i]=[i, rf.predict(X)[i],int(npdrumtypes[i,5])]#produces an array with item number, predicted class and actual class\n",
    "classification"
   ]
  },
  {
   "cell_type": "markdown",
   "id": "6b2da9b5",
   "metadata": {},
   "source": [
    "Or just for the test data:"
   ]
  },
  {
   "cell_type": "code",
   "execution_count": 67,
   "id": "88b57ed2",
   "metadata": {},
   "outputs": [
    {
     "data": {
      "text/plain": [
       "[[0, 3, 3],\n",
       " [1, 1, 1],\n",
       " [2, 4, 3],\n",
       " [3, 4, 1],\n",
       " [4, 4, 1],\n",
       " [5, 4, 4],\n",
       " [6, 4, 0],\n",
       " [7, 4, 4],\n",
       " [8, 4, 3],\n",
       " [9, 4, 3],\n",
       " [10, 3, 0],\n",
       " [11, 4, 1],\n",
       " [12, 1, 0],\n",
       " [13, 4, 4],\n",
       " [14, 2, 2],\n",
       " [15, 4, 1],\n",
       " [16, 4, 3],\n",
       " [17, 4, 1],\n",
       " [18, 3, 0],\n",
       " [19, 4, 4],\n",
       " [20, 4, 3],\n",
       " [21, 4, 4],\n",
       " [22, 4, 3],\n",
       " [23, 1, 3],\n",
       " [24, 4, 4],\n",
       " [25, 4, 4],\n",
       " [26, 4, 4],\n",
       " [27, 1, 0],\n",
       " [28, 4, 4],\n",
       " [29, 0, 0],\n",
       " [30, 4, 4],\n",
       " [31, 0, 0],\n",
       " [32, 0, 1],\n",
       " [33, 4, 4]]"
      ]
     },
     "execution_count": 67,
     "metadata": {},
     "output_type": "execute_result"
    }
   ],
   "source": [
    "testies = y_test.to_numpy()# converts the DataFrame to a numpy array\n",
    "classification=[0]*len(testies)\n",
    "for i in range(len(testies)):\n",
    "    classification[i]=[i, rf.predict(X_test)[i],int(testies[i])]#produces an array with item number, predicted class and actual class\n",
    "classification"
   ]
  },
  {
   "cell_type": "markdown",
   "id": "53352b49",
   "metadata": {},
   "source": [
    "For scientific purposes, it may be sufficient to split your data into training data and test data to present a proof of concept. However, in many field you train a model once, to use it in the future. In such cases, you have to save the trained model in a file, maybe transfer it to another user, who then loads and applies it. This can be done by means of a joblib file:"
   ]
  },
  {
   "cell_type": "code",
   "execution_count": 70,
   "id": "9ca03a69",
   "metadata": {},
   "outputs": [
    {
     "data": {
      "text/plain": [
       "['RF_compressed.joblib']"
      ]
     },
     "execution_count": 70,
     "metadata": {},
     "output_type": "execute_result"
    }
   ],
   "source": [
    "import joblib\n",
    "from sklearn.datasets import load_iris\n",
    "from sklearn.ensemble import RandomForestClassifier\n",
    "\n",
    "joblib.dump(rf,\"random_forest.joblib\")# for \n",
    "joblib.dump(rf, \"RF_compressed.joblib\", compress=3)# for a compressed file with a smaller file size"
   ]
  },
  {
   "cell_type": "markdown",
   "id": "f5ffe40b",
   "metadata": {},
   "source": [
    "And import it:"
   ]
  },
  {
   "cell_type": "code",
   "execution_count": 72,
   "id": "761e8270",
   "metadata": {},
   "outputs": [
    {
     "data": {
      "text/plain": [
       "array([0, 0, 0, 0, 0, 0, 0, 0, 0, 0, 0, 0, 0, 0, 0, 0, 0, 0, 0, 0, 0, 0,\n",
       "       0, 0, 0, 0, 0, 0, 0, 0, 0, 0, 0, 0, 0, 0, 0, 0, 0, 0, 0, 0, 0, 0,\n",
       "       0, 0, 0, 0, 0, 0, 0, 0, 0, 0, 0, 0, 0, 0, 0, 0, 0, 0, 0, 0, 0, 0,\n",
       "       0, 0, 0, 0, 0, 0, 0, 0, 0, 0, 0, 0, 0, 0, 0, 0, 0, 0, 0, 0, 0, 0,\n",
       "       0, 0, 0, 0, 0, 0, 0, 0, 0, 0, 0, 0, 0, 0, 0, 0, 0, 0, 0, 0, 0, 0,\n",
       "       0, 0, 0, 0, 0, 0, 0, 0, 0, 0, 0, 0, 0, 0, 0, 0, 0, 0, 0, 0, 0, 0,\n",
       "       0, 0, 0, 0, 0, 0, 0, 0, 0, 0, 0, 0, 0, 0, 0, 0, 0, 0, 0, 0, 0, 0,\n",
       "       0, 0, 0, 0, 0, 0, 0, 0, 0, 0, 0, 0, 0, 0], dtype=int64)"
      ]
     },
     "execution_count": 72,
     "metadata": {},
     "output_type": "execute_result"
    }
   ],
   "source": [
    "loaded_rf = joblib.load(\"random_forest.joblib\")\n",
    "# This is just to ensure that the loaded machine learning model is equal to the original one:\n",
    "loaded_rf.predict(X)-rf.predict(X)"
   ]
  },
  {
   "cell_type": "markdown",
   "id": "1bcd87a5",
   "metadata": {},
   "source": [
    "Some machine learning algorithms need normalized data in which all features have the same order of magnitude. The standard scaler carries out a linear transform such that the mean value is 0 and the standard deviation is 1:"
   ]
  },
  {
   "cell_type": "code",
   "execution_count": 74,
   "id": "48d285f1",
   "metadata": {},
   "outputs": [],
   "source": [
    "sc = StandardScaler()\n",
    "X = sc.fit_transform(X)\n",
    "# Naturally, you need to create new train and test data from the normalized matrix:\n",
    "X_train, X_test, y_train, y_test = train_test_split(X, y, test_size=0.20, random_state=6)"
   ]
  },
  {
   "cell_type": "code",
   "execution_count": 77,
   "id": "9743fe2a",
   "metadata": {},
   "outputs": [],
   "source": [
    "rfn = RandomForestClassifier(n_estimators=100)#here you can manually set the desired number of trees in the forest\n",
    "rfn.fit(X_train,y_train)\n",
    "predict = rfn.predict(X_test)"
   ]
  },
  {
   "cell_type": "markdown",
   "id": "d2018a56",
   "metadata": {},
   "source": [
    "# SVM Classifier"
   ]
  },
  {
   "cell_type": "code",
   "execution_count": 83,
   "id": "0524cf2e",
   "metadata": {},
   "outputs": [
    {
     "name": "stdout",
     "output_type": "stream",
     "text": [
      "Train Accuracy: 0.410\n",
      "Test Accuracy: 0.353\n"
     ]
    }
   ],
   "source": [
    "clf=svm.SVC()\n",
    "clf.fit(X_train, y_train)\n",
    "pred_clf = clf.predict(X_test)\n",
    "print(f'Train Accuracy: {clf.score(X_train, y_train):.3f}')\n",
    "print(f'Test Accuracy: {clf.score(X_test, y_test):.3f}')"
   ]
  },
  {
   "cell_type": "code",
   "execution_count": 85,
   "id": "82afe446",
   "metadata": {
    "scrolled": false
   },
   "outputs": [
    {
     "name": "stdout",
     "output_type": "stream",
     "text": [
      "              precision    recall  f1-score   support\n",
      "\n",
      "           0       0.00      0.00      0.00         7\n",
      "           1       0.00      0.00      0.00         7\n",
      "           2       1.00      1.00      1.00         1\n",
      "           3       0.00      0.00      0.00         8\n",
      "           4       0.34      1.00      0.51        11\n",
      "\n",
      "    accuracy                           0.35        34\n",
      "   macro avg       0.27      0.40      0.30        34\n",
      "weighted avg       0.14      0.35      0.19        34\n",
      "\n",
      "[[ 0  0  0  0  7]\n",
      " [ 0  0  0  0  7]\n",
      " [ 0  0  1  0  0]\n",
      " [ 0  1  0  0  7]\n",
      " [ 0  0  0  0 11]]\n"
     ]
    },
    {
     "name": "stderr",
     "output_type": "stream",
     "text": [
      "C:\\Users\\t_ziemer\\AppData\\Local\\Programs\\Python\\Python310\\lib\\site-packages\\sklearn\\metrics\\_classification.py:1334: UndefinedMetricWarning: Precision and F-score are ill-defined and being set to 0.0 in labels with no predicted samples. Use `zero_division` parameter to control this behavior.\n",
      "  _warn_prf(average, modifier, msg_start, len(result))\n",
      "C:\\Users\\t_ziemer\\AppData\\Local\\Programs\\Python\\Python310\\lib\\site-packages\\sklearn\\metrics\\_classification.py:1334: UndefinedMetricWarning: Precision and F-score are ill-defined and being set to 0.0 in labels with no predicted samples. Use `zero_division` parameter to control this behavior.\n",
      "  _warn_prf(average, modifier, msg_start, len(result))\n",
      "C:\\Users\\t_ziemer\\AppData\\Local\\Programs\\Python\\Python310\\lib\\site-packages\\sklearn\\metrics\\_classification.py:1334: UndefinedMetricWarning: Precision and F-score are ill-defined and being set to 0.0 in labels with no predicted samples. Use `zero_division` parameter to control this behavior.\n",
      "  _warn_prf(average, modifier, msg_start, len(result))\n"
     ]
    },
    {
     "data": {
      "text/plain": [
       "<sklearn.metrics._plot.confusion_matrix.ConfusionMatrixDisplay at 0x28f58ccf400>"
      ]
     },
     "execution_count": 85,
     "metadata": {},
     "output_type": "execute_result"
    },
    {
     "data": {
      "image/png": "[encoded data removed]",
      "text/plain": [
       "<Figure size 640x480 with 2 Axes>"
      ]
     },
     "metadata": {},
     "output_type": "display_data"
    }
   ],
   "source": [
    "print(classification_report(y_test, pred_clf))\n",
    "print(confusion_matrix(y_test, pred_clf))\n",
    "cm = confusion_matrix(y_test, pred_clf)\n",
    "cmd = ConfusionMatrixDisplay(cm, display_labels=labels)\n",
    "cmd.plot()"
   ]
  },
  {
   "cell_type": "markdown",
   "id": "e7236e8f",
   "metadata": {},
   "source": [
    "# Neural Network (Multi Layer Perceptron)"
   ]
  },
  {
   "cell_type": "code",
   "execution_count": 86,
   "id": "cbb0e09f",
   "metadata": {},
   "outputs": [
    {
     "name": "stdout",
     "output_type": "stream",
     "text": [
      "Train Accuracy: 0.485\n",
      "Test Accuracy: 0.382\n"
     ]
    },
    {
     "name": "stderr",
     "output_type": "stream",
     "text": [
      "C:\\Users\\t_ziemer\\AppData\\Local\\Programs\\Python\\Python310\\lib\\site-packages\\sklearn\\neural_network\\_multilayer_perceptron.py:702: ConvergenceWarning: Stochastic Optimizer: Maximum iterations (500) reached and the optimization hasn't converged yet.\n",
      "  warnings.warn(\n"
     ]
    }
   ],
   "source": [
    "mlpc = MLPClassifier(hidden_layer_sizes=(11,11,11), max_iter=500)\n",
    "mlpc.fit(X_train,y_train)\n",
    "pred_mlpc = mlpc.predict(X_test)\n",
    "print(f'Train Accuracy: {mlpc.score(X_train, y_train):.3f}')\n",
    "print(f'Test Accuracy: {mlpc.score(X_test, y_test):.3f}')"
   ]
  },
  {
   "cell_type": "code",
   "execution_count": 87,
   "id": "ed9c5964",
   "metadata": {
    "scrolled": false
   },
   "outputs": [
    {
     "name": "stdout",
     "output_type": "stream",
     "text": [
      "              precision    recall  f1-score   support\n",
      "\n",
      "           0       0.33      0.43      0.38         7\n",
      "           1       0.50      0.14      0.22         7\n",
      "           2       1.00      1.00      1.00         1\n",
      "           3       1.00      0.12      0.22         8\n",
      "           4       0.33      0.64      0.44        11\n",
      "\n",
      "    accuracy                           0.38        34\n",
      "   macro avg       0.63      0.47      0.45        34\n",
      "weighted avg       0.54      0.38      0.35        34\n",
      "\n",
      "[[3 0 0 0 4]\n",
      " [0 1 0 0 6]\n",
      " [0 0 1 0 0]\n",
      " [2 1 0 1 4]\n",
      " [4 0 0 0 7]]\n"
     ]
    },
    {
     "data": {
      "text/plain": [
       "<sklearn.metrics._plot.confusion_matrix.ConfusionMatrixDisplay at 0x28f58d80f10>"
      ]
     },
     "execution_count": 87,
     "metadata": {},
     "output_type": "execute_result"
    },
    {
     "data": {
      "image/png": "[encoded data removed]",
      "text/plain": [
       "<Figure size 640x480 with 2 Axes>"
      ]
     },
     "metadata": {},
     "output_type": "display_data"
    }
   ],
   "source": [
    "print(classification_report(y_test, pred_mlpc))\n",
    "print(confusion_matrix(y_test, pred_mlpc))\n",
    "cm = confusion_matrix(y_test, pred_mlpc)\n",
    "cmd = ConfusionMatrixDisplay(cm, display_labels=labels)\n",
    "cmd.plot()"
   ]
  },
  {
   "cell_type": "markdown",
   "id": "648d4957",
   "metadata": {},
   "source": [
    "From this example you can make some observations that generally hold:\n",
    "<ul>\n",
    "    <li>Classifiers perform much better during training than during testing</li>\n",
    "    <li>When one class is overly present during training, most items will be classified as this class (e.g., TOM)</li>\n",
    "</ul>\n",
    "\n",
    "Classifiers even tend to find statistical relationships when the features are nonsensical, i.e., when there is NO CAUSAL RELATIONSHIP between the fetures and the class. This is quite obvious from a mathematical viewpoint. As long as the data is less random than white noise, some general trands are observable. Identifying these trends (vaguely) leads to a classification above chance level. This is the most dangerous thing about classifiers: They only find statistical relationships. You as a researcher have to make sure that the features make sense. We therefore talk about \"interpretability\" or \"intuitiveness\" of the data. Not only should the classifier perform well. It is also important that obvious examples are classified right, it is fine if vague items are misclassified... "
   ]
  },
  {
   "cell_type": "markdown",
   "id": "9530c3b9",
   "metadata": {},
   "source": [
    "# Convolution Neural Network\n",
    "Convolutional Neural Networks (CNNs) are related to multi layer perceptrons. But instead of using all layers to modify the feature input, additional layers \"scan\" this input space (in fact, this is a correlation, implemented through a fast convolution method) for the presence of a particular pattern. Originally, this approach was meant to scan, e.g., a photograph for a particular characteristic, from certain edges, over specific shapes, to whole objects.\n",
    "\n",
    "First, you have to build the CNN model itself. In textbooks, you mostly find ways to analyze two-dimensional feature arrays, like pixel values from graphics, spectrograms in Hertz, in Mel, or in Bark. A 1D-case, as with time series or a bunch of features, looks a bit different:"
   ]
  },
  {
   "cell_type": "code",
   "execution_count": 140,
   "id": "107ffc9a",
   "metadata": {},
   "outputs": [],
   "source": [
    "import tensorflow as tf\n",
    "from tensorflow.keras.models import Sequential\n",
    "from tensorflow.keras.layers import Conv1D, MaxPooling1D, Flatten, Dense"
   ]
  },
  {
   "cell_type": "code",
   "execution_count": 146,
   "id": "3ce7a11e",
   "metadata": {},
   "outputs": [],
   "source": [
    "model = Sequential([\n",
    "    Conv1D(32, 3, activation='relu', input_shape=(5, 1)),\n",
    "    MaxPooling1D(2),\n",
    "    Flatten(),\n",
    "    Dense(64, activation='relu'),\n",
    "    Dense(num_classes, activation='softmax')\n",
    "])"
   ]
  },
  {
   "cell_type": "markdown",
   "id": "c613aa7c",
   "metadata": {},
   "source": [
    "The model description above is not a must at all! Ideally, you play around with different filters, sizes, and network architectures. In any way, you have to compile the model before running it:"
   ]
  },
  {
   "cell_type": "code",
   "execution_count": 147,
   "id": "32414945",
   "metadata": {},
   "outputs": [],
   "source": [
    "model.compile(optimizer='adam', loss='categorical_crossentropy', metrics=['accuracy'])"
   ]
  },
  {
   "cell_type": "code",
   "execution_count": 148,
   "id": "42a07bc6",
   "metadata": {},
   "outputs": [
    {
     "name": "stdout",
     "output_type": "stream",
     "text": [
      "Epoch 1/10\n",
      "\u001b[1m5/5\u001b[0m \u001b[32m━━━━━━━━━━━━━━━━━━━━\u001b[0m\u001b[37m\u001b[0m \u001b[1m4s\u001b[0m 42ms/step - accuracy: 0.2915 - loss: 1.6467 - val_accuracy: 0.3529 - val_loss: 1.6472\n",
      "Epoch 2/10\n",
      "\u001b[1m5/5\u001b[0m \u001b[32m━━━━━━━━━━━━━━━━━━━━\u001b[0m\u001b[37m\u001b[0m \u001b[1m0s\u001b[0m 9ms/step - accuracy: 0.3059 - loss: 1.6393 - val_accuracy: 0.4118 - val_loss: 1.6294\n",
      "Epoch 3/10\n",
      "\u001b[1m5/5\u001b[0m \u001b[32m━━━━━━━━━━━━━━━━━━━━\u001b[0m\u001b[37m\u001b[0m \u001b[1m0s\u001b[0m 9ms/step - accuracy: 0.3520 - loss: 1.5927 - val_accuracy: 0.3824 - val_loss: 1.6201\n",
      "Epoch 4/10\n",
      "\u001b[1m5/5\u001b[0m \u001b[32m━━━━━━━━━━━━━━━━━━━━\u001b[0m\u001b[37m\u001b[0m \u001b[1m0s\u001b[0m 8ms/step - accuracy: 0.3216 - loss: 1.6087 - val_accuracy: 0.3824 - val_loss: 1.6151\n",
      "Epoch 5/10\n",
      "\u001b[1m5/5\u001b[0m \u001b[32m━━━━━━━━━━━━━━━━━━━━\u001b[0m\u001b[37m\u001b[0m \u001b[1m0s\u001b[0m 9ms/step - accuracy: 0.3342 - loss: 1.5725 - val_accuracy: 0.3824 - val_loss: 1.6157\n",
      "Epoch 6/10\n",
      "\u001b[1m5/5\u001b[0m \u001b[32m━━━━━━━━━━━━━━━━━━━━\u001b[0m\u001b[37m\u001b[0m \u001b[1m0s\u001b[0m 13ms/step - accuracy: 0.3533 - loss: 1.5664 - val_accuracy: 0.3824 - val_loss: 1.6168\n",
      "Epoch 7/10\n",
      "\u001b[1m5/5\u001b[0m \u001b[32m━━━━━━━━━━━━━━━━━━━━\u001b[0m\u001b[37m\u001b[0m \u001b[1m0s\u001b[0m 10ms/step - accuracy: 0.3589 - loss: 1.5654 - val_accuracy: 0.3529 - val_loss: 1.6165\n",
      "Epoch 8/10\n",
      "\u001b[1m5/5\u001b[0m \u001b[32m━━━━━━━━━━━━━━━━━━━━\u001b[0m\u001b[37m\u001b[0m \u001b[1m0s\u001b[0m 11ms/step - accuracy: 0.3522 - loss: 1.5564 - val_accuracy: 0.3529 - val_loss: 1.6159\n",
      "Epoch 9/10\n",
      "\u001b[1m5/5\u001b[0m \u001b[32m━━━━━━━━━━━━━━━━━━━━\u001b[0m\u001b[37m\u001b[0m \u001b[1m0s\u001b[0m 10ms/step - accuracy: 0.3365 - loss: 1.5444 - val_accuracy: 0.3235 - val_loss: 1.6169\n",
      "Epoch 10/10\n",
      "\u001b[1m5/5\u001b[0m \u001b[32m━━━━━━━━━━━━━━━━━━━━\u001b[0m\u001b[37m\u001b[0m \u001b[1m0s\u001b[0m 9ms/step - accuracy: 0.3513 - loss: 1.5429 - val_accuracy: 0.3235 - val_loss: 1.6136\n"
     ]
    },
    {
     "data": {
      "text/plain": [
       "<keras.src.callbacks.history.History at 0x28f7c306620>"
      ]
     },
     "execution_count": 148,
     "metadata": {},
     "output_type": "execute_result"
    }
   ],
   "source": [
    "from tensorflow.keras.utils import to_categorical\n",
    "y_train_one_hot = to_categorical(y_train, num_classes)\n",
    "y_test_one_hot = to_categorical(y_test, num_classes)\n",
    "model.fit(X_train, y_train_one_hot, epochs=10, batch_size=32, validation_data=(X_test, y_test_one_hot))"
   ]
  },
  {
   "cell_type": "code",
   "execution_count": 150,
   "id": "0f49251d",
   "metadata": {},
   "outputs": [
    {
     "name": "stdout",
     "output_type": "stream",
     "text": [
      "\u001b[1m2/2\u001b[0m \u001b[32m━━━━━━━━━━━━━━━━━━━━\u001b[0m\u001b[37m\u001b[0m \u001b[1m0s\u001b[0m 4ms/step - accuracy: 0.3199 - loss: 1.6164 \n",
      "Accuracy: 0.3235294222831726\n"
     ]
    }
   ],
   "source": [
    "loss, accuracy = model.evaluate(X_test, y_test_one_hot)\n",
    "print(f'Accuracy: {accuracy}')"
   ]
  },
  {
   "cell_type": "markdown",
   "id": "1f6f247c",
   "metadata": {},
   "source": [
    "You can apply the trained CNN on new data now:"
   ]
  },
  {
   "cell_type": "code",
   "execution_count": null,
   "id": "6c7a4f82",
   "metadata": {},
   "outputs": [],
   "source": [
    "#predictions = model.predict(X_new_data)"
   ]
  },
  {
   "cell_type": "markdown",
   "id": "0bf392be",
   "metadata": {},
   "source": [
    "Naturally, you can save the trained model in a file and import it later or in another python file using:"
   ]
  },
  {
   "cell_type": "code",
   "execution_count": 155,
   "id": "1de10de7",
   "metadata": {},
   "outputs": [],
   "source": [
    "model.save('cnn_drums.keras')"
   ]
  },
  {
   "cell_type": "code",
   "execution_count": 156,
   "id": "38e01b1c",
   "metadata": {},
   "outputs": [],
   "source": [
    "from tensorflow.keras.models import load_model\n",
    "\n",
    "# Load the saved model\n",
    "loaded_model = load_model('cnn_drums.keras')\n",
    "#predictions = loaded_model.predict(X_new_data)"
   ]
  },
  {
   "cell_type": "markdown",
   "id": "fdb2bfeb",
   "metadata": {},
   "source": [
    "You can report the same statistics as for the other models, but in a slightly different way. Note that the performance is not necessarily better than the performance of any other machine learning approach. The strength of convolutional neural networks unfolds when you use it in the optimal way. Often, they are used on linear spectrograms or Bark-Band spectrograms, or Mel-frequency spectrograms and not on extracted features. Moreover, a deep neural network makes more sense if you feed it with a liong feature vector or array, or with raw data."
   ]
  },
  {
   "cell_type": "code",
   "execution_count": 168,
   "id": "d3a53eb5",
   "metadata": {},
   "outputs": [
    {
     "name": "stdout",
     "output_type": "stream",
     "text": [
      "\u001b[1m2/2\u001b[0m \u001b[32m━━━━━━━━━━━━━━━━━━━━\u001b[0m\u001b[37m\u001b[0m \u001b[1m0s\u001b[0m 5ms/step  \n",
      "              precision    recall  f1-score   support\n",
      "\n",
      "           0       0.00      0.00      0.00         7\n",
      "           1       0.00      0.00      0.00         7\n",
      "           2       0.00      0.00      0.00         1\n",
      "           3       0.00      0.00      0.00         8\n",
      "           4       0.33      1.00      0.50        11\n",
      "\n",
      "    accuracy                           0.32        34\n",
      "   macro avg       0.07      0.20      0.10        34\n",
      "weighted avg       0.11      0.32      0.16        34\n",
      "\n"
     ]
    },
    {
     "name": "stderr",
     "output_type": "stream",
     "text": [
      "C:\\Users\\t_ziemer\\AppData\\Local\\Programs\\Python\\Python310\\lib\\site-packages\\sklearn\\metrics\\_classification.py:1334: UndefinedMetricWarning: Precision and F-score are ill-defined and being set to 0.0 in labels with no predicted samples. Use `zero_division` parameter to control this behavior.\n",
      "  _warn_prf(average, modifier, msg_start, len(result))\n",
      "C:\\Users\\t_ziemer\\AppData\\Local\\Programs\\Python\\Python310\\lib\\site-packages\\sklearn\\metrics\\_classification.py:1334: UndefinedMetricWarning: Precision and F-score are ill-defined and being set to 0.0 in labels with no predicted samples. Use `zero_division` parameter to control this behavior.\n",
      "  _warn_prf(average, modifier, msg_start, len(result))\n",
      "C:\\Users\\t_ziemer\\AppData\\Local\\Programs\\Python\\Python310\\lib\\site-packages\\sklearn\\metrics\\_classification.py:1334: UndefinedMetricWarning: Precision and F-score are ill-defined and being set to 0.0 in labels with no predicted samples. Use `zero_division` parameter to control this behavior.\n",
      "  _warn_prf(average, modifier, msg_start, len(result))\n"
     ]
    },
    {
     "data": {
      "image/png": "[encoded data removed]",
      "text/plain": [
       "<Figure size 800x600 with 2 Axes>"
      ]
     },
     "metadata": {},
     "output_type": "display_data"
    }
   ],
   "source": [
    "y_pred_test = model.predict(X_test)\n",
    "y_pred_test_classes = y_pred_test.argmax(axis=1)\n",
    "\n",
    "# Convert one-hot encoded y_true_test to class labels\n",
    "y_true_test_classes = y_test_one_hot.argmax(axis=1)\n",
    "\n",
    "# Display classification report\n",
    "print(classification_report(y_true_test_classes, y_pred_test_classes))\n",
    "\n",
    "conf_matrix = confusion_matrix(y_true_test_classes, y_pred_test_classes)\n",
    "\n",
    "import numpy as np\n",
    "import matplotlib.pyplot as plt\n",
    "import seaborn as sns\n",
    "from sklearn.metrics import confusion_matrix\n",
    "\n",
    "# Create a heatmap for visualization\n",
    "plt.figure(figsize=(8, 6))\n",
    "sns.heatmap(conf_matrix, annot=True, fmt='d', cmap='viridis', xticklabels=labels, yticklabels=labels)\n",
    "plt.xlabel('Predicted labels')\n",
    "plt.ylabel('True labels')\n",
    "plt.title('Confusion Matrix')\n",
    "plt.show()"
   ]
  },
  {
   "cell_type": "code",
   "execution_count": null,
   "id": "4fb35d5a",
   "metadata": {},
   "outputs": [],
   "source": []
  }
 ],
 "metadata": {
  "kernelspec": {
   "display_name": "Python 3 (ipykernel)",
   "language": "python",
   "name": "python3"
  },
  "language_info": {
   "codemirror_mode": {
    "name": "ipython",
    "version": 3
   },
   "file_extension": ".py",
   "mimetype": "text/x-python",
   "name": "python",
   "nbconvert_exporter": "python",
   "pygments_lexer": "ipython3",
   "version": "3.10.7"
  }
 },
 "nbformat": 4,
 "nbformat_minor": 5
}
