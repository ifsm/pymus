{
 "cells": [
  {
   "cell_type": "markdown",
   "id": "f82d40aa-4011-41fc-b1d4-7421a3e467de",
   "metadata": {},
   "source": [
    "<h1>Classifiers</h1>"
   ]
  },
  {
   "cell_type": "code",
   "execution_count": 1,
   "id": "09f19bfd-7dec-48a2-84c4-74c2fd3593aa",
   "metadata": {},
   "outputs": [],
   "source": [
    "import pandas as pd\n",
    "from sklearn.tree import DecisionTreeClassifier\n",
    "from sklearn.model_selection import train_test_split\n",
    "from sklearn.metrics import accuracy_score\n",
    "from sklearn.ensemble import RandomForestClassifier\n",
    "from sklearn import svm\n",
    "from sklearn.naive_bayes import GaussianNB\n",
    "from sklearn.neural_network import MLPClassifier"
   ]
  },
  {
   "cell_type": "markdown",
   "id": "32570b0f-f295-4240-bc19-49c6e54794eb",
   "metadata": {},
   "source": [
    "<h2>Importing, Cleaning, Splitting</h2>"
   ]
  },
  {
   "cell_type": "code",
   "execution_count": 43,
   "id": "4206eb66-647f-4025-8111-40e3487f9e25",
   "metadata": {},
   "outputs": [],
   "source": [
    "spotify2000 = pd.read_csv('Spotify-2000.csv', thousands = ',')\n",
    "musicdata = spotify2000.drop(columns = ['Index', 'Title', 'Artist', 'Top Genre']) #Data is imported to musicdata without the Index\n",
    "\n",
    "mxmh_df = pd.read_csv('mxmh_survey_results.csv')\n",
    "\n",
    "#removing columns for simplicity\n",
    "mxmh = mxmh_df.drop(columns = ['Timestamp', 'Permissions', 'BPM', 'Music effects'])\n",
    "mxmh = mxmh.drop(mxmh.filter(regex = 'Frequency').columns, axis = 1) #dropping every 'Frequency' column"
   ]
  },
  {
   "cell_type": "code",
   "execution_count": 44,
   "id": "41a1149a-4360-40a2-b645-cd54e4d74f5d",
   "metadata": {},
   "outputs": [],
   "source": [
    "#function to turn all string values to unbiased integer values\n",
    "def encode_and_bind(original_dataframe, feature_to_encode):\n",
    "    dummies = pd.get_dummies(original_dataframe[[feature_to_encode]])\n",
    "    res = pd.concat([original_dataframe, dummies], axis = 1)\n",
    "    res = res.drop([feature_to_encode], axis = 1)\n",
    "    return(res)"
   ]
  },
  {
   "cell_type": "code",
   "execution_count": 46,
   "id": "c60f763b-86e3-4c76-b799-7666094fd5fe",
   "metadata": {},
   "outputs": [],
   "source": [
    "#Converting all Yes-or-No questions to boolean\n",
    "\n",
    "mxmh['Age'] = mxmh['Age'].fillna(mxmh['Age'].median())\n",
    "\n",
    "mxmh['While working'] = mxmh['While working'].ffill().replace(('Yes', 'No'), (1, 0)).astype(bool)\n",
    "\n",
    "mxmh['Instrumentalist'] = mxmh['Instrumentalist'].ffill().replace(('Yes', 'No'), (1, 0)).astype(bool)\n",
    "mxmh['Composer'] = mxmh['Composer'].ffill().replace(('Yes', 'No'), (1, 0)).astype(bool)\n",
    "mxmh['Foreign languages'] = mxmh['Foreign languages'].ffill().replace(('Yes', 'No'), (1, 0)).astype(bool)\n",
    "mxmh['Exploratory'] = mxmh['Exploratory'].replace(('Yes', 'No'), (1, 0)).astype(bool)"
   ]
  },
  {
   "cell_type": "code",
   "execution_count": 47,
   "id": "40d195b0-15a4-4d64-b1ff-e2d89f47ae15",
   "metadata": {},
   "outputs": [],
   "source": [
    "mxmh['Primary streaming service'] = mxmh['Primary streaming service'].bfill()\n",
    "\n",
    "#One-Hot Encoding all string values for the ML algorithm to use\n",
    "mxmh = encode_and_bind(mxmh, 'Fav genre')\n",
    "mxmh = encode_and_bind(mxmh, 'Primary streaming service')"
   ]
  },
  {
   "cell_type": "code",
   "execution_count": 53,
   "id": "65cf8e25-96c5-4a28-903a-f1eb1596d044",
   "metadata": {},
   "outputs": [
    {
     "name": "stdout",
     "output_type": "stream",
     "text": [
      "<class 'pandas.core.frame.DataFrame'>\n",
      "RangeIndex: 736 entries, 0 to 735\n",
      "Data columns (total 33 columns):\n",
      " #   Column                                                       Non-Null Count  Dtype  \n",
      "---  ------                                                       --------------  -----  \n",
      " 0   Age                                                          736 non-null    float64\n",
      " 1   Hours per day                                                736 non-null    float64\n",
      " 2   While working                                                736 non-null    bool   \n",
      " 3   Instrumentalist                                              736 non-null    bool   \n",
      " 4   Composer                                                     736 non-null    bool   \n",
      " 5   Exploratory                                                  736 non-null    bool   \n",
      " 6   Foreign languages                                            736 non-null    bool   \n",
      " 7   Anxiety                                                      736 non-null    float64\n",
      " 8   Depression                                                   736 non-null    float64\n",
      " 9   Insomnia                                                     736 non-null    float64\n",
      " 10  OCD                                                          736 non-null    float64\n",
      " 11  Fav genre_Classical                                          736 non-null    bool   \n",
      " 12  Fav genre_Country                                            736 non-null    bool   \n",
      " 13  Fav genre_EDM                                                736 non-null    bool   \n",
      " 14  Fav genre_Folk                                               736 non-null    bool   \n",
      " 15  Fav genre_Gospel                                             736 non-null    bool   \n",
      " 16  Fav genre_Hip hop                                            736 non-null    bool   \n",
      " 17  Fav genre_Jazz                                               736 non-null    bool   \n",
      " 18  Fav genre_K pop                                              736 non-null    bool   \n",
      " 19  Fav genre_Latin                                              736 non-null    bool   \n",
      " 20  Fav genre_Lofi                                               736 non-null    bool   \n",
      " 21  Fav genre_Metal                                              736 non-null    bool   \n",
      " 22  Fav genre_Pop                                                736 non-null    bool   \n",
      " 23  Fav genre_R&B                                                736 non-null    bool   \n",
      " 24  Fav genre_Rap                                                736 non-null    bool   \n",
      " 25  Fav genre_Rock                                               736 non-null    bool   \n",
      " 26  Fav genre_Video game music                                   736 non-null    bool   \n",
      " 27  Primary streaming service_Apple Music                        736 non-null    bool   \n",
      " 28  Primary streaming service_I do not use a streaming service.  736 non-null    bool   \n",
      " 29  Primary streaming service_Other streaming service            736 non-null    bool   \n",
      " 30  Primary streaming service_Pandora                            736 non-null    bool   \n",
      " 31  Primary streaming service_Spotify                            736 non-null    bool   \n",
      " 32  Primary streaming service_YouTube Music                      736 non-null    bool   \n",
      "dtypes: bool(27), float64(6)\n",
      "memory usage: 54.0 KB\n"
     ]
    }
   ],
   "source": [
    "mxmh.info()"
   ]
  },
  {
   "cell_type": "markdown",
   "id": "b89689a0-6ab3-4e8b-95e6-932e18130e47",
   "metadata": {},
   "source": [
    "Dataset should now be cleaned: duplicate entries removed, missing values checked etc."
   ]
  },
  {
   "cell_type": "code",
   "execution_count": 49,
   "id": "f99be31e-b753-4942-887d-a84ee3bb260c",
   "metadata": {},
   "outputs": [],
   "source": [
    "predictionvalue = 'Age'\n",
    "#X = mxmh.drop(mxmh.filter(regex = 'Fav genre').columns, axis = 1)\n",
    "X = mxmh.drop(columns = predictionvalue) #Input set, given to the algorithm for prediction, named X conventionally\n",
    "y = mxmh[predictionvalue] #Output set, what the algorithm should predict, named y conventionally"
   ]
  },
  {
   "cell_type": "markdown",
   "id": "9a6032dd-22d6-4bc0-942f-61832e6a3c45",
   "metadata": {},
   "source": [
    "70-80% of the dataset should be allocated to training."
   ]
  },
  {
   "cell_type": "code",
   "execution_count": 50,
   "id": "06760a97-0543-411e-995c-7520a0361c9a",
   "metadata": {},
   "outputs": [],
   "source": [
    "X_train, X_test, y_train, y_test = train_test_split(X, y, test_size = 0.2) #data is split into train and test set"
   ]
  },
  {
   "cell_type": "markdown",
   "id": "281e2d12-d7e7-4204-9e22-4971a0c0092c",
   "metadata": {},
   "source": [
    "<h2>Decision Tree Classifiers</h2>"
   ]
  },
  {
   "cell_type": "code",
   "execution_count": 51,
   "id": "3567fbd6-c1dc-4b48-a8a5-ec627ea12a6c",
   "metadata": {},
   "outputs": [],
   "source": [
    "model_tree = DecisionTreeClassifier()\n",
    "model_tree.fit(X_train, y_train) #passing the training set\n",
    "pred_tree = model_tree.predict(X_test) #passing the input set for testing"
   ]
  },
  {
   "cell_type": "code",
   "execution_count": 52,
   "id": "4bd2408b-07f7-4c30-b800-66183379f4a8",
   "metadata": {},
   "outputs": [
    {
     "name": "stdout",
     "output_type": "stream",
     "text": [
      "Accuracy: 0.060810810810810814\n"
     ]
    }
   ],
   "source": [
    "score_tree = accuracy_score(y_test, pred_tree)\n",
    "print('Accuracy:', score_tree) #printing the accuracy of the Decision Tree"
   ]
  },
  {
   "cell_type": "markdown",
   "id": "aed69e6c-dad8-4dd6-b650-495f98ecac7b",
   "metadata": {},
   "source": [
    "<h2>Random Forest Classifier</h2>"
   ]
  },
  {
   "cell_type": "code",
   "execution_count": 23,
   "id": "2f45e1b5-6f82-47f7-b01a-eeab00420f3c",
   "metadata": {},
   "outputs": [],
   "source": [
    "model_forest = RandomForestClassifier()\n",
    "model_forest.fit(X_train, y_train)\n",
    "pred_forest = model_forest.predict(X_test)"
   ]
  },
  {
   "cell_type": "code",
   "execution_count": 24,
   "id": "9d552c66-0083-4e3a-a509-baec2605cc3e",
   "metadata": {},
   "outputs": [
    {
     "name": "stdout",
     "output_type": "stream",
     "text": [
      "Accuracy: 0.8648648648648649\n"
     ]
    }
   ],
   "source": [
    "score_forest = accuracy_score(y_test, pred_forest)\n",
    "print('Accuracy:', score_forest)"
   ]
  },
  {
   "cell_type": "markdown",
   "id": "b6f6a139-a0a5-4563-91cb-19ff642673e7",
   "metadata": {},
   "source": [
    "<h2>Support Vector Machine</h2>"
   ]
  },
  {
   "cell_type": "code",
   "execution_count": 25,
   "id": "1c23af03-5543-41c5-857e-a0e99be832f5",
   "metadata": {},
   "outputs": [],
   "source": [
    "vector_clf = svm.SVC(kernel = 'poly')\n",
    "vector_clf.fit(X_train, y_train)\n",
    "pred_vector = vector_clf.predict(X_test)"
   ]
  },
  {
   "cell_type": "code",
   "execution_count": 26,
   "id": "3ee71a9d-a013-4eb4-882d-7c5785b2568f",
   "metadata": {},
   "outputs": [
    {
     "name": "stdout",
     "output_type": "stream",
     "text": [
      "Accuracy: 0.8648648648648649\n"
     ]
    }
   ],
   "source": [
    "score_vector = accuracy_score(y_test, pred_vector)\n",
    "print('Accuracy:', score_vector)"
   ]
  },
  {
   "cell_type": "markdown",
   "id": "d9bc5d92-ad57-45f7-aed1-9371eabbd479",
   "metadata": {},
   "source": [
    "<h2>Naive Bayes</h2>"
   ]
  },
  {
   "cell_type": "code",
   "execution_count": 27,
   "id": "1558db29-abee-4ac1-a6cc-635fddbe9dc7",
   "metadata": {},
   "outputs": [],
   "source": [
    "model_naive = GaussianNB()\n",
    "model_naive.fit(X_train, y_train)\n",
    "pred_naive = model_naive.predict(X_test)"
   ]
  },
  {
   "cell_type": "code",
   "execution_count": 28,
   "id": "5b301d9e-902f-4a35-8fab-581413b2a354",
   "metadata": {},
   "outputs": [
    {
     "name": "stdout",
     "output_type": "stream",
     "text": [
      "Accuracy: 0.8648648648648649\n"
     ]
    }
   ],
   "source": [
    "score_naive = accuracy_score(y_test, pred_vector)\n",
    "print('Accuracy:', score_naive)"
   ]
  },
  {
   "cell_type": "markdown",
   "id": "56d16f9c-d66d-41da-8693-51b1ff399546",
   "metadata": {},
   "source": [
    "<h2>Multi-Layer Perceptron</h2>"
   ]
  },
  {
   "cell_type": "code",
   "execution_count": 32,
   "id": "dcd63b7f-aaf7-4949-8ff4-2cf3107b127d",
   "metadata": {},
   "outputs": [],
   "source": [
    "model_mlp = MLPClassifier(solver = 'lbfgs', alpha = 1e-5, hidden_layer_sizes = (6,), random_state = 1, max_iter = 1000)\n",
    "model_mlp.fit(X_train, y_train)\n",
    "pred_mlp = model_mlp.predict(X_test)"
   ]
  },
  {
   "cell_type": "code",
   "execution_count": 33,
   "id": "d271a312-4f41-47a0-ad22-9a8e650e7640",
   "metadata": {},
   "outputs": [
    {
     "name": "stdout",
     "output_type": "stream",
     "text": [
      "Accuracy: 0.8648648648648649\n"
     ]
    }
   ],
   "source": [
    "score_mlp = accuracy_score(y_test, pred_mlp)\n",
    "print('Accuracy:', score_mlp)"
   ]
  },
  {
   "cell_type": "code",
   "execution_count": null,
   "id": "b9f593d7-0518-408e-8eda-b70e0a07312e",
   "metadata": {},
   "outputs": [],
   "source": []
  }
 ],
 "metadata": {
  "kernelspec": {
   "display_name": "Python 3 (ipykernel)",
   "language": "python",
   "name": "python3"
  },
  "language_info": {
   "codemirror_mode": {
    "name": "ipython",
    "version": 3
   },
   "file_extension": ".py",
   "mimetype": "text/x-python",
   "name": "python",
   "nbconvert_exporter": "python",
   "pygments_lexer": "ipython3",
   "version": "3.12.3"
  }
 },
 "nbformat": 4,
 "nbformat_minor": 5
}
