{
 "cells": [
  {
   "cell_type": "markdown",
   "id": "9b2a9604-df94-4120-a2dc-fcad2f536ea0",
   "metadata": {},
   "source": [
    "<center><u><h1>Basic Statistics</h1></u></center>"
   ]
  },
  {
   "cell_type": "markdown",
   "id": "eeb29418-3d2f-4c36-899c-679dc877bfa7",
   "metadata": {},
   "source": [
    "<h3>Calculate Min/Max</h3>"
   ]
  },
  {
   "cell_type": "markdown",
   "id": "be550e9a-e4ba-410c-88ec-4e809816e6d8",
   "metadata": {},
   "source": [
    "The Minimum and Maximum are useful to grasp the range of your data and provide a quick overview. You can either compare items of a list or various lists. You can use different keys to specify which Min/Max you're searching (e.g. sum or length)."
   ]
  },
  {
   "cell_type": "code",
   "execution_count": 7,
   "id": "2f9df5f2-07ba-47f3-a622-eea4c4dad491",
   "metadata": {},
   "outputs": [],
   "source": [
    "numbers=[8,6,35,-5,0,1,-40]"
   ]
  },
  {
   "cell_type": "code",
   "execution_count": 8,
   "id": "3b2b4cae-fad6-4c69-b264-24cd273a7adb",
   "metadata": {},
   "outputs": [
    {
     "data": {
      "text/plain": [
       "-40"
      ]
     },
     "execution_count": 8,
     "metadata": {},
     "output_type": "execute_result"
    }
   ],
   "source": [
    "min(numbers) #finding the lowest number"
   ]
  },
  {
   "cell_type": "code",
   "execution_count": 9,
   "id": "cf7b9215-050d-4759-b350-a612cd84e3a0",
   "metadata": {},
   "outputs": [
    {
     "data": {
      "text/plain": [
       "35"
      ]
     },
     "execution_count": 9,
     "metadata": {},
     "output_type": "execute_result"
    }
   ],
   "source": [
    "max(numbers) #finding the highest number "
   ]
  },
  {
   "cell_type": "code",
   "execution_count": 10,
   "id": "d08a971a-9c9a-4e45-980d-ad9e7f0196db",
   "metadata": {},
   "outputs": [],
   "source": [
    "words=[\"hi\", \"fellow\", \"students\"] #comparing strings (alphabetically)"
   ]
  },
  {
   "cell_type": "code",
   "execution_count": 11,
   "id": "881907fd-bce5-4753-b9c3-ce4810c17c31",
   "metadata": {},
   "outputs": [
    {
     "name": "stdout",
     "output_type": "stream",
     "text": [
      "fellow\n",
      "students\n"
     ]
    }
   ],
   "source": [
    "print (min(words))\n",
    "print (max(words))"
   ]
  },
  {
   "cell_type": "code",
   "execution_count": 12,
   "id": "2c8787de-fb86-4790-8f10-9df4393a3a10",
   "metadata": {},
   "outputs": [],
   "source": [
    "num1=[1,2,5]"
   ]
  },
  {
   "cell_type": "code",
   "execution_count": 13,
   "id": "240b9312-b581-4760-8c13-f86bb54ac86f",
   "metadata": {},
   "outputs": [],
   "source": [
    "num2=[0,2,4,5]"
   ]
  },
  {
   "cell_type": "code",
   "execution_count": 14,
   "id": "572534e2-22cc-4fab-814d-492d3efe9121",
   "metadata": {},
   "outputs": [
    {
     "data": {
      "text/plain": [
       "[0, 2, 4, 5]"
      ]
     },
     "execution_count": 14,
     "metadata": {},
     "output_type": "execute_result"
    }
   ],
   "source": [
    "min(num1,num2) #comparing the first item"
   ]
  },
  {
   "cell_type": "code",
   "execution_count": 15,
   "id": "2a3530ff-dcf8-4d91-8323-b20786da489b",
   "metadata": {},
   "outputs": [
    {
     "data": {
      "text/plain": [
       "[1, 2, 5]"
      ]
     },
     "execution_count": 15,
     "metadata": {},
     "output_type": "execute_result"
    }
   ],
   "source": [
    "min(num1,num2, key=lambda x:len(x)) #comparing length"
   ]
  },
  {
   "cell_type": "code",
   "execution_count": 16,
   "id": "17a9901f-a073-48fd-99d5-0e0b48d8da92",
   "metadata": {},
   "outputs": [
    {
     "data": {
      "text/plain": [
       "[0, 2, 4, 5]"
      ]
     },
     "execution_count": 16,
     "metadata": {},
     "output_type": "execute_result"
    }
   ],
   "source": [
    "max(num1,num2, key=lambda x:sum(x)) #comparing sum"
   ]
  },
  {
   "cell_type": "markdown",
   "id": "1a3f905f-6377-47b6-a3fb-4f59d5a5ecd1",
   "metadata": {},
   "source": [
    "<h3>Arithmetic Mean</h3>"
   ]
  },
  {
   "cell_type": "markdown",
   "id": "60c73df7-5d03-4d1a-b18f-6915db50175c",
   "metadata": {},
   "source": [
    "The Arithmetic Mean is the \"most basic\" and most common mean. It can be used for all kinds of numeric data, but (like all means) needs to be interpreted adequately (e.g. doesn't really make sense for ordinal ranking scales in a questionnaire)."
   ]
  },
  {
   "cell_type": "code",
   "execution_count": 17,
   "id": "29e9c6bf-4825-4013-84e3-108215a389e3",
   "metadata": {},
   "outputs": [],
   "source": [
    "import statistics as stat"
   ]
  },
  {
   "cell_type": "code",
   "execution_count": 18,
   "id": "2ae27dd4-d3e6-474f-997e-a4a92c0b6068",
   "metadata": {},
   "outputs": [
    {
     "data": {
      "text/plain": [
       "2.75"
      ]
     },
     "execution_count": 18,
     "metadata": {},
     "output_type": "execute_result"
    }
   ],
   "source": [
    "stat.mean(num2) #add up all values and divide by number of values"
   ]
  },
  {
   "cell_type": "markdown",
   "id": "bd3ddbf2-b294-44c7-97f1-fee4b2b7fbd0",
   "metadata": {},
   "source": [
    "<h3>Geometric Mean</h3>"
   ]
  },
  {
   "cell_type": "markdown",
   "id": "a16700c7-b1fb-4edf-a55f-6df3344f5724",
   "metadata": {},
   "source": [
    "The Geometric Mean is a type of mean that is used for numbers that are exponential in nature (e.g. statistical rates of human population growth)."
   ]
  },
  {
   "cell_type": "code",
   "execution_count": 19,
   "id": "2fc1dbc2-7a36-4600-a186-97a4a9011036",
   "metadata": {},
   "outputs": [],
   "source": [
    "from scipy.stats import gmean"
   ]
  },
  {
   "cell_type": "code",
   "execution_count": 20,
   "id": "8e10b7e0-000c-49b2-a32a-ad921cfb6d3b",
   "metadata": {},
   "outputs": [
    {
     "data": {
      "text/plain": [
       "2.154434690031884"
      ]
     },
     "execution_count": 20,
     "metadata": {},
     "output_type": "execute_result"
    }
   ],
   "source": [
    "gmean(num1) #nth root of n-factor product"
   ]
  },
  {
   "cell_type": "markdown",
   "id": "c90e4062-a64a-4e4c-9009-a0989997f700",
   "metadata": {},
   "source": [
    "<h3>Harmonic Mean</h3>"
   ]
  },
  {
   "cell_type": "markdown",
   "id": "90ad9311-90ad-42a6-adda-f42a8e53a6e2",
   "metadata": {},
   "source": [
    "The Harmonic Mean is a mean for proportional values. Harmonic mean gives less weightage to the large values and large weightage to the small values to balance the values correctly. It only takes positive input. It can be used for calculating e.g. the average speed."
   ]
  },
  {
   "cell_type": "code",
   "execution_count": 74,
   "id": "17534fbc-6df7-49ae-8409-0326b541d715",
   "metadata": {},
   "outputs": [
    {
     "data": {
      "text/plain": [
       "1.7647058823529411"
      ]
     },
     "execution_count": 74,
     "metadata": {},
     "output_type": "execute_result"
    }
   ],
   "source": [
    "stat.harmonic_mean([1,2,5]) #formula: n/(1/n1 +1/n2 +... +1/n)"
   ]
  },
  {
   "cell_type": "code",
   "execution_count": 75,
   "id": "aa8f6922-f55a-4876-a84f-9f74546ae1ef",
   "metadata": {},
   "outputs": [
    {
     "data": {
      "text/plain": [
       "66.66666666666667"
      ]
     },
     "execution_count": 75,
     "metadata": {},
     "output_type": "execute_result"
    }
   ],
   "source": [
    "stat.harmonic_mean([50,100]) #harmonic mean gives double weight to 50 in proportion to the 100 (2*50=100)"
   ]
  },
  {
   "cell_type": "code",
   "execution_count": 77,
   "id": "a99edaa1-b018-4976-8cf6-04ea6611aa0c",
   "metadata": {},
   "outputs": [
    {
     "data": {
      "text/plain": [
       "75"
      ]
     },
     "execution_count": 77,
     "metadata": {},
     "output_type": "execute_result"
    }
   ],
   "source": [
    "stat.mean([50,100]) #compare to arithmetic mean (you can see the 50 was weighted more in the harmonic mean)"
   ]
  },
  {
   "cell_type": "code",
   "execution_count": 24,
   "id": "db316ff2-ec2e-46c9-bf6d-57fe5c665008",
   "metadata": {},
   "outputs": [],
   "source": [
    "from scipy.stats import hmean"
   ]
  },
  {
   "cell_type": "code",
   "execution_count": 78,
   "id": "43b5a4db-3dd9-485d-860e-1206c9458f78",
   "metadata": {},
   "outputs": [
    {
     "data": {
      "text/plain": [
       "66.66666666666667"
      ]
     },
     "execution_count": 78,
     "metadata": {},
     "output_type": "execute_result"
    }
   ],
   "source": [
    "hmean([50,100], weights=[100,100]) #regular harmonic mean (with equal weights)"
   ]
  },
  {
   "cell_type": "code",
   "execution_count": 26,
   "id": "01de5de5-45b7-461a-91cc-a3ddc3854c0f",
   "metadata": {},
   "outputs": [
    {
     "data": {
      "text/plain": [
       "80.0"
      ]
     },
     "execution_count": 26,
     "metadata": {},
     "output_type": "execute_result"
    }
   ],
   "source": [
    "hmean([50,100], weights=[100,300]) #weighted harmonic mean (e.g. for km/h)"
   ]
  },
  {
   "cell_type": "markdown",
   "id": "1fb909e2-f592-46ac-a5ce-bb18c29b4bdb",
   "metadata": {},
   "source": [
    "In this case, 50 and 100 would be the speed (in km/h) and the distances traveled would be 100km and 300km. So the output is the average speed if one drives 50 km/h for 100km and 100km/h for 300km."
   ]
  },
  {
   "cell_type": "markdown",
   "id": "12836975-fef8-45aa-a947-896f65fc2a2b",
   "metadata": {},
   "source": [
    "<h3>Median</h3>"
   ]
  },
  {
   "cell_type": "markdown",
   "id": "aa3c333c-27ce-4546-bcec-ea30ba4085dc",
   "metadata": {},
   "source": [
    "The Median describes the middle value (50th percentile). You can imagine lining up ypur data in a sorted row and picking out the exact middle. The Median gives no weight to really big/small numbers since they are not part of any calculation and just objects in a row. It's suitable for e.g. finding the realistic avarage salary without distortion of a few really high/low salaries."
   ]
  },
  {
   "cell_type": "code",
   "execution_count": 27,
   "id": "b22b4d2c-b19f-4094-a65b-651c4c611574",
   "metadata": {},
   "outputs": [],
   "source": [
    "numbers=[8,6,35,-5,0,1,-40]"
   ]
  },
  {
   "cell_type": "code",
   "execution_count": 28,
   "id": "b45f2a7b-57d5-4c0d-a7bd-bc9024398efa",
   "metadata": {},
   "outputs": [],
   "source": [
    "numbers.sort()"
   ]
  },
  {
   "cell_type": "code",
   "execution_count": 29,
   "id": "21b5dda1-afa1-4f77-a20c-a91627e8161c",
   "metadata": {},
   "outputs": [
    {
     "name": "stdout",
     "output_type": "stream",
     "text": [
      "[-40, -5, 0, 1, 6, 8, 35]\n"
     ]
    }
   ],
   "source": [
    "print (numbers)"
   ]
  },
  {
   "cell_type": "code",
   "execution_count": 30,
   "id": "f2c4fe8e-4724-4210-be5a-05f6620f2a81",
   "metadata": {},
   "outputs": [
    {
     "data": {
      "text/plain": [
       "1"
      ]
     },
     "execution_count": 30,
     "metadata": {},
     "output_type": "execute_result"
    }
   ],
   "source": [
    "stat.median(numbers) #giving the middle value"
   ]
  },
  {
   "cell_type": "code",
   "execution_count": 31,
   "id": "9ae77514-5abb-44d5-b362-bbcd97584890",
   "metadata": {},
   "outputs": [
    {
     "data": {
      "text/plain": [
       "3.0"
      ]
     },
     "execution_count": 31,
     "metadata": {},
     "output_type": "execute_result"
    }
   ],
   "source": [
    "stat.median(num2) #if the number of values is even, the output will be the average of the two middle values"
   ]
  },
  {
   "cell_type": "markdown",
   "id": "bd626baf-26a9-4bd8-bf7e-7511e981e5a6",
   "metadata": {},
   "source": [
    "<h3>Mode</h3>"
   ]
  },
  {
   "cell_type": "markdown",
   "id": "77322341-08f2-47f0-9b1c-8e52b51501b2",
   "metadata": {},
   "source": [
    "The Mode is the most common item/number to appear in a set of data. This can be helpful to describe datasets."
   ]
  },
  {
   "cell_type": "code",
   "execution_count": 79,
   "id": "6ccd45cc-69fe-461b-80f2-7211e5cd6f3a",
   "metadata": {},
   "outputs": [
    {
     "data": {
      "text/plain": [
       "4"
      ]
     },
     "execution_count": 79,
     "metadata": {},
     "output_type": "execute_result"
    }
   ],
   "source": [
    "stat.mode([2,3,4,4,4,5,5,6]) "
   ]
  },
  {
   "cell_type": "code",
   "execution_count": 33,
   "id": "7ede88cc-7c45-4b95-93ee-9dff5eef474d",
   "metadata": {},
   "outputs": [
    {
     "data": {
      "text/plain": [
       "'hello'"
      ]
     },
     "execution_count": 33,
     "metadata": {},
     "output_type": "execute_result"
    }
   ],
   "source": [
    "stat.mode([\"hello\",\"fellow\",\"students\",\"hello\"]) #works for strings as well"
   ]
  },
  {
   "cell_type": "markdown",
   "id": "c179f323-0766-4d76-a904-4b1256440c70",
   "metadata": {},
   "source": [
    "<h3>Root Mean Square</h3>"
   ]
  },
  {
   "cell_type": "markdown",
   "id": "978ad10b-2969-47e3-a6cd-b14dfd17ffc1",
   "metadata": {},
   "source": [
    "The RMS is the square root of the arithmetic mean of a squared list of values. For this type of mean it doesn't matter if values are positive or negative."
   ]
  },
  {
   "cell_type": "code",
   "execution_count": 34,
   "id": "e1a011eb-2bbf-4d98-9944-80b604781af6",
   "metadata": {},
   "outputs": [],
   "source": [
    "import numpy as np"
   ]
  },
  {
   "cell_type": "code",
   "execution_count": 35,
   "id": "d47fa5de-bd42-4e40-8347-825b92a82001",
   "metadata": {},
   "outputs": [],
   "source": [
    "def square(list):\n",
    "    return [i ** 2 for i in list]\n",
    "def rms (list):\n",
    "    print (np.sqrt(stat.mean(square(list))))"
   ]
  },
  {
   "cell_type": "code",
   "execution_count": 80,
   "id": "d3d96484-1629-4372-91e8-448faccb9548",
   "metadata": {},
   "outputs": [],
   "source": [
    "#Formula: sqrt(mean(list**2))"
   ]
  },
  {
   "cell_type": "code",
   "execution_count": 37,
   "id": "1971e9f8-4003-4578-8e6f-6cdd34a5fd38",
   "metadata": {},
   "outputs": [],
   "source": [
    "x=2\n",
    "y=3\n",
    "z=4\n",
    "list1=[x,y,z]"
   ]
  },
  {
   "cell_type": "code",
   "execution_count": 81,
   "id": "8bba0c8b-e938-454f-afc9-ac7c6fc2229d",
   "metadata": {},
   "outputs": [
    {
     "name": "stdout",
     "output_type": "stream",
     "text": [
      "3.1091263510296048\n"
     ]
    }
   ],
   "source": [
    "rms (list1)"
   ]
  },
  {
   "cell_type": "code",
   "execution_count": 39,
   "id": "bda3ea62-7044-4b43-bbd4-d6130ee31970",
   "metadata": {},
   "outputs": [
    {
     "name": "stdout",
     "output_type": "stream",
     "text": [
      "6.164414002968976\n"
     ]
    }
   ],
   "source": [
    "rms ([4,5,6,7,8])"
   ]
  },
  {
   "cell_type": "markdown",
   "id": "37c90688-8474-4110-b018-d535293bc7d4",
   "metadata": {},
   "source": [
    "<h3>Count Frequencies</h3>"
   ]
  },
  {
   "cell_type": "markdown",
   "id": "add63df7-c96d-4151-8b24-cd5d8e054c1d",
   "metadata": {},
   "source": [
    "Counting Frequencies is an easy way to get a better understanding/an overview of your data. You can look at e.g. frequency distributions or most common numbers/items to appear in a set of data."
   ]
  },
  {
   "cell_type": "code",
   "execution_count": 82,
   "id": "d63ee302-2087-402c-b413-07cf01b25079",
   "metadata": {},
   "outputs": [
    {
     "data": {
      "text/plain": [
       "6"
      ]
     },
     "execution_count": 82,
     "metadata": {},
     "output_type": "execute_result"
    }
   ],
   "source": [
    "from collections import Counter\n",
    "words = ['apple', 'banana', 'apple', 'strawberry', 'banana', 'lemon']\n",
    "Counter(words).total() #counting total"
   ]
  },
  {
   "cell_type": "code",
   "execution_count": 83,
   "id": "be9d1803-0ec0-4a11-a7b2-82c41cc5b92b",
   "metadata": {},
   "outputs": [
    {
     "data": {
      "text/plain": [
       "[('apple', 2), ('banana', 2)]"
      ]
     },
     "execution_count": 83,
     "metadata": {},
     "output_type": "execute_result"
    }
   ],
   "source": [
    "Counter(words).most_common(2) #asking for most common 2 values in dataset"
   ]
  },
  {
   "cell_type": "code",
   "execution_count": 84,
   "id": "172a0635-fd43-485c-b6fe-b169d5d387b7",
   "metadata": {},
   "outputs": [
    {
     "data": {
      "text/plain": [
       "dict_items([('apple', 2), ('banana', 2), ('strawberry', 1), ('lemon', 1)])"
      ]
     },
     "execution_count": 84,
     "metadata": {},
     "output_type": "execute_result"
    }
   ],
   "source": [
    "Counter(words).items() #asking for a frequency distribution list"
   ]
  },
  {
   "cell_type": "code",
   "execution_count": 85,
   "id": "b7e2987d-e37d-4877-9347-964d7b4f86d4",
   "metadata": {},
   "outputs": [],
   "source": [
    "numbers2=[2,5,17,5,6,17,5,0] #of course works for numbers as well"
   ]
  },
  {
   "cell_type": "code",
   "execution_count": 44,
   "id": "3d1fa219-d41a-4017-8c5f-9d80b637a743",
   "metadata": {},
   "outputs": [
    {
     "data": {
      "text/plain": [
       "dict_items([(2, 1), (5, 3), (17, 2), (6, 1), (0, 1)])"
      ]
     },
     "execution_count": 44,
     "metadata": {},
     "output_type": "execute_result"
    }
   ],
   "source": [
    "Counter(numbers2).items()"
   ]
  },
  {
   "cell_type": "markdown",
   "id": "3b929f05-3187-499d-a59c-34b03e0e4327",
   "metadata": {},
   "source": [
    "<h3>Variance and Standard Deviation</h3>"
   ]
  },
  {
   "cell_type": "markdown",
   "id": "fa98f5d7-c919-4c1c-96b8-ba2f906c2abc",
   "metadata": {},
   "source": [
    "Variance and Standard Deviation indicate how spread values are. They can be helpful to interpret data and check if data might be distorted. Both look at the average deviation from the mean value. Lower Standard Deviation and Variance mean that the values are closer to the mean."
   ]
  },
  {
   "cell_type": "code",
   "execution_count": 86,
   "id": "6eea0ea0-666a-4c6a-bf2d-e639c5a9160e",
   "metadata": {},
   "outputs": [
    {
     "data": {
      "text/plain": [
       "35.859375"
      ]
     },
     "execution_count": 86,
     "metadata": {},
     "output_type": "execute_result"
    }
   ],
   "source": [
    "np.var(numbers2) #Variance"
   ]
  },
  {
   "cell_type": "code",
   "execution_count": 87,
   "id": "c47ead29-0d5c-4577-b26b-09b7e5063c50",
   "metadata": {},
   "outputs": [
    {
     "data": {
      "text/plain": [
       "5.988269783501742"
      ]
     },
     "execution_count": 87,
     "metadata": {},
     "output_type": "execute_result"
    }
   ],
   "source": [
    "np.sqrt(np.var(numbers2)) #Standard deviation (square root of variance)"
   ]
  },
  {
   "cell_type": "code",
   "execution_count": 88,
   "id": "956d7b24-b4ad-4192-859e-84ea70b6c4dc",
   "metadata": {},
   "outputs": [
    {
     "data": {
      "text/plain": [
       "5.988269783501742"
      ]
     },
     "execution_count": 88,
     "metadata": {},
     "output_type": "execute_result"
    }
   ],
   "source": [
    "np.std(numbers2) "
   ]
  },
  {
   "cell_type": "code",
   "execution_count": 48,
   "id": "c9c09ab8-bf6e-4d29-a007-ba393e8b39c7",
   "metadata": {},
   "outputs": [
    {
     "data": {
      "text/plain": [
       "449.41962573968664"
      ]
     },
     "execution_count": 48,
     "metadata": {},
     "output_type": "execute_result"
    }
   ],
   "source": [
    "numbers3=[1,100,1000]\n",
    "np.std(numbers3) #higher standard deviation means that values are further apart"
   ]
  },
  {
   "cell_type": "markdown",
   "id": "24765ee8-594a-4c39-9669-acbde6053e02",
   "metadata": {},
   "source": [
    "<h3>Skewness</h3>"
   ]
  },
  {
   "cell_type": "markdown",
   "id": "45c68f29-4be9-47c1-8523-17f0ffa85f2f",
   "metadata": {},
   "source": [
    "Skewness compares mean, mode and median and describes if the curve is more right/left centered or symmetrical. Skewness=0 indicates, that the curve is symmetrical and might be normally distributed if Kurtosis confirms that. Negative output indicates more weight in the left tail of the distribution, positive output indicates more weight in the right tail of the distribution."
   ]
  },
  {
   "cell_type": "code",
   "execution_count": 89,
   "id": "e69c47b9-27a4-4fc7-8e60-ba21f20d6b6e",
   "metadata": {},
   "outputs": [],
   "source": [
    "from scipy.stats import skew "
   ]
  },
  {
   "cell_type": "code",
   "execution_count": 90,
   "id": "da2a61b4-b639-44c1-969f-2fc97efbbfb6",
   "metadata": {},
   "outputs": [],
   "source": [
    "dataset=[65, 66, 82, 98, 56, 20, 45, 67, 89, 99, 68]"
   ]
  },
  {
   "cell_type": "code",
   "execution_count": 91,
   "id": "653e2195-12c7-472e-af3a-7a5a1cb92cb4",
   "metadata": {},
   "outputs": [
    {
     "data": {
      "text/plain": [
       "-0.5405620345249055"
      ]
     },
     "execution_count": 91,
     "metadata": {},
     "output_type": "execute_result"
    }
   ],
   "source": [
    "skew(dataset, axis=0, bias=True) #left centered"
   ]
  },
  {
   "cell_type": "code",
   "execution_count": 93,
   "id": "603e009a-d5f9-4ba2-9ac0-4b58eb013442",
   "metadata": {},
   "outputs": [],
   "source": [
    "datasetp=[1,2,3,4,5] "
   ]
  },
  {
   "cell_type": "code",
   "execution_count": 94,
   "id": "3a8d4a87-d04c-4c8c-8cff-56ec2216651b",
   "metadata": {},
   "outputs": [
    {
     "data": {
      "text/plain": [
       "0.0"
      ]
     },
     "execution_count": 94,
     "metadata": {},
     "output_type": "execute_result"
    }
   ],
   "source": [
    "skew(datasetp, axis=0, bias=True) #symmetrical"
   ]
  },
  {
   "cell_type": "markdown",
   "id": "3c3f0720-50e4-452e-b5cb-4548c4a77dce",
   "metadata": {},
   "source": [
    "<h3>Kurtosis</h3>"
   ]
  },
  {
   "cell_type": "markdown",
   "id": "646fc77b-1bb8-4301-9d83-8448b5201326",
   "metadata": {},
   "source": [
    "Kurtosis provides information about the shape of the frequency distribution. Kurtosis=3 indicates a normal distribution, Kurtosis smaller than 3 means that the dataset is heavytailed, Kurtosis greater than 3 means that the data has more weight at the center of the distribution (both compared to normal distribution)."
   ]
  },
  {
   "cell_type": "code",
   "execution_count": 97,
   "id": "8609b165-a621-41cb-9f7e-2bd223b2b5a6",
   "metadata": {},
   "outputs": [],
   "source": [
    "from scipy.stats import kurtosis "
   ]
  },
  {
   "cell_type": "code",
   "execution_count": 55,
   "id": "09dbff20-074b-498e-9177-350e408dc543",
   "metadata": {},
   "outputs": [],
   "source": [
    "datasetn=[27,36,38,38,40,40,40,40,42,42,42,42,42,42,42,44,44,44,44,44,44,44,44,44,46,46,46,46,46,46,46,46,46,48,48,48,48,48,48,48,50,50,50,50,52,52,54,62]"
   ]
  },
  {
   "cell_type": "code",
   "execution_count": 95,
   "id": "8d8addb4-23ef-4560-a10c-044e5faa2884",
   "metadata": {},
   "outputs": [
    {
     "data": {
      "text/plain": [
       "3.032077305526384"
      ]
     },
     "execution_count": 95,
     "metadata": {},
     "output_type": "execute_result"
    }
   ],
   "source": [
    "kurtosis(datasetn, axis=0, bias=True) #almost normally distributed"
   ]
  },
  {
   "cell_type": "code",
   "execution_count": 96,
   "id": "ee61def5-32e0-4eae-b76b-65e0ef3e8aeb",
   "metadata": {},
   "outputs": [
    {
     "data": {
      "text/plain": [
       "-0.17297452606718178"
      ]
     },
     "execution_count": 96,
     "metadata": {},
     "output_type": "execute_result"
    }
   ],
   "source": [
    "kurtosis(dataset, axis=0, bias=True) #heavy-tailed compared to normal distribution "
   ]
  },
  {
   "cell_type": "markdown",
   "id": "4ca43ad8-b1a0-4b4e-8e3a-a980145f80fc",
   "metadata": {},
   "source": [
    "<h3>Quartiles and Percentiles</h3>"
   ]
  },
  {
   "cell_type": "markdown",
   "id": "efc24531-9a80-4575-b6b9-aaf066f3cbbf",
   "metadata": {},
   "source": [
    "Quantiles and Percentiles are used to divide data into groups. Quartiles are four equally large group that cut at 25%, 50% and 75%. Percentiles cut at any percent value, most common is the 95th Percentile to discard infrequent peaks (top 5% of data) e.g. in electricity use."
   ]
  },
  {
   "cell_type": "code",
   "execution_count": 98,
   "id": "1c464720-292d-4353-b54b-5d024dc9b96c",
   "metadata": {},
   "outputs": [
    {
     "data": {
      "text/plain": [
       "array([42., 45., 48.])"
      ]
     },
     "execution_count": 98,
     "metadata": {},
     "output_type": "execute_result"
    }
   ],
   "source": [
    "np.quantile(datasetn, [0.25,0.5,0.75]) #Quartiles"
   ]
  },
  {
   "cell_type": "code",
   "execution_count": 99,
   "id": "ef3ef4bf-94c9-4f95-9828-43fcbf3d7134",
   "metadata": {},
   "outputs": [
    {
     "data": {
      "text/plain": [
       "52.0"
      ]
     },
     "execution_count": 99,
     "metadata": {},
     "output_type": "execute_result"
    }
   ],
   "source": [
    "np.percentile(datasetn,95) #95th percentile"
   ]
  },
  {
   "cell_type": "code",
   "execution_count": 101,
   "id": "12b73d25-d25e-4324-a308-ca6ab1e8c421",
   "metadata": {},
   "outputs": [],
   "source": [
    "arr=[[4,12,20],\n",
    "    [2,17,31]]\n",
    "arr1=[4,12,20] #1st row of arr\n",
    "arr2=[2,17,31] #2nd row of arr\n",
    "#can be used for arrays as well"
   ]
  },
  {
   "cell_type": "code",
   "execution_count": 100,
   "id": "383d0a83-1059-44f0-88c8-a7cae9e0622a",
   "metadata": {},
   "outputs": [
    {
     "data": {
      "text/plain": [
       "19.2"
      ]
     },
     "execution_count": 100,
     "metadata": {},
     "output_type": "execute_result"
    }
   ],
   "source": [
    "np.percentile(arr1,95)"
   ]
  },
  {
   "cell_type": "code",
   "execution_count": 62,
   "id": "18c06bdc-6c85-431b-9909-d4a80a478735",
   "metadata": {},
   "outputs": [
    {
     "data": {
      "text/plain": [
       "29.599999999999998"
      ]
     },
     "execution_count": 62,
     "metadata": {},
     "output_type": "execute_result"
    }
   ],
   "source": [
    "np.percentile(arr2,95)"
   ]
  },
  {
   "cell_type": "code",
   "execution_count": 63,
   "id": "ecfd6e43-360b-40e7-8152-f391d358032f",
   "metadata": {},
   "outputs": [
    {
     "data": {
      "text/plain": [
       "array([ 3.9 , 16.75, 30.45])"
      ]
     },
     "execution_count": 63,
     "metadata": {},
     "output_type": "execute_result"
    }
   ],
   "source": [
    "np.percentile(arr,95,axis=0) #columns"
   ]
  },
  {
   "cell_type": "code",
   "execution_count": 64,
   "id": "d420d8b5-1328-4b7e-bbd5-02d6e6c2d6ee",
   "metadata": {},
   "outputs": [
    {
     "data": {
      "text/plain": [
       "array([19.2, 29.6])"
      ]
     },
     "execution_count": 64,
     "metadata": {},
     "output_type": "execute_result"
    }
   ],
   "source": [
    "np.percentile(arr,95,axis=1) #rows"
   ]
  },
  {
   "cell_type": "code",
   "execution_count": 65,
   "id": "006d3194-7058-4a31-b7a0-0c4876db7dea",
   "metadata": {},
   "outputs": [
    {
     "data": {
      "text/plain": [
       "28.25"
      ]
     },
     "execution_count": 65,
     "metadata": {},
     "output_type": "execute_result"
    }
   ],
   "source": [
    "np.percentile(arr,95,axis=None) #whole array"
   ]
  },
  {
   "cell_type": "code",
   "execution_count": 66,
   "id": "92ef0aa6-11b6-46d2-b2f5-863c40cf5299",
   "metadata": {},
   "outputs": [
    {
     "data": {
      "text/plain": [
       "28.25"
      ]
     },
     "execution_count": 66,
     "metadata": {},
     "output_type": "execute_result"
    }
   ],
   "source": [
    "np.percentile(arr1+arr2,95) #multiple arrays"
   ]
  },
  {
   "cell_type": "markdown",
   "id": "4b885de9-0e07-4c72-84fd-9e46cfcfb759",
   "metadata": {},
   "source": [
    "<h3>Box Plots</h3>"
   ]
  },
  {
   "cell_type": "markdown",
   "id": "6f6eddef-de9f-4bb2-ac56-0bb5c029127d",
   "metadata": {},
   "source": [
    "Boxplots are used to show data distribution by picturing minimum, lowest quartile, median, highest quartile and maximum. They are the most common graph to be used in statistics because the show a large amount of information about the dataset. They have lots of customization possibilities, for example colour, size, axis, labels, form, position. You can find more information about that and the other topics in my \"helpful sources\" document!"
   ]
  },
  {
   "cell_type": "code",
   "execution_count": 67,
   "id": "0fb70290-4782-4f07-8467-577a7c60e8d7",
   "metadata": {},
   "outputs": [],
   "source": [
    "import matplotlib.pyplot as plt"
   ]
  },
  {
   "cell_type": "code",
   "execution_count": 69,
   "id": "ae07336c-039a-4968-8cce-dd643a6e370f",
   "metadata": {},
   "outputs": [
    {
     "data": {
      "image/png": "[encoded data removed]",
      "text/plain": [
       "<Figure size 640x480 with 1 Axes>"
      ]
     },
     "metadata": {},
     "output_type": "display_data"
    }
   ],
   "source": [
    "plt.boxplot(datasetn)\n",
    "plt.show() #dots are values that lie far off the others"
   ]
  },
  {
   "cell_type": "code",
   "execution_count": 70,
   "id": "3dbeef29-197e-4311-b300-13941598ed35",
   "metadata": {},
   "outputs": [
    {
     "data": {
      "image/png": "[encoded data removed]",
      "text/plain": [
       "<Figure size 640x480 with 1 Axes>"
      ]
     },
     "metadata": {},
     "output_type": "display_data"
    }
   ],
   "source": [
    "data=[arr1,arr2]\n",
    "plt.boxplot(data, patch_artist = True, vert = 0)\n",
    "plt.title(\"Arrays\")\n",
    "plt.xlabel(\"Values\")\n",
    "plt.grid(True)\n",
    "plt.show()"
   ]
  }
 ],
 "metadata": {
  "kernelspec": {
   "display_name": "Python 3 (ipykernel)",
   "language": "python",
   "name": "python3"
  },
  "language_info": {
   "codemirror_mode": {
    "name": "ipython",
    "version": 3
   },
   "file_extension": ".py",
   "mimetype": "text/x-python",
   "name": "python",
   "nbconvert_exporter": "python",
   "pygments_lexer": "ipython3",
   "version": "3.11.2"
  }
 },
 "nbformat": 4,
 "nbformat_minor": 5
}
