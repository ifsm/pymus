{
 "cells": [
  {
   "cell_type": "markdown",
   "id": "e05a733c-1259-4c54-8d32-70e46e8a2539",
   "metadata": {},
   "source": [
    "<h2>Statistics Tool</h2>"
   ]
  },
  {
   "cell_type": "markdown",
   "id": "0b5268d4-7bc4-4e2b-82c3-7444094e768a",
   "metadata": {},
   "source": [
    "<i> Insert your data and let python analyse it! </i>"
   ]
  },
  {
   "cell_type": "code",
   "execution_count": 155,
   "id": "f0d5c7af-3716-48fd-83ee-e3ad3c57faae",
   "metadata": {},
   "outputs": [],
   "source": [
    "import pandas as pd\n",
    "import statistics as stat\n",
    "import numpy as np\n",
    "import matplotlib.pyplot as plt\n",
    "from collections import Counter\n",
    "from scipy.stats import gmean\n",
    "from scipy.stats import hmean\n",
    "from scipy.stats import skew\n",
    "from scipy.stats import kurtosis"
   ]
  },
  {
   "cell_type": "markdown",
   "id": "e361a910-6b4a-4d90-890f-d5629b18cca9",
   "metadata": {},
   "source": [
    "Insert your CSV-File for \"sample.csv\". You might need to do some \"cleaning\" since this code can only process one column of data and compare numbers which belong to the same data group. \n",
    "Your file is now named \"dataset\". \n",
    "Most floats are rounded to 2 decimals."
   ]
  },
  {
   "cell_type": "code",
   "execution_count": 144,
   "id": "767ae99f-f2e5-4581-bdfd-f91885fd6ac6",
   "metadata": {},
   "outputs": [],
   "source": [
    "dataset1_df=pd.read_csv(\"sample.csv\")\n",
    "dataset1=dataset1_df.values.tolist() #reading the csv-file"
   ]
  },
  {
   "cell_type": "code",
   "execution_count": 36,
   "id": "bd88df20-9e6e-49b8-aa23-bd91d72eae88",
   "metadata": {},
   "outputs": [],
   "source": [
    "def flatten_extend(matrix):\n",
    "    flat_list=[]\n",
    "    for row in matrix:         \n",
    "        flat_list.extend(row)\n",
    "    return flat_list\n",
    "\n",
    "dataset=flatten_extend(dataset1) #this function converts your dataset to a list instead of an array"
   ]
  },
  {
   "cell_type": "code",
   "execution_count": 99,
   "id": "b589c6f7-ad5f-4b84-a05b-59e9e1042082",
   "metadata": {},
   "outputs": [
    {
     "data": {
      "text/plain": [
       "int"
      ]
     },
     "execution_count": 99,
     "metadata": {},
     "output_type": "execute_result"
    }
   ],
   "source": [
    "type (dataset [1]) #Make sure your dataset items are integers! You can check here"
   ]
  },
  {
   "cell_type": "code",
   "execution_count": 160,
   "id": "0c57b3a4-d669-4be5-8cdb-facf5fc5c97c",
   "metadata": {},
   "outputs": [
    {
     "name": "stdout",
     "output_type": "stream",
     "text": [
      "DESCRIPTION AND MEAN VALUES\n",
      "The Maximum is 65\n",
      "The Minimum is 25\n",
      "The Arithmetic Mean is 44.48\n",
      "The Geometric Mean is 43.01\n",
      "The Harmonic Mean is 41.5\n",
      "The Median is 45.0\n",
      "The Mode is 55\n"
     ]
    }
   ],
   "source": [
    "print (\"DESCRIPTION AND MEAN VALUES\")\n",
    "print (f'The Maximum is {max(dataset)}')\n",
    "print (f'The Minimum is {min(dataset)}')\n",
    "\n",
    "print (f'The Arithmetic Mean is {round(stat.mean(dataset),2)}')\n",
    "print (f'The Geometric Mean is {round(gmean(dataset),2)}')\n",
    "print (f'The Harmonic Mean is {round(hmean(dataset),2)}')\n",
    "\n",
    "print (f'The Median is {stat.median(dataset)}')\n",
    "print (f'The Mode is {stat.mode(dataset)}')\n"
   ]
  },
  {
   "cell_type": "code",
   "execution_count": 103,
   "id": "5b853678-6e41-4967-937b-b42a24f5c00c",
   "metadata": {},
   "outputs": [
    {
     "name": "stdout",
     "output_type": "stream",
     "text": [
      "This is the Root Mean Square:\n",
      "45.87023341179999\n"
     ]
    }
   ],
   "source": [
    "def square(list):\n",
    "    return [i ** 2 for i in list]\n",
    "def rms (list):\n",
    "    print(np.sqrt(stat.mean(square(list)))) #Function calculating the Root Mean Square\n",
    "\n",
    "print (f'This is the Root Mean Square:')\n",
    "rms (dataset)"
   ]
  },
  {
   "cell_type": "code",
   "execution_count": 141,
   "id": "f89c44da-f2b7-4988-9db2-3079a324541e",
   "metadata": {},
   "outputs": [
    {
     "name": "stdout",
     "output_type": "stream",
     "text": [
      "COUNT FREQUENCIES\n",
      "Your total number of values is 498\n",
      "This is a sorted Frequency Distribution List:\n"
     ]
    },
    {
     "data": {
      "text/plain": [
       "dict_items([(25, 9), (26, 8), (27, 13), (28, 13), (29, 11), (30, 19), (31, 16), (32, 9), (33, 9), (34, 12), (35, 10), (36, 15), (37, 13), (38, 10), (39, 11), (40, 15), (41, 13), (42, 15), (43, 10), (44, 5), (45, 29), (46, 16), (47, 15), (48, 13), (49, 10), (50, 11), (51, 15), (52, 10), (53, 11), (54, 11), (55, 30), (56, 9), (57, 9), (58, 10), (59, 10), (60, 9), (61, 6), (62, 7), (63, 9), (64, 14), (65, 8)])"
      ]
     },
     "execution_count": 141,
     "metadata": {},
     "output_type": "execute_result"
    }
   ],
   "source": [
    "print (\"COUNT FREQUENCIES\")\n",
    "print (f'Your total number of values is {Counter(dataset).total()}')\n",
    "dataset.sort()\n",
    "print (f'This is a sorted Frequency Distribution List:')\n",
    "Counter(dataset).items()"
   ]
  },
  {
   "cell_type": "code",
   "execution_count": 140,
   "id": "9ff9f906-1d41-4acd-a760-3096dd762736",
   "metadata": {},
   "outputs": [
    {
     "name": "stdout",
     "output_type": "stream",
     "text": [
      "DISTRIBUTION\n",
      "The Variance is 125.62\n",
      "The Standard Deviation is 11.21\n",
      "The Skewness is 0.03\n",
      "->Your data is slightly right centered\n",
      "The Kurtosis is -1.09\n",
      "->Your data has more weight in the tails of the distribution\n"
     ]
    }
   ],
   "source": [
    "print (\"DISTRIBUTION\")\n",
    "print (f'The Variance is {round(np.var(dataset),2)}')\n",
    "print (f'The Standard Deviation is {round(np.std(dataset),2)}')\n",
    "print (f'The Skewness is {round(skew(dataset, axis=0, bias=True),2)}')\n",
    "s=skew(dataset, axis=0, bias=True)\n",
    "if s==0:\n",
    "    print (\"->Your data is distributed symmetrically\")\n",
    "elif s<0:\n",
    "    if s>(-0.1):\n",
    "        print (\"->Your data is slightly left centered\")\n",
    "    else:\n",
    "        print (\"->Your data has more weight in the left tail of the distribution\")  \n",
    "else:\n",
    "    if s<(0.1):\n",
    "        print (\"->Your data is slightly right centered\")\n",
    "    else:\n",
    "        print (\"->Your data has more weight in the right tail of the distribution\")\n",
    "\n",
    "print (f'The Kurtosis is {round(kurtosis(dataset, axis=0, bias=True),2)}')\n",
    "k=kurtosis(dataset, axis=0, bias=True)\n",
    "if k==3:\n",
    "    print (\"->Your data is normally distributed\")\n",
    "elif k<3:\n",
    "    if k>(2.9):\n",
    "        print (\"->Your data is slightly heavy-tailed\")\n",
    "    else:\n",
    "        print (\"->Your data has more weight in the tails of the distribution\")  \n",
    "else:\n",
    "    if k<(3.1):\n",
    "        print (\"->Your data is slightly heavy-centered\")\n",
    "    else:\n",
    "        print (\"->Your data has more weight in the centre of the distribution\")"
   ]
  },
  {
   "cell_type": "code",
   "execution_count": 137,
   "id": "a1a8fb98-fc2f-4d39-97f8-c8504a1c3dc1",
   "metadata": {},
   "outputs": [
    {
     "name": "stdout",
     "output_type": "stream",
     "text": [
      "QUARTILES\n",
      "25% of your data is reached at 35.0\n",
      "50% of your data is reached at 45.0\n",
      "75% of your data is reached at 54.0\n"
     ]
    }
   ],
   "source": [
    "print (\"QUARTILES\")\n",
    "print (f'25% of your data is reached at {np.percentile(dataset,25)}')\n",
    "print (f'50% of your data is reached at {np.percentile(dataset,50)}')\n",
    "print (f'75% of your data is reached at {np.percentile(dataset,75)}')"
   ]
  },
  {
   "cell_type": "code",
   "execution_count": 159,
   "id": "01e9864c-d806-49f3-99ff-7e01a7b0c33b",
   "metadata": {},
   "outputs": [
    {
     "name": "stdout",
     "output_type": "stream",
     "text": [
      "95% of your data is reached at 63.0\n"
     ]
    }
   ],
   "source": [
    "percentile=95 #insert the perecentile you are looking for!\n",
    "print (f'{percentile}% of your data is reached at {np.percentile(dataset,(percentile))}')"
   ]
  },
  {
   "cell_type": "code",
   "execution_count": 162,
   "id": "95175b87-a3bb-4c25-bb1e-908d841b5f40",
   "metadata": {},
   "outputs": [
    {
     "data": {
      "image/png": "[encoded data removed]",
      "text/plain": [
       "<Figure size 640x480 with 1 Axes>"
      ]
     },
     "metadata": {},
     "output_type": "display_data"
    }
   ],
   "source": [
    "plt.boxplot(dataset)\n",
    "plt.title(\"BOXPLOT\")\n",
    "plt.grid(True)\n",
    "plt.show()"
   ]
  },
  {
   "cell_type": "markdown",
   "id": "2320adc3-04db-4f9b-a273-c82955ea7e4b",
   "metadata": {},
   "source": [
    "This is a simple boxplot. You can find ways to modify it on various websites. In general, you can find a lot more specific information and help online. I provided a few websites in my \"helpful sources\" document!"
   ]
  }
 ],
 "metadata": {
  "kernelspec": {
   "display_name": "Python 3 (ipykernel)",
   "language": "python",
   "name": "python3"
  },
  "language_info": {
   "codemirror_mode": {
    "name": "ipython",
    "version": 3
   },
   "file_extension": ".py",
   "mimetype": "text/x-python",
   "name": "python",
   "nbconvert_exporter": "python",
   "pygments_lexer": "ipython3",
   "version": "3.11.2"
  }
 },
 "nbformat": 4,
 "nbformat_minor": 5
}
