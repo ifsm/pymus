{
 "cells": [
  {
   "cell_type": "markdown",
   "id": "9b2a9604-df94-4120-a2dc-fcad2f536ea0",
   "metadata": {},
   "source": [
    "<center><u><h1>Basic Statistics</h1></u></center>"
   ]
  },
  {
   "cell_type": "markdown",
   "id": "eeb29418-3d2f-4c36-899c-679dc877bfa7",
   "metadata": {},
   "source": [
    "<h3>Calculate Min/Max</h3>"
   ]
  },
  {
   "cell_type": "code",
   "execution_count": 13,
   "id": "2f9df5f2-07ba-47f3-a622-eea4c4dad491",
   "metadata": {},
   "outputs": [],
   "source": [
    "numbers=[8,6,35,-5,0,1,-40]"
   ]
  },
  {
   "cell_type": "code",
   "execution_count": 110,
   "id": "3b2b4cae-fad6-4c69-b264-24cd273a7adb",
   "metadata": {},
   "outputs": [
    {
     "data": {
      "text/plain": [
       "-40"
      ]
     },
     "execution_count": 110,
     "metadata": {},
     "output_type": "execute_result"
    }
   ],
   "source": [
    "min(numbers)"
   ]
  },
  {
   "cell_type": "code",
   "execution_count": 111,
   "id": "e8906d0a-cbc5-41cc-9a48-c94c5cb56980",
   "metadata": {},
   "outputs": [
    {
     "data": {
      "text/plain": [
       "35"
      ]
     },
     "execution_count": 111,
     "metadata": {},
     "output_type": "execute_result"
    }
   ],
   "source": [
    "max(numbers)"
   ]
  },
  {
   "cell_type": "code",
   "execution_count": 15,
   "id": "d08a971a-9c9a-4e45-980d-ad9e7f0196db",
   "metadata": {},
   "outputs": [],
   "source": [
    "words=[\"hi\", \"fellow\", \"students\"]"
   ]
  },
  {
   "cell_type": "code",
   "execution_count": 16,
   "id": "881907fd-bce5-4753-b9c3-ce4810c17c31",
   "metadata": {},
   "outputs": [
    {
     "name": "stdout",
     "output_type": "stream",
     "text": [
      "fellow\n",
      "students\n"
     ]
    }
   ],
   "source": [
    "print (min(words))\n",
    "print (max(words))"
   ]
  },
  {
   "cell_type": "code",
   "execution_count": 17,
   "id": "2c8787de-fb86-4790-8f10-9df4393a3a10",
   "metadata": {},
   "outputs": [],
   "source": [
    "list1=[1,2,5]\n",
    "list2=[0,2,4,5]"
   ]
  },
  {
   "cell_type": "code",
   "execution_count": 76,
   "id": "572534e2-22cc-4fab-814d-492d3efe9121",
   "metadata": {},
   "outputs": [
    {
     "name": "stdout",
     "output_type": "stream",
     "text": [
      "[0, 2, 4, 5]\n",
      "[2, 3, 4]\n",
      "[0, 2, 4, 5]\n"
     ]
    }
   ],
   "source": [
    "print (min(list1,list2)) #comparing the first item\n",
    "print (min(list1,list2, key=lambda x:len(x))) #comparing length\n",
    "print (max(list1,list2, key=lambda x:sum(x))) #comparing sum"
   ]
  },
  {
   "cell_type": "markdown",
   "id": "1a3f905f-6377-47b6-a3fb-4f59d5a5ecd1",
   "metadata": {},
   "source": [
    "<h3>Arithmetic Mean</h3>"
   ]
  },
  {
   "cell_type": "code",
   "execution_count": 21,
   "id": "29e9c6bf-4825-4013-84e3-108215a389e3",
   "metadata": {},
   "outputs": [],
   "source": [
    "import statistics as stat"
   ]
  },
  {
   "cell_type": "code",
   "execution_count": 77,
   "id": "2ae27dd4-d3e6-474f-997e-a4a92c0b6068",
   "metadata": {},
   "outputs": [
    {
     "data": {
      "text/plain": [
       "2.75"
      ]
     },
     "execution_count": 77,
     "metadata": {},
     "output_type": "execute_result"
    }
   ],
   "source": [
    "stat.mean(list2)"
   ]
  },
  {
   "cell_type": "markdown",
   "id": "bd3ddbf2-b294-44c7-97f1-fee4b2b7fbd0",
   "metadata": {},
   "source": [
    "<h3>Geometric Mean</h3>"
   ]
  },
  {
   "cell_type": "code",
   "execution_count": 23,
   "id": "2fc1dbc2-7a36-4600-a186-97a4a9011036",
   "metadata": {},
   "outputs": [],
   "source": [
    "from scipy.stats import gmean"
   ]
  },
  {
   "cell_type": "code",
   "execution_count": 79,
   "id": "8e10b7e0-000c-49b2-a32a-ad921cfb6d3b",
   "metadata": {},
   "outputs": [
    {
     "data": {
      "text/plain": [
       "2.8844991406148166"
      ]
     },
     "execution_count": 79,
     "metadata": {},
     "output_type": "execute_result"
    }
   ],
   "source": [
    "gmean(list1)"
   ]
  },
  {
   "cell_type": "markdown",
   "id": "c90e4062-a64a-4e4c-9009-a0989997f700",
   "metadata": {},
   "source": [
    "<h3>Harmonic Mean</h3>"
   ]
  },
  {
   "cell_type": "code",
   "execution_count": 112,
   "id": "a5dbbb2d-867e-4b27-85ee-40860abfdce6",
   "metadata": {},
   "outputs": [],
   "source": [
    "import statistics as stat"
   ]
  },
  {
   "cell_type": "code",
   "execution_count": 81,
   "id": "aa8f6922-f55a-4876-a84f-9f74546ae1ef",
   "metadata": {},
   "outputs": [
    {
     "data": {
      "text/plain": [
       "66.66666666666667"
      ]
     },
     "execution_count": 81,
     "metadata": {},
     "output_type": "execute_result"
    }
   ],
   "source": [
    "stat.harmonic_mean([50,100])"
   ]
  },
  {
   "cell_type": "code",
   "execution_count": 27,
   "id": "a99edaa1-b018-4976-8cf6-04ea6611aa0c",
   "metadata": {},
   "outputs": [
    {
     "data": {
      "text/plain": [
       "75"
      ]
     },
     "execution_count": 27,
     "metadata": {},
     "output_type": "execute_result"
    }
   ],
   "source": [
    "stat.mean([50,100]) #compare to arithmetic mean"
   ]
  },
  {
   "cell_type": "code",
   "execution_count": 28,
   "id": "db316ff2-ec2e-46c9-bf6d-57fe5c665008",
   "metadata": {},
   "outputs": [],
   "source": [
    "from scipy.stats import hmean"
   ]
  },
  {
   "cell_type": "code",
   "execution_count": 29,
   "id": "43b5a4db-3dd9-485d-860e-1206c9458f78",
   "metadata": {},
   "outputs": [
    {
     "data": {
      "text/plain": [
       "66.66666666666667"
      ]
     },
     "execution_count": 29,
     "metadata": {},
     "output_type": "execute_result"
    }
   ],
   "source": [
    "hmean([50,100], weights=[100,100]) #regular harmonic mean"
   ]
  },
  {
   "cell_type": "code",
   "execution_count": 82,
   "id": "01de5de5-45b7-461a-91cc-a3ddc3854c0f",
   "metadata": {},
   "outputs": [
    {
     "data": {
      "text/plain": [
       "80.0"
      ]
     },
     "execution_count": 82,
     "metadata": {},
     "output_type": "execute_result"
    }
   ],
   "source": [
    "hmean([50,100], weights=[100,300]) #weighted harmonic mean"
   ]
  },
  {
   "cell_type": "markdown",
   "id": "12836975-fef8-45aa-a947-896f65fc2a2b",
   "metadata": {},
   "source": [
    "<h3>Median</h3>"
   ]
  },
  {
   "cell_type": "code",
   "execution_count": 113,
   "id": "233f6dc4-64ab-44dd-aba1-d2b560807f10",
   "metadata": {},
   "outputs": [],
   "source": [
    "import statistics as stat"
   ]
  },
  {
   "cell_type": "code",
   "execution_count": 84,
   "id": "f2c4fe8e-4724-4210-be5a-05f6620f2a81",
   "metadata": {},
   "outputs": [
    {
     "data": {
      "text/plain": [
       "1"
      ]
     },
     "execution_count": 84,
     "metadata": {},
     "output_type": "execute_result"
    }
   ],
   "source": [
    "stat.median(numbers)"
   ]
  },
  {
   "cell_type": "markdown",
   "id": "bd626baf-26a9-4bd8-bf7e-7511e981e5a6",
   "metadata": {},
   "source": [
    "<h3>Mode</h3>"
   ]
  },
  {
   "cell_type": "code",
   "execution_count": 114,
   "id": "a8a1758c-ccd8-4b58-835c-572c16105f91",
   "metadata": {},
   "outputs": [],
   "source": [
    "import statistics as stat"
   ]
  },
  {
   "cell_type": "code",
   "execution_count": 85,
   "id": "6ccd45cc-69fe-461b-80f2-7211e5cd6f3a",
   "metadata": {},
   "outputs": [
    {
     "data": {
      "text/plain": [
       "4"
      ]
     },
     "execution_count": 85,
     "metadata": {},
     "output_type": "execute_result"
    }
   ],
   "source": [
    "stat.mode([2,3,4,4,4,5,5,6]) "
   ]
  },
  {
   "cell_type": "code",
   "execution_count": 86,
   "id": "7ede88cc-7c45-4b95-93ee-9dff5eef474d",
   "metadata": {},
   "outputs": [
    {
     "data": {
      "text/plain": [
       "'hello'"
      ]
     },
     "execution_count": 86,
     "metadata": {},
     "output_type": "execute_result"
    }
   ],
   "source": [
    "stat.mode([\"hello\",\"fellow\",\"students\",\"hello\"])"
   ]
  },
  {
   "cell_type": "markdown",
   "id": "c179f323-0766-4d76-a904-4b1256440c70",
   "metadata": {},
   "source": [
    "<h3>Root Mean Square</h3>"
   ]
  },
  {
   "cell_type": "code",
   "execution_count": 38,
   "id": "e1a011eb-2bbf-4d98-9944-80b604781af6",
   "metadata": {},
   "outputs": [],
   "source": [
    "import numpy as np"
   ]
  },
  {
   "cell_type": "code",
   "execution_count": 39,
   "id": "d47fa5de-bd42-4e40-8347-825b92a82001",
   "metadata": {},
   "outputs": [],
   "source": [
    "def square(list):\n",
    "    return [i ** 2 for i in list]\n",
    "def rms (list):\n",
    "    print (np.sqrt(stat.mean(square(list))))"
   ]
  },
  {
   "cell_type": "code",
   "execution_count": 89,
   "id": "bda3ea62-7044-4b43-bbd4-d6130ee31970",
   "metadata": {},
   "outputs": [
    {
     "name": "stdout",
     "output_type": "stream",
     "text": [
      "20.532204669041963\n"
     ]
    }
   ],
   "source": [
    "rms (numbers)"
   ]
  },
  {
   "cell_type": "markdown",
   "id": "37c90688-8474-4110-b018-d535293bc7d4",
   "metadata": {},
   "source": [
    "<h3>Count Frequencies</h3>"
   ]
  },
  {
   "cell_type": "code",
   "execution_count": 93,
   "id": "d63ee302-2087-402c-b413-07cf01b25079",
   "metadata": {},
   "outputs": [
    {
     "data": {
      "text/plain": [
       "6"
      ]
     },
     "execution_count": 93,
     "metadata": {},
     "output_type": "execute_result"
    }
   ],
   "source": [
    "from collections import Counter\n",
    "words2 = ['apple', 'banana', 'apple', 'strawberry', 'banana', 'lemon']\n",
    "Counter(words2).total()"
   ]
  },
  {
   "cell_type": "code",
   "execution_count": 92,
   "id": "be9d1803-0ec0-4a11-a7b2-82c41cc5b92b",
   "metadata": {},
   "outputs": [
    {
     "data": {
      "text/plain": [
       "[('apple', 2), ('banana', 2)]"
      ]
     },
     "execution_count": 92,
     "metadata": {},
     "output_type": "execute_result"
    }
   ],
   "source": [
    "Counter(words2).most_common(2)"
   ]
  },
  {
   "cell_type": "code",
   "execution_count": 94,
   "id": "172a0635-fd43-485c-b6fe-b169d5d387b7",
   "metadata": {},
   "outputs": [
    {
     "data": {
      "text/plain": [
       "dict_items([('apple', 2), ('banana', 2), ('strawberry', 1), ('lemon', 1)])"
      ]
     },
     "execution_count": 94,
     "metadata": {},
     "output_type": "execute_result"
    }
   ],
   "source": [
    "Counter(words2).items()"
   ]
  },
  {
   "cell_type": "code",
   "execution_count": 88,
   "id": "3d1fa219-d41a-4017-8c5f-9d80b637a743",
   "metadata": {},
   "outputs": [
    {
     "data": {
      "text/plain": [
       "dict_items([(-40, 1), (-5, 1), (0, 1), (1, 1), (6, 1), (8, 1), (35, 1)])"
      ]
     },
     "execution_count": 88,
     "metadata": {},
     "output_type": "execute_result"
    }
   ],
   "source": [
    "Counter(numbers).items()"
   ]
  },
  {
   "cell_type": "markdown",
   "id": "3b929f05-3187-499d-a59c-34b03e0e4327",
   "metadata": {},
   "source": [
    "<h3>Variance and Standard Deviation</h3>"
   ]
  },
  {
   "cell_type": "code",
   "execution_count": 47,
   "id": "b7e2987d-e37d-4877-9347-964d7b4f86d4",
   "metadata": {},
   "outputs": [],
   "source": [
    "numbers2=[2,5,17,5,6,17,5,0]"
   ]
  },
  {
   "cell_type": "code",
   "execution_count": 115,
   "id": "8063a99d-bce8-4ce5-bb05-d35908d9d25a",
   "metadata": {},
   "outputs": [],
   "source": [
    "import numpy as np"
   ]
  },
  {
   "cell_type": "code",
   "execution_count": 95,
   "id": "6eea0ea0-666a-4c6a-bf2d-e639c5a9160e",
   "metadata": {},
   "outputs": [
    {
     "data": {
      "text/plain": [
       "35.859375"
      ]
     },
     "execution_count": 95,
     "metadata": {},
     "output_type": "execute_result"
    }
   ],
   "source": [
    "np.var(numbers2)"
   ]
  },
  {
   "cell_type": "code",
   "execution_count": 96,
   "id": "956d7b24-b4ad-4192-859e-84ea70b6c4dc",
   "metadata": {},
   "outputs": [
    {
     "data": {
      "text/plain": [
       "5.988269783501742"
      ]
     },
     "execution_count": 96,
     "metadata": {},
     "output_type": "execute_result"
    }
   ],
   "source": [
    "np.std(numbers2)"
   ]
  },
  {
   "cell_type": "code",
   "execution_count": 97,
   "id": "c9c09ab8-bf6e-4d29-a007-ba393e8b39c7",
   "metadata": {},
   "outputs": [
    {
     "data": {
      "text/plain": [
       "449.41962573968664"
      ]
     },
     "execution_count": 97,
     "metadata": {},
     "output_type": "execute_result"
    }
   ],
   "source": [
    "numbers3=[1,100,1000]\n",
    "np.std(numbers3) "
   ]
  },
  {
   "cell_type": "markdown",
   "id": "24765ee8-594a-4c39-9669-acbde6053e02",
   "metadata": {},
   "source": [
    "<h3>Skewness</h3>"
   ]
  },
  {
   "cell_type": "code",
   "execution_count": 98,
   "id": "e69c47b9-27a4-4fc7-8e60-ba21f20d6b6e",
   "metadata": {},
   "outputs": [],
   "source": [
    "from scipy.stats import skew"
   ]
  },
  {
   "cell_type": "code",
   "execution_count": 54,
   "id": "da2a61b4-b639-44c1-969f-2fc97efbbfb6",
   "metadata": {},
   "outputs": [],
   "source": [
    "dataset=[65, 66, 82, 98, 56, 20, 45, 67, 89, 99, 68]"
   ]
  },
  {
   "cell_type": "code",
   "execution_count": 99,
   "id": "653e2195-12c7-472e-af3a-7a5a1cb92cb4",
   "metadata": {},
   "outputs": [
    {
     "data": {
      "text/plain": [
       "-0.5405620345249055"
      ]
     },
     "execution_count": 99,
     "metadata": {},
     "output_type": "execute_result"
    }
   ],
   "source": [
    "skew(dataset, axis=0, bias=True) "
   ]
  },
  {
   "cell_type": "code",
   "execution_count": 100,
   "id": "603e009a-d5f9-4ba2-9ac0-4b58eb013442",
   "metadata": {},
   "outputs": [],
   "source": [
    "datasetp=[1,2,3,4,5]"
   ]
  },
  {
   "cell_type": "code",
   "execution_count": 101,
   "id": "3a8d4a87-d04c-4c8c-8cff-56ec2216651b",
   "metadata": {},
   "outputs": [
    {
     "data": {
      "text/plain": [
       "0.0"
      ]
     },
     "execution_count": 101,
     "metadata": {},
     "output_type": "execute_result"
    }
   ],
   "source": [
    "skew(datasetp, axis=0, bias=True) "
   ]
  },
  {
   "cell_type": "markdown",
   "id": "3c3f0720-50e4-452e-b5cb-4548c4a77dce",
   "metadata": {},
   "source": [
    "<h3>Kurtosis</h3>"
   ]
  },
  {
   "cell_type": "code",
   "execution_count": 116,
   "id": "8609b165-a621-41cb-9f7e-2bd223b2b5a6",
   "metadata": {},
   "outputs": [],
   "source": [
    "from scipy.stats import kurtosis"
   ]
  },
  {
   "cell_type": "code",
   "execution_count": 103,
   "id": "ee61def5-32e0-4eae-b76b-65e0ef3e8aeb",
   "metadata": {},
   "outputs": [
    {
     "data": {
      "text/plain": [
       "-0.17297452606718178"
      ]
     },
     "execution_count": 103,
     "metadata": {},
     "output_type": "execute_result"
    }
   ],
   "source": [
    "kurtosis(dataset, axis=0, bias=True)"
   ]
  },
  {
   "cell_type": "markdown",
   "id": "4ca43ad8-b1a0-4b4e-8e3a-a980145f80fc",
   "metadata": {},
   "source": [
    "<h3>Quartiles and Percentiles</h3>"
   ]
  },
  {
   "cell_type": "code",
   "execution_count": 117,
   "id": "95815f3c-0899-4ca6-b145-04873432e49e",
   "metadata": {},
   "outputs": [],
   "source": [
    "import numpy as np"
   ]
  },
  {
   "cell_type": "code",
   "execution_count": 104,
   "id": "1c464720-292d-4353-b54b-5d024dc9b96c",
   "metadata": {},
   "outputs": [
    {
     "data": {
      "text/plain": [
       "array([42., 45., 48.])"
      ]
     },
     "execution_count": 104,
     "metadata": {},
     "output_type": "execute_result"
    }
   ],
   "source": [
    "np.quantile(datasetn, [0.25,0.5,0.75])"
   ]
  },
  {
   "cell_type": "code",
   "execution_count": 105,
   "id": "ef3ef4bf-94c9-4f95-9828-43fcbf3d7134",
   "metadata": {},
   "outputs": [
    {
     "data": {
      "text/plain": [
       "52.0"
      ]
     },
     "execution_count": 105,
     "metadata": {},
     "output_type": "execute_result"
    }
   ],
   "source": [
    "np.percentile(datasetn,95)"
   ]
  },
  {
   "cell_type": "code",
   "execution_count": 106,
   "id": "12b73d25-d25e-4324-a308-ca6ab1e8c421",
   "metadata": {},
   "outputs": [],
   "source": [
    "arr=[[4,12,20],\n",
    "    [2,17,31]]"
   ]
  },
  {
   "cell_type": "code",
   "execution_count": 107,
   "id": "006d3194-7058-4a31-b7a0-0c4876db7dea",
   "metadata": {},
   "outputs": [
    {
     "data": {
      "text/plain": [
       "28.25"
      ]
     },
     "execution_count": 107,
     "metadata": {},
     "output_type": "execute_result"
    }
   ],
   "source": [
    "np.percentile(arr,95,axis=None)"
   ]
  },
  {
   "cell_type": "markdown",
   "id": "4b885de9-0e07-4c72-84fd-9e46cfcfb759",
   "metadata": {},
   "source": [
    "<h3>Box Plots</h3>"
   ]
  },
  {
   "cell_type": "code",
   "execution_count": 71,
   "id": "0fb70290-4782-4f07-8467-577a7c60e8d7",
   "metadata": {},
   "outputs": [],
   "source": [
    "import matplotlib.pyplot as plt"
   ]
  },
  {
   "cell_type": "code",
   "execution_count": 108,
   "id": "ae07336c-039a-4968-8cce-dd643a6e370f",
   "metadata": {},
   "outputs": [
    {
     "data": {
      "image/png": "[encoded data removed]",
      "text/plain": [
       "<Figure size 640x480 with 1 Axes>"
      ]
     },
     "metadata": {},
     "output_type": "display_data"
    }
   ],
   "source": [
    "plt.boxplot(datasetn)\n",
    "plt.show()"
   ]
  }
 ],
 "metadata": {
  "kernelspec": {
   "display_name": "Python 3 (ipykernel)",
   "language": "python",
   "name": "python3"
  },
  "language_info": {
   "codemirror_mode": {
    "name": "ipython",
    "version": 3
   },
   "file_extension": ".py",
   "mimetype": "text/x-python",
   "name": "python",
   "nbconvert_exporter": "python",
   "pygments_lexer": "ipython3",
   "version": "3.11.2"
  }
 },
 "nbformat": 4,
 "nbformat_minor": 5
}
