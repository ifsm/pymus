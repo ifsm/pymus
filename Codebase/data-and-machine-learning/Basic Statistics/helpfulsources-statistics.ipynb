{
 "cells": [
  {
   "cell_type": "markdown",
   "id": "2470c52b-78f8-4775-99be-3275526a9245",
   "metadata": {},
   "source": [
    "<center><u><h1>Helpful Sources</h1></u></center>"
   ]
  },
  {
   "cell_type": "markdown",
   "id": "471fb20f-fb16-4382-a821-1527938fc1d0",
   "metadata": {},
   "source": [
    "<h3>Description</h3>"
   ]
  },
  {
   "cell_type": "markdown",
   "id": "3d1a1d93-be5e-4e11-ba30-71bee257e2d9",
   "metadata": {},
   "source": [
    "<u>Minimum / Maximum</u>\n",
    "- Overview: https://www.geeksforgeeks.org/max-min-python/ \n",
    "- Keys: https://www.geeksforgeeks.org/use-of-min-and-max-in-python/"
   ]
  },
  {
   "cell_type": "markdown",
   "id": "1da248e3-0822-4f50-b599-43b493e1faf4",
   "metadata": {},
   "source": [
    "<u> Frequency Counter </u>\n",
    "- In Python: https://www.geeksforgeeks.org/python-frequency-of-elements-from-other-list/ or https://www.tutorialspoint.com/list-frequency-of-elements-in-python"
   ]
  },
  {
   "cell_type": "markdown",
   "id": "acd1f279-e3a0-41b4-b48b-5f54b9234bd0",
   "metadata": {},
   "source": [
    "<h3>Means</h3>"
   ]
  },
  {
   "cell_type": "markdown",
   "id": "9d48e189-855a-40af-aa39-31362ab2508c",
   "metadata": {},
   "source": [
    "<u>Arithmetic Mean</u>\n",
    "- Explanation: https://www.cuemath.com/data/arithmetic-mean/\n",
    "- In Python: https://www.w3schools.com/python/ref_stat_mean.asp"
   ]
  },
  {
   "cell_type": "markdown",
   "id": "5535460d-be5a-400d-90d2-47100fa65668",
   "metadata": {},
   "source": [
    "<u>Geometric Mean</u>\n",
    "- Explanation: https://www.math.toronto.edu/mathnet/questionCorner/geomean.html\n",
    "- In Python: https://www.geeksforgeeks.org/geometric-mean-two-methods/ or https://www.statology.org/geometric-mean-python/"
   ]
  },
  {
   "cell_type": "markdown",
   "id": "d361ee2c-22f4-4fba-9989-2c293bea7dc7",
   "metadata": {},
   "source": [
    "<u>Harmonic Mean</u>\n",
    "- Explanation: https://www.investopedia.com/terms/h/harmonicaverage.asp\n",
    "- In Python: https://docs.scipy.org/doc/scipy/reference/generated/scipy.stats.hmean.html"
   ]
  },
  {
   "cell_type": "markdown",
   "id": "20f2bf2b-f535-4dea-be2f-1769466df050",
   "metadata": {},
   "source": [
    "<u>Median</u>\n",
    "- In Python: https://www.w3schools.com/python/ref_stat_median.asp"
   ]
  },
  {
   "cell_type": "markdown",
   "id": "809d7d59-f625-4a63-85fe-eed123e5af1b",
   "metadata": {},
   "source": [
    "<u>Mode</u>\n",
    "- In Python: https://www.geeksforgeeks.org/python-statistics-mode-function/"
   ]
  },
  {
   "cell_type": "markdown",
   "id": "06a3dba8-441e-4808-862d-9d159daa1e1b",
   "metadata": {},
   "source": [
    "<u>Root Mean Square</u>\n",
    "- Explanation: https://www.peak-studios.de/rms/\n",
    "- In Python: I couldn't find any good websites, that's why I implemented my own function you can find in the explanations and overview document"
   ]
  },
  {
   "cell_type": "markdown",
   "id": "f073ab7f-e62f-4598-ac9d-59a7c2fe6277",
   "metadata": {},
   "source": [
    "<h3>Distribution</h3>"
   ]
  },
  {
   "cell_type": "markdown",
   "id": "03a182c9-93bb-49eb-abd4-8aa42d01c49c",
   "metadata": {},
   "source": [
    "<u>Variance</u>\n",
    "- Explanation: https://www.investopedia.com/terms/v/variance.asp\n",
    "- In Python: https://numpy.org/doc/stable/reference/generated/numpy.var.html#numpy.var"
   ]
  },
  {
   "cell_type": "markdown",
   "id": "a003cb13-a1da-420e-b9e8-b82f21fce69d",
   "metadata": {},
   "source": [
    "<u>Standard Deviation</u>\n",
    "- Explanation: https://www.scribbr.com/statistics/standard-deviation/\n",
    "- In Python: https://numpy.org/doc/stable/reference/generated/numpy.std.html#numpy.std"
   ]
  },
  {
   "cell_type": "markdown",
   "id": "baee34e5-3466-480b-983f-0197faa913d2",
   "metadata": {},
   "source": [
    "<u>Skewness and Kurtosis</u>\n",
    "- Explanation and Python: https://www.geeksforgeeks.org/how-to-calculate-skewness-and-kurtosis-in-python/"
   ]
  },
  {
   "cell_type": "markdown",
   "id": "f7f7f395-4dec-4d4a-815a-4d52ae26dddc",
   "metadata": {},
   "source": [
    "<u> Quantiles </u>\n",
    "-  Explanation: https://www.codecademy.com/learn/learn-statistics-with-python/modules/quartiles-quantiles-and-interquartile-range/cheatsheet\n",
    "- In Python: https://numpy.org/doc/stable/reference/generated/numpy.quantile.html"
   ]
  },
  {
   "cell_type": "markdown",
   "id": "e8d0f3a8-681b-4719-83d2-576e148410be",
   "metadata": {},
   "source": [
    "<u>Percentiles</u>\n",
    "- 95th Percentile Explanation: https://firstwave.com/blog/what-is-the-95th-percentile-and-why-does-it-matter/\n",
    "- Python: https://numpy.org/doc/stable/reference/generated/numpy.percentile.html"
   ]
  },
  {
   "cell_type": "markdown",
   "id": "46eb4008-20f3-456c-b1ed-7f4e48eea062",
   "metadata": {},
   "source": [
    "<h3>Boxplots</h3>"
   ]
  },
  {
   "cell_type": "markdown",
   "id": "fe68a576-7e8d-4371-bd3e-0b2fe49f8273",
   "metadata": {},
   "source": [
    "- Explanation: https://www.simplypsychology.org/boxplots.html\n",
    "- In Python: "
   ]
  }
 ],
 "metadata": {
  "kernelspec": {
   "display_name": "Python 3 (ipykernel)",
   "language": "python",
   "name": "python3"
  },
  "language_info": {
   "codemirror_mode": {
    "name": "ipython",
    "version": 3
   },
   "file_extension": ".py",
   "mimetype": "text/x-python",
   "name": "python",
   "nbconvert_exporter": "python",
   "pygments_lexer": "ipython3",
   "version": "3.11.2"
  }
 },
 "nbformat": 4,
 "nbformat_minor": 5
}
