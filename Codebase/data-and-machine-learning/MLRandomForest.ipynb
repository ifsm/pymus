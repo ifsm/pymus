{
 "cells": [
  {
   "cell_type": "markdown",
   "id": "c00462e9-a96d-4f8d-af5b-5638a63522bf",
   "metadata": {},
   "source": [
    "<h1>Random Forest Classifiers</h1>"
   ]
  },
  {
   "cell_type": "markdown",
   "id": "a1118717-0322-487c-89c0-1c777fea6b01",
   "metadata": {},
   "source": [
    "<h2>What are Random Forests?</h2>"
   ]
  },
  {
   "cell_type": "markdown",
   "id": "6deda6e1-7005-4937-8ff1-6cef72d60e4e",
   "metadata": {},
   "source": [
    "<i>A random forest is a meta estimator that fits a number of decision tree classifiers on various sub-samples of the dataset and uses averaging to improve the predictive accuracy and control over-fitting.</i>\n",
    "- <a href = https://scikit-learn.org/1.6/modules/generated/sklearn.ensemble.RandomForestClassifier.html>sci-kit learn documentation</a>"
   ]
  }
 ],
 "metadata": {
  "kernelspec": {
   "display_name": "Python 3 (ipykernel)",
   "language": "python",
   "name": "python3"
  },
  "language_info": {
   "codemirror_mode": {
    "name": "ipython",
    "version": 3
   },
   "file_extension": ".py",
   "mimetype": "text/x-python",
   "name": "python",
   "nbconvert_exporter": "python",
   "pygments_lexer": "ipython3",
   "version": "3.11.2"
  }
 },
 "nbformat": 4,
 "nbformat_minor": 5
}
