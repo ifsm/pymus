{
 "cells": [
  {
   "cell_type": "code",
   "execution_count": 1,
   "id": "f90255f1",
   "metadata": {},
   "outputs": [],
   "source": [
    "from scipy.io import wavfile#necessary to import wavefiles. Important: \"wavfile\", not \"wavefile\"\n",
    "from scipy.fft import fft, ifft, fftfreq\n",
    "from scipy.signal import blackman\n",
    "import matplotlib.pyplot as plt\n",
    "import numpy as np#includes important mathematical functions, such as log10(), abs(), etc.\n",
    "import sounddevice as sd#to play back sounds\n",
    "import warnings#necessary to suppress the display of warnings when your wave file contains unexpected chunks\n",
    "import librosa#standard library for audio analysis and feature extraction\n",
    "import librosa.display\n",
    "import IPython.display as ipd#can play audio files with a simple GUI\n",
    "import os#library for file paths, etc.\n",
    "import statistics as stat#for mean cvalues, etc"
   ]
  },
  {
   "cell_type": "markdown",
   "id": "79523cd0",
   "metadata": {},
   "source": [
    "# One Example"
   ]
  },
  {
   "cell_type": "code",
   "execution_count": null,
   "id": "dbfb1446",
   "metadata": {},
   "outputs": [],
   "source": [
    "with warnings.catch_warnings():#this function suppresses warnings that pop up when scipy detects unexpected chunks in the wav\n",
    "    warnings.simplefilter('ignore')\n",
    "    samplerate, data = wavfile.read(r'C:\\python\\gits\\pymus\\AcousticsDSP\\bassdrum.wav')# import a wav file (data) and its sample rate (sr)"
   ]
  },
  {
   "cell_type": "code",
   "execution_count": null,
   "id": "488a0d28",
   "metadata": {},
   "outputs": [],
   "source": [
    "norm = 32767\n",
    "if data.ndim == 2:\n",
    "    data = data[:,0]#this means that we only consider the first channel in multichannel audio\n",
    "data = data / norm#dirty normalization trick for 16 bit audio"
   ]
  },
  {
   "cell_type": "code",
   "execution_count": null,
   "id": "37d0912f",
   "metadata": {},
   "outputs": [],
   "source": []
  },
  {
   "cell_type": "code",
   "execution_count": null,
   "id": "4991f7a8",
   "metadata": {
    "scrolled": true
   },
   "outputs": [],
   "source": [
    "# fig = plt.figure()\n",
    "plt.plot(data,color = 'blue', label = 'file')#plots the result"
   ]
  },
  {
   "cell_type": "code",
   "execution_count": 4,
   "id": "14115bc7",
   "metadata": {},
   "outputs": [
    {
     "data": {
      "text/html": [
       "\n",
       "                <audio  controls=\"controls\" >\n",
       "                    <source src=\"data:audio/wav;base64,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\" type=\"audio/wav\" />\n",
       "                    Your browser does not support the audio element.\n",
       "                </audio>\n",
       "              "
      ],
      "text/plain": [
       "<IPython.lib.display.Audio object>"
      ]
     },
     "execution_count": 4,
     "metadata": {},
     "output_type": "execute_result"
    }
   ],
   "source": [
    "ipd.Audio(r'C:\\python\\gits\\pymus\\AcousticsDSP\\bassdrum.wav')#to play back an audio file with a player GUI"
   ]
  },
  {
   "cell_type": "code",
   "execution_count": null,
   "id": "e0df597f",
   "metadata": {},
   "outputs": [],
   "source": [
    "sd.play(data, samplerate)#plays the file"
   ]
  },
  {
   "cell_type": "code",
   "execution_count": null,
   "id": "0a779bdb",
   "metadata": {},
   "outputs": [],
   "source": [
    "N = int(len(data))#N = length of the imported audio file in samples\n",
    "w = blackman(N)#produces a Blackman window of length N\n",
    "spec = fft(data*w)#Calculate the frequency spectrum of the windowed audio file if I add *w\n",
    "spec[0] = 0#delete the DC offset\n",
    "specdB = 20 * np.log10(np.abs(spec) / max(np.abs(spec)))#calculate amplitudes of the spectrum in dB\n",
    "xfreq = np.arange(0,samplerate,samplerate / N)#defines the frequencies of the frequency bins in the spectrum for the x-axis\n",
    "plt.plot(xfreq,specdB)#plot y over x\n",
    "plt.grid()\n",
    "plt.xticks(fontsize = 12)\n",
    "plt.yticks(fontsize = 12)\n",
    "plt.xlabel(\"f [Hz]\", fontsize = 16)\n",
    "plt.ylabel(\"p [dB]\", fontsize = 16)\n",
    "plt.xlim(1,3000)\n",
    "plt.ylim(-60,0)"
   ]
  }
 ],
 "metadata": {
  "kernelspec": {
   "display_name": "Python 3 (ipykernel)",
   "language": "python",
   "name": "python3"
  },
  "language_info": {
   "codemirror_mode": {
    "name": "ipython",
    "version": 3
   },
   "file_extension": ".py",
   "mimetype": "text/x-python",
   "name": "python",
   "nbconvert_exporter": "python",
   "pygments_lexer": "ipython3",
   "version": "3.10.7"
  }
 },
 "nbformat": 4,
 "nbformat_minor": 5
}
