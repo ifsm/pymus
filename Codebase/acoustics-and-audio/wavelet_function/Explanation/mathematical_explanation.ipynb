{
 "cells": [
  {
   "cell_type": "markdown",
   "id": "969353e6-dc81-47ea-b36a-483e2a295a16",
   "metadata": {},
   "source": [
    "<h1> Why do we need wavelet transformations? </h1>"
   ]
  },
  {
   "cell_type": "markdown",
   "id": "1c504b92-5fff-4a94-a99f-0fa1d16f7325",
   "metadata": {},
   "source": [
    "Wavelet functions are used to analyze audio signals. \n",
    "As opposed to the Fourier transformation, which is only able to persave information about the frequency and not the time component, the Wavelet fransformation can capture both frequency and time information of the audio signal.\n",
    "This is possible because it is a complex transformation, wich means you have two independent degrees of freedom to save both types of information, one in the real and the other in the imaginary part of a complex number. ([2], P.61 ff.)"
   ]
  },
  {
   "cell_type": "markdown",
   "id": "aef061d7-8388-4290-806a-97c7c4772707",
   "metadata": {},
   "source": [
    "<h1> Wavelet transformation </h1>"
   ]
  },
  {
   "cell_type": "markdown",
   "id": "a7e6f23a-f76a-4232-9961-4ba12a92143f",
   "metadata": {},
   "source": [
    "To perform a wavelet transformation you start with a time series, let's call it x_n and a wavlet function  $\\Psi_{0}(\\eta)$ which depends on a nondimensional\n",
    " “time” parameter η and a nondimensional frequency and is different for each type of wavelet function. ([2], P.61 ff.)\n",
    "For the different types of wavelet functions, which are available for this code, see \"basics_about_wavelets\".\n",
    "\"Wavelet transformation\" means the conxolution of the time series with the wavelet function. \\\n",
    "$W_{n}(s) = \\sum_{n'=0}^{N-1} x_{n'}\\Psi^{*}(\\frac{(n'-n)\\delta t}{s})$ \\\n",
    "Here s is a chosen scale and * indicates the complex conjugate [2].\n",
    "\n",
    "Wavelet functions can be considered as bandpass filters, where the different wavelet functions are their response functions [2]."
   ]
  },
  {
   "cell_type": "markdown",
   "id": "b865ea08-256f-4c96-935f-1027df38d6a0",
   "metadata": {},
   "source": [
    "<h1> Reconstriction of the Signal </h1>"
   ]
  },
  {
   "cell_type": "markdown",
   "id": "37a65f27-f1a7-4267-8d5c-76ecf657aba3",
   "metadata": {},
   "source": [
    "After performing a wavelet transformation, it might be interesting to consider performing a type of inverse transformation to compare its result with the original signa. \n",
    "It is possible to perform such a transformation, since wavelet transformations are bandpass filters and the chosen wavelet function is their response function. \n",
    "For orthogonal wavelet transforms, using deconvolution or an inverse filter will provide you with the original signal. \n",
    "However, for continuous wavelet functions it is more complicated [2].\n",
    "\n",
    "Generally an exact backtransformation is possible, but to be able to programm it one must use discrete points and an approximation as explained in the following [2,3].\n",
    "pywt does not provide a direct method for the inverse continuous wavelet transform (iCWT), thus one must approximate an inverse CWT using a method that involves summing the coefficients. and applying a normalization factor [3].\n",
    "\n",
    "The equation for the inverse continuous wavelet transformation is [3]:\n",
    "$ X(t) = C_{\\Psi} \\int_{-\\infty}^{\\infty} W_{\\Psi}(a,b) \\frac{1}{\\sqrt{a}} \\Psi ((t-a)/b) \\text{d}a\\text{d}b.$\n",
    "\n",
    "Here, $W(a,b)$ is the value of $\\Psi_{a,b}(t)$  at (a,b). Now, sum over all these values [3].\n",
    "However, if you are interested in discrete wavelet transformations, pywt does provide a reconstruction. For further details see [5]."
   ]
  }
 ],
 "metadata": {
  "kernelspec": {
   "display_name": "Python 3 (ipykernel)",
   "language": "python",
   "name": "python3"
  },
  "language_info": {
   "codemirror_mode": {
    "name": "ipython",
    "version": 3
   },
   "file_extension": ".py",
   "mimetype": "text/x-python",
   "name": "python",
   "nbconvert_exporter": "python",
   "pygments_lexer": "ipython3",
   "version": "3.11.2"
  }
 },
 "nbformat": 4,
 "nbformat_minor": 5
}
