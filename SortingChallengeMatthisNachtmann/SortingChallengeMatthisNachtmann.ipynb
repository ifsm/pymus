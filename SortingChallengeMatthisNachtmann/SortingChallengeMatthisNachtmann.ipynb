{
 "cells": [
  {
   "cell_type": "markdown",
   "id": "048693f5-9a83-4da1-a1ad-8560a4357af4",
   "metadata": {},
   "source": [
    "<h3>Quicksort try 2</h3>\n",
    "I have not figured out how to get the array from the timeit module, so I just run the algorithm once for the time and another time to actually get the array and then turn it into a csv file. The finished file is deposited into the folder you run this in. "
   ]
  },
  {
   "cell_type": "code",
   "execution_count": 1,
   "id": "b26056b0-86f2-4c65-9749-76ac96b5d736",
   "metadata": {},
   "outputs": [
    {
     "name": "stdout",
     "output_type": "stream",
     "text": [
      "execution time: 4.682678299956024 seconds\n"
     ]
    }
   ],
   "source": [
    "import pandas as pd\n",
    "import numpy as np\n",
    "import timeit\n",
    "from random import randint\n",
    "\n",
    "# turn the csv file into an array\n",
    "numbers = pd.read_csv(\"numbers.csv\")\n",
    "numbers_array = numbers.to_numpy()\n",
    "\n",
    "def quicksort(array):\n",
    "\n",
    "    # if input array contains fewer than two elements, return it as the result of the function\n",
    "    if len(array) < 2:\n",
    "        return array\n",
    "    low, same, high = [], [], []\n",
    "    \n",
    "    # Select pivot element randomly\n",
    "    pivot = array[randint(0, len(array) - 1)]\n",
    "    for item in array:\n",
    "\n",
    "        # everything is sorted above, below or equal to the pivot\n",
    "        if item < pivot:\n",
    "            low.append(item)\n",
    "        elif item == pivot:\n",
    "            same.append(item)\n",
    "        elif item > pivot:\n",
    "            high.append(item)\n",
    "\n",
    "    # add the three sublists\n",
    "    return quicksort(low) + same + quicksort(high)\n",
    "\n",
    "\n",
    "\n",
    "# use timeit module to see how long it would take and print the number\n",
    "time_taken = timeit.timeit(lambda: quicksort(list(numbers_array)), number=1)\n",
    "print(\"execution time:\", time_taken, \"seconds\")\n",
    "\n",
    "# sort the list again to get an array, probably possible to get the array from timeit but couldnt figure out how\n",
    "sorted_numbers = quicksort(numbers_array)\n",
    "\n",
    "# create data frame (pandas) with sorted list\n",
    "sorted_numbers_df = pd.DataFrame(sorted_numbers)\n",
    "\n",
    "# turn back into csv \n",
    "sorted_numbers_df.to_csv('sorted_numbers.csv', index=False)"
   ]
  },
  {
   "cell_type": "code",
   "execution_count": null,
   "id": "2115aade-ef14-409e-8d60-6dc99ef2c1f5",
   "metadata": {},
   "outputs": [],
   "source": []
  }
 ],
 "metadata": {
  "kernelspec": {
   "display_name": "Python 3 (ipykernel)",
   "language": "python",
   "name": "python3"
  },
  "language_info": {
   "codemirror_mode": {
    "name": "ipython",
    "version": 3
   },
   "file_extension": ".py",
   "mimetype": "text/x-python",
   "name": "python",
   "nbconvert_exporter": "python",
   "pygments_lexer": "ipython3",
   "version": "3.12.3"
  }
 },
 "nbformat": 4,
 "nbformat_minor": 5
}
