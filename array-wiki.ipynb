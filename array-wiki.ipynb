{
 "cells": [
  {
   "cell_type": "markdown",
   "id": "7dd6331c",
   "metadata": {},
   "source": [
    "<h1> Arrays </h1>"
   ]
  },
  {
   "cell_type": "markdown",
   "id": "6672dbd0",
   "metadata": {},
   "source": [
    "An Array is use to store a collection of items like a list. But unlike a list an array can also store a vector for example. To use an Array you should import Numpy.\n"
   ]
  },
  {
   "cell_type": "code",
   "execution_count": 3,
   "id": "72012531",
   "metadata": {},
   "outputs": [],
   "source": [
    "import numpy as np\n"
   ]
  },
  {
   "cell_type": "code",
   "execution_count": 4,
   "id": "42f4e0b8",
   "metadata": {},
   "outputs": [
    {
     "name": "stdout",
     "output_type": "stream",
     "text": [
      "[1 2 3 4 5 6 7 8]\n",
      "[[ 1  2  3]\n",
      " [ 5  6  7]\n",
      " [ 8  9 11]]\n",
      "[[1 2 5 1]\n",
      " [3 2 1 6]\n",
      " [7 5 3 7]\n",
      " [1 5 7 5]\n",
      " [1 4 4 6]]\n"
     ]
    }
   ],
   "source": [
    "liste = np.array([1,2,3,4,5,6,7,8])\n",
    "arr2 = np.asarray([[1,2,3],[5,6,7],[8,9,11]])\n",
    "arr3 = np.array ([[1,2,5,1],[3,2,1,6],[7,5,3,7],[1,5,7,5],[1,4,4,6]])\n",
    "\n",
    "print(liste)\n",
    "print(arr2)\n",
    "print(arr3)"
   ]
  },
  {
   "cell_type": "code",
   "execution_count": 5,
   "id": "6cf70c37",
   "metadata": {},
   "outputs": [
    {
     "name": "stdout",
     "output_type": "stream",
     "text": [
      "<class 'numpy.ndarray'>\n"
     ]
    }
   ],
   "source": [
    "print(type(liste)) #type shows you what the class "
   ]
  },
  {
   "cell_type": "code",
   "execution_count": 6,
   "id": "a81c2bc2",
   "metadata": {},
   "outputs": [
    {
     "name": "stdout",
     "output_type": "stream",
     "text": [
      "5\n"
     ]
    }
   ],
   "source": [
    "print(arr2[ 1, 0]) #find data using the index function"
   ]
  },
  {
   "cell_type": "code",
   "execution_count": 8,
   "id": "def13c71",
   "metadata": {},
   "outputs": [
    {
     "data": {
      "text/plain": [
       "array([[1., 1., 1., 1., 1., 1.],\n",
       "       [1., 1., 1., 1., 1., 1.],\n",
       "       [1., 1., 1., 1., 1., 1.],\n",
       "       [1., 1., 1., 1., 1., 1.],\n",
       "       [1., 1., 1., 1., 1., 1.]])"
      ]
     },
     "execution_count": 8,
     "metadata": {},
     "output_type": "execute_result"
    }
   ],
   "source": [
    "np.ones([5,6]) #with .ones you can create a vector with only ones"
   ]
  },
  {
   "cell_type": "code",
   "execution_count": null,
   "id": "bd867ad2",
   "metadata": {},
   "outputs": [],
   "source": [
    "np.zeros([5,6,7])"
   ]
  },
  {
   "cell_type": "code",
   "execution_count": 9,
   "id": "dee619c4",
   "metadata": {},
   "outputs": [
    {
     "data": {
      "text/plain": [
       "array([1.])"
      ]
     },
     "execution_count": 9,
     "metadata": {},
     "output_type": "execute_result"
    }
   ],
   "source": [
    "np.empty(1) #with empty you can create an empty vector"
   ]
  },
  {
   "cell_type": "code",
   "execution_count": null,
   "id": "55690860",
   "metadata": {},
   "outputs": [],
   "source": [
    "np.empty(5)"
   ]
  },
  {
   "cell_type": "code",
   "execution_count": 10,
   "id": "fba2f3e7",
   "metadata": {},
   "outputs": [
    {
     "data": {
      "text/plain": [
       "2"
      ]
     },
     "execution_count": 10,
     "metadata": {},
     "output_type": "execute_result"
    }
   ],
   "source": [
    "np.ndim(arr2)"
   ]
  },
  {
   "cell_type": "code",
   "execution_count": null,
   "id": "b61375b5",
   "metadata": {},
   "outputs": [],
   "source": [
    "np.ndim([5,6,7])"
   ]
  },
  {
   "cell_type": "code",
   "execution_count": 12,
   "id": "307fd33a",
   "metadata": {},
   "outputs": [
    {
     "data": {
      "text/plain": [
       "array([[ 1,  5,  8],\n",
       "       [ 2,  6,  9],\n",
       "       [ 3,  7, 11]])"
      ]
     },
     "execution_count": 12,
     "metadata": {},
     "output_type": "execute_result"
    }
   ],
   "source": [
    "np.transpose(arr2) #with transpose you can transpose an array"
   ]
  },
  {
   "cell_type": "code",
   "execution_count": 21,
   "id": "25f335d4",
   "metadata": {},
   "outputs": [
    {
     "data": {
      "text/plain": [
       "array([-30.2, -20.2, -10.2,  -0.2,   9.8,  19.8,  29.8])"
      ]
     },
     "execution_count": 21,
     "metadata": {},
     "output_type": "execute_result"
    }
   ],
   "source": [
    "np.arange(-30.2, 30.4, 10) #use arange when step size between the values is important"
   ]
  },
  {
   "cell_type": "code",
   "execution_count": 20,
   "id": "8304429b",
   "metadata": {},
   "outputs": [
    {
     "data": {
      "text/plain": [
       "array([-30.2       , -23.46666667, -16.73333333, -10.        ,\n",
       "        -3.26666667,   3.46666667,  10.2       ,  16.93333333,\n",
       "        23.66666667,  30.4       ])"
      ]
     },
     "execution_count": 20,
     "metadata": {},
     "output_type": "execute_result"
    }
   ],
   "source": [
    "np.linspace(-30.2, 30.4, 10) #use linspace when the exact values when the start and end point are important"
   ]
  },
  {
   "cell_type": "markdown",
   "id": "f60222fa",
   "metadata": {},
   "source": [
    "<h2> export a list/an array into a CSV file </h2>"
   ]
  },
  {
   "cell_type": "code",
   "execution_count": 189,
   "id": "7c894d93",
   "metadata": {},
   "outputs": [],
   "source": [
    "from numpy import genfromtxt"
   ]
  },
  {
   "cell_type": "code",
   "execution_count": 190,
   "id": "4e8752c3",
   "metadata": {},
   "outputs": [],
   "source": [
    "liste.tofile('eine.liste', sep = ',') #converting a list into a csv file"
   ]
  },
  {
   "cell_type": "code",
   "execution_count": 211,
   "id": "ffafc29e",
   "metadata": {},
   "outputs": [],
   "source": [
    "my_data = genfromtxt('eine.liste', delimiter=\",\") #import a csv file "
   ]
  },
  {
   "cell_type": "code",
   "execution_count": 212,
   "id": "27d2bc36",
   "metadata": {},
   "outputs": [
    {
     "name": "stdout",
     "output_type": "stream",
     "text": [
      "[1. 2. 3. 4. 5. 6. 7. 8.]\n"
     ]
    }
   ],
   "source": [
    "print(my_data)"
   ]
  },
  {
   "cell_type": "code",
   "execution_count": 288,
   "id": "21f55b93",
   "metadata": {},
   "outputs": [],
   "source": [
    "np.savetxt('ein.array.csv', arr2, fmt=\"%d\", delimiter=\",\") #1. the name of the file\n",
    "                                                            #2. the name of the array\n",
    "                                                            #3. fmt = format of the data\n",
    "                                                            #4. delimiter = define the space between data(only necessary if you don't open it as an array)\n",
    "                                                            \n"
   ]
  },
  {
   "cell_type": "code",
   "execution_count": 289,
   "id": "90ccf12a",
   "metadata": {},
   "outputs": [],
   "source": [
    "\n",
    "arrayfile = genfromtxt('ein.array.csv', delimiter=\",\")"
   ]
  },
  {
   "cell_type": "code",
   "execution_count": 290,
   "id": "5cae7099",
   "metadata": {},
   "outputs": [
    {
     "name": "stdout",
     "output_type": "stream",
     "text": [
      "[[ 1.  2.  3.]\n",
      " [ 5.  6.  7.]\n",
      " [ 8.  9. 11.]]\n"
     ]
    }
   ],
   "source": [
    "print(arrayfile)"
   ]
  },
  {
   "cell_type": "code",
   "execution_count": 291,
   "id": "6edffc5d",
   "metadata": {},
   "outputs": [
    {
     "data": {
      "text/plain": [
       "numpy.ndarray"
      ]
     },
     "execution_count": 291,
     "metadata": {},
     "output_type": "execute_result"
    }
   ],
   "source": [
    "type(my_data)"
   ]
  },
  {
   "cell_type": "markdown",
   "id": "cf5e8a46",
   "metadata": {},
   "source": [
    "Open a csv file with pandas"
   ]
  },
  {
   "cell_type": "code",
   "execution_count": 3,
   "id": "878d0849",
   "metadata": {},
   "outputs": [],
   "source": [
    "import pandas as pd \n",
    "\n",
    "anderefile = pd.read_csv('ein.array.csv') #use pd.read to get a data frame"
   ]
  },
  {
   "cell_type": "code",
   "execution_count": 2,
   "id": "4f98daa2",
   "metadata": {},
   "outputs": [
    {
     "name": "stdout",
     "output_type": "stream",
     "text": [
      "   1  2   3\n",
      "0  5  6   7\n",
      "1  8  9  11\n"
     ]
    }
   ],
   "source": [
    "print(anderefile)"
   ]
  },
  {
   "cell_type": "code",
   "execution_count": 301,
   "id": "31fe52b6",
   "metadata": {},
   "outputs": [
    {
     "data": {
      "text/plain": [
       "pandas.core.frame.DataFrame"
      ]
     },
     "execution_count": 301,
     "metadata": {},
     "output_type": "execute_result"
    }
   ],
   "source": [
    "type(anderefile)"
   ]
  },
  {
   "cell_type": "code",
   "execution_count": null,
   "id": "40496ad4",
   "metadata": {},
   "outputs": [],
   "source": []
  }
 ],
 "metadata": {
  "kernelspec": {
   "display_name": "Python 3 (ipykernel)",
   "language": "python",
   "name": "python3"
  },
  "language_info": {
   "codemirror_mode": {
    "name": "ipython",
    "version": 3
   },
   "file_extension": ".py",
   "mimetype": "text/x-python",
   "name": "python",
   "nbconvert_exporter": "python",
   "pygments_lexer": "ipython3",
   "version": "3.11.5"
  }
 },
 "nbformat": 4,
 "nbformat_minor": 5
}
