{
 "cells": [
  {
   "cell_type": "code",
   "execution_count": 3,
   "id": "997e0036",
   "metadata": {},
   "outputs": [
    {
     "name": "stdout",
     "output_type": "stream",
     "text": [
      "Expecting value: line 30 column 1 (char 2944)\n"
     ]
    }
   ],
   "source": [
    "import json\n",
    "    \n",
    "with open(r'C:\\python\\gits\\pymus\\00-learning-fundamentals\\04-csv-files.ipynb') as pynb:\n",
    "    try:\n",
    "        report = json.load(pynb)\n",
    "    except Exception as e:\n",
    "        print(str(e))"
   ]
  },
  {
   "cell_type": "code",
   "execution_count": null,
   "id": "7786a8fb",
   "metadata": {},
   "outputs": [],
   "source": []
  }
 ],
 "metadata": {
  "kernelspec": {
   "display_name": "Python 3 (ipykernel)",
   "language": "python",
   "name": "python3"
  },
  "language_info": {
   "codemirror_mode": {
    "name": "ipython",
    "version": 3
   },
   "file_extension": ".py",
   "mimetype": "text/x-python",
   "name": "python",
   "nbconvert_exporter": "python",
   "pygments_lexer": "ipython3",
   "version": "3.10.7"
  }
 },
 "nbformat": 4,
 "nbformat_minor": 5
}
