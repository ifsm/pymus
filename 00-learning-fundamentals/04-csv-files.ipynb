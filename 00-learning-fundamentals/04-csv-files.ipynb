{
 "cells": [
  {
   "cell_type": "markdown",
   "id": "a29773c1",
   "metadata": {},
   "source": [
    "<h1>CSV-Files</h1>\n",
    "CSV stands for \"Comma Separated Values\" and means that we store data in a list. List elements are separated using commas. Sometimes, other symbold are used as delimiters, such as semicolons, tabspaces, return, etc. Often, commas separate columns and return separates lines, creating a table rather than a list. Such a list or table is saved as a CSV file. CSV files usually contain strings that are saved using UTF-8, ANSI, or other character sets. CSV files have several strengths:\n",
    "<ul>\n",
    "    <li>In contrast to binary files, the raw text of CSV files (as displayed by text editors) is interpretable by readers (if not compressed)</li>\n",
    "    <li>CSV files can be imported and exported by spreadsheet softwares, like Google Docs, Microsoft Excel, <a href=\"https://www.openoffice.org/\" target=\"_blank\">Open Office Calc</a> and <a href=\"https://de.libreoffice.org/\" target=\"_blank\">Libre Office Calc</a>, by statistical softwares, such as IBM SPSS and <a href=\"https://cran.r-project.org/bin/windows/base/\" target=\"_blank\">R</a>, by database softwares, like <a href=\"https://www.mysql.com/\" target=\"_blank\">MySQL</a>, and by audio softwares, like <a href=\"https://www.audacity.de/\" target=\"_blank\">Audacity</a>, <a href=\"https://puredata.info/\", target=\"_blank\">Pure Data</a> (iemlib library) and <a href=\"https://sonification.highcharts.com/#/app\" target=\"_blank\">Highchart Sonification Studio</a></li>\n",
    "</ul>\n",
    "Some weaknesses of CSV files are:\n",
    "<ul>\n",
    "    <li>CSV files tend to be larger than binary files</li>\n",
    "    <li>CSV files are only semi-<a href=\"https://datatracker.ietf.org/doc/html/rfc4180.html\" target=\"_blank\">standardized</a> for lists and tables, but not for higher order arrays and matrices</li>\n",
    "    <li>The option to use any symbol as separator and arbitrary symbols (usually single quote or double quote) to indicate a string can cause confusion and unexpected text display</li>\n",
    "    <li>Language settings can cause awkward tables, as Germans use commas as decimal separator and, sometimes, points as thousands separator. In English it is the other way round. Language settings can even descroy existing CSV files by overwriting commas with points or the other way round.</li>\n",
    "    <li>Small errors that a human makes when manually editing a csv file can cause unexpected harm</li>\n",
    "    <li>Some softwares allow compressing CSV files when exporting them. Such a compression makes the raw text unreadable and foils the universality of CSV files.</li>\n",
    "</ul>\n",
    "\n",
    "Generally, storing data in files on a hard drive is always a good choice if you want to use it later on, in another software, or in another jupyter notebook."
   ]
  },
  {
   "cell_type": "markdown",
   "id": "4bfd1d67",
   "metadata": {},
   "source": [
    "<h2>Pandas</h2>\n",
    "Pandas is often used to import, handle, analyze and export data."
   ]
  },
  {
   "cell_type": "code",
   "execution_count": 21,
   "id": "0e8d1cb1",
   "metadata": {},
   "outputs": [],
   "source": [
    "#pip install pandas\n",
    "import pandas as pd"
   ]
  },
  {
   "cell_type": "markdown",
   "id": "ed9278b8",
   "metadata": {},
   "source": [
    "You can easily import a CSV file"
   ]
  },
  {
   "cell_type": "code",
   "execution_count": 25,
   "id": "a02e8316",
   "metadata": {
    "scrolled": true
   },
   "outputs": [],
   "source": [
    "a_list = pd.read_table('composers.csv', sep=',')"
   ]
  },
  {
   "cell_type": "markdown",
   "id": "ccdc096e",
   "metadata": {},
   "source": [
    "and display its content"
   ]
  },
  {
   "cell_type": "code",
   "execution_count": 26,
   "id": "8ebecc2a",
   "metadata": {},
   "outputs": [
    {
     "data": {
      "text/html": [
       "<div>\n",
       "<style scoped>\n",
       "    .dataframe tbody tr th:only-of-type {\n",
       "        vertical-align: middle;\n",
       "    }\n",
       "\n",
       "    .dataframe tbody tr th {\n",
       "        vertical-align: top;\n",
       "    }\n",
       "\n",
       "    .dataframe thead th {\n",
       "        text-align: right;\n",
       "    }\n",
       "</style>\n",
       "<table border=\"1\" class=\"dataframe\">\n",
       "  <thead>\n",
       "    <tr style=\"text-align: right;\">\n",
       "      <th></th>\n",
       "      <th>name</th>\n",
       "      <th>birth</th>\n",
       "      <th>death</th>\n",
       "    </tr>\n",
       "  </thead>\n",
       "  <tbody>\n",
       "    <tr>\n",
       "      <th>0</th>\n",
       "      <td>Johann Sebastian Bach</td>\n",
       "      <td>1685</td>\n",
       "      <td>1750</td>\n",
       "    </tr>\n",
       "    <tr>\n",
       "      <th>1</th>\n",
       "      <td>John Blow</td>\n",
       "      <td>1649</td>\n",
       "      <td>1708</td>\n",
       "    </tr>\n",
       "    <tr>\n",
       "      <th>2</th>\n",
       "      <td>John Eccles</td>\n",
       "      <td>1668</td>\n",
       "      <td>1735</td>\n",
       "    </tr>\n",
       "    <tr>\n",
       "      <th>3</th>\n",
       "      <td>Georg Friedrich Händel</td>\n",
       "      <td>1685</td>\n",
       "      <td>1759</td>\n",
       "    </tr>\n",
       "    <tr>\n",
       "      <th>4</th>\n",
       "      <td>Marin Marais</td>\n",
       "      <td>1656</td>\n",
       "      <td>1728</td>\n",
       "    </tr>\n",
       "    <tr>\n",
       "      <th>5</th>\n",
       "      <td>Claudio Monteverdi</td>\n",
       "      <td>1567</td>\n",
       "      <td>1643</td>\n",
       "    </tr>\n",
       "    <tr>\n",
       "      <th>6</th>\n",
       "      <td>Johann Pachelbel</td>\n",
       "      <td>1653</td>\n",
       "      <td>1706</td>\n",
       "    </tr>\n",
       "    <tr>\n",
       "      <th>7</th>\n",
       "      <td>Daniel Purcell</td>\n",
       "      <td>1664</td>\n",
       "      <td>1717</td>\n",
       "    </tr>\n",
       "    <tr>\n",
       "      <th>8</th>\n",
       "      <td>Henry Purcell</td>\n",
       "      <td>1659</td>\n",
       "      <td>1695</td>\n",
       "    </tr>\n",
       "    <tr>\n",
       "      <th>9</th>\n",
       "      <td>Georg Philipp Telemann</td>\n",
       "      <td>1681</td>\n",
       "      <td>1767</td>\n",
       "    </tr>\n",
       "    <tr>\n",
       "      <th>10</th>\n",
       "      <td>Pietro Della Valle</td>\n",
       "      <td>1586</td>\n",
       "      <td>1652</td>\n",
       "    </tr>\n",
       "    <tr>\n",
       "      <th>11</th>\n",
       "      <td>Antonio Vivaldi</td>\n",
       "      <td>1678</td>\n",
       "      <td>1741</td>\n",
       "    </tr>\n",
       "  </tbody>\n",
       "</table>\n",
       "</div>"
      ],
      "text/plain": [
       "                      name  birth  death\n",
       "0    Johann Sebastian Bach   1685   1750\n",
       "1                John Blow   1649   1708\n",
       "2              John Eccles   1668   1735\n",
       "3   Georg Friedrich Händel   1685   1759\n",
       "4             Marin Marais   1656   1728\n",
       "5       Claudio Monteverdi   1567   1643\n",
       "6         Johann Pachelbel   1653   1706\n",
       "7           Daniel Purcell   1664   1717\n",
       "8            Henry Purcell   1659   1695\n",
       "9   Georg Philipp Telemann   1681   1767\n",
       "10      Pietro Della Valle   1586   1652\n",
       "11         Antonio Vivaldi   1678   1741"
      ]
     },
     "execution_count": 26,
     "metadata": {},
     "output_type": "execute_result"
    }
   ],
   "source": [
    "a_list"
   ]
  },
  {
   "cell_type": "markdown",
   "id": "0da5eea1",
   "metadata": {},
   "source": [
    "If the CSV files uses other delimiters, you can indicate them as sep <font color=#a2f>= </font><font color=#ba2121>'delimiter'</font>"
   ]
  },
  {
   "cell_type": "code",
   "execution_count": 22,
   "id": "92406ae5",
   "metadata": {},
   "outputs": [
    {
     "data": {
      "text/html": [
       "<div>\n",
       "<style scoped>\n",
       "    .dataframe tbody tr th:only-of-type {\n",
       "        vertical-align: middle;\n",
       "    }\n",
       "\n",
       "    .dataframe tbody tr th {\n",
       "        vertical-align: top;\n",
       "    }\n",
       "\n",
       "    .dataframe thead th {\n",
       "        text-align: right;\n",
       "    }\n",
       "</style>\n",
       "<table border=\"1\" class=\"dataframe\">\n",
       "  <thead>\n",
       "    <tr style=\"text-align: right;\">\n",
       "      <th></th>\n",
       "      <th>name</th>\n",
       "      <th>birth</th>\n",
       "      <th>death</th>\n",
       "    </tr>\n",
       "  </thead>\n",
       "  <tbody>\n",
       "    <tr>\n",
       "      <th>0</th>\n",
       "      <td>Johann Sebastian Bach</td>\n",
       "      <td>1685</td>\n",
       "      <td>1750</td>\n",
       "    </tr>\n",
       "    <tr>\n",
       "      <th>1</th>\n",
       "      <td>John Blow</td>\n",
       "      <td>1649</td>\n",
       "      <td>1708</td>\n",
       "    </tr>\n",
       "    <tr>\n",
       "      <th>2</th>\n",
       "      <td>John Eccles</td>\n",
       "      <td>1668</td>\n",
       "      <td>1735</td>\n",
       "    </tr>\n",
       "    <tr>\n",
       "      <th>3</th>\n",
       "      <td>Georg Friedrich Händel</td>\n",
       "      <td>1685</td>\n",
       "      <td>1759</td>\n",
       "    </tr>\n",
       "    <tr>\n",
       "      <th>4</th>\n",
       "      <td>Marin Marais</td>\n",
       "      <td>1656</td>\n",
       "      <td>1728</td>\n",
       "    </tr>\n",
       "    <tr>\n",
       "      <th>5</th>\n",
       "      <td>Claudio Monteverdi</td>\n",
       "      <td>1567</td>\n",
       "      <td>1643</td>\n",
       "    </tr>\n",
       "    <tr>\n",
       "      <th>6</th>\n",
       "      <td>Johann Pachelbel</td>\n",
       "      <td>1653</td>\n",
       "      <td>1706</td>\n",
       "    </tr>\n",
       "    <tr>\n",
       "      <th>7</th>\n",
       "      <td>Daniel Purcell</td>\n",
       "      <td>1664</td>\n",
       "      <td>1717</td>\n",
       "    </tr>\n",
       "    <tr>\n",
       "      <th>8</th>\n",
       "      <td>Henry Purcell</td>\n",
       "      <td>1659</td>\n",
       "      <td>1695</td>\n",
       "    </tr>\n",
       "    <tr>\n",
       "      <th>9</th>\n",
       "      <td>Georg Philipp Telemann</td>\n",
       "      <td>1681</td>\n",
       "      <td>1767</td>\n",
       "    </tr>\n",
       "    <tr>\n",
       "      <th>10</th>\n",
       "      <td>Pietro Della Valle</td>\n",
       "      <td>1586</td>\n",
       "      <td>1652</td>\n",
       "    </tr>\n",
       "    <tr>\n",
       "      <th>11</th>\n",
       "      <td>Antonio Vivaldi</td>\n",
       "      <td>1678</td>\n",
       "      <td>1741</td>\n",
       "    </tr>\n",
       "  </tbody>\n",
       "</table>\n",
       "</div>"
      ],
      "text/plain": [
       "                      name  birth  death\n",
       "0    Johann Sebastian Bach   1685   1750\n",
       "1                John Blow   1649   1708\n",
       "2              John Eccles   1668   1735\n",
       "3   Georg Friedrich Händel   1685   1759\n",
       "4             Marin Marais   1656   1728\n",
       "5       Claudio Monteverdi   1567   1643\n",
       "6         Johann Pachelbel   1653   1706\n",
       "7           Daniel Purcell   1664   1717\n",
       "8            Henry Purcell   1659   1695\n",
       "9   Georg Philipp Telemann   1681   1767\n",
       "10      Pietro Della Valle   1586   1652\n",
       "11         Antonio Vivaldi   1678   1741"
      ]
     },
     "execution_count": 22,
     "metadata": {},
     "output_type": "execute_result"
    }
   ],
   "source": [
    "b_list = pd.read_table('composers-semicolon.csv',sep=';')\n",
    "b_list"
   ]
  },
  {
   "cell_type": "markdown",
   "id": "25017d25",
   "metadata": {},
   "source": [
    "Sometimes, CSV files contain too much data to be displayed. In that case, you can use the head() function to display only the first five rows:"
   ]
  },
  {
   "cell_type": "code",
   "execution_count": 23,
   "id": "c5500c49",
   "metadata": {},
   "outputs": [
    {
     "data": {
      "text/html": [
       "<div>\n",
       "<style scoped>\n",
       "    .dataframe tbody tr th:only-of-type {\n",
       "        vertical-align: middle;\n",
       "    }\n",
       "\n",
       "    .dataframe tbody tr th {\n",
       "        vertical-align: top;\n",
       "    }\n",
       "\n",
       "    .dataframe thead th {\n",
       "        text-align: right;\n",
       "    }\n",
       "</style>\n",
       "<table border=\"1\" class=\"dataframe\">\n",
       "  <thead>\n",
       "    <tr style=\"text-align: right;\">\n",
       "      <th></th>\n",
       "      <th>name</th>\n",
       "      <th>birth</th>\n",
       "      <th>death</th>\n",
       "    </tr>\n",
       "  </thead>\n",
       "  <tbody>\n",
       "    <tr>\n",
       "      <th>0</th>\n",
       "      <td>Johann Sebastian Bach</td>\n",
       "      <td>1685</td>\n",
       "      <td>1750</td>\n",
       "    </tr>\n",
       "    <tr>\n",
       "      <th>1</th>\n",
       "      <td>John Blow</td>\n",
       "      <td>1649</td>\n",
       "      <td>1708</td>\n",
       "    </tr>\n",
       "    <tr>\n",
       "      <th>2</th>\n",
       "      <td>John Eccles</td>\n",
       "      <td>1668</td>\n",
       "      <td>1735</td>\n",
       "    </tr>\n",
       "    <tr>\n",
       "      <th>3</th>\n",
       "      <td>Georg Friedrich Händel</td>\n",
       "      <td>1685</td>\n",
       "      <td>1759</td>\n",
       "    </tr>\n",
       "    <tr>\n",
       "      <th>4</th>\n",
       "      <td>Marin Marais</td>\n",
       "      <td>1656</td>\n",
       "      <td>1728</td>\n",
       "    </tr>\n",
       "  </tbody>\n",
       "</table>\n",
       "</div>"
      ],
      "text/plain": [
       "                     name  birth  death\n",
       "0   Johann Sebastian Bach   1685   1750\n",
       "1               John Blow   1649   1708\n",
       "2             John Eccles   1668   1735\n",
       "3  Georg Friedrich Händel   1685   1759\n",
       "4            Marin Marais   1656   1728"
      ]
     },
     "execution_count": 23,
     "metadata": {},
     "output_type": "execute_result"
    }
   ],
   "source": [
    "b_list.head()"
   ]
  },
  {
   "cell_type": "markdown",
   "id": "9a78f175",
   "metadata": {},
   "source": [
    "Sometimes, you need a quick check of the type of data and the consistency of a CSV table. You can do that via info(). It tells you,\n",
    "<ul>\n",
    "    <li>whether your data is of the Series or DataFrame class</li>\n",
    "    <li>how many rows you've got</li>\n",
    "    <li>how many columns you've got</li>\n",
    "    <li>the names of all columns</li>\n",
    "    <li>the data types contained in all columns</li>\n",
    "    <li>the memory occupied by the table</li>\n",
    "    <li>the table's data type (Series or DataFrame)</li>\n",
    "</ul>"
   ]
  },
  {
   "cell_type": "code",
   "execution_count": 9,
   "id": "ecd067a0",
   "metadata": {},
   "outputs": [
    {
     "name": "stdout",
     "output_type": "stream",
     "text": [
      "<class 'pandas.core.frame.DataFrame'>\n",
      "RangeIndex: 12 entries, 0 to 11\n",
      "Data columns (total 3 columns):\n",
      " #   Column  Non-Null Count  Dtype \n",
      "---  ------  --------------  ----- \n",
      " 0   name    12 non-null     object\n",
      " 1   birth   12 non-null     int64 \n",
      " 2   death   12 non-null     int64 \n",
      "dtypes: int64(2), object(1)\n",
      "memory usage: 416.0+ bytes\n"
     ]
    }
   ],
   "source": [
    "b_list.info()"
   ]
  },
  {
   "cell_type": "markdown",
   "id": "dbe6375f",
   "metadata": {},
   "source": [
    "To display all column names, you can loop through the DataFrame or via list() command:"
   ]
  },
  {
   "cell_type": "code",
   "execution_count": 28,
   "id": "52dcff01",
   "metadata": {},
   "outputs": [
    {
     "name": "stdout",
     "output_type": "stream",
     "text": [
      "name\n",
      "birth\n",
      "death\n"
     ]
    },
    {
     "data": {
      "text/plain": [
       "['name', 'birth', 'death']"
      ]
     },
     "execution_count": 28,
     "metadata": {},
     "output_type": "execute_result"
    }
   ],
   "source": [
    "for col in a_list.columns:\n",
    "    print(col)\n",
    "list(a_list.columns)"
   ]
  },
  {
   "cell_type": "markdown",
   "id": "2719bcb4",
   "metadata": {},
   "source": [
    "Lastly, you can display column names using the keys() command:"
   ]
  },
  {
   "cell_type": "code",
   "execution_count": 11,
   "id": "c627297c",
   "metadata": {},
   "outputs": [
    {
     "name": "stdout",
     "output_type": "stream",
     "text": [
      "Index(['name', 'birth', 'death'], dtype='object')\n"
     ]
    }
   ],
   "source": [
    "print(a_list.keys())"
   ]
  },
  {
   "cell_type": "markdown",
   "id": "40f34229",
   "metadata": {},
   "source": [
    "If your CSV file contains very many columns, an alphabetically sorted list provides a good overview:"
   ]
  },
  {
   "cell_type": "code",
   "execution_count": 12,
   "id": "8489b969",
   "metadata": {},
   "outputs": [],
   "source": [
    "dataframe = pd.DataFrame([[1,2,3],[4,5,6],[7,8,9]], columns=list('ABC'))# here, list() makes every character its own entry\n",
    "columna = [1,4,7]\n",
    "columnb = [2,5,8]\n",
    "columnc = [3,6,9]\n",
    "matrix = [[1,2,3],[4,5,6],[7,8,9]]\n",
    "dataframe = pd.DataFrame({'A': columna, 'B': columnb, 'C': columnc})# here we use a dictionairy\n",
    "dataframe = pd.DataFrame(matrix,columns=['A','B','C'])# here we use a dictionairy\""
   ]
  },
  {
   "cell_type": "markdown",
   "id": "0fafecab",
   "metadata": {},
   "source": [
    "Such DataFrames have many different functions and options:"
   ]
  },
  {
   "cell_type": "code",
   "execution_count": 13,
   "id": "048b66b4",
   "metadata": {},
   "outputs": [
    {
     "data": {
      "text/html": [
       "<div>\n",
       "<style scoped>\n",
       "    .dataframe tbody tr th:only-of-type {\n",
       "        vertical-align: middle;\n",
       "    }\n",
       "\n",
       "    .dataframe tbody tr th {\n",
       "        vertical-align: top;\n",
       "    }\n",
       "\n",
       "    .dataframe thead th {\n",
       "        text-align: right;\n",
       "    }\n",
       "</style>\n",
       "<table border=\"1\" class=\"dataframe\">\n",
       "  <thead>\n",
       "    <tr style=\"text-align: right;\">\n",
       "      <th></th>\n",
       "      <th>A</th>\n",
       "      <th>B</th>\n",
       "      <th>C</th>\n",
       "    </tr>\n",
       "  </thead>\n",
       "  <tbody>\n",
       "    <tr>\n",
       "      <th>0</th>\n",
       "      <td>1</td>\n",
       "      <td>2</td>\n",
       "      <td>3</td>\n",
       "    </tr>\n",
       "    <tr>\n",
       "      <th>1</th>\n",
       "      <td>4</td>\n",
       "      <td>5</td>\n",
       "      <td>6</td>\n",
       "    </tr>\n",
       "    <tr>\n",
       "      <th>2</th>\n",
       "      <td>7</td>\n",
       "      <td>8</td>\n",
       "      <td>9</td>\n",
       "    </tr>\n",
       "  </tbody>\n",
       "</table>\n",
       "</div>"
      ],
      "text/plain": [
       "   A  B  C\n",
       "0  1  2  3\n",
       "1  4  5  6\n",
       "2  7  8  9"
      ]
     },
     "execution_count": 13,
     "metadata": {},
     "output_type": "execute_result"
    }
   ],
   "source": [
    "dataframe.head()"
   ]
  },
  {
   "cell_type": "code",
   "execution_count": 14,
   "id": "0fb67cbc",
   "metadata": {},
   "outputs": [
    {
     "data": {
      "text/plain": [
       "<AxesSubplot: >"
      ]
     },
     "execution_count": 14,
     "metadata": {},
     "output_type": "execute_result"
    },
    {
     "data": {
      "image/png": "[encoded data removed]",
      "text/plain": [
       "<Figure size 640x480 with 1 Axes>"
      ]
     },
     "metadata": {},
     "output_type": "display_data"
    }
   ],
   "source": [
    "dataframe.plot()"
   ]
  },
  {
   "cell_type": "code",
   "execution_count": 15,
   "id": "19a7a69a",
   "metadata": {},
   "outputs": [
    {
     "data": {
      "text/plain": [
       "A    4.0\n",
       "B    5.0\n",
       "C    6.0\n",
       "dtype: float64"
      ]
     },
     "execution_count": 15,
     "metadata": {},
     "output_type": "execute_result"
    }
   ],
   "source": [
    "dataframe.mean()"
   ]
  },
  {
   "cell_type": "code",
   "execution_count": 17,
   "id": "cadbf702",
   "metadata": {},
   "outputs": [
    {
     "data": {
      "text/html": [
       "<div>\n",
       "<style scoped>\n",
       "    .dataframe tbody tr th:only-of-type {\n",
       "        vertical-align: middle;\n",
       "    }\n",
       "\n",
       "    .dataframe tbody tr th {\n",
       "        vertical-align: top;\n",
       "    }\n",
       "\n",
       "    .dataframe thead th {\n",
       "        text-align: right;\n",
       "    }\n",
       "</style>\n",
       "<table border=\"1\" class=\"dataframe\">\n",
       "  <thead>\n",
       "    <tr style=\"text-align: right;\">\n",
       "      <th></th>\n",
       "      <th>A</th>\n",
       "      <th>B</th>\n",
       "      <th>C</th>\n",
       "    </tr>\n",
       "  </thead>\n",
       "  <tbody>\n",
       "    <tr>\n",
       "      <th>2</th>\n",
       "      <td>7</td>\n",
       "      <td>8</td>\n",
       "      <td>9</td>\n",
       "    </tr>\n",
       "    <tr>\n",
       "      <th>1</th>\n",
       "      <td>4</td>\n",
       "      <td>5</td>\n",
       "      <td>6</td>\n",
       "    </tr>\n",
       "    <tr>\n",
       "      <th>0</th>\n",
       "      <td>1</td>\n",
       "      <td>2</td>\n",
       "      <td>3</td>\n",
       "    </tr>\n",
       "  </tbody>\n",
       "</table>\n",
       "</div>"
      ],
      "text/plain": [
       "   A  B  C\n",
       "2  7  8  9\n",
       "1  4  5  6\n",
       "0  1  2  3"
      ]
     },
     "execution_count": 17,
     "metadata": {},
     "output_type": "execute_result"
    }
   ],
   "source": [
    "dataframe.sort_values(by='C',ascending=False)"
   ]
  },
  {
   "cell_type": "markdown",
   "id": "cb577cfb",
   "metadata": {},
   "source": [
    "You can export DataFrames using the to_csv() function:"
   ]
  },
  {
   "cell_type": "code",
   "execution_count": 16,
   "id": "3e3e9518",
   "metadata": {},
   "outputs": [],
   "source": [
    "dataframe.to_csv('exporteddataframe.csv')# if you use a file name only, the fild will be stored in the same folder as the jpynb file."
   ]
  },
  {
   "cell_type": "markdown",
   "id": "82bc0d51",
   "metadata": {},
   "source": [
    "You have very many options, e.g., choosing your encoding character set, change the separator, turning line numbers and the headers on or off, and compress the file:"
   ]
  },
  {
   "cell_type": "code",
   "execution_count": 18,
   "id": "a3e3cb69",
   "metadata": {},
   "outputs": [],
   "source": [
    "dataframe.to_csv('exportedoptions.csv', sep=';', encoding='latin_1', index=False, header=False, compression='zip')"
   ]
  },
  {
   "cell_type": "markdown",
   "id": "1fc495df",
   "metadata": {},
   "source": [
    "Attention: Whenever you use options other than the standard, you need to specify them on import. This import command mostly looks the same. However, pandas automatically recognizes the lack of an index. To tell pandas that the first line is not supposed to be a header, you write header<font color=#a2f>=</font><font color=\"green\"><b>None</b></font> instead of header<font color=#a2f>=</font><font color=\"green\"><b>False</b></font>:\""
   ]
  },
  {
   "cell_type": "code",
   "execution_count": 29,
   "id": "9f62fd9b",
   "metadata": {},
   "outputs": [],
   "source": [
    "c_list = pd.read_table('exportedoptions.csv', sep=';', encoding='latin_1', header=None, compression='zip')"
   ]
  },
  {
   "cell_type": "code",
   "execution_count": 30,
   "id": "e6b16a91",
   "metadata": {},
   "outputs": [
    {
     "data": {
      "text/html": [
       "<div>\n",
       "<style scoped>\n",
       "    .dataframe tbody tr th:only-of-type {\n",
       "        vertical-align: middle;\n",
       "    }\n",
       "\n",
       "    .dataframe tbody tr th {\n",
       "        vertical-align: top;\n",
       "    }\n",
       "\n",
       "    .dataframe thead th {\n",
       "        text-align: right;\n",
       "    }\n",
       "</style>\n",
       "<table border=\"1\" class=\"dataframe\">\n",
       "  <thead>\n",
       "    <tr style=\"text-align: right;\">\n",
       "      <th></th>\n",
       "      <th>0</th>\n",
       "      <th>1</th>\n",
       "      <th>2</th>\n",
       "    </tr>\n",
       "  </thead>\n",
       "  <tbody>\n",
       "    <tr>\n",
       "      <th>0</th>\n",
       "      <td>1</td>\n",
       "      <td>2</td>\n",
       "      <td>3</td>\n",
       "    </tr>\n",
       "    <tr>\n",
       "      <th>1</th>\n",
       "      <td>4</td>\n",
       "      <td>5</td>\n",
       "      <td>6</td>\n",
       "    </tr>\n",
       "    <tr>\n",
       "      <th>2</th>\n",
       "      <td>7</td>\n",
       "      <td>8</td>\n",
       "      <td>9</td>\n",
       "    </tr>\n",
       "  </tbody>\n",
       "</table>\n",
       "</div>"
      ],
      "text/plain": [
       "   0  1  2\n",
       "0  1  2  3\n",
       "1  4  5  6\n",
       "2  7  8  9"
      ]
     },
     "execution_count": 30,
     "metadata": {},
     "output_type": "execute_result"
    }
   ],
   "source": [
    "c_list"
   ]
  },
  {
   "cell_type": "markdown",
   "id": "3214f8af",
   "metadata": {},
   "source": [
    "You can convert DataFrames to numpy arrays using"
   ]
  },
  {
   "cell_type": "code",
   "execution_count": 23,
   "id": "f1c3e245",
   "metadata": {},
   "outputs": [
    {
     "name": "stdout",
     "output_type": "stream",
     "text": [
      "<bound method DataFrame.to_numpy of    0  1  2\n",
      "0  1  2  3\n",
      "1  4  5  6\n",
      "2  7  8  9>\n"
     ]
    }
   ],
   "source": [
    "c_nparray = c_list.to_numpy\n",
    "print(c_nparray)"
   ]
  },
  {
   "cell_type": "markdown",
   "id": "653d8d27",
   "metadata": {},
   "source": [
    "Note that this method also adds the line numbers to the matrix. To remove them, hide the index using the style function of DataFrames in pandas:"
   ]
  },
  {
   "cell_type": "code",
   "execution_count": 24,
   "id": "c341eca6",
   "metadata": {},
   "outputs": [
    {
     "name": "stdout",
     "output_type": "stream",
     "text": [
      "[[1 2 3]\n",
      " [4 5 6]\n",
      " [7 8 9]]\n"
     ]
    }
   ],
   "source": [
    "c_list.style.hide(axis='index')\n",
    "c_nparray = c_list.to_numpy()\n",
    "print(c_nparray)"
   ]
  },
  {
   "cell_type": "markdown",
   "id": "7c3d8327",
   "metadata": {},
   "source": [
    "Note that many libraries can handle DataFrames as if they were lists or numpy arrays. Natively, python can carry out matrix multiplication:"
   ]
  },
  {
   "cell_type": "code",
   "execution_count": 31,
   "id": "096184ae",
   "metadata": {},
   "outputs": [
    {
     "data": {
      "text/html": [
       "<div>\n",
       "<style scoped>\n",
       "    .dataframe tbody tr th:only-of-type {\n",
       "        vertical-align: middle;\n",
       "    }\n",
       "\n",
       "    .dataframe tbody tr th {\n",
       "        vertical-align: top;\n",
       "    }\n",
       "\n",
       "    .dataframe thead th {\n",
       "        text-align: right;\n",
       "    }\n",
       "</style>\n",
       "<table border=\"1\" class=\"dataframe\">\n",
       "  <thead>\n",
       "    <tr style=\"text-align: right;\">\n",
       "      <th></th>\n",
       "      <th>0</th>\n",
       "      <th>1</th>\n",
       "      <th>2</th>\n",
       "    </tr>\n",
       "  </thead>\n",
       "  <tbody>\n",
       "    <tr>\n",
       "      <th>0</th>\n",
       "      <td>2</td>\n",
       "      <td>0</td>\n",
       "      <td>6</td>\n",
       "    </tr>\n",
       "    <tr>\n",
       "      <th>1</th>\n",
       "      <td>8</td>\n",
       "      <td>0</td>\n",
       "      <td>12</td>\n",
       "    </tr>\n",
       "    <tr>\n",
       "      <th>2</th>\n",
       "      <td>14</td>\n",
       "      <td>0</td>\n",
       "      <td>18</td>\n",
       "    </tr>\n",
       "  </tbody>\n",
       "</table>\n",
       "</div>"
      ],
      "text/plain": [
       "    0  1   2\n",
       "0   2  0   6\n",
       "1   8  0  12\n",
       "2  14  0  18"
      ]
     },
     "execution_count": 31,
     "metadata": {},
     "output_type": "execute_result"
    }
   ],
   "source": [
    "c_list*[2,0,2]"
   ]
  },
  {
   "cell_type": "markdown",
   "id": "30d7ca1b",
   "metadata": {},
   "source": [
    "The sklearn library, which contains a large number of standard machine learning functions, accepts either DataFrames or numpy arrays. The following example is a random forest classifier that reads one CSV file that contains a five-dimensional feature vector (f1 to f5) and the respective class for each item (line) of a dataset:"
   ]
  },
  {
   "cell_type": "code",
   "execution_count": 32,
   "id": "1bf29fc0",
   "metadata": {},
   "outputs": [
    {
     "name": "stdout",
     "output_type": "stream",
     "text": [
      "Train Accuracy: 1.000\n",
      "Test Accuracy: 0.844\n"
     ]
    }
   ],
   "source": [
    "import sklearn\n",
    "from sklearn.model_selection import train_test_split\n",
    "from sklearn.ensemble import RandomForestClassifier\n",
    "drumtypes = pd.read_csv('mfccs.csv')\n",
    "y = drumtypes['class']#these are the class labels that need to be predicted by the clasifier\n",
    "X = drumtypes.drop(['class'], axis = 1)#\n",
    "X_train, X_test, y_train, y_test = train_test_split(X, y, test_size=0.20, random_state=9)\n",
    "rf = RandomForestClassifier()#load an instance of the RF classifier\n",
    "rf.fit(X_train, y_train)\n",
    "print(f'Train Accuracy: {rf.score(X_train, y_train):.3f}')\n",
    "print(f'Test Accuracy: {rf.score(X_test, y_test):.3f}')"
   ]
  },
  {
   "cell_type": "markdown",
   "id": "b52e0a70",
   "metadata": {},
   "source": [
    "Off topic: When you insert file paths, it is meaningful to use <i>raw</i> strings like <font color=\"red\">r'c:\\users\\name\\file.csv'</font>. Here, the <i>r</i> means \"raw\" and tells python not to use \"escape sequences\". Escape sequences are sequences to format or layout a text. Examples can be found below:"
   ]
  },
  {
   "cell_type": "code",
   "execution_count": 33,
   "id": "b32cb212",
   "metadata": {},
   "outputs": [
    {
     "name": "stdout",
     "output_type": "stream",
     "text": [
      "i\n",
      "j\tk\n",
      "'i\\nj\\tk'\n",
      "i\\nj\\tk\n"
     ]
    }
   ],
   "source": [
    "text='i\\nj\\tk'\n",
    "print(text)\n",
    "print(repr(text))\n",
    "print(r'i\\nj\\tk')"
   ]
  },
  {
   "cell_type": "markdown",
   "id": "f9b5c1f1",
   "metadata": {},
   "source": [
    "Here, the <font color=\"red\">\\n</font> means \"new line\", the <font color=\"red\">\\t</font> means \"tab space\". To read the raw text, ignoring the escape sequence, you use <font color=\"red\">r''</font> for strings and <font color=\"green\">repr</font>() for calling variables."
   ]
  }
 ],
 "metadata": {
  "kernelspec": {
   "display_name": "Python 3 (ipykernel)",
   "language": "python",
   "name": "python3"
  },
  "language_info": {
   "codemirror_mode": {
    "name": "ipython",
    "version": 3
   },
   "file_extension": ".py",
   "mimetype": "text/x-python",
   "name": "python",
   "nbconvert_exporter": "python",
   "pygments_lexer": "ipython3",
   "version": "3.10.7"
  }
 },
 "nbformat": 4,
 "nbformat_minor": 5
}
