{
 "cells": [
  {
   "cell_type": "markdown",
   "id": "df8001d2",
   "metadata": {},
   "source": [
    "<h1>Fundamentals of Programming</h1>"
   ]
  },
  {
   "cell_type": "markdown",
   "id": "226ec9b6",
   "metadata": {},
   "source": [
    "Programming languages are often divided in two categories: compiled vs. interpreted.\n",
    "<h2>Interpreted Languages</h2>\n",
    "Facts about interpreted languages:\n",
    "<ul>\n",
    "  <li>Interpreted languages include HTML, Java Script and PHP.</li>\n",
    "  <li>Here, the source is interpreted by an interpreter on every use.</li>\n",
    "  <li>The interpreter translates the source code into machine language (0/1) that can be executed.</li>\n",
    "  <li>The source code is provided and visible to everyone.</li>\n",
    "  <li>You can modify the program while it is running.</li>\n",
    "  <li>Interpreted languages are comparably slow, because the intermediat step of interpretation takes time.</li>\n",
    "</ul>\n",
    "<h2>Compiled Languages</h2>\n",
    "Facts about compiled languages:\n",
    "<ul>\n",
    "  <li>Compiled languages include c, c++, Fortran, Java and Swift.</li>\n",
    "  <li>Here, the source is compiled by a compiler once.</li>\n",
    "  <li>The compiler translates the source code into machine commands (0/1).</li>\n",
    "  <li>The source code is hidden.</li>\n",
    "  <li>Compiled languages are fast because the compiled code contains the machine commands.</li>\n",
    "</ul>"
   ]
  },
  {
   "cell_type": "markdown",
   "id": "631364f9",
   "metadata": {},
   "source": [
    "<h2>High Level Languages</h2>\n",
    "All the programming languages listed above are <i>high level languages</i>. They use a mixture of \n",
    "<ul>\n",
    "  <li>English terms like \"for\", if\", \"while</li>\n",
    "  <li>symbols like \"&\"</li>\n",
    "  <li>mathematical symbols, like \"+\", \"-\", \"(\", \")\")</li>  \n",
    "  <li>abbreviations like \"i\" for <i>italics</i> or <font color=\"green\">def</font> for \"define\"</li>\n",
    "  <li>and an interpretable syntax, like</li>\n",
    "</ul>\n",
    "<font color=\"green\"><b>def</b></font> <font color=\"blue\">function_name</font>(passed_variable):<br>&nbsp;&nbsp;&nbsp;&nbsp;functionality<br>&nbsp;&nbsp;&nbsp;&nbsp;return output_to_return<br>\n",
    ".\n",
    "<h2>Low Level Languages</h2>\n",
    "A low level language is also called <i>machine language</i>. It is the only language computers can directly understand. It consists of \"0\" and \"1\" and it practically uninterpretable by a human reader.\n",
    "\n",
    "<h2>Assembly Languages</h2>\n",
    "Assembly languages lie in between: You write code that is very close to machine language. Then, an assembler makes the translation. Assembly codes are rarely used."
   ]
  },
  {
   "cell_type": "markdown",
   "id": "7c158eb6",
   "metadata": {},
   "source": [
    "<h2>Python</h2>\n",
    "Python is a high level language. It has an interpreter and compiler support, but is usually interpreted. Python can call c and c++ libraries (which are compiled), making it faster at times. Python is one of the most popular programming languages. This means the community is huge: a lot libraries exist, a lot of source code can be found, many tutorials exist, many forums exist, ChatGPT is quite good at helping you program in python. "
   ]
  },
  {
   "cell_type": "markdown",
   "id": "9081209c",
   "metadata": {},
   "source": []
  },
  {
   "cell_type": "code",
   "execution_count": null,
   "id": "d53d64b1",
   "metadata": {},
   "outputs": [],
   "source": []
  },
  {
   "cell_type": "markdown",
   "id": "6ce96853",
   "metadata": {},
   "source": [
    "<h2>Classes, Instances, Attributes and Methods</h2>\n",
    "Classes can be thought of as a template, or blueprint."
   ]
  },
  {
   "cell_type": "code",
   "execution_count": 3,
   "id": "89a14912",
   "metadata": {},
   "outputs": [
    {
     "name": "stdout",
     "output_type": "stream",
     "text": [
      "music\n"
     ]
    }
   ],
   "source": [
    "class note:# here we define a new class called \"note\"\n",
    "    context = \"music\" # this is a class variable\n",
    "    def __init__(self, duration, amplitude, f0):\n",
    "        self.duration = duration # this is an instance variable\n",
    "        self.amplitude = amplitude\n",
    "        self.f0 = f0\n",
    "\n",
    "quarterpianissimoc2 = note(.25,.1,\"c\")\n",
    "print(quarterpianissimoc2.context)\n",
    "        "
   ]
  },
  {
   "cell_type": "code",
   "execution_count": 5,
   "id": "f2783030",
   "metadata": {},
   "outputs": [
    {
     "name": "stdout",
     "output_type": "stream",
     "text": [
      "what is c\n"
     ]
    }
   ],
   "source": [
    "print(f'what is {quarterpianissimoc2.f0}')"
   ]
  },
  {
   "cell_type": "code",
   "execution_count": null,
   "id": "5aca2d9d",
   "metadata": {},
   "outputs": [],
   "source": []
  }
 ],
 "metadata": {
  "kernelspec": {
   "display_name": "Python 3 (ipykernel)",
   "language": "python",
   "name": "python3"
  },
  "language_info": {
   "codemirror_mode": {
    "name": "ipython",
    "version": 3
   },
   "file_extension": ".py",
   "mimetype": "text/x-python",
   "name": "python",
   "nbconvert_exporter": "python",
   "pygments_lexer": "ipython3",
   "version": "3.10.7"
  }
 },
 "nbformat": 4,
 "nbformat_minor": 5
}
