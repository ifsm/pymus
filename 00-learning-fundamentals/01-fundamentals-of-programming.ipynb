{
 "cells": [
  {
   "cell_type": "markdown",
   "id": "df8001d2",
   "metadata": {},
   "source": [
    "<h1>Fundamentals of Programming</h1>"
   ]
  },
  {
   "cell_type": "markdown",
   "id": "226ec9b6",
   "metadata": {},
   "source": [
    "Programming languages are often divided in two categories: compiled vs. interpreted.\n",
    "<h2>Interpreted Languages</h2>\n",
    "Facts about interpreted languages:\n",
    "<ul>\n",
    "  <li>Interpreted languages include HTML, Java Script and PHP.\n",
    "  <li>Here, the source is interpreted by an interpreter on every use.</li>\n",
    "  <li>The interpreter translates the source code into machine language (0/1) that can be executed.</li>\n",
    "  <li>The source code is provided and visible to everyone.</li>\n",
    "  <li>You can modify the program while it is running.</li>\n",
    "  <li>Interpreted languages are comparably slow, because the intermediat step of interpretation takes time.</li>\n",
    "</ul>\n",
    "<h2>Compiled Languages</h2>\n",
    "Facts about compiled languages:\n",
    "<ul>\n",
    "  <li>Compiled languages include c, c++, Fortran, Java and Swift.</li>\n",
    "  <li>Here, the source is compiled by a compiler once.</li>\n",
    "  <li>The compiler translates the source code into machine commands (0/1).</li>\n",
    "  <li>The source code is hidden.</li>\n",
    "  <li>Compiled languages are fast because the compiled code contains the machine commands.</li>\n",
    "</ul>"
   ]
  },
  {
   "cell_type": "markdown",
   "id": "631364f9",
   "metadata": {},
   "source": [
    "<h2>High Level Languages</h2>\n",
    "All the programming languages listed above are <i>high level languages</i>. They use a mixture of \n",
    "<ul>\n",
    "  <li>English terms like \"for\", if\", \"while</li>\n",
    "  <li>symbols like \"&\"</li>\n",
    "  <li>mathematical symbols, like \"+\", \"-\", \"(\", \")\")</li>  \n",
    "  <li>abbreviations like \"i\" for <i>italics</i> or <font color=\"green\">def</font> for \"define\"</li>\n",
    "  <li>and an interpretable syntax, like</li>\n",
    "</ul>\n",
    "<font color=\"green\"><b>def</b></font> <font color=\"blue\">function_name</font>(passed_variable):<br>&nbsp;&nbsp;&nbsp;&nbsp;functionality<br>&nbsp;&nbsp;&nbsp;&nbsp;return output_to_return<br>\n",
    ".\n",
    "<h2>Low Level Languages</h2>\n",
    "A low level language is also called <i>machine language</i>. It is the only language computers can directly understand. It consists of \"0\" and \"1\" and it practically uninterpretable by a human reader.\n",
    "\n",
    "<h2>Assembly Languages</h2>\n",
    "Assembly languages lie in between: You write code that is very close to machine language. Then, an assembler makes the translation. Assembly codes are rarely used."
   ]
  },
  {
   "cell_type": "markdown",
   "id": "7c158eb6",
   "metadata": {},
   "source": [
    "<h2>Python</h2>\n",
    "Python is a high level language. It has an interpreter and compiler support, but is usually interpreted. Python can call c and c++ libraries (which are compiled), making it faster at times. Python is one of the most popular programming languages. This means the community is huge: a lot libraries exist, a lot of source code can be found, many tutorials exist, many forums exist, ChatGPT is quite good at helping you program in python. "
   ]
  },
  {
   "cell_type": "markdown",
   "id": "9081209c",
   "metadata": {},
   "source": [
    "<h2>Variables</h2>"
   ]
  },
  {
   "cell_type": "markdown",
   "id": "c7b750cc",
   "metadata": {},
   "source": [
    "In programming languages, variables are similar to variables in mathematics:\n",
    "<i>x</i>, name, and other place holders can be variables.\n",
    "<ul>\n",
    "  <li>Variables occupy memory (RAM)</li>\n",
    "  <ul>\n",
    "      <li>How much?</li>\n",
    "      <ul><li>Programming language</li>\n",
    "          <li>Data type</li>\n",
    "          <li>number of values</li>\n",
    "      </ul>\n",
    "  </ul>\n",
    "  <ul>\n",
    "      <li>How long?</li>\n",
    "      <ul><li>Until you free it (e.g., in c++)</li>\n",
    "          <li>Garbage collection (e.g., in Python, c#, JAVA)</li>\n",
    "      </ul>\n",
    "  </ul>\n",
    "</ul>"
   ]
  },
  {
   "cell_type": "markdown",
   "id": "90318458",
   "metadata": {},
   "source": [
    "<h3>Typical Data Types</h3>\n",
    "Typical data types include:\n",
    "<ul>\n",
    "  <li>char</li>\n",
    "  <li>string</li>  \n",
    "  <li>short</li>  \n",
    "  <li>(signed) integer</li>\n",
    "  <li>(signed) long</li>\n",
    "  <li>float</li>\n",
    "  <li>double</li>\n",
    "  <li>long double</li>\n",
    "  <li>complex</li>\n",
    "  <li>bool</li>\n",
    "  <li>set</li>\n",
    "  <li>list</li>\n",
    "  <li>pointer</li>\n",
    "  <li>array[,,,]</li>\n",
    "  <li>array[][][][]</li>  \n",
    "</ul>\n",
    "In many programming languages, you have to declare a data type explicitly. This is (often) not necessary in Python.\n",
    "\n",
    "<h3>Data Types in Python</h3>\n",
    "Data types in Python include:\n",
    "<ul>\n",
    "  <li>str</li>\n",
    "  <li>int</li>  \n",
    "  <li>float</li>  \n",
    "  <li>complex</li>\n",
    "  <li>list</li>\n",
    "  <li>tuple</li>\n",
    "  <li>range</li>\n",
    "  <li>dict</li>\n",
    "  <li>set</li>\n",
    "  <li>frozenset</li>\n",
    "  <li>bool</li>\n",
    "  <li>bytes</li>\n",
    "  <li>bytearray</li>\n",
    "  <li>memoryview</li>  \n",
    "  <li>NoneType</li>  \n",
    "</ul>"
   ]
  },
  {
   "cell_type": "code",
   "execution_count": 3,
   "id": "7fc6c08e",
   "metadata": {},
   "outputs": [],
   "source": [
    "string = 'Hello World'\n",
    "integer=30# space characters before and after the \"=\" in not required, but makes the code readable\n",
    "floatingpoint = 3.1\n",
    "complexnumber = 3+5j# note that we use a \"j\" and no character to indicate the imaginary part\n",
    "a_list = [\"sine\", \"cosine\", \"tangent\"]\n",
    "a_tupel = (1, 3, 5)\n",
    "a_range = range(5)\n",
    "dictionairy = {\"name\" : \"Ärzte\", \"members\" : 3}\n",
    "a_set = {\"c\", \"d\", \"e\", \"f\", \"g\", \"a\", \"b\", \"c\"}\n",
    "a_frozenset = frozenset({\"c\", \"d\", \"e\", \"f\", \"g\", \"a\", \"b\", \"c\"})\n",
    "a_boolean = True\n",
    "a_byte = b'Hello'"
   ]
  },
  {
   "cell_type": "code",
   "execution_count": 2,
   "id": "267177a9",
   "metadata": {},
   "outputs": [
    {
     "name": "stdout",
     "output_type": "stream",
     "text": [
      "Hello World\n",
      "30\n",
      "3.1\n",
      "(3+5j)\n",
      "['sine', 'cosine', 'tangent']\n",
      "(1, 3, 5)\n",
      "range(0, 5)\n",
      "{'name': 'Ärzte', 'members': 3}\n",
      "{'c', 'd', 'a', 'g', 'e', 'f', 'b'}\n",
      "frozenset({'c', 'd', 'a', 'g', 'e', 'f', 'b'})\n",
      "True\n"
     ]
    }
   ],
   "source": [
    "print(string)\n",
    "print(integer)\n",
    "print(floatingpoint)\n",
    "print(complexnumber)\n",
    "print(a_list)\n",
    "print(a_tupel)\n",
    "print(a_range)\n",
    "print(dictionairy)\n",
    "print(a_set)\n",
    "print(a_frozenset)\n",
    "print(a_boolean)"
   ]
  },
  {
   "cell_type": "code",
   "execution_count": 6,
   "id": "6ecbcaa2",
   "metadata": {
    "scrolled": true
   },
   "outputs": [
    {
     "name": "stdout",
     "output_type": "stream",
     "text": [
      "<class 'str'>\n",
      "<class 'int'>\n",
      "<class 'float'>\n",
      "<class 'complex'>\n",
      "<class 'list'>\n",
      "<class 'tuple'>\n",
      "<class 'range'>\n",
      "<class 'dict'>\n",
      "<class 'set'>\n",
      "<class 'frozenset'>\n",
      "<class 'bool'>\n"
     ]
    }
   ],
   "source": [
    "print(type(string))\n",
    "print(type(integer))\n",
    "print(type(floatingpoint))\n",
    "print(type(complexnumber))\n",
    "print(type(a_list))\n",
    "print(type(a_tupel))\n",
    "print(type(a_range))\n",
    "print(type(dictionairy))\n",
    "print(type(a_set))\n",
    "print(type(a_frozenset))\n",
    "print(type(a_boolean))"
   ]
  },
  {
   "cell_type": "markdown",
   "id": "1a2e3484",
   "metadata": {},
   "source": [
    "In Python, as in many programming languages, variable names must \n",
    "<ul>\n",
    "    <li>begin with a letter, underscore, or non-number character</li>\n",
    "    <li>not equal a function name unless you intend to kill it</li>\n",
    "</ul>"
   ]
  },
  {
   "cell_type": "markdown",
   "id": "6ce96853",
   "metadata": {},
   "source": [
    "<h2>Classes, Instances, Attributes and Methods</h2>\n",
    "Classes can be thought of as a template, or blueprint."
   ]
  },
  {
   "cell_type": "code",
   "execution_count": 11,
   "id": "89a14912",
   "metadata": {},
   "outputs": [],
   "source": [
    "class note:# here we define a new class called \"note\"\n",
    "    context = \"music\" # this is a class attribute (variable)\n",
    "    def __init__(self, duration, amplitude, f0):# this is an \"initializer\"\n",
    "        self.duration = duration # this is an instance attribute (variable)\n",
    "        self.amplitude = amplitude\n",
    "        self.f0 = f0"
   ]
  },
  {
   "cell_type": "markdown",
   "id": "ec7fa75f",
   "metadata": {},
   "source": [
    "An instance of a class is an item that belongs to the class. For example, we can define the class \"note\" and say that all notes have the context \"music\" and an individual duration, amplitude and fundamental frequency:"
   ]
  },
  {
   "cell_type": "markdown",
   "id": "c45c4312",
   "metadata": {},
   "source": [
    "quarterpianissimoc2 = note(.25,.02,\"c2\")# this is an instance of the \"note\" class\n",
    "print(quarterpianissimoc2.context)\n",
    "print(f'what is {quarterpianissimoc2.f0}')"
   ]
  }
 ],
 "metadata": {
  "kernelspec": {
   "display_name": "Python 3 (ipykernel)",
   "language": "python",
   "name": "python3"
  },
  "language_info": {
   "codemirror_mode": {
    "name": "ipython",
    "version": 3
   },
   "file_extension": ".py",
   "mimetype": "text/x-python",
   "name": "python",
   "nbconvert_exporter": "python",
   "pygments_lexer": "ipython3",
   "version": "3.10.7"
  }
 },
 "nbformat": 4,
 "nbformat_minor": 5
}
