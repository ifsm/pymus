{
 "cells": [
  {
   "cell_type": "markdown",
   "id": "5cf82fae",
   "metadata": {},
   "source": [
    "<h1>Loops</h1>\n",
    "Loops are essential in programming. We often repeat calculations over and over. For-loops are often used when we know beforehand, how many iterations (repetitions) we want:"
   ]
  },
  {
   "cell_type": "code",
   "execution_count": 9,
   "id": "74c7978e",
   "metadata": {
    "scrolled": false
   },
   "outputs": [
    {
     "name": "stdout",
     "output_type": "stream",
     "text": [
      "0\n",
      "1\n",
      "4\n",
      "9\n",
      "16\n"
     ]
    }
   ],
   "source": [
    "listing = [1, 2, 5, 4, 8]# here we define a list and assign it five different values\n",
    "for i in range(len(listing)):\n",
    "    print(i**2)# here we carry out an action every iteration (repetition)"
   ]
  },
  {
   "cell_type": "markdown",
   "id": "45724a37",
   "metadata": {},
   "source": [
    "<font color=\"green\"><b>for</b></font> i <font color=\"green\"><b>in</b> range</font>(<font color=\"green\">len</font>(listing)): is difficult to interpret by beginners. It means that we define an index variable named i. The variable i will take an initial value and then change after every iteration. The initial value and how it will change is defined after <font color=\"green\"><b>in</b></font>: <font color=\"green\">range</font>() means something like \"take every <i>x</i>th integer within the range defined in my argument\". Inside the argument, we wrote \n",
    "<font color=\"green\">len</font>(). This is the length of the list inside its argument. The list inside the argument is listing. It contains <i>5</i> values."
   ]
  },
  {
   "cell_type": "code",
   "execution_count": 12,
   "id": "79ba300f",
   "metadata": {},
   "outputs": [
    {
     "data": {
      "text/plain": [
       "[1, 2, 5, 4, 8]"
      ]
     },
     "execution_count": 12,
     "metadata": {},
     "output_type": "execute_result"
    }
   ],
   "source": [
    "listing"
   ]
  },
  {
   "cell_type": "markdown",
   "id": "013660c7",
   "metadata": {},
   "source": [
    "When you pass only one value x to range(), it means \"take every integer within the range from 0 to x, but <b>excluding</b> x itself\". Consequently, i will take the values <i>0</i>, <i>1</i>, <i>2</i>, <i>3</i> and <i>4</i>. This is the largest integer that meets the condition \"in range(5)\"."
   ]
  },
  {
   "cell_type": "code",
   "execution_count": 11,
   "id": "cc66f62e",
   "metadata": {},
   "outputs": [
    {
     "data": {
      "text/plain": [
       "4"
      ]
     },
     "execution_count": 11,
     "metadata": {},
     "output_type": "execute_result"
    }
   ],
   "source": [
    "i"
   ]
  },
  {
   "cell_type": "markdown",
   "id": "b18d731b",
   "metadata": {},
   "source": [
    "As you can see, i has raised to 4. Note that <font color=\"green\">range</font> () can take two arguments:"
   ]
  },
  {
   "cell_type": "code",
   "execution_count": 15,
   "id": "6b81b989",
   "metadata": {},
   "outputs": [
    {
     "data": {
      "text/plain": [
       "range(-3, 3)"
      ]
     },
     "execution_count": 15,
     "metadata": {},
     "output_type": "execute_result"
    }
   ],
   "source": [
    "range(-3,3)"
   ]
  },
  {
   "cell_type": "markdown",
   "id": "99b03faa",
   "metadata": {},
   "source": [
    "Furthermore, the arguments have to be integers. Integers include all natural numbers, but also their negative counterparts and the 0. Floats are not accepted by <font color=\"green\">range</font>():"
   ]
  },
  {
   "cell_type": "code",
   "execution_count": 16,
   "id": "f8c5c744",
   "metadata": {
    "scrolled": true
   },
   "outputs": [
    {
     "ename": "TypeError",
     "evalue": "'float' object cannot be interpreted as an integer",
     "output_type": "error",
     "traceback": [
      "\u001b[1;31m---------------------------------------------------------------------------\u001b[0m",
      "\u001b[1;31mTypeError\u001b[0m                                 Traceback (most recent call last)",
      "Cell \u001b[1;32mIn [16], line 1\u001b[0m\n\u001b[1;32m----> 1\u001b[0m \u001b[38;5;28mrange\u001b[39m(\u001b[38;5;241m-\u001b[39m\u001b[38;5;241m3.\u001b[39m,\u001b[38;5;241m3\u001b[39m)\n",
      "\u001b[1;31mTypeError\u001b[0m: 'float' object cannot be interpreted as an integer"
     ]
    }
   ],
   "source": [
    "range(-3.,3)"
   ]
  },
  {
   "cell_type": "markdown",
   "id": "7d5cacf1",
   "metadata": {},
   "source": [
    "You have to convert floats into integers before you can use them in <font color=\"green\">range</font>():"
   ]
  },
  {
   "cell_type": "code",
   "execution_count": 35,
   "id": "fae51319",
   "metadata": {},
   "outputs": [
    {
     "name": "stdout",
     "output_type": "stream",
     "text": [
      "range(4, 2)\n"
     ]
    }
   ],
   "source": [
    "print(range(int(4.999999999999999),2))"
   ]
  },
  {
   "cell_type": "markdown",
   "id": "504293ec",
   "metadata": {},
   "source": [
    "Beware that type convertions via <font color=\"green\">int</font>() is not always mathematically plausible. In the example above, 4.something is converted into 4. It is not rounded mathematically correct, but to the floor value. But this is also not always true:"
   ]
  },
  {
   "cell_type": "code",
   "execution_count": 34,
   "id": "1798e7c1",
   "metadata": {
    "scrolled": true
   },
   "outputs": [
    {
     "name": "stdout",
     "output_type": "stream",
     "text": [
      "range(5, 2)\n"
     ]
    }
   ],
   "source": [
    "print(range(int(4.9999999999999999),2))"
   ]
  },
  {
   "cell_type": "markdown",
   "id": "f67de20d",
   "metadata": {},
   "source": [
    "What happened here?"
   ]
  },
  {
   "cell_type": "code",
   "execution_count": 49,
   "id": "bcc0e7b1",
   "metadata": {},
   "outputs": [
    {
     "data": {
      "text/plain": [
       "5.0"
      ]
     },
     "execution_count": 49,
     "metadata": {},
     "output_type": "execute_result"
    }
   ],
   "source": [
    "ddd=4.9999999999999999;\n",
    "ddd"
   ]
  },
  {
   "cell_type": "markdown",
   "id": "fb485f72",
   "metadata": {},
   "source": [
    "As floats has a finite precision, <font color=\"green\">4.9999999999999999</font> is encoded as <font color=\"green\">5.0</font> which equals the floor value <font color=\"green\">5</font>. The index variable does not have to run through all integers within a range. You can also define values it should take:"
   ]
  },
  {
   "cell_type": "code",
   "execution_count": 5,
   "id": "bcb84127",
   "metadata": {
    "scrolled": true
   },
   "outputs": [
    {
     "name": "stdout",
     "output_type": "stream",
     "text": [
      "1\n",
      "4\n",
      "3\n",
      "5\n"
     ]
    }
   ],
   "source": [
    "for i in [1,4,3,5]:\n",
    "    print(i)"
   ]
  },
  {
   "cell_type": "markdown",
   "id": "fa676639",
   "metadata": {},
   "source": []
  },
  {
   "cell_type": "code",
   "execution_count": 53,
   "id": "c446450c",
   "metadata": {},
   "outputs": [
    {
     "name": "stdout",
     "output_type": "stream",
     "text": [
      "-2\n",
      "0\n",
      "2\n",
      "4\n",
      "6\n",
      "8\n"
     ]
    }
   ],
   "source": [
    "for i in range(-2,10,2):\n",
    "    print(i)"
   ]
  },
  {
   "cell_type": "markdown",
   "id": "af345fac",
   "metadata": {},
   "source": [
    "This is not how for-loops usually look like. For-loops are special in python. Usually, a for loop looks like:<br>\n",
    "<font color=\"green\"><b>for</b></font> <font color=\"blue\">int</font> i = 0, i<=10, i++(<br>\n",
    "<font color=\"green\">print</font>(i)\n",
    "<br>)<br>\n",
    "Here, i = 1 is the initial state. As long as the condition i<= 10 is met, the loop will continue. After every iteration, i increases by one, as i++ means \"i=i+1\" or \"i+=1\", i.e., \"the new i is the old i plus one\"."
   ]
  },
  {
   "cell_type": "code",
   "execution_count": 57,
   "id": "67036e99",
   "metadata": {},
   "outputs": [],
   "source": [
    "while i < 6:\n",
    "    print(i)\n",
    "    i=i+1"
   ]
  },
  {
   "cell_type": "markdown",
   "id": "831c8ef8",
   "metadata": {},
   "source": [
    "This produces no output, since i was defined as 8 above."
   ]
  },
  {
   "cell_type": "code",
   "execution_count": 59,
   "id": "2b9f7d58",
   "metadata": {},
   "outputs": [
    {
     "name": "stdout",
     "output_type": "stream",
     "text": [
      "3\n",
      "4\n",
      "5\n"
     ]
    }
   ],
   "source": [
    "i=3\n",
    "while i < 6:\n",
    "    print(i)\n",
    "    i=i+1"
   ]
  },
  {
   "cell_type": "code",
   "execution_count": null,
   "id": "cd5ea3af",
   "metadata": {},
   "outputs": [],
   "source": []
  }
 ],
 "metadata": {
  "kernelspec": {
   "display_name": "Python 3 (ipykernel)",
   "language": "python",
   "name": "python3"
  },
  "language_info": {
   "codemirror_mode": {
    "name": "ipython",
    "version": 3
   },
   "file_extension": ".py",
   "mimetype": "text/x-python",
   "name": "python",
   "nbconvert_exporter": "python",
   "pygments_lexer": "ipython3",
   "version": "3.10.7"
  }
 },
 "nbformat": 4,
 "nbformat_minor": 5
}
