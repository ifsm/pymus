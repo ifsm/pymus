{
 "cells": [
  {
   "cell_type": "markdown",
   "id": "29367845",
   "metadata": {},
   "source": [
    "<h1>Markdown Cell</h1>\n",
    "This is a \"Markdown\" cell. Go to <b>[Cell]</b> ⟶ <b>[Cell Type]</b> ⟶ <b>[Markdown]</b> to convert a cell into a markdown cell. Markdown cells are for explanations, descriptions, headings, labels etc. They are perfect for structuring your code in jupyter notebooks. Instead of using the menu structure, you can also click on the left of the cell and type <b>[m]</b> to convert the cell into a markdown cell. You can use HTML-codes for formatting the cell content. When you make coding errors, the HTML tag will be red. Otherwise it will be green. As soon as you run the cell, you can see the formatting. To run a cell, mark it and click on <b>[Run]</b> in the menu, or us the command <b>[shift] + [return]</b>. Wikis in github are formatted using markdown language as well."
   ]
  },
  {
   "cell_type": "markdown",
   "id": "eacbae5a",
   "metadata": {},
   "source": [
    "<h2>Important HTML codes</h2>\n",
    "HTML is mostly known from websites. We will use it to format markdown cells. HTML commands use angle brackets (\"<>\") to start a command and \"</>\" to end it. An exception are line breaks that have no end. <br>\n",
    "<h1>H1</h1> <h2>H2</h2> <h3>H3</h3> <h4>H4</h4> are headings with decreasing size. You can make text appear <b>bold</b>, <i>in italics</i>, <u>underlined</u>, <s>striked through</s>, <mark>marked</mark>, <font color=\"blue\">colored</font> as a<sup>superscript</sup>, or a<sub>subscript</sub>. Naturally, you can provide <a href=\"https://systmus.blogs.uni-hamburg.de/\" target=\"_blank\">links</a>."
   ]
  },
  {
   "cell_type": "markdown",
   "id": "aa330e8a",
   "metadata": {},
   "source": [
    "<h1>Code Cells</h1>\n",
    "To create a new cell, go to <b>[Insert]</b>⟶<b>Insert cell above</b> or <b>Insert cell below</b>. Alternatively, make a click on the left hand side of a cell and then type <b>[a]</b> (for \"above\") or <b>[b]</b> (for \"below\"). New cells are always code cells. If you mistakenly created a cell, you can delete it by quickly typing <b>[d][d]</b> (for \"delete\"). If you mistakenly converted a code cell into a markdown cell, you can convert it back to a code celly by typing <b>[y]</b>.\n",
    "<h3>Exercise:</h3>\n",
    "Create a new cell below this cell, convert it into a markdown cell, type your name in as a header 1, run the code, look at your name and then delete the cell."
   ]
  },
  {
   "cell_type": "markdown",
   "id": "856bf88f",
   "metadata": {},
   "source": [
    "<h1>Programming Environment</h1>\n",
    "\n",
    "Libraries: Python knows many methods, operations and data types from scratch. Others have to be imported from libraries via \"import libraryname\". To call a function from an imported library, you write \"libraryname.\" and then the method name. If you find the libraryname too long and use it a lot, you can define an abbreviation by simply writing \"import libraryname as acronym\" to call methods from the libraryname via \"acronym.function\". An example is provided below:"
   ]
  },
  {
   "cell_type": "code",
   "execution_count": 5,
   "id": "0dc19567",
   "metadata": {},
   "outputs": [],
   "source": [
    "import math as m"
   ]
  },
  {
   "cell_type": "code",
   "execution_count": 6,
   "id": "fb201890",
   "metadata": {},
   "outputs": [
    {
     "data": {
      "text/plain": [
       "0.6640367702678489"
      ]
     },
     "execution_count": 6,
     "metadata": {},
     "output_type": "execute_result"
    }
   ],
   "source": [
    "m.tanh(.8)"
   ]
  },
  {
   "cell_type": "code",
   "execution_count": 7,
   "id": "91610a05",
   "metadata": {},
   "outputs": [],
   "source": [
    "m = 8"
   ]
  },
  {
   "cell_type": "code",
   "execution_count": 8,
   "id": "fe816413",
   "metadata": {},
   "outputs": [
    {
     "ename": "AttributeError",
     "evalue": "'int' object has no attribute 'tanh'",
     "output_type": "error",
     "traceback": [
      "\u001b[1;31m---------------------------------------------------------------------------\u001b[0m",
      "\u001b[1;31mAttributeError\u001b[0m                            Traceback (most recent call last)",
      "Cell \u001b[1;32mIn [8], line 1\u001b[0m\n\u001b[1;32m----> 1\u001b[0m m\u001b[38;5;241m.\u001b[39mtanh()\n",
      "\u001b[1;31mAttributeError\u001b[0m: 'int' object has no attribute 'tanh'"
     ]
    }
   ],
   "source": [
    "m.tanh()"
   ]
  },
  {
   "cell_type": "markdown",
   "id": "feafd0b3",
   "metadata": {},
   "source": [
    "What just happened? We chose <i>m</i> as acronym for the math library. This is a horrible choice, as <i>m</i> is frequently used as a variable (especially as an index). The code <i>m = 8</i> assigned the value <i>8</i> to the newly defined variable <i>m</i>. With this new definition of <i>m</i>, <i>m</i> is no longer our acronym for <i>math</i>. We cannot call the method <i>m.tanh()</i> any longer. As \"math\" is already quite short, we should stick to calling it <i>math</i>:"
   ]
  },
  {
   "cell_type": "code",
   "execution_count": 9,
   "id": "debb0e0f",
   "metadata": {},
   "outputs": [
    {
     "data": {
      "text/plain": [
       "0.6640367702678489"
      ]
     },
     "execution_count": 9,
     "metadata": {},
     "output_type": "execute_result"
    }
   ],
   "source": [
    "import math\n",
    "math.tanh(.8)"
   ]
  },
  {
   "cell_type": "markdown",
   "id": "e744fa1e",
   "metadata": {},
   "source": [
    "Most libraries have to be downloaded and installed before you can use them. The easiest way is using pip install:"
   ]
  },
  {
   "cell_type": "code",
   "execution_count": 10,
   "id": "3427bb85",
   "metadata": {},
   "outputs": [
    {
     "name": "stdout",
     "output_type": "stream",
     "text": [
      "Note: you may need to restart the kernel to use updated packages.Requirement already satisfied: sklearn in c:\\users\\t_ziemer\\appdata\\local\\programs\\python\\python310\\lib\\site-packages (0.0)\n",
      "Requirement already satisfied: scikit-learn in c:\\users\\t_ziemer\\appdata\\local\\programs\\python\\python310\\lib\\site-packages (from sklearn) (1.1.3)\n",
      "Requirement already satisfied: threadpoolctl>=2.0.0 in c:\\users\\t_ziemer\\appdata\\local\\programs\\python\\python310\\lib\\site-packages (from scikit-learn->sklearn) (3.1.0)\n",
      "Requirement already satisfied: scipy>=1.3.2 in c:\\users\\t_ziemer\\appdata\\local\\programs\\python\\python310\\lib\\site-packages (from scikit-learn->sklearn) (1.9.1)\n",
      "Requirement already satisfied: numpy>=1.17.3 in c:\\users\\t_ziemer\\appdata\\local\\programs\\python\\python310\\lib\\site-packages (from scikit-learn->sklearn) (1.23.3)\n",
      "Requirement already satisfied: joblib>=1.0.0 in c:\\users\\t_ziemer\\appdata\\local\\programs\\python\\python310\\lib\\site-packages (from scikit-learn->sklearn) (1.2.0)\n",
      "\n"
     ]
    },
    {
     "name": "stderr",
     "output_type": "stream",
     "text": [
      "\n",
      "[notice] A new release of pip available: 22.3.1 -> 24.0\n",
      "[notice] To update, run: python.exe -m pip install --upgrade pip\n"
     ]
    }
   ],
   "source": [
    "pip install sklearn"
   ]
  },
  {
   "cell_type": "code",
   "execution_count": 11,
   "id": "0dbc20b7",
   "metadata": {},
   "outputs": [],
   "source": [
    "import sklearn"
   ]
  },
  {
   "cell_type": "markdown",
   "id": "ffcd00b0",
   "metadata": {},
   "source": [
    "If you use a function a lot, consider importing it directly, without the need to prepend the function with the library name. To do so, you write \"from libraryname import variablename1, variablename2\".\n",
    "\n",
    "It works like that:"
   ]
  },
  {
   "cell_type": "code",
   "execution_count": 12,
   "id": "71576a3b",
   "metadata": {},
   "outputs": [
    {
     "data": {
      "text/plain": [
       "0.6640367702678489"
      ]
     },
     "execution_count": 12,
     "metadata": {},
     "output_type": "execute_result"
    }
   ],
   "source": [
    "from math import tanh, acosh\n",
    "tanh(.8)"
   ]
  },
  {
   "cell_type": "code",
   "execution_count": 13,
   "id": "248ecf52",
   "metadata": {},
   "outputs": [
    {
     "ename": "ValueError",
     "evalue": "math domain error",
     "output_type": "error",
     "traceback": [
      "\u001b[1;31m---------------------------------------------------------------------------\u001b[0m",
      "\u001b[1;31mValueError\u001b[0m                                Traceback (most recent call last)",
      "Cell \u001b[1;32mIn [13], line 1\u001b[0m\n\u001b[1;32m----> 1\u001b[0m acosh(\u001b[38;5;241m.8\u001b[39m)\n",
      "\u001b[1;31mValueError\u001b[0m: math domain error"
     ]
    }
   ],
   "source": [
    "acosh(.8)"
   ]
  },
  {
   "cell_type": "markdown",
   "id": "0a1ebd29",
   "metadata": {},
   "source": [
    "Why did <i>acosh</i> produce an error? Take a look at it. What does it say?\n",
    "<h3>Exercise:</h3>\n",
    "Find out what caused the error."
   ]
  },
  {
   "cell_type": "markdown",
   "id": "1cb7c7b9",
   "metadata": {},
   "source": [
    "You cannot only call built-in methods, like <i>print()</i>, or methods from imported libraries, like <i>math.gamma()</i>. You can also define and call your own function like that:"
   ]
  },
  {
   "cell_type": "code",
   "execution_count": 14,
   "id": "f7707c2f",
   "metadata": {},
   "outputs": [],
   "source": [
    "def function(string):\n",
    "    print(f\"I typed the word '{string}'\")"
   ]
  },
  {
   "cell_type": "markdown",
   "id": "d70775c6",
   "metadata": {},
   "source": [
    "This cell produces no output. The only thing it does is define a method. You have to call the method with a proper argument:"
   ]
  },
  {
   "cell_type": "code",
   "execution_count": 15,
   "id": "11fd9ba6",
   "metadata": {},
   "outputs": [
    {
     "name": "stdout",
     "output_type": "stream",
     "text": [
      "I typed the word '4'\n"
     ]
    }
   ],
   "source": [
    "function(4)"
   ]
  },
  {
   "cell_type": "markdown",
   "id": "fd1e5fa7",
   "metadata": {},
   "source": [
    "<h2>The [Tab] button</h2>\n",
    "The <b>[Tab]</b> button is your best friend. If you do not remember the name of the library, class, or method you want to use, the <b>[Tab]</b> button will provide a list of all the available options for you. \n",
    "<h3>Exercise:</h3>\n",
    "In the following code cell, type \"fun\" and then press the <b>[tab]</b>-button. Choose \"function\". Then, pass a string to that function, via <i>function(\"whatever you want to write\")</i>."
   ]
  },
  {
   "cell_type": "markdown",
   "id": "555b2cfc",
   "metadata": {},
   "source": [
    "What does the code mean? Here, <font color=\"green\"><b>def</b></font> stands for \"define\". The term <font color=\"blue\">function</font> is the name of your method. The colon means that the description of the method follows. Now you need to be careful: As long as we want to add something to the definition of function needs to be indented. In this example, it is the specific <i>print()</i> command. You can add more lines of code. Those things that are not indented do not belonf to the definition of the method."
   ]
  },
  {
   "cell_type": "markdown",
   "id": "f4f4e5d2",
   "metadata": {},
   "source": [
    "<h1>Cells:</h1>\n",
    "When you've marked a cell, type <b>[b]</b> to create a new cell <b>b</b>elow, <b>[a]</b> to create a new cell <b>a</b>bove and <b>[d][d]</b> to delete the marked cell. Typing <b>[m]</b> makes it a markdown cell, typing <b>[y]</b> makes it a code cell. You can cut a cell by typing <b>x</b>, and paste it below via <b>y</b>."
   ]
  },
  {
   "cell_type": "markdown",
   "id": "3b8643ea",
   "metadata": {},
   "source": [
    "<h2>Comments:</h2>\n",
    "Use the hash symbol <b>[#]</b> to comment things out. There is not a good way to make inline comments. A dirty trick is to write inline comments as strings between semicolons, like "
   ]
  },
  {
   "cell_type": "code",
   "execution_count": 16,
   "id": "61007b4b",
   "metadata": {},
   "outputs": [],
   "source": [
    "# This is a regular comment in a single line\n",
    "x=1; #\"this is a dirty-trick inline commen\";\n",
    "y=1 # This is a comment behind the code"
   ]
  },
  {
   "cell_type": "markdown",
   "id": "3fe5a5bd",
   "metadata": {},
   "source": [
    "This trick works because Python recognizes the text as a string. But since the string is neither assigned to a variable, nor passed to a function, it can never be called. Hence, it does not occupy any RAM."
   ]
  },
  {
   "cell_type": "markdown",
   "id": "dcd1a4d8",
   "metadata": {},
   "source": [
    "<h1>Standard Commands</h1>\n",
    "Python knows many commands, operations and data types out of the box. Here are some examples"
   ]
  },
  {
   "cell_type": "code",
   "execution_count": 17,
   "id": "5739dd10",
   "metadata": {},
   "outputs": [],
   "source": [
    "x = 1"
   ]
  },
  {
   "cell_type": "markdown",
   "id": "b13d4bee",
   "metadata": {},
   "source": [
    "What just happened? <i>x = 1</i> defines a new variable name <i>x</i> and assigns it the value <i>1</i>. Running this cell will produce no output. Assignments produce no output. To see the output, type <i>x</i> again:"
   ]
  },
  {
   "cell_type": "code",
   "execution_count": 18,
   "id": "ab80a0e3",
   "metadata": {},
   "outputs": [
    {
     "data": {
      "text/plain": [
       "1"
      ]
     },
     "execution_count": 18,
     "metadata": {},
     "output_type": "execute_result"
    }
   ],
   "source": [
    "x"
   ]
  },
  {
   "cell_type": "code",
   "execution_count": 19,
   "id": "e544589e",
   "metadata": {},
   "outputs": [
    {
     "data": {
      "text/plain": [
       "1"
      ]
     },
     "execution_count": 19,
     "metadata": {},
     "output_type": "execute_result"
    }
   ],
   "source": [
    "x = 1\n",
    "x# You can do this within one cell"
   ]
  },
  {
   "cell_type": "code",
   "execution_count": 20,
   "id": "53ec3503",
   "metadata": {
    "scrolled": true
   },
   "outputs": [
    {
     "name": "stdout",
     "output_type": "stream",
     "text": [
      "1\n"
     ]
    }
   ],
   "source": [
    "x = 1\n",
    "print(x) # Another option is the \"print\" command "
   ]
  },
  {
   "cell_type": "markdown",
   "id": "ef59ca76",
   "metadata": {},
   "source": [
    "Why should you ever use the <i>print()</i> command? See the example below:"
   ]
  },
  {
   "cell_type": "code",
   "execution_count": 21,
   "id": "4684365f",
   "metadata": {},
   "outputs": [
    {
     "data": {
      "text/plain": [
       "2"
      ]
     },
     "execution_count": 21,
     "metadata": {},
     "output_type": "execute_result"
    }
   ],
   "source": [
    "x = 1\n",
    "x\n",
    "y = 2\n",
    "y"
   ]
  },
  {
   "cell_type": "markdown",
   "id": "adc14e63",
   "metadata": {},
   "source": [
    "As you can see, Python only displays the very last output of a cell. In this case, the <i>x</i> is ignored in favor of the <i>y</i>. The <i>print()</i> command solves that for you:"
   ]
  },
  {
   "cell_type": "code",
   "execution_count": 22,
   "id": "42746eb7",
   "metadata": {
    "scrolled": true
   },
   "outputs": [
    {
     "name": "stdout",
     "output_type": "stream",
     "text": [
      "1\n"
     ]
    },
    {
     "data": {
      "text/plain": [
       "2"
      ]
     },
     "execution_count": 22,
     "metadata": {},
     "output_type": "execute_result"
    }
   ],
   "source": [
    "x = 1\n",
    "print(x)\n",
    "y = 2\n",
    "y"
   ]
  },
  {
   "cell_type": "markdown",
   "id": "f99433b8",
   "metadata": {},
   "source": [
    "As <i>1</i> is an integer, Python will automatically store it as an integer filetype:"
   ]
  },
  {
   "cell_type": "code",
   "execution_count": 23,
   "id": "c47018f2",
   "metadata": {},
   "outputs": [
    {
     "data": {
      "text/plain": [
       "int"
      ]
     },
     "execution_count": 23,
     "metadata": {},
     "output_type": "execute_result"
    }
   ],
   "source": [
    "type(x)"
   ]
  },
  {
   "cell_type": "markdown",
   "id": "4827c64e",
   "metadata": {},
   "source": [
    "This changes if necessary. Reassigning <i>x</i> to <i>x/y</i>, <i>x</i> is now <i>1/2 = 0.5</i>. As this is not a float anymore, python changes the filetype to float:"
   ]
  },
  {
   "cell_type": "code",
   "execution_count": 24,
   "id": "45b95b0d",
   "metadata": {},
   "outputs": [
    {
     "name": "stdout",
     "output_type": "stream",
     "text": [
      "0.5\n"
     ]
    },
    {
     "data": {
      "text/plain": [
       "float"
      ]
     },
     "execution_count": 24,
     "metadata": {},
     "output_type": "execute_result"
    }
   ],
   "source": [
    "x = x/y\n",
    "print(x)\n",
    "type(x)"
   ]
  },
  {
   "cell_type": "markdown",
   "id": "0bad5242",
   "metadata": {},
   "source": [
    "As you could see, <i>x=x/y</i> is not a paradoxon for python. It uses the \"old\" <i>x</i> to produce a \"new\" <i>x</i>. Beware though, that the \"old\" <i>x</i> is lost.<br>\n",
    "<h3>Exercise:</h3>\n",
    "Run the cell above over and over to see how x shrinks."
   ]
  },
  {
   "cell_type": "markdown",
   "id": "95165bc0",
   "metadata": {},
   "source": [
    "<h3> Data Types</h3>"
   ]
  },
  {
   "cell_type": "code",
   "execution_count": 25,
   "id": "df35ed7c",
   "metadata": {
    "scrolled": true
   },
   "outputs": [
    {
     "name": "stdout",
     "output_type": "stream",
     "text": [
      "i is from the <class 'int'> and has a size of 28\n",
      "f is from the <class 'float'> and has a size of 24\n",
      "st is from the <class 'str'> and has a size of 62\n",
      "se is from the <class 'set'> and has a size of 216\n",
      "c is from the <class 'complex'> and has a size of 32\n",
      "t is from the <class 'bool'> and has a size of 28\n",
      "li is from the <class 'list'> and has a size of 72\n",
      "tu is from the <class 'tuple'> and has a size of 56\n"
     ]
    }
   ],
   "source": [
    "import sys # The sys-library is imported. It is needed to calculate the size of \n",
    "i = 1\n",
    "print(\"i is from the\", type(i), \"and has a size of\", sys.getsizeof(i))\n",
    "\n",
    "f = 1.\n",
    "print(\"f is from the\", type(f), \"and has a size of\", sys.getsizeof(f))\n",
    "\n",
    "st = \"name333312sdc\"\n",
    "print(\"st is from the\", type(st), \"and has a size of\", sys.getsizeof(st))\n",
    "\n",
    "se = {1, 2, 3, 3, 3, 3, 3,1,1,1,1,1,1,1,1,1}\n",
    "print(\"se is from the\", type(se), \"and has a size of\", sys.getsizeof(se))\n",
    "\n",
    "c=complex(1,2)\n",
    "print(\"c is from the\", type(c), \"and has a size of\", sys.getsizeof(c))\n",
    "\n",
    "t = True\n",
    "print(\"t is from the\", type(t), \"and has a size of\", sys.getsizeof(t))\n",
    "\n",
    "li = list((5, 1))\n",
    "print(\"li is from the\", type(li), \"and has a size of\", sys.getsizeof(li))\n",
    "\n",
    "tu = (5, 1)\n",
    "print(\"tu is from the\", type(tu), \"and has a size of\", sys.getsizeof(tu))"
   ]
  },
  {
   "cell_type": "markdown",
   "id": "a24bf5f7",
   "metadata": {},
   "source": [
    "In some prtogramming languages, <i>int</i> (or <i>short</i>) need less memory than <i>float</i>. \n",
    "\n",
    "\n",
    "While lists and tupels may look the same, there is one important difference:<br>\n",
    "Tupels are <i>immutable</i>. Once defined, you cannot change them. That is why tupels need less space than lists. Python does not need extra overhead to deal with runtime changes for immutable data types. Strings are immutable, too.<br>\n",
    "<h3>Exercise:</h3>\n",
    "Create a new code cell. Paste the <i>se</i> set. Where are all the threes?"
   ]
  },
  {
   "cell_type": "markdown",
   "id": "77c35785",
   "metadata": {},
   "source": [
    "<h2>Strings</h2>"
   ]
  },
  {
   "cell_type": "code",
   "execution_count": 26,
   "id": "d5a0eb92",
   "metadata": {
    "scrolled": true
   },
   "outputs": [
    {
     "name": "stdout",
     "output_type": "stream",
     "text": [
      "Z\n",
      "e\n",
      "Zi\n",
      "co\n",
      "code\n",
      "Z's co\n",
      "<class 'int'>\n",
      "<class 'str'>\n"
     ]
    },
    {
     "data": {
      "text/plain": [
       "str"
      ]
     },
     "execution_count": 26,
     "metadata": {},
     "output_type": "execute_result"
    }
   ],
   "source": [
    "string = \"Ziemer\\'s code\"#this is a string, backslash is an \"escape sequence\"\n",
    "print(string[0])# gives the first symbol from the string\n",
    "print(string[4])# the integer in the square brackets is a pointer to the nth character of the string\n",
    "print(string[0:2])# gives the first 2 symbols from the string, the \"0:2\" means one to (not including) 2 ,like \"lesser than 2\"\n",
    "print(string[-4:-2])# Here, the \"-\" means \"count from the end\".\n",
    "print(string[-4:222])# As \"222\" is larger than the string, the complete rest of the string will be shown\n",
    "print(string[0:1]+string[6:11])# You can recombine strings by addition\n",
    "integer = 7\n",
    "print(type(integer))\n",
    "stringed=str(integer)\n",
    "print(type(stringed))\n",
    "type(stringed)# note that the output from the last cell can differ from the print() output"
   ]
  },
  {
   "cell_type": "code",
   "execution_count": 27,
   "id": "835fb605",
   "metadata": {
    "scrolled": true
   },
   "outputs": [
    {
     "name": "stdout",
     "output_type": "stream",
     "text": [
      "e\n"
     ]
    },
    {
     "ename": "NameError",
     "evalue": "name 'a' is not defined",
     "output_type": "error",
     "traceback": [
      "\u001b[1;31m---------------------------------------------------------------------------\u001b[0m",
      "\u001b[1;31mNameError\u001b[0m                                 Traceback (most recent call last)",
      "Cell \u001b[1;32mIn [27], line 3\u001b[0m\n\u001b[0;32m      1\u001b[0m word \u001b[38;5;241m=\u001b[39m \u001b[38;5;124m\"\u001b[39m\u001b[38;5;124mhello\u001b[39m\u001b[38;5;124m\"\u001b[39m\n\u001b[0;32m      2\u001b[0m \u001b[38;5;28mprint\u001b[39m(word[\u001b[38;5;241m1\u001b[39m])\n\u001b[1;32m----> 3\u001b[0m word[\u001b[38;5;241m1\u001b[39m]\u001b[38;5;241m=\u001b[39ma\n",
      "\u001b[1;31mNameError\u001b[0m: name 'a' is not defined"
     ]
    }
   ],
   "source": [
    "word = \"hello\"\n",
    "print(word[1])\n",
    "word[1]=a# this causes an error, because strings are immutable: you cannot change a single character"
   ]
  },
  {
   "cell_type": "markdown",
   "id": "363ff99c",
   "metadata": {},
   "source": [
    "You need a workaround to change a single character:"
   ]
  },
  {
   "cell_type": "code",
   "execution_count": 28,
   "id": "a01dd9fd",
   "metadata": {
    "scrolled": true
   },
   "outputs": [
    {
     "name": "stdout",
     "output_type": "stream",
     "text": [
      "h3llo\n"
     ]
    }
   ],
   "source": [
    "word = \"hallo\"# simply redefines the string\n",
    "word = word[0]+\"3\"+word[2:999]# combines some of the old word with your new character\n",
    "print(word)"
   ]
  },
  {
   "cell_type": "markdown",
   "id": "e0c6cc97",
   "metadata": {},
   "source": [
    "The command <it>str()</it> has converted the integer into a string. In the above example, the \"999\" is a dirty trick to ensure that all characters from the word are addressed, since the word \"hallo\" has clearly less than 999 characters. A better way to address all characters is the use of <font color=\"green\">len</font>():"
   ]
  },
  {
   "cell_type": "code",
   "execution_count": 29,
   "id": "0c40f9ec",
   "metadata": {},
   "outputs": [
    {
     "name": "stdout",
     "output_type": "stream",
     "text": [
      "h3llo\n"
     ]
    }
   ],
   "source": [
    "word = \"hallo\"\n",
    "word = word[0:1]+str(3)+word[2:len(word)]#len(word) is good practice\n",
    "print(word)"
   ]
  },
  {
   "cell_type": "markdown",
   "id": "deb31f9d",
   "metadata": {},
   "source": [
    "<h2>Math</h2>\n",
    "Python knows the fundamentals of mathematics:"
   ]
  },
  {
   "cell_type": "code",
   "execution_count": 30,
   "id": "b162bddf",
   "metadata": {},
   "outputs": [
    {
     "name": "stdout",
     "output_type": "stream",
     "text": [
      "2.0\n",
      "-6\n",
      "2.23606797749979\n"
     ]
    },
    {
     "data": {
      "text/plain": [
       "(1-2j)"
      ]
     },
     "execution_count": 30,
     "metadata": {},
     "output_type": "execute_result"
    }
   ],
   "source": [
    "x * y#is a multiplication\n",
    "x / y#is a division\n",
    "y + x#is an addition\n",
    "x - y#is a subtraction\n",
    "print(7.2 // 3)#is an integer division that does not output decimals (i.e., it gives the \"floor\" value of 7.2/3)\n",
    "print(-11//2) # Here, the floor value of -5.5 is -6\n",
    "7.2 % 3 # is the modulo function. It is the remainder of 7.2//3 (potentially including little errors)\n",
    "divmod(11, 2) # \n",
    "2**3# is 2 to the power of 3\n",
    "pow(2, 3)# is also 2 to the power of 3\n",
    "0**0 # is defined as 1\n",
    "print(abs(c)) # gives the absolute, valid for integer, float, and complex\n",
    "int(abs(c)) # converts a number into an integer (rounding)\n",
    "float(3) # converts integer into a float\n",
    "(2 + 3) * 5 # python knows the order of operators\n",
    "c.conjugate() # is the conjugate of a complex number\n",
    "# you need import math for math.sqrt(), math.floor(), math.ceil()"
   ]
  },
  {
   "cell_type": "code",
   "execution_count": 31,
   "id": "28b0061c",
   "metadata": {},
   "outputs": [],
   "source": [
    "import numpy as np"
   ]
  },
  {
   "cell_type": "code",
   "execution_count": 32,
   "id": "255adf3e",
   "metadata": {},
   "outputs": [
    {
     "data": {
      "text/plain": [
       "array([[ 3,  8],\n",
       "       [ 5, 12]])"
      ]
     },
     "execution_count": 32,
     "metadata": {},
     "output_type": "execute_result"
    }
   ],
   "source": [
    "x=np.array([1,2])#is a \"matrix\" with one row and two colums\n",
    "y=np.array([[3,4],[5,6]])#is a matrix with two rows and two colums. Note the extra-brackets.\n",
    "x*y#is an element-wise multiplication: [[1*3,2*4],[1*5,2*6]]"
   ]
  },
  {
   "cell_type": "code",
   "execution_count": 33,
   "id": "327750bf",
   "metadata": {},
   "outputs": [
    {
     "data": {
      "text/plain": [
       "array([13, 16])"
      ]
     },
     "execution_count": 33,
     "metadata": {},
     "output_type": "execute_result"
    }
   ],
   "source": [
    "np.dot(x,y)#is a matrix multiplication. [1*3+2*5,1*4+2*6]"
   ]
  },
  {
   "cell_type": "code",
   "execution_count": 34,
   "id": "8cecb537",
   "metadata": {},
   "outputs": [],
   "source": [
    "sr = 8000#sample rate\n",
    "duration = 1#duration in seconds\n",
    "def signal(freq, sr, dur):#here we define a new function with 3 inputs\n",
    "    sign = (np.sin(2 * np.pi * np.arange(sr * duration) * freq / sr)).astype(np.float32)#!Note the indentation here!\n",
    "    return sign#the function has one output\n",
    "out = signal(1, sr, duration)#here we call the function and store the output in the variable \"out\""
   ]
  },
  {
   "cell_type": "code",
   "execution_count": 35,
   "id": "c5f569b5",
   "metadata": {},
   "outputs": [
    {
     "data": {
      "text/plain": [
       "5"
      ]
     },
     "execution_count": 35,
     "metadata": {},
     "output_type": "execute_result"
    }
   ],
   "source": [
    "def two(numerator,denominator):\n",
    "    plussi = numerator + denominator\n",
    "    minussi = numerator - denominator\n",
    "    return plussi, minussi#To return two outputs, separate them by a comma\n",
    "plu, minu = two(3,2)#and assign 2 variables to the function so that the first return is stored in plu and the secont, in minu\n",
    "plu"
   ]
  },
  {
   "cell_type": "markdown",
   "id": "ccb396f5",
   "metadata": {},
   "source": [
    "<h1>Standard imports</h1>\n",
    "for audio and machine learning:"
   ]
  },
  {
   "cell_type": "code",
   "execution_count": 36,
   "id": "ddc130f1",
   "metadata": {},
   "outputs": [],
   "source": [
    "from scipy.io import wavfile#one way to import wave files\n",
    "import numpy as np#numpy includes many functions for numerical calculations, esp. matrix operations\n",
    "import plotly.graph_objects as go#to produce graph objects\n",
    "import matplotlib.pyplot as plt#short acronym to create plots\n",
    "import plotly.graph_objects as go\n",
    "from plotly.subplots import make_subplots#\n",
    "import sklearn#includes standard machine learning tools\n",
    "# other machine learning libraries are pytorch and tensorflow"
   ]
  },
  {
   "cell_type": "markdown",
   "id": "f1f0d7dd",
   "metadata": {},
   "source": [
    "<h1>Create a Plot</h1>"
   ]
  },
  {
   "cell_type": "code",
   "execution_count": 37,
   "id": "9092a8ba",
   "metadata": {
    "scrolled": true
   },
   "outputs": [
    {
     "data": {
      "image/png": "[encoded data removed]",
      "text/plain": [
       "<Figure size 640x480 with 1 Axes>"
      ]
     },
     "metadata": {},
     "output_type": "display_data"
    }
   ],
   "source": [
    "out2 = signal(-1, sr, duration)#here we call the function again and store the output in the variable \"out2\"\n",
    "fig = plt.figure()#figure is our variable that will soon contain a figure. Right now you can think of it as an empty container.\n",
    "plt.plot(out, color='blue', linestyle='dashed', label='sin')#plots the result\n",
    "#besides 'dashed', you can use 'solid', 'dotted, 'dashdot'\n",
    "plt.plot(out2, color='red', linewidth=7, label='-sin', marker=\"d\")#this plots the result in the same plot\n",
    "plt.grid(True)\n",
    "plt.legend()#places a legend somewhere in the plot\n",
    "plt.xticks(fontsize=12)\n",
    "plt.yticks(fontsize=12)\n",
    "plt.xticks(np.arange(0,sr*duration,1000))#range and interval of x-ticks\n",
    "plt.yticks(np.arange(min(out),max(out)+.1,.2))#range and interval of y-ticks\n",
    "plt.xlabel(\"Time [samples]\", fontsize=16)#add a label for the x-axis\n",
    "plt.ylabel(\"Elongation [mm]\", fontsize=16)#add a label for the y-axis\n",
    "plt.xlim(0, 6000)#crop the plot\n",
    "plt.ylim(-1.01, 1.01);#the last line receives a semicolon to suppress the output"
   ]
  },
  {
   "cell_type": "markdown",
   "id": "b19e88ba",
   "metadata": {},
   "source": [
    "You can also play back arrays as sounds using the sounddevice library:"
   ]
  },
  {
   "cell_type": "code",
   "execution_count": 54,
   "id": "fcab1494",
   "metadata": {},
   "outputs": [],
   "source": [
    "import sounddevice as sd#to play back sounds\n",
    "sd.play(out, sr)#plays the file"
   ]
  },
  {
   "cell_type": "markdown",
   "id": "edb5884e",
   "metadata": {},
   "source": [
    "Note that this did not sound like a pure tone, but like a click. This is because we produced a sinusoidal oscillation with a frequency of - 1 Hz. Listen to an audible frequency like this:"
   ]
  },
  {
   "cell_type": "code",
   "execution_count": 83,
   "id": "712f2835",
   "metadata": {},
   "outputs": [],
   "source": [
    "out3 = signal(300, sr, 2)\n",
    "sd.play(out3, sr)"
   ]
  },
  {
   "cell_type": "markdown",
   "id": "3dc9d9b2",
   "metadata": {},
   "source": [
    "An alternative way of the sounddevice library is the IPython library. It includes a small GUI element to play back an array as sound:"
   ]
  },
  {
   "cell_type": "code",
   "execution_count": 86,
   "id": "1bf4d4bc",
   "metadata": {},
   "outputs": [
    {
     "data": {
      "text/html": [
       "\n",
       "                <audio  controls=\"controls\" >\n",
       "                    <source src=\"data:audio/wav;base64,UklGRqQ+AABXQVZFZm10IBAAAAABAAEAQB8AAIA+AAACABAAZGF0YYA+AAAAAOEdGzogU41nQHZrfpl/u3kibYFa4EKNJwoK++sFz8W0rJ71jYuDAYCLg/WNrJ7FtAXP++sKCo0n4EKBWiJtu3mZf2t+QHaNZyBTGzrhHQAAH+LlxeCsc5jAiZWBZ4BFht6Sf6UgvXPY9vUFFPswO0tUYQtydXz/f3V8C3JUYTtL+zAFFPb1c9ggvX+l3pJFhmeAlYHAiXOY4KzlxR/iAADhHRs6IFONZ0B2a36Zf7t5Im2BWuBCjScKCvvrBc/FtKye9Y2LgwGAi4P1jayexbQFz/vrCgqNJ+BCgVoibbt5mX9rfkB2jWcgUxs64R0AAB/i5cXgrHOYwImVgWeARYbekn+lIL1z2Pb1BRT7MDtLVGELcnV8/391fAtyVGE7S/swBRT29XPYIL1/pd6SRYZngJWBwIlzmOCs5cUf4gAA4R0bOiBTjWdAdmt+mX+7eSJtgVrgQo0nCgr76wXPxbSsnvWNi4MBgIuD9Y2snsW0Bc/76woKjSfgQoFaIm27eZl/a35Ado1nIFMbOuEdAAAf4uXF4KxzmMCJlYFngEWG3pJ/pSC9c9j29QUU+zA7S1RhC3J1fP9/dXwLclRhO0v7MAUU9vVz2CC9f6XekkWGZ4CVgcCJc5jgrOXFH+IAAOEdGzogU41nQHZrfpl/u3kibYFa4EKNJwoK++sFz8W0rJ71jYuDAYCLg/WNrJ7FtAXP++sKCo0n4EKBWiJtu3mZf2t+QHaNZyBTGzrhHQAAH+LlxeCsc5jAiZWBZ4BFht6Sf6UgvXPY9vUFFPswO0tUYQtydXz/f3V8C3JUYTtL+zAFFPb1c9ggvX+l3pJFhmeAlYHAiXOY4KzlxR/iAADhHRs6IFONZ0B2a36Zf7t5Im2BWuBCjScKCvvrBc/FtKye9Y2LgwGAi4P1jayexbQFz/vrCgqNJ+BCgVoibbt5mX9rfkB2jWcgUxs64R0AAB/i5cXgrHOYwImVgWeARYbekn+lIL1z2Pb1BRT7MDtLVGELcnV8/391fAtyVGE7S/swBRT29XPYIL1/pd6SRYZngJWBwIlzmOCs5cUf4gAA4R0bOiBTjWdAdmt+mX+7eSJtgVrgQo0nCgr76wXPxbSsnvWNi4MBgIuD9Y2snsW0Bc/76woKjSfgQoFaIm27eZl/a35Ado1nIFMbOuEdAAAf4uXF4KxzmMCJlYFngEWG3pJ/pSC9c9j29QUU+zA7S1RhC3J1fP9/dXwLclRhO0v7MAUU9vVz2CC9f6XekkWGZ4CVgcCJc5jgrOXFH+IAAOEdGzogU41nQHZrfpl/u3kibYFa4EKNJwoK++sFz8W0rJ71jYuDAYCLg/WNrJ7FtAXP++sKCo0n4EKBWiJtu3mZf2t+QHaNZyBTGzrhHQAAH+LlxeCsc5jAiZWBZ4BFht6Sf6UgvXPY9vUFFPswO0tUYQtydXz/f3V8C3JUYTtL+zAFFPb1c9ggvX+l3pJFhmeAlYHAiXOY4KzlxR/iAADhHRs6IFONZ0B2a36Zf7t5Im2BWuBCjScKCvvrBc/FtKye9Y2LgwGAi4P1jayexbQFz/vrCgqNJ+BCgVoibbt5mX9rfkB2jWcgUxs64R0AAB/i5cXgrHOYwImVgWeARYbekn+lIL1z2Pb1BRT7MDtLVGELcnV8/391fAtyVGE7S/swBRT29XPYIL1/pd6SRYZngJWBwIlzmOCs5cUf4gAA4R0bOiBTjWdAdmt+mX+7eSJtgVrgQo0nCgr76wXPxbSsnvWNi4MBgIuD9Y2snsW0Bc/76woKjSfgQoFaIm27eZl/a35Ado1nIFMbOuEdAAAf4uXF4KxzmMCJlYFngEWG3pJ/pSC9c9j29QUU+zA7S1RhC3J1fP9/dXwLclRhO0v7MAUU9vVz2CC9f6XekkWGZ4CVgcCJc5jgrOXFH+IAAOEdGzogU41nQHZrfpl/u3kibYFa4EKNJwoK++sFz8W0rJ71jYuDAYCLg/WNrJ7FtAXP++sKCo0n4EKBWiJtu3mZf2t+QHaNZyBTGzrhHQAAH+LlxeCsc5jAiZWBZ4BFht6Sf6UgvXPY9vUFFPswO0tUYQtydXz/f3V8C3JUYTtL+zAFFPb1c9ggvX+l3pJFhmeAlYHAiXOY4KzlxR/iAADhHRs6IFONZ0B2a36Zf7t5Im2BWuBCjScKCvvrBc/FtKye9Y2LgwGAi4P1jayexbQFz/vrCgqNJ+BCgVoibbt5mX9rfkB2jWcgUxs64R0AAB/i5cXgrHOYwImVgWeARYbekn+lIL1z2Pb1BRT7MDtLVGELcnV8/391fAtyVGE7S/swBRT29XPYIL1/pd6SRYZngJWBwIlzmOCs5cUf4gAA4R0bOiBTjWdAdmt+mX+7eSJtgVrgQo0nCgr76wXPxbSsnvWNi4MBgIuD9Y2snsW0Bc/76woKjSfgQoFaIm27eZl/a35Ado1nIFMbOuEdAAAf4uXF4KxzmMCJlYFngEWG3pJ/pSC9c9j29QUU+zA7S1RhC3J1fP9/dXwLclRhO0v7MAUU9vVz2CC9f6XekkWGZ4CVgcCJc5jgrOXFH+IAAOEdGzogU41nQHZrfpl/u3kibYFa4EKNJwoK++sFz8W0rJ71jYuDAYCLg/WNrJ7FtAXP++sKCo0n4EKBWiJtu3mZf2t+QHaNZyBTGzrhHQAAH+LlxeCsc5jAiZWBZ4BFht6Sf6UgvXPY9vUFFPswO0tUYQtydXz/f3V8C3JUYTtL+zAFFPb1c9ggvX+l3pJFhmeAlYHAiXOY4KzlxR/iAADhHRs6IFONZ0B2a36Zf7t5Im2BWuBCjScKCvvrBc/FtKye9Y2LgwGAi4P1jayexbQFz/vrCgqNJ+BCgVoibbt5mX9rfkB2jWcgUxs64R0AAB/i5cXgrHOYwImVgWeARYbekn+lIL1z2Pb1BRT7MDtLVGELcnV8/391fAtyVGE7S/swBRT29XPYIL1/pd6SRYZngJWBwIlzmOCs5cUf4gAA4R0bOiBTjWdAdmt+mX+7eSJtgVrgQo0nCgr76wXPxbSsnvWNi4MBgIuD9Y2snsW0Bc/76woKjSfgQoFaIm27eZl/a35Ado1nIFMbOuEdAAAf4uXF4KxzmMCJlYFngEWG3pJ/pSC9c9j29QUU+zA7S1RhC3J1fP9/dXwLclRhO0v7MAUU9vVz2CC9f6XekkWGZ4CVgcCJc5jgrOXFH+IAAOEdGzogU41nQHZrfpl/u3kibYFa4EKNJwoK++sFz8W0rJ71jYuDAYCLg/WNrJ7FtAXP++sKCo0n4EKBWiJtu3mZf2t+QHaNZyBTGzrhHQAAH+LlxeCsc5jAiZWBZ4BFht6Sf6UgvXPY9vUFFPswO0tUYQtydXz/f3V8C3JUYTtL+zAFFPb1c9ggvX+l3pJFhmeAlYHAiXOY4KzlxR/iAADhHRs6IFONZ0B2a36Zf7t5Im2BWuBCjScKCvvrBc/FtKye9Y2LgwGAi4P1jayexbQFz/vrCgqNJ+BCgVoibbt5mX9rfkB2jWcgUxs64R0AAB/i5cXgrHOYwImVgWeARYbekn+lIL1z2Pb1BRT7MDtLVGELcnV8/391fAtyVGE7S/swBRT29XPYIL1/pd6SRYZngJWBwIlzmOCs5cUf4gAA4R0bOiBTjWdAdmt+mX+7eSJtgVrgQo0nCgr76wXPxbSsnvWNi4MBgIuD9Y2snsW0Bc/76woKjSfgQoFaIm27eZl/a35Ado1nIFMbOuEdAAAf4uXF4KxzmMCJlYFngEWG3pJ/pSC9c9j29QUU+zA7S1RhC3J1fP9/dXwLclRhO0v7MAUU9vVz2CC9f6XekkWGZ4CVgcCJc5jgrOXFH+IAAOEdGzogU41nQHZrfpl/u3kibYFa4EKNJwoK++sFz8W0rJ71jYuDAYCLg/WNrJ7FtAXP++sKCo0n4EKBWiJtu3mZf2t+QHaNZyBTGzrhHQAAH+LlxeCsc5jAiZWBZ4BFht6Sf6UgvXPY9vUFFPswO0tUYQtydXz/f3V8C3JUYTtL+zAFFPb1c9ggvX+l3pJFhmeAlYHAiXOY4KzlxR/iAADhHRs6IFONZ0B2a36Zf7t5Im2BWuBCjScKCvvrBc/FtKye9Y2LgwGAi4P1jayexbQFz/vrCgqNJ+BCgVoibbt5mX9rfkB2jWcgUxs64R0AAB/i5cXgrHOYwImVgWeARYbekn+lIL1z2Pb1BRT7MDtLVGELcnV8/391fAtyVGE7S/swBRT29XPYIL1/pd6SRYZngJWBwIlzmOCs5cUf4gAA4R0bOiBTjWdAdmt+mX+7eSJtgVrgQo0nCgr76wXPxbSsnvWNi4MBgIuD9Y2snsW0Bc/76woKjSfgQoFaIm27eZl/a35Ado1nIFMbOuEdAAAf4uXF4KxzmMCJlYFngEWG3pJ/pSC9c9j29QUU+zA7S1RhC3J1fP9/dXwLclRhO0v7MAUU9vVz2CC9f6XekkWGZ4CVgcCJc5jgrOXFH+IAAOEdGzogU41nQHZrfpl/u3kibYFa4EKNJwoK++sFz8W0rJ71jYuDAYCLg/WNrJ7FtAXP++sKCo0n4EKBWiJtu3mZf2t+QHaNZyBTGzrhHQAAH+LlxeCsc5jAiZWBZ4BFht6Sf6UgvXPY9vUFFPswO0tUYQtydXz/f3V8C3JUYTtL+zAFFPb1c9ggvX+l3pJFhmeAlYHAiXOY4KzlxR/iAADhHRs6IFONZ0B2a36Zf7t5Im2BWuBCjScKCvvrBc/FtKye9Y2LgwGAi4P1jayexbQFz/vrCgqNJ+BCgVoibbt5mX9rfkB2jWcgUxs64R0AAB/i5cXgrHOYwImVgWeARYbekn+lIL1z2Pb1BRT7MDtLVGELcnV8/391fAtyVGE7S/swBRT29XPYIL1/pd6SRYZngJWBwIlzmOCs5cUf4gAA4R0bOiBTjWdAdmt+mX+7eSJtgVrgQo0nCgr76wXPxbSsnvWNi4MBgIuD9Y2snsW0Bc/76woKjSfgQoFaIm27eZl/a35Ado1nIFMbOuEdAAAf4uXF4KxzmMCJlYFngEWG3pJ/pSC9c9j29QUU+zA7S1RhC3J1fP9/dXwLclRhO0v7MAUU9vVz2CC9f6XekkWGZ4CVgcCJc5jgrOXFH+IAAOEdGzogU41nQHZrfpl/u3kibYFa4EKNJwoK++sFz8W0rJ71jYuDAYCLg/WNrJ7FtAXP++sKCo0n4EKBWiJtu3mZf2t+QHaNZyBTGzrhHQAAH+LlxeCsc5jAiZWBZ4BFht6Sf6UgvXPY9vUFFPswO0tUYQtydXz/f3V8C3JUYTtL+zAFFPb1c9ggvX+l3pJFhmeAlYHAiXOY4KzlxR/iAADhHRs6IFONZ0B2a36Zf7t5Im2BWuBCjScKCvvrBc/FtKye9Y2LgwGAi4P1jayexbQFz/vrCgqNJ+BCgVoibbt5mX9rfkB2jWcgUxs64R0AAB/i5cXgrHOYwImVgWeARYbekn+lIL1z2Pb1BRT7MDtLVGELcnV8/391fAtyVGE7S/swBRT29XPYIL1/pd6SRYZngJWBwIlzmOCs5cUf4gAA4R0bOiBTjWdAdmt+mX+7eSJtgVrgQo0nCgr76wXPxbSsnvWNi4MBgIuD9Y2snsW0Bc/76woKjSfgQoFaIm27eZl/a35Ado1nIFMbOuEdAAAf4uXF4KxzmMCJlYFngEWG3pJ/pSC9c9j29QUU+zA7S1RhC3J1fP9/dXwLclRhO0v7MAUU9vVz2CC9f6XekkWGZ4CVgcCJc5jgrOXFH+IAAOEdGzogU41nQHZrfpl/u3kibYFa4EKNJwoK++sFz8W0rJ71jYuDAYCLg/WNrJ7FtAXP++sKCo0n4EKBWiJtu3mZf2t+QHaNZyBTGzrhHQAAH+LlxeCsc5jAiZWBZ4BFht6Sf6UgvXPY9vUFFPswO0tUYQtydXz/f3V8C3JUYTtL+zAFFPb1c9ggvX+l3pJFhmeAlYHAiXOY4KzlxR/iAADhHRs6IFONZ0B2a36Zf7t5Im2BWuBCjScKCvvrBc/FtKye9Y2LgwGAi4P1jayexbQFz/vrCgqNJ+BCgVoibbt5mX9rfkB2jWcgUxs64R0AAB/i5cXgrHOYwImVgWeARYbekn+lIL1z2Pb1BRT7MDtLVGELcnV8/391fAtyVGE7S/swBRT29XPYIL1/pd6SRYZngJWBwIlzmOCs5cUf4gAA4R0bOiBTjWdAdmt+mX+7eSJtgVrgQo0nCgr76wXPxbSsnvWNi4MBgIuD9Y2snsW0Bc/76woKjSfgQoFaIm27eZl/a35Ado1nIFMbOuEdAAAf4uXF4KxzmMCJlYFngEWG3pJ/pSC9c9j29QUU+zA7S1RhC3J1fP9/dXwLclRhO0v7MAUU9vVz2CC9f6XekkWGZ4CVgcCJc5jgrOXFH+IAAOEdGzogU41nQHZrfpl/u3kibYFa4EKNJwoK++sFz8W0rJ71jYuDAYCLg/WNrJ7FtAXP++sKCo0n4EKBWiJtu3mZf2t+QHaNZyBTGzrhHQAAH+LlxeCsc5jAiZWBZ4BFht6Sf6UgvXPY9vUFFPswO0tUYQtydXz/f3V8C3JUYTtL+zAFFPb1c9ggvX+l3pJFhmeAlYHAiXOY4KzlxR/iAADhHRs6IFONZ0B2a36Zf7t5Im2BWuBCjScKCvvrBc/FtKye9Y2LgwGAi4P1jayexbQFz/vrCgqNJ+BCgVoibbt5mX9rfkB2jWcgUxs64R0AAB/i5cXgrHOYwImVgWeARYbekn+lIL1z2Pb1BRT7MDtLVGELcnV8/391fAtyVGE7S/swBRT29XPYIL1/pd6SRYZngJWBwIlzmOCs5cUf4gAA4R0bOiBTjWdAdmt+mX+7eSJtgVrgQo0nCgr76wXPxbSsnvWNi4MBgIuD9Y2snsW0Bc/76woKjSfgQoFaIm27eZl/a35Ado1nIFMbOuEdAAAf4uXF4KxzmMCJlYFngEWG3pJ/pSC9c9j29QUU+zA7S1RhC3J1fP9/dXwLclRhO0v7MAUU9vVz2CC9f6XekkWGZ4CVgcCJc5jgrOXFH+IAAOEdGzogU41nQHZrfpl/u3kibYFa4EKNJwoK++sFz8W0rJ71jYuDAYCLg/WNrJ7FtAXP++sKCo0n4EKBWiJtu3mZf2t+QHaNZyBTGzrhHQAAH+LlxeCsc5jAiZWBZ4BFht6Sf6UgvXPY9vUFFPswO0tUYQtydXz/f3V8C3JUYTtL+zAFFPb1c9ggvX+l3pJFhmeAlYHAiXOY4KzlxR/iAADhHRs6IFONZ0B2a36Zf7t5Im2BWuBCjScKCvvrBc/FtKye9Y2LgwGAi4P1jayexbQFz/vrCgqNJ+BCgVoibbt5mX9rfkB2jWcgUxs64R0AAB/i5cXgrHOYwImVgWeARYbekn+lIL1z2Pb1BRT7MDtLVGELcnV8/391fAtyVGE7S/swBRT29XPYIL1/pd6SRYZngJWBwIlzmOCs5cUf4gAA4R0bOiBTjWdAdmt+mX+7eSJtgVrgQo0nCgr76wXPxbSsnvWNi4MBgIuD9Y2snsW0Bc/76woKjSfgQoFaIm27eZl/a35Ado1nIFMbOuEdAAAf4uXF4KxzmMCJlYFngEWG3pJ/pSC9c9j29QUU+zA7S1RhC3J1fP9/dXwLclRhO0v7MAUU9vVz2CC9f6XekkWGZ4CVgcCJc5jgrOXFH+IAAOEdGzogU41nQHZrfpl/u3kibYFa4EKNJwoK++sFz8W0rJ71jYuDAYCLg/WNrJ7FtAXP++sKCo0n4EKBWiJtu3mZf2t+QHaNZyBTGzrhHQAAH+LlxeCsc5jAiZWBZ4BFht6Sf6UgvXPY9vUFFPswO0tUYQtydXz/f3V8C3JUYTtL+zAFFPb1c9ggvX+l3pJFhmeAlYHAiXOY4KzlxR/iAADhHRs6IFONZ0B2a36Zf7t5Im2BWuBCjScKCvvrBc/FtKye9Y2LgwGAi4P1jayexbQFz/vrCgqNJ+BCgVoibbt5mX9rfkB2jWcgUxs64R0AAB/i5cXgrHOYwImVgWeARYbekn+lIL1z2Pb1BRT7MDtLVGELcnV8/391fAtyVGE7S/swBRT29XPYIL1/pd6SRYZngJWBwIlzmOCs5cUf4gAA4R0bOiBTjWdAdmt+mX+7eSJtgVrgQo0nCgr76wXPxbSsnvWNi4MBgIuD9Y2snsW0Bc/76woKjSfgQoFaIm27eZl/a35Ado1nIFMbOuEdAAAf4uXF4KxzmMCJlYFngEWG3pJ/pSC9c9j29QUU+zA7S1RhC3J1fP9/dXwLclRhO0v7MAUU9vVz2CC9f6XekkWGZ4CVgcCJc5jgrOXFH+IAAOEdGzogU41nQHZrfpl/u3kibYFa4EKNJwoK++sFz8W0rJ71jYuDAYCLg/WNrJ7FtAXP++sKCo0n4EKBWiJtu3mZf2t+QHaNZyBTGzrhHQAAH+LlxeCsc5jAiZWBZ4BFht6Sf6UgvXPY9vUFFPswO0tUYQtydXz/f3V8C3JUYTtL+zAFFPb1c9ggvX+l3pJFhmeAlYHAiXOY4KzlxR/iAADhHRs6IFONZ0B2a36Zf7t5Im2BWuBCjScKCvvrBc/FtKye9Y2LgwGAi4P1jayexbQFz/vrCgqNJ+BCgVoibbt5mX9rfkB2jWcgUxs64R0AAB/i5cXgrHOYwImVgWeARYbekn+lIL1z2Pb1BRT7MDtLVGELcnV8/391fAtyVGE7S/swBRT29XPYIL1/pd6SRYZngJWBwIlzmOCs5cUf4gAA4R0bOiBTjWdAdmt+mX+7eSJtgVrgQo0nCgr76wXPxbSsnvWNi4MBgIuD9Y2snsW0Bc/76woKjSfgQoFaIm27eZl/a35Ado1nIFMbOuEdAAAf4uXF4KxzmMCJlYFngEWG3pJ/pSC9c9j29QUU+zA7S1RhC3J1fP9/dXwLclRhO0v7MAUU9vVz2CC9f6XekkWGZ4CVgcCJc5jgrOXFH+IAAOEdGzogU41nQHZrfpl/u3kibYFa4EKNJwoK++sFz8W0rJ71jYuDAYCLg/WNrJ7FtAXP++sKCo0n4EKBWiJtu3mZf2t+QHaNZyBTGzrhHQAAH+LlxeCsc5jAiZWBZ4BFht6Sf6UgvXPY9vUFFPswO0tUYQtydXz/f3V8C3JUYTtL+zAFFPb1c9ggvX+l3pJFhmeAlYHAiXOY4KzlxR/iAADhHRs6IFONZ0B2a36Zf7t5Im2BWuBCjScKCvvrBc/FtKye9Y2LgwGAi4P1jayexbQFz/vrCgqNJ+BCgVoibbt5mX9rfkB2jWcgUxs64R0AAB/i5cXgrHOYwImVgWeARYbekn+lIL1z2Pb1BRT7MDtLVGELcnV8/391fAtyVGE7S/swBRT29XPYIL1/pd6SRYZngJWBwIlzmOCs5cUf4gAA4R0bOiBTjWdAdmt+mX+7eSJtgVrgQo0nCgr76wXPxbSsnvWNi4MBgIuD9Y2snsW0Bc/76woKjSfgQoFaIm27eZl/a35Ado1nIFMbOuEdAAAf4uXF4KxzmMCJlYFngEWG3pJ/pSC9c9j29QUU+zA7S1RhC3J1fP9/dXwLclRhO0v7MAUU9vVz2CC9f6XekkWGZ4CVgcCJc5jgrOXFH+IAAOEdGzogU41nQHZrfpl/u3kibYFa4EKNJwoK++sFz8W0rJ71jYuDAYCLg/WNrJ7FtAXP++sKCo0n4EKBWiJtu3mZf2t+QHaNZyBTGzrhHQAAH+LlxeCsc5jAiZWBZ4BFht6Sf6UgvXPY9vUFFPswO0tUYQtydXz/f3V8C3JUYTtL+zAFFPb1c9ggvX+l3pJFhmeAlYHAiXOY4KzlxR/iAADhHRs6IFONZ0B2a36Zf7t5Im2BWuBCjScKCvvrBc/FtKye9Y2LgwGAi4P1jayexbQFz/vrCgqNJ+BCgVoibbt5mX9rfkB2jWcgUxs64R0AAB/i5cXgrHOYwImVgWeARYbekn+lIL1z2Pb1BRT7MDtLVGELcnV8/391fAtyVGE7S/swBRT29XPYIL1/pd6SRYZngJWBwIlzmOCs5cUf4gAA4R0bOiBTjWdAdmt+mX+7eSJtgVrgQo0nCgr76wXPxbSsnvWNi4MBgIuD9Y2snsW0Bc/76woKjSfgQoFaIm27eZl/a35Ado1nIFMbOuEdAAAf4uXF4KxzmMCJlYFngEWG3pJ/pSC9c9j29QUU+zA7S1RhC3J1fP9/dXwLclRhO0v7MAUU9vVz2CC9f6XekkWGZ4CVgcCJc5jgrOXFH+IAAOEdGzogU41nQHZrfpl/u3kibYFa4EKNJwoK++sFz8W0rJ71jYuDAYCLg/WNrJ7FtAXP++sKCo0n4EKBWiJtu3mZf2t+QHaNZyBTGzrhHQAAH+LlxeCsc5jAiZWBZ4BFht6Sf6UgvXPY9vUFFPswO0tUYQtydXz/f3V8C3JUYTtL+zAFFPb1c9ggvX+l3pJFhmeAlYHAiXOY4KzlxR/iAADhHRs6IFONZ0B2a36Zf7t5Im2BWuBCjScKCvvrBc/FtKye9Y2LgwGAi4P1jayexbQFz/vrCgqNJ+BCgVoibbt5mX9rfkB2jWcgUxs64R0AAB/i5cXgrHOYwImVgWeARYbekn+lIL1z2Pb1BRT7MDtLVGELcnV8/391fAtyVGE7S/swBRT29XPYIL1/pd6SRYZngJWBwIlzmOCs5cUf4gAA4R0bOiBTjWdAdmt+mX+7eSJtgVrgQo0nCgr76wXPxbSsnvWNi4MBgIuD9Y2snsW0Bc/76woKjSfgQoFaIm27eZl/a35Ado1nIFMbOuEdAAAf4uXF4KxzmMCJlYFngEWG3pJ/pSC9c9j29QUU+zA7S1RhC3J1fP9/dXwLclRhO0v7MAUU9vVz2CC9f6XekkWGZ4CVgcCJc5jgrOXFH+IAAOEdGzogU41nQHZrfpl/u3kibYFa4EKNJwoK++sFz8W0rJ71jYuDAYCLg/WNrJ7FtAXP++sKCo0n4EKBWiJtu3mZf2t+QHaNZyBTGzrhHQAAH+LlxeCsc5jAiZWBZ4BFht6Sf6UgvXPY9vUFFPswO0tUYQtydXz/f3V8C3JUYTtL+zAFFPb1c9ggvX+l3pJFhmeAlYHAiXOY4KzlxR/iAADhHRs6IFONZ0B2a36Zf7t5Im2BWuBCjScKCvvrBc/FtKye9Y2LgwGAi4P1jayexbQFz/vrCgqNJ+BCgVoibbt5mX9rfkB2jWcgUxs64R0AAB/i5cXgrHOYwImVgWeARYbekn+lIL1z2Pb1BRT7MDtLVGELcnV8/391fAtyVGE7S/swBRT29XPYIL1/pd6SRYZngJWBwIlzmOCs5cUf4gAA4R0bOiBTjWdAdmt+mX+7eSJtgVrgQo0nCgr76wXPxbSsnvWNi4MBgIuD9Y2snsW0Bc/76woKjSfgQoFaIm27eZl/a35Ado1nIFMbOuEdAAAf4uXF4KxzmMCJlYFngEWG3pJ/pSC9c9j29QUU+zA7S1RhC3J1fP9/dXwLclRhO0v7MAUU9vVz2CC9f6XekkWGZ4CVgcCJc5jgrOXFH+IAAOEdGzogU41nQHZrfpl/u3kibYFa4EKNJwoK++sFz8W0rJ71jYuDAYCLg/WNrJ7FtAXP++sKCo0n4EKBWiJtu3mZf2t+QHaNZyBTGzrhHQAAH+LlxeCsc5jAiZWBZ4BFht6Sf6UgvXPY9vUFFPswO0tUYQtydXz/f3V8C3JUYTtL+zAFFPb1c9ggvX+l3pJFhmeAlYHAiXOY4KzlxR/iAADhHRs6IFONZ0B2a36Zf7t5Im2BWuBCjScKCvvrBc/FtKye9Y2LgwGAi4P1jayexbQFz/vrCgqNJ+BCgVoibbt5mX9rfkB2jWcgUxs64R0AAB/i5cXgrHOYwImVgWeARYbekn+lIL1z2Pb1BRT7MDtLVGELcnV8/391fAtyVGE7S/swBRT29XPYIL1/pd6SRYZngJWBwIlzmOCs5cUf4gAA4R0bOiBTjWdAdmt+mX+7eSJtgVrgQo0nCgr76wXPxbSsnvWNi4MBgIuD9Y2snsW0Bc/76woKjSfgQoFaIm27eZl/a35Ado1nIFMbOuEdAAAf4uXF4KxzmMCJlYFngEWG3pJ/pSC9c9j29QUU+zA7S1RhC3J1fP9/dXwLclRhO0v7MAUU9vVz2CC9f6XekkWGZ4CVgcCJc5jgrOXFH+IAAOEdGzogU41nQHZrfpl/u3kibYFa4EKNJwoK++sFz8W0rJ71jYuDAYCLg/WNrJ7FtAXP++sKCo0n4EKBWiJtu3mZf2t+QHaNZyBTGzrhHQAAH+LlxeCsc5jAiZWBZ4BFht6Sf6UgvXPY9vUFFPswO0tUYQtydXz/f3V8C3JUYTtL+zAFFPb1c9ggvX+l3pJFhmeAlYHAiXOY4KzlxR/iAADhHRs6IFONZ0B2a36Zf7t5Im2BWuBCjScKCvvrBc/FtKye9Y2LgwGAi4P1jayexbQFz/vrCgqNJ+BCgVoibbt5mX9rfkB2jWcgUxs64R0AAB/i5cXgrHOYwImVgWeARYbekn+lIL1z2Pb1BRT7MDtLVGELcnV8/391fAtyVGE7S/swBRT29XPYIL1/pd6SRYZngJWBwIlzmOCs5cUf4gAA4R0bOiBTjWdAdmt+mX+7eSJtgVrgQo0nCgr76wXPxbSsnvWNi4MBgIuD9Y2snsW0Bc/76woKjSfgQoFaIm27eZl/a35Ado1nIFMbOuEdAAAf4uXF4KxzmMCJlYFngEWG3pJ/pSC9c9j29QUU+zA7S1RhC3J1fP9/dXwLclRhO0v7MAUU9vVz2CC9f6XekkWGZ4CVgcCJc5jgrOXFH+IAAOEdGzogU41nQHZrfpl/u3kibYFa4EKNJwoK++sFz8W0rJ71jYuDAYCLg/WNrJ7FtAXP++sKCo0n4EKBWiJtu3mZf2t+QHaNZyBTGzrhHQAAH+LlxeCsc5jAiZWBZ4BFht6Sf6UgvXPY9vUFFPswO0tUYQtydXz/f3V8C3JUYTtL+zAFFPb1c9ggvX+l3pJFhmeAlYHAiXOY4KzlxR/iAADhHRs6IFONZ0B2a36Zf7t5Im2BWuBCjScKCvvrBc/FtKye9Y2LgwGAi4P1jayexbQFz/vrCgqNJ+BCgVoibbt5mX9rfkB2jWcgUxs64R0AAB/i5cXgrHOYwImVgWeARYbekn+lIL1z2Pb1BRT7MDtLVGELcnV8/391fAtyVGE7S/swBRT29XPYIL1/pd6SRYZngJWBwIlzmOCs5cUf4gAA4R0bOiBTjWdAdmt+mX+7eSJtgVrgQo0nCgr76wXPxbSsnvWNi4MBgIuD9Y2snsW0Bc/76woKjSfgQoFaIm27eZl/a35Ado1nIFMbOuEdAAAf4uXF4KxzmMCJlYFngEWG3pJ/pSC9c9j29QUU+zA7S1RhC3J1fP9/dXwLclRhO0v7MAUU9vVz2CC9f6XekkWGZ4CVgcCJc5jgrOXFH+IAAOEdGzogU41nQHZrfpl/u3kibYFa4EKNJwoK++sFz8W0rJ71jYuDAYCLg/WNrJ7FtAXP++sKCo0n4EKBWiJtu3mZf2t+QHaNZyBTGzrhHQAAH+LlxeCsc5jAiZWBZ4BFht6Sf6UgvXPY9vUFFPswO0tUYQtydXz/f3V8C3JUYTtL+zAFFPb1c9ggvX+l3pJFhmeAlYHAiXOY4KzlxR/iAADhHRs6IFONZ0B2a36Zf7t5Im2BWuBCjScKCvvrBc/FtKye9Y2LgwGAi4P1jayexbQFz/vrCgqNJ+BCgVoibbt5mX9rfkB2jWcgUxs64R0AAB/i5cXgrHOYwImVgWeARYbekn+lIL1z2Pb1BRT7MDtLVGELcnV8/391fAtyVGE7S/swBRT29XPYIL1/pd6SRYZngJWBwIlzmOCs5cUf4gAA4R0bOiBTjWdAdmt+mX+7eSJtgVrgQo0nCgr76wXPxbSsnvWNi4MBgIuD9Y2snsW0Bc/76woKjSfgQoFaIm27eZl/a35Ado1nIFMbOuEdAAAf4uXF4KxzmMCJlYFngEWG3pJ/pSC9c9j29QUU+zA7S1RhC3J1fP9/dXwLclRhO0v7MAUU9vVz2CC9f6XekkWGZ4CVgcCJc5jgrOXFH+IAAOEdGzogU41nQHZrfpl/u3kibYFa4EKNJwoK++sFz8W0rJ71jYuDAYCLg/WNrJ7FtAXP++sKCo0n4EKBWiJtu3mZf2t+QHaNZyBTGzrhHQAAH+LlxeCsc5jAiZWBZ4BFht6Sf6UgvXPY9vUFFPswO0tUYQtydXz/f3V8C3JUYTtL+zAFFPb1c9ggvX+l3pJFhmeAlYHAiXOY4KzlxR/iAADhHRs6IFONZ0B2a36Zf7t5Im2BWuBCjScKCvvrBc/FtKye9Y2LgwGAi4P1jayexbQFz/vrCgqNJ+BCgVoibbt5mX9rfkB2jWcgUxs64R0AAB/i5cXgrHOYwImVgWeARYbekn+lIL1z2Pb1BRT7MDtLVGELcnV8/391fAtyVGE7S/swBRT29XPYIL1/pd6SRYZngJWBwIlzmOCs5cUf4gAA4R0bOiBTjWdAdmt+mX+7eSJtgVrgQo0nCgr76wXPxbSsnvWNi4MBgIuD9Y2snsW0Bc/76woKjSfgQoFaIm27eZl/a35Ado1nIFMbOuEdAAAf4uXF4KxzmMCJlYFngEWG3pJ/pSC9c9j29QUU+zA7S1RhC3J1fP9/dXwLclRhO0v7MAUU9vVz2CC9f6XekkWGZ4CVgcCJc5jgrOXFH+IAAOEdGzogU41nQHZrfpl/u3kibYFa4EKNJwoK++sFz8W0rJ71jYuDAYCLg/WNrJ7FtAXP++sKCo0n4EKBWiJtu3mZf2t+QHaNZyBTGzrhHQAAH+LlxeCsc5jAiZWBZ4BFht6Sf6UgvXPY9vUFFPswO0tUYQtydXz/f3V8C3JUYTtL+zAFFPb1c9ggvX+l3pJFhmeAlYHAiXOY4KzlxR/iAADhHRs6IFONZ0B2a36Zf7t5Im2BWuBCjScKCvvrBc/FtKye9Y2LgwGAi4P1jayexbQFz/vrCgqNJ+BCgVoibbt5mX9rfkB2jWcgUxs64R0AAB/i5cXgrHOYwImVgWeARYbekn+lIL1z2Pb1BRT7MDtLVGELcnV8/391fAtyVGE7S/swBRT29XPYIL1/pd6SRYZngJWBwIlzmOCs5cUf4gAA4R0bOiBTjWdAdmt+mX+7eSJtgVrgQo0nCgr76wXPxbSsnvWNi4MBgIuD9Y2snsW0Bc/76woKjSfgQoFaIm27eZl/a35Ado1nIFMbOuEdAAAf4uXF4KxzmMCJlYFngEWG3pJ/pSC9c9j29QUU+zA7S1RhC3J1fP9/dXwLclRhO0v7MAUU9vVz2CC9f6XekkWGZ4CVgcCJc5jgrOXFH+IAAOEdGzogU41nQHZrfpl/u3kibYFa4EKNJwoK++sFz8W0rJ71jYuDAYCLg/WNrJ7FtAXP++sKCo0n4EKBWiJtu3mZf2t+QHaNZyBTGzrhHQAAH+LlxeCsc5jAiZWBZ4BFht6Sf6UgvXPY9vUFFPswO0tUYQtydXz/f3V8C3JUYTtL+zAFFPb1c9ggvX+l3pJFhmeAlYHAiXOY4KzlxR/iAADhHRs6IFONZ0B2a36Zf7t5Im2BWuBCjScKCvvrBc/FtKye9Y2LgwGAi4P1jayexbQFz/vrCgqNJ+BCgVoibbt5mX9rfkB2jWcgUxs64R0AAB/i5cXgrHOYwImVgWeARYbekn+lIL1z2Pb1BRT7MDtLVGELcnV8/391fAtyVGE7S/swBRT29XPYIL1/pd6SRYZngJWBwIlzmOCs5cUf4gAA4R0bOiBTjWdAdmt+mX+7eSJtgVrgQo0nCgr76wXPxbSsnvWNi4MBgIuD9Y2snsW0Bc/76woKjSfgQoFaIm27eZl/a35Ado1nIFMbOuEdAAAf4uXF4KxzmMCJlYFngEWG3pJ/pSC9c9j29QUU+zA7S1RhC3J1fP9/dXwLclRhO0v7MAUU9vVz2CC9f6XekkWGZ4CVgcCJc5jgrOXFH+IAAOEdGzogU41nQHZrfpl/u3kibYFa4EKNJwoK++sFz8W0rJ71jYuDAYCLg/WNrJ7FtAXP++sKCo0n4EKBWiJtu3mZf2t+QHaNZyBTGzrhHQAAH+LlxeCsc5jAiZWBZ4BFht6Sf6UgvXPY9vUFFPswO0tUYQtydXz/f3V8C3JUYTtL+zAFFPb1c9ggvX+l3pJFhmeAlYHAiXOY4KzlxR/iAADhHRs6IFONZ0B2a36Zf7t5Im2BWuBCjScKCvvrBc/FtKye9Y2LgwGAi4P1jayexbQFz/vrCgqNJ+BCgVoibbt5mX9rfkB2jWcgUxs64R0AAB/i5cXgrHOYwImVgWeARYbekn+lIL1z2Pb1BRT7MDtLVGELcnV8/391fAtyVGE7S/swBRT29XPYIL1/pd6SRYZngJWBwIlzmOCs5cUf4gAA4R0bOiBTjWdAdmt+mX+7eSJtgVrgQo0nCgr76wXPxbSsnvWNi4MBgIuD9Y2snsW0Bc/76woKjSfgQoFaIm27eZl/a35Ado1nIFMbOuEdAAAf4uXF4KxzmMCJlYFngEWG3pJ/pSC9c9j29QUU+zA7S1RhC3J1fP9/dXwLclRhO0v7MAUU9vVz2CC9f6XekkWGZ4CVgcCJc5jgrOXFH+IAAOEdGzogU41nQHZrfpl/u3kibYFa4EKNJwoK++sFz8W0rJ71jYuDAYCLg/WNrJ7FtAXP++sKCo0n4EKBWiJtu3mZf2t+QHaNZyBTGzrhHQAAH+LlxeCsc5jAiZWBZ4BFht6Sf6UgvXPY9vUFFPswO0tUYQtydXz/f3V8C3JUYTtL+zAFFPb1c9ggvX+l3pJFhmeAlYHAiXOY4KzlxR/iAADhHRs6IFONZ0B2a36Zf7t5Im2BWuBCjScKCvvrBc/FtKye9Y2LgwGAi4P1jayexbQFz/vrCgqNJ+BCgVoibbt5mX9rfkB2jWcgUxs64R0AAB/i5cXgrHOYwImVgWeARYbekn+lIL1z2Pb1BRT7MDtLVGELcnV8/391fAtyVGE7S/swBRT29XPYIL1/pd6SRYZngJWBwIlzmOCs5cUf4gAA4R0bOiBTjWdAdmt+mX+7eSJtgVrgQo0nCgr76wXPxbSsnvWNi4MBgIuD9Y2snsW0Bc/76woKjSfgQoFaIm27eZl/a35Ado1nIFMbOuEdAAAf4uXF4KxzmMCJlYFngEWG3pJ/pSC9c9j29QUU+zA7S1RhC3J1fP9/dXwLclRhO0v7MAUU9vVz2CC9f6XekkWGZ4CVgcCJc5jgrOXFH+IAAOEdGzogU41nQHZrfpl/u3kibYFa4EKNJwoK++sFz8W0rJ71jYuDAYCLg/WNrJ7FtAXP++sKCo0n4EKBWiJtu3mZf2t+QHaNZyBTGzrhHQAAH+LlxeCsc5jAiZWBZ4BFht6Sf6UgvXPY9vUFFPswO0tUYQtydXz/f3V8C3JUYTtL+zAFFPb1c9ggvX+l3pJFhmeAlYHAiXOY4KzlxR/iAADhHRs6IFONZ0B2a36Zf7t5Im2BWuBCjScKCvvrBc/FtKye9Y2LgwGAi4P1jayexbQFz/vrCgqNJ+BCgVoibbt5mX9rfkB2jWcgUxs64R0AAB/i5cXgrHOYwImVgWeARYbekn+lIL1z2Pb1BRT7MDtLVGELcnV8/391fAtyVGE7S/swBRT29XPYIL1/pd6SRYZngJWBwIlzmOCs5cUf4gAA4R0bOiBTjWdAdmt+mX+7eSJtgVrgQo0nCgr76wXPxbSsnvWNi4MBgIuD9Y2snsW0Bc/76woKjSfgQoFaIm27eZl/a35Ado1nIFMbOuEdAAAf4uXF4KxzmMCJlYFngEWG3pJ/pSC9c9j29QUU+zA7S1RhC3J1fP9/dXwLclRhO0v7MAUU9vVz2CC9f6XekkWGZ4CVgcCJc5jgrOXFH+IAAOEdGzogU41nQHZrfpl/u3kibYFa4EKNJwoK++sFz8W0rJ71jYuDAYCLg/WNrJ7FtAXP++sKCo0n4EKBWiJtu3mZf2t+QHaNZyBTGzrhHQAAH+LlxeCsc5jAiZWBZ4BFht6Sf6UgvXPY9vUFFPswO0tUYQtydXz/f3V8C3JUYTtL+zAFFPb1c9ggvX+l3pJFhmeAlYHAiXOY4KzlxR/iAADhHRs6IFONZ0B2a36Zf7t5Im2BWuBCjScKCvvrBc/FtKye9Y2LgwGAi4P1jayexbQFz/vrCgqNJ+BCgVoibbt5mX9rfkB2jWcgUxs64R0AAB/i5cXgrHOYwImVgWeARYbekn+lIL1z2Pb1BRT7MDtLVGELcnV8/391fAtyVGE7S/swBRT29XPYIL1/pd6SRYZngJWBwIlzmOCs5cUf4gAA4R0bOiBTjWdAdmt+mX+7eSJtgVrgQo0nCgr76wXPxbSsnvWNi4MBgIuD9Y2snsW0Bc/76woKjSfgQoFaIm27eZl/a35Ado1nIFMbOuEdAAAf4uXF4KxzmMCJlYFngEWG3pJ/pSC9c9j29QUU+zA7S1RhC3J1fP9/dXwLclRhO0v7MAUU9vVz2CC9f6XekkWGZ4CVgcCJc5jgrOXFH+IAAOEdGzogU41nQHZrfpl/u3kibYFa4EKNJwoK++sFz8W0rJ71jYuDAYCLg/WNrJ7FtAXP++sKCo0n4EKBWiJtu3mZf2t+QHaNZyBTGzrhHQAAH+LlxeCsc5jAiZWBZ4BFht6Sf6UgvXPY9vUFFPswO0tUYQtydXz/f3V8C3JUYTtL+zAFFPb1c9ggvX+l3pJFhmeAlYHAiXOY4KzlxR/iAADhHRs6IFONZ0B2a36Zf7t5Im2BWuBCjScKCvvrBc/FtKye9Y2LgwGAi4P1jayexbQFz/vrCgqNJ+BCgVoibbt5mX9rfkB2jWcgUxs64R0AAB/i5cXgrHOYwImVgWeARYbekn+lIL1z2Pb1BRT7MDtLVGELcnV8/391fAtyVGE7S/swBRT29XPYIL1/pd6SRYZngJWBwIlzmOCs5cUf4gAA4R0bOiBTjWdAdmt+mX+7eSJtgVrgQo0nCgr76wXPxbSsnvWNi4MBgIuD9Y2snsW0Bc/76woKjSfgQoFaIm27eZl/a35Ado1nIFMbOuEdAAAf4uXF4KxzmMCJlYFngEWG3pJ/pSC9c9j29QUU+zA7S1RhC3J1fP9/dXwLclRhO0v7MAUU9vVz2CC9f6XekkWGZ4CVgcCJc5jgrOXFH+IAAOEdGzogU41nQHZrfpl/u3kibYFa4EKNJwoK++sFz8W0rJ71jYuDAYCLg/WNrJ7FtAXP++sKCo0n4EKBWiJtu3mZf2t+QHaNZyBTGzrhHQAAH+LlxeCsc5jAiZWBZ4BFht6Sf6UgvXPY9vUFFPswO0tUYQtydXz/f3V8C3JUYTtL+zAFFPb1c9ggvX+l3pJFhmeAlYHAiXOY4KzlxR/iAADhHRs6IFONZ0B2a36Zf7t5Im2BWuBCjScKCvvrBc/FtKye9Y2LgwGAi4P1jayexbQFz/vrCgqNJ+BCgVoibbt5mX9rfkB2jWcgUxs64R0AAB/i5cXgrHOYwImVgWeARYbekn+lIL1z2Pb1BRT7MDtLVGELcnV8/391fAtyVGE7S/swBRT29XPYIL1/pd6SRYZngJWBwIlzmOCs5cUf4gAA4R0bOiBTjWdAdmt+mX+7eSJtgVrgQo0nCgr76wXPxbSsnvWNi4MBgIuD9Y2snsW0Bc/76woKjSfgQoFaIm27eZl/a35Ado1nIFMbOuEdAAAf4uXF4KxzmMCJlYFngEWG3pJ/pSC9c9j29QUU+zA7S1RhC3J1fP9/dXwLclRhO0v7MAUU9vVz2CC9f6XekkWGZ4CVgcCJc5jgrOXFH+IAAOEdGzogU41nQHZrfpl/u3kibYFa4EKNJwoK++sFz8W0rJ71jYuDAYCLg/WNrJ7FtAXP++sKCo0n4EKBWiJtu3mZf2t+QHaNZyBTGzrhHQAAH+LlxeCsc5jAiZWBZ4BFht6Sf6UgvXPY9vUFFPswO0tUYQtydXz/f3V8C3JUYTtL+zAFFPb1c9ggvX+l3pJFhmeAlYHAiXOY4KzlxR/iAADhHRs6IFONZ0B2a36Zf7t5Im2BWuBCjScKCvvrBc/FtKye9Y2LgwGAi4P1jayexbQFz/vrCgqNJ+BCgVoibbt5mX9rfkB2jWcgUxs64R0AAB/i5cXgrHOYwImVgWeARYbekn+lIL1z2Pb1BRT7MDtLVGELcnV8/391fAtyVGE7S/swBRT29XPYIL1/pd6SRYZngJWBwIlzmOCs5cUf4gAA4R0bOiBTjWdAdmt+mX+7eSJtgVrgQo0nCgr76wXPxbSsnvWNi4MBgIuD9Y2snsW0Bc/76woKjSfgQoFaIm27eZl/a35Ado1nIFMbOuEdAAAf4uXF4KxzmMCJlYFngEWG3pJ/pSC9c9j29QUU+zA7S1RhC3J1fP9/dXwLclRhO0v7MAUU9vVz2CC9f6XekkWGZ4CVgcCJc5jgrOXFH+IAAOEdGzogU41nQHZrfpl/u3kibYFa4EKNJwoK++sFz8W0rJ71jYuDAYCLg/WNrJ7FtAXP++sKCo0n4EKBWiJtu3mZf2t+QHaNZyBTGzrhHQAAH+LlxeCsc5jAiZWBZ4BFht6Sf6UgvXPY9vUFFPswO0tUYQtydXz/f3V8C3JUYTtL+zAFFPb1c9ggvX+l3pJFhmeAlYHAiXOY4KzlxR/iAADhHRs6IFONZ0B2a36Zf7t5Im2BWuBCjScKCvvrBc/FtKye9Y2LgwGAi4P1jayexbQFz/vrCgqNJ+BCgVoibbt5mX9rfkB2jWcgUxs64R0AAB/i5cXgrHOYwImVgWeARYbekn+lIL1z2Pb1BRT7MDtLVGELcnV8/391fAtyVGE7S/swBRT29XPYIL1/pd6SRYZngJWBwIlzmOCs5cUf4gAA4R0bOiBTjWdAdmt+mX+7eSJtgVrgQo0nCgr76wXPxbSsnvWNi4MBgIuD9Y2snsW0Bc/76woKjSfgQoFaIm27eZl/a35Ado1nIFMbOuEdAAAf4uXF4KxzmMCJlYFngEWG3pJ/pSC9c9j29QUU+zA7S1RhC3J1fP9/dXwLclRhO0v7MAUU9vVz2CC9f6XekkWGZ4CVgcCJc5jgrOXFH+IAAOEdGzogU41nQHZrfpl/u3kibYFa4EKNJwoK++sFz8W0rJ71jYuDAYCLg/WNrJ7FtAXP++sKCo0n4EKBWiJtu3mZf2t+QHaNZyBTGzrhHQAAH+LlxeCsc5jAiZWBZ4BFht6Sf6UgvXPY9vUFFPswO0tUYQtydXz/f3V8C3JUYTtL+zAFFPb1c9ggvX+l3pJFhmeAlYHAiXOY4KzlxR/i\" type=\"audio/wav\" />\n",
       "                    Your browser does not support the audio element.\n",
       "                </audio>\n",
       "              "
      ],
      "text/plain": [
       "<IPython.lib.display.Audio object>"
      ]
     },
     "execution_count": 86,
     "metadata": {},
     "output_type": "execute_result"
    }
   ],
   "source": [
    "import IPython.display as ipd#can play audio files with a simple GUI\n",
    "ipd.Audio(out3,rate=sr)"
   ]
  },
  {
   "cell_type": "markdown",
   "id": "5a8f3cff",
   "metadata": {},
   "source": [
    "A cool think about the IPython library is that it can even play back audio files. All you have to do is call the Audio function with a filepath and without specifying a sample rate:"
   ]
  },
  {
   "cell_type": "code",
   "execution_count": 92,
   "id": "c1e8edb1",
   "metadata": {},
   "outputs": [
    {
     "data": {
      "text/html": [
       "\n",
       "                <audio  controls=\"controls\" >\n",
       "                    <source src=\"data:audio/wav;base64,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\" type=\"audio/wav\" />\n",
       "                    Your browser does not support the audio element.\n",
       "                </audio>\n",
       "              "
      ],
      "text/plain": [
       "<IPython.lib.display.Audio object>"
      ]
     },
     "execution_count": 92,
     "metadata": {},
     "output_type": "execute_result"
    }
   ],
   "source": [
    "ipd.Audio(r'Sd 094.wav')"
   ]
  },
  {
   "cell_type": "markdown",
   "id": "5a039fef",
   "metadata": {},
   "source": [
    "<h1>Memory</h1>\n",
    "Memory is handles differently in differen programming languages.\n",
    "<h2>Unknown (yet)</h2>\n",
    "Below, I've tried to run a cell that uses variables that I have defined and initiated above. Still, I got an error message. This is because of the order: I've opened the jupyter notebook and the first thing I did was trying to run the cell. But in the cell I'm using variable names that are not known yet. Even though the cell output may be visible, you cannot work with variables, libraries and methods unless you've defined or imported them."
   ]
  },
  {
   "cell_type": "code",
   "execution_count": 4,
   "id": "66bbe9a9",
   "metadata": {},
   "outputs": [
    {
     "ename": "NameError",
     "evalue": "name 'plt' is not defined",
     "output_type": "error",
     "traceback": [
      "\u001b[1;31m---------------------------------------------------------------------------\u001b[0m",
      "\u001b[1;31mNameError\u001b[0m                                 Traceback (most recent call last)",
      "Cell \u001b[1;32mIn [4], line 1\u001b[0m\n\u001b[1;32m----> 1\u001b[0m plt\u001b[38;5;241m.\u001b[39mxticks(np\u001b[38;5;241m.\u001b[39marange(\u001b[38;5;241m0\u001b[39m,sr\u001b[38;5;241m*\u001b[39mduration,\u001b[38;5;241m1000\u001b[39m))\n",
      "\u001b[1;31mNameError\u001b[0m: name 'plt' is not defined"
     ]
    }
   ],
   "source": [
    "plt.xticks(np.arange(0,sr*duration,1000))#range and interval of x-ticks"
   ]
  },
  {
   "cell_type": "markdown",
   "id": "fb38a340",
   "metadata": {},
   "source": [
    "<h2>Hierarchies</h2>\n",
    "Most programming languages have different hierarchies. Some variables are universally known and can always be used, like \"+\" for addition and <font color=\"green\">str</font>(); a method to convert an argument into a string. Other variables are not universal. They are only known within a common <i>namespace</i>, or within the same <i>private class</i>.\n",
    "<h3>Namespace</h3>\n",
    "Variables defined within the same namespace can be accessed (and altered if they are mutable) everywhere within this namespace and lower hierarchies. Every jupyter notebook has its own namespace. When you define a variable in a jupyter notebook, it can typically be accessed and altered whenever you like. For example, a defined variable can be called and overwritten from within a function:"
   ]
  },
  {
   "cell_type": "code",
   "execution_count": 38,
   "id": "1737b716",
   "metadata": {
    "scrolled": true
   },
   "outputs": [],
   "source": [
    "number = 6\n",
    "\n",
    "def calc(input):\n",
    "    calcu = input * number # the function \"calc\" can call number. I do not have to pass it\n",
    "    return(calcu)\n",
    "\n",
    "number = 2\n",
    "newcalculation = calc(1)"
   ]
  },
  {
   "cell_type": "markdown",
   "id": "d715f67e",
   "metadata": {},
   "source": [
    "However, some function within a namespace have their own <i>scope</i>.\n",
    "<h3>Scopes</h3>\n",
    "Sometimes, a variable is not known to the complete namespace, but inly within a single scope. Below, I define the variable \"mymathvariable\" within a function named \"mymath\". I can call and manupilate the variable within the function. But I cannot call the variable outside this function:"
   ]
  },
  {
   "cell_type": "code",
   "execution_count": 39,
   "id": "b383a85d",
   "metadata": {},
   "outputs": [
    {
     "name": "stdout",
     "output_type": "stream",
     "text": [
      "27\n",
      "5.4\n"
     ]
    },
    {
     "ename": "NameError",
     "evalue": "name 'mymathvariable' is not defined",
     "output_type": "error",
     "traceback": [
      "\u001b[1;31m---------------------------------------------------------------------------\u001b[0m",
      "\u001b[1;31mNameError\u001b[0m                                 Traceback (most recent call last)",
      "Cell \u001b[1;32mIn [39], line 9\u001b[0m\n\u001b[0;32m      7\u001b[0m newvalue \u001b[38;5;241m=\u001b[39m mymath(\u001b[38;5;241m3\u001b[39m)\n\u001b[0;32m      8\u001b[0m \u001b[38;5;28mprint\u001b[39m(newvalue)\n\u001b[1;32m----> 9\u001b[0m \u001b[38;5;28mprint\u001b[39m(mymathvariable)\n",
      "\u001b[1;31mNameError\u001b[0m: name 'mymathvariable' is not defined"
     ]
    }
   ],
   "source": [
    "def mymath(input):\n",
    "    mymathvariable = input**3\n",
    "    print(mymathvariable) # here I can access and print mymathvariable\n",
    "    output = mymathvariable/5 # here I use mymathvariable\n",
    "    return(output)\n",
    "\n",
    "newvalue = mymath(3)\n",
    "print(newvalue)\n",
    "print(mymathvariable) # here I cannot use mymathvariable"
   ]
  },
  {
   "cell_type": "markdown",
   "id": "cf4961c1",
   "metadata": {},
   "source": [
    "Sometimes, python is very confusing concerning variable names. What outcome do you expect from the following cells?"
   ]
  },
  {
   "cell_type": "code",
   "execution_count": 40,
   "id": "658717f8",
   "metadata": {},
   "outputs": [
    {
     "name": "stdout",
     "output_type": "stream",
     "text": [
      "6\n",
      "7\n",
      "8\n",
      "9\n",
      "10\n"
     ]
    }
   ],
   "source": [
    "i = 10\n",
    "for i in range(5):\n",
    "    i = i + 6\n",
    "    print(i)"
   ]
  },
  {
   "cell_type": "code",
   "execution_count": 41,
   "id": "9c64d8b2",
   "metadata": {},
   "outputs": [
    {
     "name": "stdout",
     "output_type": "stream",
     "text": [
      "10\n",
      "11\n",
      "10\n",
      "11\n",
      "10\n",
      "11\n",
      "10\n",
      "11\n"
     ]
    },
    {
     "data": {
      "text/plain": [
       "11"
      ]
     },
     "execution_count": 41,
     "metadata": {},
     "output_type": "execute_result"
    }
   ],
   "source": [
    "kk = 7\n",
    "for kk in range(2): # ranging from 0 to 1\n",
    "    for kk in range(90,92): # ranging from 90-91\n",
    "        for kk in range(10,12): # ranging from 10-11\n",
    "            print(kk)\n",
    "kk"
   ]
  },
  {
   "cell_type": "code",
   "execution_count": null,
   "id": "fe07c1b2",
   "metadata": {},
   "outputs": [],
   "source": []
  }
 ],
 "metadata": {
  "kernelspec": {
   "display_name": "Python 3 (ipykernel)",
   "language": "python",
   "name": "python3"
  },
  "language_info": {
   "codemirror_mode": {
    "name": "ipython",
    "version": 3
   },
   "file_extension": ".py",
   "mimetype": "text/x-python",
   "name": "python",
   "nbconvert_exporter": "python",
   "pygments_lexer": "ipython3",
   "version": "3.10.7"
  }
 },
 "nbformat": 4,
 "nbformat_minor": 5
}
