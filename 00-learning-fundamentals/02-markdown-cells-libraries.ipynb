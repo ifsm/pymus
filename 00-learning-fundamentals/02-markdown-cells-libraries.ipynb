{
 "cells": [
  {
   "cell_type": "markdown",
   "id": "c7ea5ac7",
   "metadata": {},
   "source": [
    "First things first:\n",
    "<ol>\n",
    "   <li>You topic: Choose topic and date for the presentation</li>\n",
    "   <li>Jupyter: Please download and install python 3.something. Then, go to <a href=\"https://jupyter.org/install\" target=\"_blank\">https://jupyter.org/install</a>, download and install jupyterlab and notebook. Ideally, github desktop's main folder is a subfolder of jupyter's main folder.</li>\n",
    "</ol>\n"
   ]
  },
  {
   "cell_type": "markdown",
   "id": "29367845",
   "metadata": {},
   "source": [
    "<h1>Markdown Cell</h1>\n",
    "This is a \"Markdown\" cell. Go to <b>[Cell]</b> ⟶ <b>[Cell Type]</b> ⟶ <b>[Markdown]</b> to convert a cell into a markdown cell. Markdown cells are for explanations, descriptions, headings, labels etc. They are perfect for structuring your code in jupyter notebooks. Instead of using the menu structure, you can also click on the left of the cell and type <b>[m]</b> to convert the cell into a markdown cell. You can use HTML-codes for formatting the cell content. When you make coding errors, the HTML tag will be red. Otherwise it will be green. As soon as you run the cell, you can see the formatting. To run a cell, mark it and click on <b>[Run]</b> in the menu, or us the command <b>[shift] + [return]</b>. Wikis in github are formatted using markdown language as well."
   ]
  },
  {
   "cell_type": "markdown",
   "id": "eacbae5a",
   "metadata": {},
   "source": [
    "<h2>Important HTML codes</h2>\n",
    "HTML is mostly known from websites. We will use it to format markdown cells. HTML commands use angle brackets (\"<>\") to start a command and \"</>\" to end it. An exception are line breaks that have no end. <br>\n",
    "<h1>H1</h1> <h2>H2</h2> <h3>H3</h3> <h4>H4</h4> are headings with decreasing size. You can make text appear <b>bold</b>, <i>in italics</i>, <u>underlined</u>, <s>striked through</s>, <mark>marked</mark>, <font color=\"blue\">colored</font> as a<sup>superscript</sup>, or a<sub>subscript</sub>. Naturally, you can provide <a href=\"https://systmus.blogs.uni-hamburg.de/\" target=\"_blank\">links</a>."
   ]
  },
  {
   "cell_type": "markdown",
   "id": "aa330e8a",
   "metadata": {},
   "source": [
    "<h1>Code Cells</h1>\n",
    "To create a new cell, go to <b>[Insert]</b>⟶<b>Insert cell above</b> or <b>Insert cell below</b>. Alternatively, make a click on the left hand side of a cell and then type <b>[a]</b> (for \"above\") or <b>[b]</b> (for \"below\"). New cells are always code cells. If you mistakenly created a cell, you can delete it by quickly typing <b>[d][d]</b> (for \"delete\"). If you mistakenly converted a code cell into a markdown cell, you can convert it back to a code celly by typing <b>[y]</b>.\n",
    "<h3>Exercise:</h3>\n",
    "Create a new cell below this cell, convert it into a markdown cell, type your name in as a header 1, run the code, look at your name and then delete the cell."
   ]
  },
  {
   "cell_type": "markdown",
   "id": "856bf88f",
   "metadata": {},
   "source": [
    "<h1>Programming Environment</h1>\n",
    "\n",
    "Libraries: Python knows many methods, operations and data types from scratch. Others have to be imported from libraries via \"import libraryname\". To call a function from an imported library, you write \"libraryname.\" and then the method name. If you find the libraryname too long and use it a lot, you can define an abbreviation by simply writing \"import libraryname as acronym\" to call methods from the libraryname via \"acronym.function\". An example is provided below:"
   ]
  },
  {
   "cell_type": "code",
   "execution_count": 74,
   "id": "0dc19567",
   "metadata": {},
   "outputs": [],
   "source": [
    "import math as m"
   ]
  },
  {
   "cell_type": "code",
   "execution_count": 75,
   "id": "fb201890",
   "metadata": {},
   "outputs": [
    {
     "data": {
      "text/plain": [
       "0.6640367702678489"
      ]
     },
     "execution_count": 75,
     "metadata": {},
     "output_type": "execute_result"
    }
   ],
   "source": [
    "m.tanh(.8)"
   ]
  },
  {
   "cell_type": "code",
   "execution_count": 79,
   "id": "91610a05",
   "metadata": {},
   "outputs": [],
   "source": [
    "m = 8"
   ]
  },
  {
   "cell_type": "code",
   "execution_count": 80,
   "id": "fe816413",
   "metadata": {},
   "outputs": [
    {
     "ename": "AttributeError",
     "evalue": "'int' object has no attribute 'tanh'",
     "output_type": "error",
     "traceback": [
      "\u001b[1;31m---------------------------------------------------------------------------\u001b[0m",
      "\u001b[1;31mAttributeError\u001b[0m                            Traceback (most recent call last)",
      "Cell \u001b[1;32mIn [80], line 1\u001b[0m\n\u001b[1;32m----> 1\u001b[0m m\u001b[38;5;241m.\u001b[39mtanh()\n",
      "\u001b[1;31mAttributeError\u001b[0m: 'int' object has no attribute 'tanh'"
     ]
    }
   ],
   "source": [
    "m.tanh()"
   ]
  },
  {
   "cell_type": "markdown",
   "id": "feafd0b3",
   "metadata": {},
   "source": [
    "What just happened? We chose <i>m</i> as acronym for the math library. This is a horrible choice, as <i>m</i> is frequently used as a variable (especially as an index). The code <i>m = 8</i> assigned the value <i>8</i> to the newly defined variable <i>m</i>. With this new definition of <i>m</i>, <i>m</i> is no longer our acronym for <i>math</i>. We cannot call the method <i>m.tanh()</i> any longer. As \"math\" is already quite short, we should stick to calling it <i>math</i>:"
   ]
  },
  {
   "cell_type": "code",
   "execution_count": 82,
   "id": "debb0e0f",
   "metadata": {},
   "outputs": [
    {
     "data": {
      "text/plain": [
       "0.6640367702678489"
      ]
     },
     "execution_count": 82,
     "metadata": {},
     "output_type": "execute_result"
    }
   ],
   "source": [
    "import math\n",
    "math.tanh(.8)"
   ]
  },
  {
   "cell_type": "markdown",
   "id": "e744fa1e",
   "metadata": {},
   "source": [
    "Most libraries have to be downloaded and installed before you can use them. The easiest way is using pip install:"
   ]
  },
  {
   "cell_type": "code",
   "execution_count": 46,
   "id": "3427bb85",
   "metadata": {},
   "outputs": [
    {
     "name": "stdout",
     "output_type": "stream",
     "text": [
      "Requirement already satisfied: sklearn in c:\\users\\t_ziemer\\appdata\\local\\programs\\python\\python310\\lib\\site-packages (0.0)\n",
      "Requirement already satisfied: scikit-learn in c:\\users\\t_ziemer\\appdata\\local\\programs\\python\\python310\\lib\\site-packages (from sklearn) (1.1.3)\n",
      "Requirement already satisfied: threadpoolctl>=2.0.0 in c:\\users\\t_ziemer\\appdata\\local\\programs\\python\\python310\\lib\\site-packages (from scikit-learn->sklearn) (3.1.0)\n",
      "Requirement already satisfied: joblib>=1.0.0 in c:\\users\\t_ziemer\\appdata\\local\\programs\\python\\python310\\lib\\site-packages (from scikit-learn->sklearn) (1.2.0)\n",
      "Requirement already satisfied: numpy>=1.17.3 in c:\\users\\t_ziemer\\appdata\\local\\programs\\python\\python310\\lib\\site-packages (from scikit-learn->sklearn) (1.23.3)\n",
      "Requirement already satisfied: scipy>=1.3.2 in c:\\users\\t_ziemer\\appdata\\local\\programs\\python\\python310\\lib\\site-packages (from scikit-learn->sklearn) (1.9.1)\n",
      "Note: you may need to restart the kernel to use updated packages.\n"
     ]
    },
    {
     "name": "stderr",
     "output_type": "stream",
     "text": [
      "WARNING: There was an error checking the latest version of pip.\n"
     ]
    }
   ],
   "source": [
    "pip install sklearn"
   ]
  },
  {
   "cell_type": "code",
   "execution_count": 47,
   "id": "0dbc20b7",
   "metadata": {},
   "outputs": [],
   "source": [
    "import sklearn"
   ]
  },
  {
   "cell_type": "markdown",
   "id": "ffcd00b0",
   "metadata": {},
   "source": [
    "If you use a function a lot, consider importing it directly, without the need to prepend the function with the library name. To do so, you write \"from libraryname import variablename1, variablename2\".\n",
    "\n",
    "It works like that:"
   ]
  },
  {
   "cell_type": "code",
   "execution_count": 84,
   "id": "71576a3b",
   "metadata": {},
   "outputs": [
    {
     "data": {
      "text/plain": [
       "0.6640367702678489"
      ]
     },
     "execution_count": 84,
     "metadata": {},
     "output_type": "execute_result"
    }
   ],
   "source": [
    "from math import tanh, acosh\n",
    "tanh(.8)"
   ]
  },
  {
   "cell_type": "code",
   "execution_count": 85,
   "id": "248ecf52",
   "metadata": {},
   "outputs": [
    {
     "ename": "ValueError",
     "evalue": "math domain error",
     "output_type": "error",
     "traceback": [
      "\u001b[1;31m---------------------------------------------------------------------------\u001b[0m",
      "\u001b[1;31mValueError\u001b[0m                                Traceback (most recent call last)",
      "Cell \u001b[1;32mIn [85], line 1\u001b[0m\n\u001b[1;32m----> 1\u001b[0m acosh(\u001b[38;5;241m.8\u001b[39m)\n",
      "\u001b[1;31mValueError\u001b[0m: math domain error"
     ]
    }
   ],
   "source": [
    "acosh(.8)"
   ]
  },
  {
   "cell_type": "markdown",
   "id": "0a1ebd29",
   "metadata": {},
   "source": [
    "Why did <i>acosh</i> produce an error? Take a look at it. What does it say?\n",
    "<h3>Exercise:</h3>\n",
    "Find out what caused the error."
   ]
  },
  {
   "cell_type": "markdown",
   "id": "1cb7c7b9",
   "metadata": {},
   "source": [
    "You cannot only call built-in methods, like <i>print()</i>, or methods from imported libraries, like <i>math.gamma()</i>. You can also define and call your own function like that:"
   ]
  },
  {
   "cell_type": "code",
   "execution_count": 101,
   "id": "f7707c2f",
   "metadata": {},
   "outputs": [],
   "source": [
    "def function(string):\n",
    "    print(f\"I typed the word '{string}'\")"
   ]
  },
  {
   "cell_type": "markdown",
   "id": "d70775c6",
   "metadata": {},
   "source": [
    "This cell produces no output. The only thing it does is define a method. You have to call the method with a proper argument:"
   ]
  },
  {
   "cell_type": "code",
   "execution_count": 98,
   "id": "849eff56",
   "metadata": {},
   "outputs": [
    {
     "name": "stdout",
     "output_type": "stream",
     "text": [
      "I typed the word '4'\n"
     ]
    }
   ],
   "source": [
    "function(4)"
   ]
  },
  {
   "cell_type": "markdown",
   "id": "fd1e5fa7",
   "metadata": {},
   "source": [
    "<h2>The [Tab] button</h2>\n",
    "The <b>[Tab]</b> button is your best friend. If you do not remember the name of the library, class, or method you want to use, the <b>[Tab]</b> button will provide a list of all the available options for you. \n",
    "<h3>Exercise:</h3>\n",
    "In the following code cell, type \"fun\" and then press the <b>[tab]</b>-button. Choose \"function\". Then, pass a string to that function, via <i>function(\"whatever you want to write\")</i>."
   ]
  },
  {
   "cell_type": "markdown",
   "id": "555b2cfc",
   "metadata": {},
   "source": [
    "What does the code mean? Here, <font color=\"green\"><b>def</b></font> stands for \"define\". The term <font color=\"blue\">function</font> is the name of your method. The colon means that the description of the method follows. Now you need to be careful: As long as we want to add something to the definition of function needs to be indented. In this example, it is the specific <i>print()</i> command. You can add more lines of code. Those things that are not indented do not belonf to the definition of the method."
   ]
  },
  {
   "cell_type": "markdown",
   "id": "f4f4e5d2",
   "metadata": {},
   "source": [
    "<h1>Cells:</h1>\n",
    "When you've marked a cell, type <b>[b]</b> to create a new cell <b>b</b>elow, <b>[a]</b> to create a new cell <b>a</b>bove and <b>[d][d]</b> to delete the marked cell. Typing <b>[m]</b> makes it a markdown cell, typing <b>[y]</b> makes it a code cell. You can cut a cell by typing <b>x</b>, and paste it below via <b>y</b>."
   ]
  },
  {
   "cell_type": "markdown",
   "id": "3b8643ea",
   "metadata": {},
   "source": [
    "<h2>Comments:</h2>\n",
    "Use the hash symbol <b>[#]</b> to comment things out. There is not a good way to make inline comments. A dirty trick is to write inline comments as strings between semicolons, like "
   ]
  },
  {
   "cell_type": "code",
   "execution_count": 111,
   "id": "61007b4b",
   "metadata": {},
   "outputs": [],
   "source": [
    "# This is a regular comment in a single line\n",
    "x=1; #\"this is a dirty-trick inline commen\";\n",
    "y=1 # This is a comment behind the code"
   ]
  },
  {
   "cell_type": "markdown",
   "id": "3fe5a5bd",
   "metadata": {},
   "source": [
    "This trick works because Python recognizes the text as a string. But since the string is neither assigned to a variable, nor passed to a function, it can never be called. Hence, it does not occupy any RAM."
   ]
  },
  {
   "cell_type": "markdown",
   "id": "dcd1a4d8",
   "metadata": {},
   "source": [
    "<h1>Standard Commands</h1>\n",
    "Python knows many commands, operations and data types out of the box. Here are some examples"
   ]
  },
  {
   "cell_type": "code",
   "execution_count": 112,
   "id": "5739dd10",
   "metadata": {},
   "outputs": [],
   "source": [
    "x = 1"
   ]
  },
  {
   "cell_type": "markdown",
   "id": "b13d4bee",
   "metadata": {},
   "source": [
    "What just happened? <i>x = 1</i> defines a new variable name <i>x</i> and assigns it the value <i>1</i>. Running this cell will produce no output. Assignments produce no output. To see the output, type <i>x</i> again:"
   ]
  },
  {
   "cell_type": "code",
   "execution_count": 113,
   "id": "ab80a0e3",
   "metadata": {},
   "outputs": [
    {
     "data": {
      "text/plain": [
       "1"
      ]
     },
     "execution_count": 113,
     "metadata": {},
     "output_type": "execute_result"
    }
   ],
   "source": [
    "x"
   ]
  },
  {
   "cell_type": "code",
   "execution_count": 116,
   "id": "e544589e",
   "metadata": {},
   "outputs": [
    {
     "data": {
      "text/plain": [
       "1"
      ]
     },
     "execution_count": 116,
     "metadata": {},
     "output_type": "execute_result"
    }
   ],
   "source": [
    "x = 1\n",
    "x# You can do this within one cell"
   ]
  },
  {
   "cell_type": "code",
   "execution_count": 117,
   "id": "53ec3503",
   "metadata": {
    "scrolled": true
   },
   "outputs": [
    {
     "name": "stdout",
     "output_type": "stream",
     "text": [
      "1\n"
     ]
    }
   ],
   "source": [
    "x = 1\n",
    "print(x) # Another option is the \"print\" command "
   ]
  },
  {
   "cell_type": "markdown",
   "id": "ef59ca76",
   "metadata": {},
   "source": [
    "Why should you ever use the <i>print()</i> command? See the example below:"
   ]
  },
  {
   "cell_type": "code",
   "execution_count": 118,
   "id": "4684365f",
   "metadata": {},
   "outputs": [
    {
     "data": {
      "text/plain": [
       "2"
      ]
     },
     "execution_count": 118,
     "metadata": {},
     "output_type": "execute_result"
    }
   ],
   "source": [
    "x = 1\n",
    "x\n",
    "y = 2\n",
    "y"
   ]
  },
  {
   "cell_type": "markdown",
   "id": "adc14e63",
   "metadata": {},
   "source": [
    "As you can see, Python only displays the very last output of a cell. In this case, the <i>x</i> is ignored in favor of the <i>y</i>. The <i>print()</i> command solves that for you:"
   ]
  },
  {
   "cell_type": "code",
   "execution_count": 127,
   "id": "42746eb7",
   "metadata": {
    "scrolled": true
   },
   "outputs": [
    {
     "name": "stdout",
     "output_type": "stream",
     "text": [
      "1\n"
     ]
    },
    {
     "data": {
      "text/plain": [
       "2"
      ]
     },
     "execution_count": 127,
     "metadata": {},
     "output_type": "execute_result"
    }
   ],
   "source": [
    "x = 1\n",
    "print(x)\n",
    "y = 2\n",
    "y"
   ]
  },
  {
   "cell_type": "markdown",
   "id": "f99433b8",
   "metadata": {},
   "source": [
    "As <i>1</i> is an integer, Python will automatically store it as an integer filetype:"
   ]
  },
  {
   "cell_type": "code",
   "execution_count": 128,
   "id": "c47018f2",
   "metadata": {},
   "outputs": [
    {
     "data": {
      "text/plain": [
       "int"
      ]
     },
     "execution_count": 128,
     "metadata": {},
     "output_type": "execute_result"
    }
   ],
   "source": [
    "type(x)"
   ]
  },
  {
   "cell_type": "markdown",
   "id": "4827c64e",
   "metadata": {},
   "source": [
    "This changes if necessary. Reassigning <i>x</i> to <i>x/y</i>, <i>x</i> is now <i>1/2 = 0.5</i>. As this is not a float anymore, python changes the filetype to float:"
   ]
  },
  {
   "cell_type": "code",
   "execution_count": 142,
   "id": "45b95b0d",
   "metadata": {},
   "outputs": [
    {
     "name": "stdout",
     "output_type": "stream",
     "text": [
      "6.103515625e-05\n"
     ]
    },
    {
     "data": {
      "text/plain": [
       "float"
      ]
     },
     "execution_count": 142,
     "metadata": {},
     "output_type": "execute_result"
    }
   ],
   "source": [
    "x = x/y\n",
    "print(x)\n",
    "type(x)"
   ]
  },
  {
   "cell_type": "markdown",
   "id": "0bad5242",
   "metadata": {},
   "source": [
    "As you could see, <i>x=x/y</i> is not a paradoxon for python. It uses the \"old\" <i>x</i> to produce a \"new\" <i>x</i>. Beware though, that the \"old\" <i>x</i> is lost.<br>\n",
    "<h3>Exercise:</h3>\n",
    "Run the cell above over and over to see how x shrinks."
   ]
  },
  {
   "cell_type": "markdown",
   "id": "95165bc0",
   "metadata": {},
   "source": [
    "<h3> Data Types</h3>"
   ]
  },
  {
   "cell_type": "code",
   "execution_count": 146,
   "id": "df35ed7c",
   "metadata": {
    "scrolled": true
   },
   "outputs": [
    {
     "name": "stdout",
     "output_type": "stream",
     "text": [
      "i is from the <class 'int'> and has a size of 28\n",
      "f is from the <class 'float'> and has a size of 24\n",
      "st is from the <class 'str'> and has a size of 62\n",
      "se is from the <class 'set'> and has a size of 216\n",
      "c is from the <class 'complex'> and has a size of 32\n",
      "t is from the <class 'bool'> and has a size of 28\n",
      "li is from the <class 'list'> and has a size of 72\n",
      "tu is from the <class 'tuple'> and has a size of 56\n"
     ]
    }
   ],
   "source": [
    "import sys # The sys-library is imported. It is needed to calculate the size of \n",
    "i = 1\n",
    "print(\"i is from the\", type(i), \"and has a size of\", sys.getsizeof(i))\n",
    "\n",
    "f = 1.\n",
    "print(\"f is from the\", type(f), \"and has a size of\", sys.getsizeof(f))\n",
    "\n",
    "st = \"name333312sdc\"\n",
    "print(\"st is from the\", type(st), \"and has a size of\", sys.getsizeof(st))\n",
    "\n",
    "se = {1, 2, 3, 3, 3, 3, 3,1,1,1,1,1,1,1,1,1}\n",
    "print(\"se is from the\", type(se), \"and has a size of\", sys.getsizeof(se))\n",
    "\n",
    "c=complex(1,2)\n",
    "print(\"c is from the\", type(c), \"and has a size of\", sys.getsizeof(c))\n",
    "\n",
    "t = True\n",
    "print(\"t is from the\", type(t), \"and has a size of\", sys.getsizeof(t))\n",
    "\n",
    "li = list((5, 1))\n",
    "print(\"li is from the\", type(li), \"and has a size of\", sys.getsizeof(li))\n",
    "\n",
    "tu = (5, 1)\n",
    "print(\"tu is from the\", type(tu), \"and has a size of\", sys.getsizeof(tu))"
   ]
  },
  {
   "cell_type": "markdown",
   "id": "a24bf5f7",
   "metadata": {},
   "source": [
    "In some prtogramming languages, <i>int</i> (or <i>short</i>) need less memory than <i>float</i>. \n",
    "\n",
    "\n",
    "While lists and tupels may look the same, there is one important difference:<br>\n",
    "Tupels are <i>immutable</i>. Once defined, you cannot change them. That is why tupels need less space than lists. Python does not need extra overhead to deal with runtime changes for immutable data types. Strings are immutable, too.<br>\n",
    "<h3>Exercise:</h3>\n",
    "Create a new code cell. Paste the <i>se</i> set. Where are all the threes?"
   ]
  },
  {
   "cell_type": "markdown",
   "id": "77c35785",
   "metadata": {},
   "source": [
    "<h2>Strings</h2>"
   ]
  },
  {
   "cell_type": "code",
   "execution_count": 155,
   "id": "d5a0eb92",
   "metadata": {
    "scrolled": true
   },
   "outputs": [
    {
     "name": "stdout",
     "output_type": "stream",
     "text": [
      "Z\n",
      "e\n",
      "Zi\n",
      "co\n",
      "code\n",
      "Z's co\n",
      "<class 'int'>\n",
      "<class 'str'>\n"
     ]
    },
    {
     "data": {
      "text/plain": [
       "str"
      ]
     },
     "execution_count": 155,
     "metadata": {},
     "output_type": "execute_result"
    }
   ],
   "source": [
    "string = \"Ziemer\\'s code\"#this is a string, backslash is an \"escape sequence\"\n",
    "print(string[0])# gives the first symbol from the string\n",
    "print(string[4])# the integer in the square brackets is a pointer to the nth character of the string\n",
    "print(string[0:2])# gives the first 2 symbols from the string, the \"0:2\" means one to (not including) 2 ,like \"lesser than 2\"\n",
    "print(string[-4:-2])# Here, the \"-\" means \"count from the end\".\n",
    "print(string[-4:222])# As \"222\" is larger than the string, the complete rest of the string will be shown\n",
    "print(string[0:1]+string[6:11])# You can recombine strings by addition\n",
    "integer = 7\n",
    "print(type(integer))\n",
    "stringed=str(integer)\n",
    "print(type(stringed))\n",
    "type(stringed)# note that the output from the last cell can differ from the print() output"
   ]
  },
  {
   "cell_type": "code",
   "execution_count": 157,
   "id": "835fb605",
   "metadata": {
    "scrolled": true
   },
   "outputs": [
    {
     "name": "stdout",
     "output_type": "stream",
     "text": [
      "e\n"
     ]
    },
    {
     "ename": "NameError",
     "evalue": "name 'a' is not defined",
     "output_type": "error",
     "traceback": [
      "\u001b[1;31m---------------------------------------------------------------------------\u001b[0m",
      "\u001b[1;31mNameError\u001b[0m                                 Traceback (most recent call last)",
      "Cell \u001b[1;32mIn [157], line 3\u001b[0m\n\u001b[0;32m      1\u001b[0m word \u001b[38;5;241m=\u001b[39m \u001b[38;5;124m\"\u001b[39m\u001b[38;5;124mhello\u001b[39m\u001b[38;5;124m\"\u001b[39m\n\u001b[0;32m      2\u001b[0m \u001b[38;5;28mprint\u001b[39m(word[\u001b[38;5;241m1\u001b[39m])\n\u001b[1;32m----> 3\u001b[0m word[\u001b[38;5;241m1\u001b[39m]\u001b[38;5;241m=\u001b[39ma\n",
      "\u001b[1;31mNameError\u001b[0m: name 'a' is not defined"
     ]
    }
   ],
   "source": [
    "word = \"hello\"\n",
    "print(word[1])\n",
    "word[1]=a# this causes an error, because strings are immutable: you cannot change a single character"
   ]
  },
  {
   "cell_type": "markdown",
   "id": "363ff99c",
   "metadata": {},
   "source": [
    "You need a workaround to change a single character:"
   ]
  },
  {
   "cell_type": "code",
   "execution_count": 166,
   "id": "a01dd9fd",
   "metadata": {
    "scrolled": true
   },
   "outputs": [
    {
     "name": "stdout",
     "output_type": "stream",
     "text": [
      "h3llo\n"
     ]
    }
   ],
   "source": [
    "word = \"hallo\"# simply redefines the string\n",
    "word = word[0:1]+str(3)+word[2:999]# combines some of the old word with your new character\n",
    "print(word)"
   ]
  },
  {
   "cell_type": "code",
   "execution_count": 165,
   "id": "26cafb65",
   "metadata": {},
   "outputs": [
    {
     "data": {
      "text/plain": [
       "[5, 2, 3]"
      ]
     },
     "execution_count": 165,
     "metadata": {},
     "output_type": "execute_result"
    }
   ],
   "source": [
    "liste = [1,2,3]\n",
    "type(liste)\n",
    "liste[0]=5\n",
    "liste"
   ]
  },
  {
   "cell_type": "markdown",
   "id": "e0c6cc97",
   "metadata": {},
   "source": [
    "The command <it>str()</it> has converted the integer into a string. In the above example, the \"999\" is a dirty trick to ensure that all characters from the word are addressed, since the word \"hallo\" has clearly less than 999 characters. A better way to address all characters is the use of <font color=\"green\">len</font>():"
   ]
  },
  {
   "cell_type": "code",
   "execution_count": 167,
   "id": "0c40f9ec",
   "metadata": {},
   "outputs": [
    {
     "name": "stdout",
     "output_type": "stream",
     "text": [
      "h3llo\n"
     ]
    }
   ],
   "source": [
    "word = \"hallo\"\n",
    "word = word[0:1]+str(3)+word[2:len(word)]#len(word) is good practice\n",
    "print(word)"
   ]
  },
  {
   "cell_type": "markdown",
   "id": "deb31f9d",
   "metadata": {},
   "source": [
    "<h2>Math</h2>\n",
    "Python knows the fundamentals of mathematics:"
   ]
  },
  {
   "cell_type": "code",
   "execution_count": 174,
   "id": "b162bddf",
   "metadata": {},
   "outputs": [
    {
     "name": "stdout",
     "output_type": "stream",
     "text": [
      "2.0\n",
      "-6\n",
      "2.23606797749979\n"
     ]
    },
    {
     "data": {
      "text/plain": [
       "(1-2j)"
      ]
     },
     "execution_count": 174,
     "metadata": {},
     "output_type": "execute_result"
    }
   ],
   "source": [
    "x * y#is a multiplication\n",
    "x / y#is a division\n",
    "y + x#is an addition\n",
    "x - y#is a subtraction\n",
    "print(7.2 // 3)#is an integer division that does not output decimals (i.e., it gives the \"floor\" value of 7.2/3)\n",
    "print(-11//2) # Here, the floor value of -5.5 is -6\n",
    "7.2 % 3 # is the modulo function. It is the remainder of 7.2//3 (potentially including little errors)\n",
    "divmod(11, 2) # \n",
    "2**3# is 2 to the power of 3\n",
    "pow(2, 3)# is also 2 to the power of 3\n",
    "0**0 # is defined as 1\n",
    "print(abs(c)) # gives the absolute, valid for integer, float, and complex\n",
    "int(abs(c)) # converts a number into an integer (rounding)\n",
    "float(3) # converts integer into a float\n",
    "(2 + 3) * 5 # python knows the order of operators\n",
    "c.conjugate() # is the conjugate of a complex number\n",
    "# you need import math for math.sqrt(), math.floor(), math.ceil()"
   ]
  },
  {
   "cell_type": "code",
   "execution_count": 176,
   "id": "cce7e467",
   "metadata": {},
   "outputs": [],
   "source": [
    "import numpy as np"
   ]
  },
  {
   "cell_type": "code",
   "execution_count": 179,
   "id": "255adf3e",
   "metadata": {},
   "outputs": [
    {
     "data": {
      "text/plain": [
       "array([[ 3,  8],\n",
       "       [ 5, 12]])"
      ]
     },
     "execution_count": 179,
     "metadata": {},
     "output_type": "execute_result"
    }
   ],
   "source": [
    "x=np.array([1,2])#is a \"matrix\" with one row and two colums\n",
    "y=np.array([[3,4],[5,6]])#is a matrix with two rows and two colums. Note the extra-brackets.\n",
    "x*y#is an element-wise multiplication: [[1*3,2*4],[1*5,2*6]]"
   ]
  },
  {
   "cell_type": "code",
   "execution_count": 180,
   "id": "327750bf",
   "metadata": {},
   "outputs": [
    {
     "data": {
      "text/plain": [
       "array([13, 16])"
      ]
     },
     "execution_count": 180,
     "metadata": {},
     "output_type": "execute_result"
    }
   ],
   "source": [
    "np.dot(x,y)#is a matrix multiplication. [1*3+2*5,1*4+2*6]"
   ]
  },
  {
   "cell_type": "code",
   "execution_count": 66,
   "id": "8cecb537",
   "metadata": {},
   "outputs": [],
   "source": [
    "sr = 8000#sample rate\n",
    "duration = 1#duration in seconds\n",
    "def signal(freq, sr, dur):#here we define a new function with 3 inputs\n",
    "    sign = (np.sin(2 * np.pi * np.arange(sr * duration) * freq / sr)).astype(np.float32)#!Note the indentation here!\n",
    "    return sign#the function has one output\n",
    "out = signal(1, sr, duration)#here we call the function and store the output in the variable \"out\""
   ]
  },
  {
   "cell_type": "code",
   "execution_count": null,
   "id": "c5f569b5",
   "metadata": {},
   "outputs": [],
   "source": [
    "def two(numerator,denominator):\n",
    "    plussi = numerator + denominator\n",
    "    minussi = numerator - denominator\n",
    "    return plussi, minussi#To return two outputs, separate them by a comma\n",
    "plu, minu = two(3,2)#and assign 2 variables to the function so that the first return is stored in plu and the secont, in minu\n",
    "plu"
   ]
  },
  {
   "cell_type": "markdown",
   "id": "ccb396f5",
   "metadata": {},
   "source": [
    "<h1>Standard imports</h1>\n",
    "for audio and machine learning:"
   ]
  },
  {
   "cell_type": "code",
   "execution_count": 78,
   "id": "ddc130f1",
   "metadata": {},
   "outputs": [],
   "source": [
    "from scipy.io import wavfile#one way to import wave files\n",
    "import numpy as np#numpy includes many functions for numerical calculations, esp. matrix operations\n",
    "import plotly.graph_objects as go#to produce graph objects\n",
    "import matplotlib.pyplot as plt#short acronym to create plots\n",
    "import plotly.graph_objects as go\n",
    "from plotly.subplots import make_subplots#\n",
    "import sklearn#includes standard machine learning tools\n",
    "# other machine learning libraries are pytorch and tensorflow"
   ]
  },
  {
   "cell_type": "markdown",
   "id": "f1f0d7dd",
   "metadata": {},
   "source": [
    "<h1>Create a Plot</h1>"
   ]
  },
  {
   "cell_type": "code",
   "execution_count": 110,
   "id": "9092a8ba",
   "metadata": {
    "scrolled": true
   },
   "outputs": [
    {
     "data": {
      "image/png": "[encoded data removed]",
      "text/plain": [
       "<Figure size 432x288 with 1 Axes>"
      ]
     },
     "metadata": {
      "needs_background": "light"
     },
     "output_type": "display_data"
    }
   ],
   "source": [
    "out2 = signal(-1, sr, duration)#here we call the function again and store the output in the variable \"out1\"\n",
    "fig = plt.figure()#figure is our variable that will soon contain a figure. Right now you can think of it as an empty container.\n",
    "plt.plot(out, color='blue', linestyle='dashed', label='sin')#plots the result\n",
    "#besides 'dashed', you can use 'solid', 'dotted, 'dashdot'\n",
    "plt.plot(out2, color='red', linewidth=7, label='-sin', marker=\"d\")#this plots the result in the same plot\n",
    "plt.grid(True)\n",
    "plt.legend()#places a legend somewhere in the plot\n",
    "plt.xticks(fontsize=12)\n",
    "plt.yticks(fontsize=12)\n",
    "plt.xticks(np.arange(0,sr*duration,1000))#range and interval of x-ticks\n",
    "plt.yticks(np.arange(min(out),max(out)+.1,.2))#range and interval of y-ticks\n",
    "plt.xlabel(\"Time [s]\", fontsize=16)#add a label for the x-axis\n",
    "plt.ylabel(\"Elongation [mm]\", fontsize=16)#add a label for the y-axis\n",
    "plt.xlim(0, 6000)#crop the plot\n",
    "plt.ylim(0, 1.01);#the last line receives a semicolon to suppress the output"
   ]
  },
  {
   "cell_type": "markdown",
   "id": "5a039fef",
   "metadata": {},
   "source": [
    "<h1>Memory</h1>\n",
    "Memory is handles differently in differen programming languages.\n",
    "<h2>Unknown (yet)</h2>\n",
    "Below, I've tried to run a cell that uses variables that I have defined and initiated above. Still, I got an error message. This is because of the order: I've opened the jupyter notebook and the first thing I did was trying to run the cell. But in the cell I'm using variable names that are not known yet. Even though the cell output may be visible, you cannot work with variables, libraries and methods unless you've defined or imported them."
   ]
  },
  {
   "cell_type": "code",
   "execution_count": 1,
   "id": "66bbe9a9",
   "metadata": {},
   "outputs": [
    {
     "ename": "NameError",
     "evalue": "name 'plt' is not defined",
     "output_type": "error",
     "traceback": [
      "\u001b[1;31m---------------------------------------------------------------------------\u001b[0m",
      "\u001b[1;31mNameError\u001b[0m                                 Traceback (most recent call last)",
      "Cell \u001b[1;32mIn [1], line 1\u001b[0m\n\u001b[1;32m----> 1\u001b[0m plt\u001b[38;5;241m.\u001b[39mxticks(np\u001b[38;5;241m.\u001b[39marange(\u001b[38;5;241m0\u001b[39m,sr\u001b[38;5;241m*\u001b[39mduration,\u001b[38;5;241m1000\u001b[39m))\n",
      "\u001b[1;31mNameError\u001b[0m: name 'plt' is not defined"
     ]
    }
   ],
   "source": [
    "plt.xticks(np.arange(0,sr*duration,1000))#range and interval of x-ticks"
   ]
  },
  {
   "cell_type": "markdown",
   "id": "fb38a340",
   "metadata": {},
   "source": [
    "<h2>Hierarchies</h2>\n",
    "Most programming languages have different hierarchies. Some variables are universally known and can always be used, like \"+\" for addition and <font color=\"green\">str</font>(); a method to convert an argument into a string. Other variables are not universal. They are only known within a common <i>namespace</i>, or within the same <i>private class</i>.\n",
    "<h3>Namespace</h3>\n",
    "Variables defined within the same namespace can be accessed (and altered if they are mutable) everywhere within this namespace. Every jupyter notebook has its own namespace. When you define a variable in a jupyter notebook, it can typically be accessed and altered whenever you like:"
   ]
  },
  {
   "cell_type": "code",
   "execution_count": 22,
   "id": "1737b716",
   "metadata": {
    "scrolled": true
   },
   "outputs": [
    {
     "name": "stdout",
     "output_type": "stream",
     "text": [
      "56\n"
     ]
    }
   ],
   "source": [
    "number = 7\n",
    "\n",
    "def calc(input):\n",
    "    calcu = input * number # the function \"calc\" can call number. I do not have to pass it\n",
    "    return(calcu)\n",
    "\n",
    "newcalculation = calc(8)\n",
    "print(newcalculation)"
   ]
  },
  {
   "cell_type": "code",
   "execution_count": 43,
   "id": "28767c7b",
   "metadata": {},
   "outputs": [
    {
     "name": "stdout",
     "output_type": "stream",
     "text": [
      "64\n"
     ]
    }
   ],
   "source": [
    "_protected = 8\n",
    "\n",
    "def calc2(input):\n",
    "    calcu2 = input * _protected # the function \"calc\" can call number. I do not have to pass it\n",
    "    return(calcu2)\n",
    "\n",
    "newcalculation2 = calc2(8)\n",
    "print(newcalculation2)"
   ]
  },
  {
   "cell_type": "markdown",
   "id": "d715f67e",
   "metadata": {},
   "source": [
    "However, some function within a namespace have their own <i>scope</i>.\n",
    "<h3>Scopes</h3>\n",
    "Sometimes, a variable is not known to the complete namespace, but inly within a single scope. Below, I define the variable \"mymathvariable\" within a function named \"mymath\". I can call and manupilate the variable within the function. But I cannot call the variable outside this function:"
   ]
  },
  {
   "cell_type": "code",
   "execution_count": 24,
   "id": "b383a85d",
   "metadata": {},
   "outputs": [
    {
     "name": "stdout",
     "output_type": "stream",
     "text": [
      "27\n",
      "5.4\n"
     ]
    },
    {
     "ename": "NameError",
     "evalue": "name 'mymathvariable' is not defined",
     "output_type": "error",
     "traceback": [
      "\u001b[1;31m---------------------------------------------------------------------------\u001b[0m",
      "\u001b[1;31mNameError\u001b[0m                                 Traceback (most recent call last)",
      "Cell \u001b[1;32mIn [24], line 9\u001b[0m\n\u001b[0;32m      7\u001b[0m newvalue \u001b[38;5;241m=\u001b[39m mymath(\u001b[38;5;241m3\u001b[39m)\n\u001b[0;32m      8\u001b[0m \u001b[38;5;28mprint\u001b[39m(newvalue)\n\u001b[1;32m----> 9\u001b[0m \u001b[38;5;28mprint\u001b[39m(mymathvariable)\n",
      "\u001b[1;31mNameError\u001b[0m: name 'mymathvariable' is not defined"
     ]
    }
   ],
   "source": [
    "def mymath(input):\n",
    "    mymathvariable = input**3\n",
    "    print(mymathvariable) # here I can access and print mymathvariable\n",
    "    output = mymathvariable/5 # here I use mymathvariable\n",
    "    return(output)\n",
    "\n",
    "newvalue = mymath(3)\n",
    "print(newvalue)\n",
    "print(mymathvariable) # here I cannot use mymathvariable"
   ]
  },
  {
   "cell_type": "code",
   "execution_count": null,
   "id": "33059dcb",
   "metadata": {},
   "outputs": [],
   "source": [
    "def mymath(input):\n",
    "    mymathvariable = input**3\n",
    "    print(mymathvariable) # here I can access and print mymathvariable\n",
    "    output = mymathvariable/5 # here I use mymathvariable\n",
    "    return(output)\n",
    "\n",
    "newvalue = mymath(3)\n",
    "print(newvalue)\n",
    "print(mymathvariable) # here I cannot use mymathvariable"
   ]
  },
  {
   "cell_type": "markdown",
   "id": "20c9c1eb",
   "metadata": {},
   "source": [
    "To make it protected, use an underscope in the variable name (_)"
   ]
  },
  {
   "cell_type": "markdown",
   "id": "cf4961c1",
   "metadata": {},
   "source": [
    "Another examples of scopes are loops. I use the variable \"kk\" in the global namespace. Then, I use it as a loop index variable in three different <font color=\"green\"><b>for</b></font> loops. This situation can be confuing: The innermost <font color=\"green\"><b>for</b></font> loop (ranging from 10-11) does not care about the other \"kk\"s. Whenever it is called, it sets its own \"kk\" to 10 and then to 11. This is what we see in the putput. The the scope of the <font color=\"green\"><b>for</b></font> loop ranging from 90 to 91, \"kk\" is neither affected by the \"kk\" from the other loops, nor by the global \"kk\". While none of the loops read the global \"kk\", all of them overwrite it."
   ]
  },
  {
   "cell_type": "code",
   "execution_count": 36,
   "id": "9b72b1e3",
   "metadata": {
    "scrolled": false
   },
   "outputs": [
    {
     "name": "stdout",
     "output_type": "stream",
     "text": [
      "10\n",
      "11\n",
      "10\n",
      "11\n",
      "10\n",
      "11\n",
      "10\n",
      "11\n"
     ]
    },
    {
     "data": {
      "text/plain": [
       "11"
      ]
     },
     "execution_count": 36,
     "metadata": {},
     "output_type": "execute_result"
    }
   ],
   "source": [
    "kk = 7\n",
    "for kk in range(2): # ranging from 0 to 1\n",
    "    for kk in range(90,92): # ranging from 90-91\n",
    "        for kk in range(10,12): # ranging from 10-11\n",
    "            print(kk)\n",
    "kk"
   ]
  },
  {
   "cell_type": "markdown",
   "id": "8abd402a",
   "metadata": {},
   "source": [
    "<h3>Protected Members</h3>"
   ]
  }
 ],
 "metadata": {
  "kernelspec": {
   "display_name": "Python 3 (ipykernel)",
   "language": "python",
   "name": "python3"
  },
  "language_info": {
   "codemirror_mode": {
    "name": "ipython",
    "version": 3
   },
   "file_extension": ".py",
   "mimetype": "text/x-python",
   "name": "python",
   "nbconvert_exporter": "python",
   "pygments_lexer": "ipython3",
   "version": "3.10.7"
  }
 },
 "nbformat": 4,
 "nbformat_minor": 5
}
