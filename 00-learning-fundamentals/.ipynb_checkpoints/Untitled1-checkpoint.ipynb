{
 "cells": [
  {
   "cell_type": "markdown",
   "id": "b0d68c53",
   "metadata": {},
   "source": [
    "<h1>Fourier Details</h1>\n",
    "Discrete Fourier transforms tend to cause numerical errors known as leakage effect. The effect cannot be eliminated. But the right windowing function can reduce the effect a bit."
   ]
  },
  {
   "cell_type": "code",
   "execution_count": null,
   "id": "be94d3a7",
   "metadata": {},
   "outputs": [],
   "source": []
  }
 ],
 "metadata": {
  "kernelspec": {
   "display_name": "Python 3 (ipykernel)",
   "language": "python",
   "name": "python3"
  },
  "language_info": {
   "codemirror_mode": {
    "name": "ipython",
    "version": 3
   },
   "file_extension": ".py",
   "mimetype": "text/x-python",
   "name": "python",
   "nbconvert_exporter": "python",
   "pygments_lexer": "ipython3",
   "version": "3.10.7"
  }
 },
 "nbformat": 4,
 "nbformat_minor": 5
}
