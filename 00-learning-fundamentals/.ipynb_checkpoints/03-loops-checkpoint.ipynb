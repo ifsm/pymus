{
 "cells": [
  {
   "cell_type": "markdown",
   "id": "44cff1cb",
   "metadata": {},
   "source": [
    "<h1>Loops</h1>\n",
    "Loops are essential in programming. We often repeat calculations over and over.\n",
    "<h2>For-Loops</h2>\n",
    "For-loops are often used when we know beforehand, how many iterations (repetitions) we want:"
   ]
  },
  {
   "cell_type": "code",
   "execution_count": 2,
   "id": "26eb77e3",
   "metadata": {
    "scrolled": false
   },
   "outputs": [
    {
     "name": "stdout",
     "output_type": "stream",
     "text": [
      "0\n",
      "1\n",
      "4\n",
      "9\n",
      "16\n"
     ]
    }
   ],
   "source": [
    "listing = [1, 2, 5, 4, 8]# here we define a list and assign it five different values\n",
    "for i in range(len(listing)):\n",
    "    print(i**2)# here we carry out an action every iteration (repetition)"
   ]
  },
  {
   "cell_type": "markdown",
   "id": "b51759a5",
   "metadata": {},
   "source": [
    "<font color=\"green\"><b>for</b></font> i <font color=\"green\"><b>in</b> range</font>(<font color=\"green\">len</font>(listing)): is difficult to interpret by beginners. It means that we define an index variable named i. The variable i will take an initial value and then change after every iteration. The initial value and how it will change is defined after <font color=\"green\"><b>in</b></font>: <font color=\"green\">range</font>() means something like \"take every <i>x</i>th integer within the range defined in my argument\". Inside the argument, we wrote \n",
    "<font color=\"green\">len</font>(). This is the length of the list inside its argument. The list inside the argument is listing. It contains <i>5</i> values."
   ]
  },
  {
   "cell_type": "code",
   "execution_count": 3,
   "id": "07cc5a18",
   "metadata": {},
   "outputs": [
    {
     "name": "stdout",
     "output_type": "stream",
     "text": [
      "[1, 2, 5, 4, 8]\n",
      "5\n"
     ]
    }
   ],
   "source": [
    "print(listing)\n",
    "print(len(listing))"
   ]
  },
  {
   "cell_type": "markdown",
   "id": "4234324f",
   "metadata": {},
   "source": [
    "When you pass only one value x to range(), it means \"take every integer within the range from 0 to x, but <b>excluding</b> x itself\". Consequently, i will take the values <i>0</i>, <i>1</i>, <i>2</i>, <i>3</i> and <i>4</i>. This is the largest integer that meets the condition \"in range(5)\"."
   ]
  },
  {
   "cell_type": "code",
   "execution_count": 4,
   "id": "8b3be2c6",
   "metadata": {},
   "outputs": [
    {
     "data": {
      "text/plain": [
       "4"
      ]
     },
     "execution_count": 4,
     "metadata": {},
     "output_type": "execute_result"
    }
   ],
   "source": [
    "i"
   ]
  },
  {
   "cell_type": "markdown",
   "id": "8925881f",
   "metadata": {},
   "source": [
    "As you can see, i has raised to 4. Note that <font color=\"green\">range</font> () can take two arguments:"
   ]
  },
  {
   "cell_type": "code",
   "execution_count": 15,
   "id": "10b9eebf",
   "metadata": {},
   "outputs": [
    {
     "data": {
      "text/plain": [
       "range(-3, 3)"
      ]
     },
     "execution_count": 15,
     "metadata": {},
     "output_type": "execute_result"
    }
   ],
   "source": [
    "range(-3,3)"
   ]
  },
  {
   "cell_type": "markdown",
   "id": "b606d9cb",
   "metadata": {},
   "source": [
    "Furthermore, the arguments have to be integers. Integers include all natural numbers, but also their negative counterparts and the 0. Floats are not accepted by <font color=\"green\">range</font>():"
   ]
  },
  {
   "cell_type": "code",
   "execution_count": 16,
   "id": "9ed478cc",
   "metadata": {
    "scrolled": true
   },
   "outputs": [
    {
     "ename": "TypeError",
     "evalue": "'float' object cannot be interpreted as an integer",
     "output_type": "error",
     "traceback": [
      "\u001b[1;31m---------------------------------------------------------------------------\u001b[0m",
      "\u001b[1;31mTypeError\u001b[0m                                 Traceback (most recent call last)",
      "Cell \u001b[1;32mIn [16], line 1\u001b[0m\n\u001b[1;32m----> 1\u001b[0m \u001b[38;5;28mrange\u001b[39m(\u001b[38;5;241m-\u001b[39m\u001b[38;5;241m3.\u001b[39m,\u001b[38;5;241m3\u001b[39m)\n",
      "\u001b[1;31mTypeError\u001b[0m: 'float' object cannot be interpreted as an integer"
     ]
    }
   ],
   "source": [
    "range(-3.,3)"
   ]
  },
  {
   "cell_type": "markdown",
   "id": "aef46ebc",
   "metadata": {},
   "source": [
    "You have to convert floats into integers before you can use them in <font color=\"green\">range</font>():"
   ]
  },
  {
   "cell_type": "code",
   "execution_count": 35,
   "id": "7cdcf916",
   "metadata": {},
   "outputs": [
    {
     "name": "stdout",
     "output_type": "stream",
     "text": [
      "range(4, 2)\n"
     ]
    }
   ],
   "source": [
    "print(range(int(4.999999999999999),2))"
   ]
  },
  {
   "cell_type": "markdown",
   "id": "9448ebb2",
   "metadata": {},
   "source": [
    "Beware that type convertions via <font color=\"green\">int</font>() is not always mathematically plausible. In the example above, 4.something is converted into 4. It is not rounded mathematically correct, but to the floor value. But this is also not always true:"
   ]
  },
  {
   "cell_type": "code",
   "execution_count": 34,
   "id": "1acd73c0",
   "metadata": {
    "scrolled": true
   },
   "outputs": [
    {
     "name": "stdout",
     "output_type": "stream",
     "text": [
      "range(5, 2)\n"
     ]
    }
   ],
   "source": [
    "print(range(int(4.9999999999999999),2))"
   ]
  },
  {
   "cell_type": "markdown",
   "id": "ef182bd7",
   "metadata": {},
   "source": [
    "What happened here?"
   ]
  },
  {
   "cell_type": "code",
   "execution_count": 49,
   "id": "3cfdf1fb",
   "metadata": {},
   "outputs": [
    {
     "data": {
      "text/plain": [
       "5.0"
      ]
     },
     "execution_count": 49,
     "metadata": {},
     "output_type": "execute_result"
    }
   ],
   "source": [
    "ddd=4.9999999999999999;\n",
    "ddd"
   ]
  },
  {
   "cell_type": "markdown",
   "id": "aa26afc4",
   "metadata": {},
   "source": [
    "As floats has a finite precision, <font color=\"green\">4.9999999999999999</font> is encoded as <font color=\"green\">5.0</font> which equals the floor value <font color=\"green\">5</font>. The index variable does not have to run through all integers within a range. You can also define values it should take:"
   ]
  },
  {
   "cell_type": "code",
   "execution_count": 5,
   "id": "5d0eb287",
   "metadata": {
    "scrolled": true
   },
   "outputs": [
    {
     "name": "stdout",
     "output_type": "stream",
     "text": [
      "1\n",
      "4\n",
      "3\n",
      "5\n"
     ]
    }
   ],
   "source": [
    "for i in [1,4,3,5]:\n",
    "    print(i)"
   ]
  },
  {
   "cell_type": "markdown",
   "id": "ec92dae5",
   "metadata": {},
   "source": [
    "The range() function can even take three arguments:"
   ]
  },
  {
   "cell_type": "code",
   "execution_count": 14,
   "id": "531610af",
   "metadata": {},
   "outputs": [
    {
     "name": "stdout",
     "output_type": "stream",
     "text": [
      "-2\n",
      "0\n",
      "2\n",
      "4\n",
      "6\n",
      "8\n"
     ]
    }
   ],
   "source": [
    "for i in range(-2,9,2):\n",
    "    print(i)"
   ]
  },
  {
   "cell_type": "markdown",
   "id": "417fe6db",
   "metadata": {},
   "source": [
    "Python also knows a way to skip a particular iteration using the continue command:"
   ]
  },
  {
   "cell_type": "code",
   "execution_count": 26,
   "id": "009d6714",
   "metadata": {},
   "outputs": [
    {
     "name": "stdout",
     "output_type": "stream",
     "text": [
      "0\n",
      "6\n",
      "9\n",
      "12\n"
     ]
    }
   ],
   "source": [
    "for i in range(0,13,3):\n",
    "    if i ==3:\n",
    "        continue\n",
    "    print(i)"
   ]
  },
  {
   "cell_type": "markdown",
   "id": "c93b1879",
   "metadata": {},
   "source": [
    "Often, there are alternative ways to skip an iteration:"
   ]
  },
  {
   "cell_type": "code",
   "execution_count": 30,
   "id": "25a14ab1",
   "metadata": {},
   "outputs": [
    {
     "name": "stdout",
     "output_type": "stream",
     "text": [
      "0\n",
      "6\n",
      "9\n",
      "12\n"
     ]
    }
   ],
   "source": [
    "for i in range(0,13,3):\n",
    "    if i !=3:\n",
    "        print(i)"
   ]
  },
  {
   "cell_type": "markdown",
   "id": "c96cc62c",
   "metadata": {},
   "source": [
    "For-loops are special in python. Usually, a for loop looks like:<br>\n",
    "<font color=\"green\"><b>for</b></font> <font color=\"blue\">int</font> i = 0, i<=10, i++(<br>\n",
    "<font color=\"green\">print</font>(i)\n",
    "<br>)<br>\n",
    "Here, i = 1 is the initial state. As long as the condition i<= 10 is met, the loop will continue. After every iteration, i increases by one, as i++ means \"i=i+1\" or \"i+=1\", i.e., \"the new i is the old i plus one\"."
   ]
  },
  {
   "cell_type": "markdown",
   "id": "f0765b6c",
   "metadata": {},
   "source": [
    "<h2>While-Loops</h2>\n",
    "While loops are often needed when you do not know how many iterations you may need. In general, while loops look like this:"
   ]
  },
  {
   "cell_type": "code",
   "execution_count": 15,
   "id": "4aa46690",
   "metadata": {},
   "outputs": [],
   "source": [
    "while i < 6:\n",
    "    print(i)\n",
    "    i=i+1"
   ]
  },
  {
   "cell_type": "markdown",
   "id": "a3363feb",
   "metadata": {},
   "source": [
    "This produces no output, since i was defined above as 8. What will happen when you run a loop like this?<br>\n",
    "i<font color=\"purple\"><b> = </b></font> 3<br>\n",
    " <font color=\"green\"><b>while</b></font> i <font color=\"purple\"><b> \\< </b></font> <font color=\"green\">6</font>:<br>\n",
    "    &nbsp;&nbsp;&nbsp;&nbsp;&nbsp;&nbsp;&nbsp;<font color=\"green\">print</font>(i)<br><br>\n",
    "This loop will print 8 forever. This is because the condition is always met. While loops always need a chance to stop. This can either be achieved by manipulating the index variable, or by using another variable in the condition, or by a <font color=\"green\"><b>break</b></font> command:"
   ]
  },
  {
   "cell_type": "code",
   "execution_count": 20,
   "id": "512f967f",
   "metadata": {},
   "outputs": [
    {
     "name": "stdout",
     "output_type": "stream",
     "text": [
      "3\n",
      "4\n",
      "5\n"
     ]
    }
   ],
   "source": [
    "i=3\n",
    "while i < 6:\n",
    "    print(i)\n",
    "    i=i+1 # here, the index variable is altered every iteration"
   ]
  },
  {
   "cell_type": "code",
   "execution_count": 21,
   "id": "4d9616d8",
   "metadata": {},
   "outputs": [
    {
     "name": "stdout",
     "output_type": "stream",
     "text": [
      "3\n",
      "4\n"
     ]
    }
   ],
   "source": [
    "i=3\n",
    "while i < 6:\n",
    "    print(i)\n",
    "    if i <= 3:#if the current value of i is smaller than or equal to 3,\n",
    "        i=i+1#it will be increased by 1 \n",
    "    else:# otherwise:\n",
    "        break# break terminates the loop immediately"
   ]
  },
  {
   "cell_type": "code",
   "execution_count": 36,
   "id": "02d6d45a",
   "metadata": {},
   "outputs": [
    {
     "name": "stdout",
     "output_type": "stream",
     "text": [
      "3\n",
      "3\n",
      "3\n",
      "3\n"
     ]
    }
   ],
   "source": [
    "i=3\n",
    "y = 7\n",
    "while i < y:\n",
    "    print(i)\n",
    "    y = y-1 # here, the i stays unchanged, but the y changes, affecting the condition"
   ]
  }
 ],
 "metadata": {
  "kernelspec": {
   "display_name": "Python 3 (ipykernel)",
   "language": "python",
   "name": "python3"
  },
  "language_info": {
   "codemirror_mode": {
    "name": "ipython",
    "version": 3
   },
   "file_extension": ".py",
   "mimetype": "text/x-python",
   "name": "python",
   "nbconvert_exporter": "python",
   "pygments_lexer": "ipython3",
   "version": "3.10.7"
  }
 },
 "nbformat": 4,
 "nbformat_minor": 5
}
