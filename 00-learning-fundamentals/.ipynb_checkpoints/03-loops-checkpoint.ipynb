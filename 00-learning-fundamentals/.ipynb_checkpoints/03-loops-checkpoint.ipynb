{
 "cells": [
  {
   "cell_type": "markdown",
   "id": "adc18eb7",
   "metadata": {},
   "source": [
    "<h1>Loops</h1>\n",
    "Loops are essential in programming. We often repeat calculations over and over. For-loops are often used when we know beforehand, how many iterations (repetitions) we want:"
   ]
  },
  {
   "cell_type": "code",
   "execution_count": 9,
   "id": "d5c87dc3",
   "metadata": {
    "scrolled": false
   },
   "outputs": [
    {
     "name": "stdout",
     "output_type": "stream",
     "text": [
      "0\n",
      "1\n",
      "4\n",
      "9\n",
      "16\n"
     ]
    }
   ],
   "source": [
    "listing = [1, 2, 5, 4, 8]# here we define a list and assign it five different values\n",
    "for i in range(len(listing)):\n",
    "    print(i**2)# here we carry out an action every iteration (repetition)"
   ]
  },
  {
   "cell_type": "markdown",
   "id": "0eab9c27",
   "metadata": {},
   "source": [
    "<font color=\"green\"><b>for</b></font> i <font color=\"green\"><b>in</b> range</font>(<font color=\"green\">len</font>(listing)): is difficult to interpret by beginners. It means that we define an index variable named i. The variable i will take an initial value and then change after every iteration. The initial value and how it will change is defined after <font color=\"green\"><b>in</b></font>: <font color=\"green\">range</font>() means something like \"take every integer within the range defined in my argument\". Inside the argument, we wrote \n",
    "<font color=\"green\">len</font>(). This is the length of the list inside its argument. The list inside the argument is listing. It contains 5 values."
   ]
  },
  {
   "cell_type": "code",
   "execution_count": 12,
   "id": "fcff5e95",
   "metadata": {},
   "outputs": [
    {
     "data": {
      "text/plain": [
       "[1, 2, 5, 4, 8]"
      ]
     },
     "execution_count": 12,
     "metadata": {},
     "output_type": "execute_result"
    }
   ],
   "source": [
    "listing"
   ]
  },
  {
   "cell_type": "markdown",
   "id": "7f3a700b",
   "metadata": {},
   "source": [
    "When you pass only one value x to range(), it means \"range from 0 to x, but <b>excluding</b> x itself\". Consequently, i will take the values 0, 1, 2, 3 and 4. This is the largest integer that meets the condition \"in range(5)\"."
   ]
  },
  {
   "cell_type": "code",
   "execution_count": 11,
   "id": "6badb8d8",
   "metadata": {},
   "outputs": [
    {
     "data": {
      "text/plain": [
       "4"
      ]
     },
     "execution_count": 11,
     "metadata": {},
     "output_type": "execute_result"
    }
   ],
   "source": [
    "i"
   ]
  },
  {
   "cell_type": "markdown",
   "id": "a6fbc2c7",
   "metadata": {},
   "source": [
    "As you can see, i has raised to 4. Note that <font color=\"green\">range</font> () can take two arguments:"
   ]
  },
  {
   "cell_type": "code",
   "execution_count": 15,
   "id": "9a78e3a4",
   "metadata": {},
   "outputs": [
    {
     "data": {
      "text/plain": [
       "range(-3, 3)"
      ]
     },
     "execution_count": 15,
     "metadata": {},
     "output_type": "execute_result"
    }
   ],
   "source": [
    "range(-3,3)"
   ]
  },
  {
   "cell_type": "markdown",
   "id": "9a697904",
   "metadata": {},
   "source": [
    "Furthermore, the arguments have to be integers. Integers include all natural numbers, but also their negative counterparts and the 0. Floats are not accepted by <font color=\"green\">range</font>():"
   ]
  },
  {
   "cell_type": "code",
   "execution_count": 16,
   "id": "17f274c2",
   "metadata": {
    "scrolled": true
   },
   "outputs": [
    {
     "ename": "TypeError",
     "evalue": "'float' object cannot be interpreted as an integer",
     "output_type": "error",
     "traceback": [
      "\u001b[1;31m---------------------------------------------------------------------------\u001b[0m",
      "\u001b[1;31mTypeError\u001b[0m                                 Traceback (most recent call last)",
      "Cell \u001b[1;32mIn [16], line 1\u001b[0m\n\u001b[1;32m----> 1\u001b[0m \u001b[38;5;28mrange\u001b[39m(\u001b[38;5;241m-\u001b[39m\u001b[38;5;241m3.\u001b[39m,\u001b[38;5;241m3\u001b[39m)\n",
      "\u001b[1;31mTypeError\u001b[0m: 'float' object cannot be interpreted as an integer"
     ]
    }
   ],
   "source": [
    "range(-3.,3)"
   ]
  },
  {
   "cell_type": "markdown",
   "id": "2182eb37",
   "metadata": {},
   "source": [
    "You have to convert floats into integers before you can use them in <font color=\"green\">range</font>():"
   ]
  },
  {
   "cell_type": "code",
   "execution_count": 35,
   "id": "9745f3bb",
   "metadata": {},
   "outputs": [
    {
     "name": "stdout",
     "output_type": "stream",
     "text": [
      "range(4, 2)\n"
     ]
    }
   ],
   "source": [
    "print(range(int(4.999999999999999),2))"
   ]
  },
  {
   "cell_type": "markdown",
   "id": "f0f24d8c",
   "metadata": {},
   "source": [
    "Beware that type convertions via <font color=\"green\">int</font>() is not always mathematically plausible. In the example above, 4.something is converted into 4. It is not rounded mathematically correct, but to the floor value. But this is also not always true:"
   ]
  },
  {
   "cell_type": "code",
   "execution_count": 34,
   "id": "7f2162c8",
   "metadata": {
    "scrolled": true
   },
   "outputs": [
    {
     "name": "stdout",
     "output_type": "stream",
     "text": [
      "range(5, 2)\n"
     ]
    }
   ],
   "source": [
    "print(range(int(4.9999999999999999),2))"
   ]
  },
  {
   "cell_type": "markdown",
   "id": "feae17ff",
   "metadata": {},
   "source": [
    "What happened here?"
   ]
  },
  {
   "cell_type": "code",
   "execution_count": 49,
   "id": "f35cf32c",
   "metadata": {},
   "outputs": [
    {
     "data": {
      "text/plain": [
       "5.0"
      ]
     },
     "execution_count": 49,
     "metadata": {},
     "output_type": "execute_result"
    }
   ],
   "source": [
    "ddd=4.9999999999999999;\n",
    "ddd"
   ]
  },
  {
   "cell_type": "markdown",
   "id": "577a519f",
   "metadata": {},
   "source": [
    "As floats has a finite precision, <font color=\"green\">4.9999999999999999</font> is encoded as <font color=\"green\">5.0</font> which equals the floor value <font color=\"green\">5</font>.  "
   ]
  },
  {
   "cell_type": "code",
   "execution_count": 5,
   "id": "da9335d3",
   "metadata": {
    "scrolled": true
   },
   "outputs": [
    {
     "name": "stdout",
     "output_type": "stream",
     "text": [
      "1\n",
      "4\n",
      "3\n",
      "5\n"
     ]
    }
   ],
   "source": [
    "for i in [1,4,3,5]:\n",
    "    print(i)"
   ]
  },
  {
   "cell_type": "markdown",
   "id": "1c2f87d7",
   "metadata": {},
   "source": [
    "This is not how for-loops usually look like. For-loops are special in python. Usually, a for loop looks like:<br>\n",
    "<font color=\"green\"><b>for</b></font> <font color=\"blue\">int</font> i = 0, i<=10, i++(<br>\n",
    "<font color=\"green\">print</font>(i)\n",
    "<br>)<br>\n",
    "Here, i = 1 is the initial state. As long as the condition i<= 10 is met, the loop will continue. After every iteration, i increases by one, as i++ means \"i=i+1\" or \"i+=1\", i.e., \"the new i is the old i plus one\"."
   ]
  },
  {
   "cell_type": "code",
   "execution_count": null,
   "id": "e06b60cb",
   "metadata": {},
   "outputs": [],
   "source": [
    "while"
   ]
  }
 ],
 "metadata": {
  "kernelspec": {
   "display_name": "Python 3 (ipykernel)",
   "language": "python",
   "name": "python3"
  },
  "language_info": {
   "codemirror_mode": {
    "name": "ipython",
    "version": 3
   },
   "file_extension": ".py",
   "mimetype": "text/x-python",
   "name": "python",
   "nbconvert_exporter": "python",
   "pygments_lexer": "ipython3",
   "version": "3.10.7"
  }
 },
 "nbformat": 4,
 "nbformat_minor": 5
}
