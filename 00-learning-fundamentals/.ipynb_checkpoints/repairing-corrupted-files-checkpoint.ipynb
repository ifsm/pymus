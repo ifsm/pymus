{
 "cells": [
  {
   "cell_type": "markdown",
   "id": "9514cd97",
   "metadata": {},
   "source": [
    "Sometimes, when jupyter or your system crashes, when you recover an old file, or when you've edited an ipynb file manually in an editor, the file may become corrupted and cannot be opened by jupyter. In that case, analyze the file and manually correct every single error that is printed:"
   ]
  },
  {
   "cell_type": "code",
   "execution_count": 3,
   "id": "c418cdb9",
   "metadata": {},
   "outputs": [
    {
     "name": "stdout",
     "output_type": "stream",
     "text": [
      "Expecting value: line 30 column 1 (char 2944)\n"
     ]
    }
   ],
   "source": [
    "#pip install json\n",
    "import json\n",
    "    \n",
    "with open(r'path/to/your/corrupted/file.ipynb') as pynb:\n",
    "    try:\n",
    "        report = json.load(pynb)\n",
    "    except Exception as e:\n",
    "        print(str(e))"
   ]
  }
 ],
 "metadata": {
  "kernelspec": {
   "display_name": "Python 3 (ipykernel)",
   "language": "python",
   "name": "python3"
  },
  "language_info": {
   "codemirror_mode": {
    "name": "ipython",
    "version": 3
   },
   "file_extension": ".py",
   "mimetype": "text/x-python",
   "name": "python",
   "nbconvert_exporter": "python",
   "pygments_lexer": "ipython3",
   "version": "3.10.7"
  }
 },
 "nbformat": 4,
 "nbformat_minor": 5
}
