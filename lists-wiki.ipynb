{
 "cells": [
  {
   "cell_type": "markdown",
   "id": "60655cf7",
   "metadata": {},
   "source": [
    "<h1> create a list </h1>"
   ]
  },
  {
   "cell_type": "markdown",
   "id": "54ab6081",
   "metadata": {},
   "source": [
    " Lists can be changed, ordered and manipulated. They are used to store multiple items in a single variable. To create a list you only have to write your items in square brackets and separate them with a comma. If you use normal brackets you will create a tuple. A tuple is quit similar to a list but can not be changed afterwards."
   ]
  },
  {
   "cell_type": "markdown",
   "id": "9c2d6542",
   "metadata": {},
   "source": [
    "The most important commands for lists are: <br>\n",
    "append() <br>\n",
    "extend() <br>\n",
    "insert() <br>\n",
    "remove() <br>\n",
    "clear() <br>\n",
    "index() <br>\n",
    "count() <br>\n",
    "sort() <br>\n",
    "reverse() <br>\n",
    "copy() <br>\n",
    "pop() <br>\n"
   ]
  },
  {
   "cell_type": "code",
   "execution_count": 24,
   "id": "a331e587",
   "metadata": {},
   "outputs": [],
   "source": [
    "instrument1 = 'flute' #list of strings\n",
    "instrument2 = 'piano'\n",
    "instrument3 = 'drums'\n",
    "instrument4 = 'trombone'"
   ]
  },
  {
   "cell_type": "code",
   "execution_count": 25,
   "id": "ee663720",
   "metadata": {
    "scrolled": true
   },
   "outputs": [],
   "source": [
    "instruments = [instrument1, instrument2, instrument3, instrument4]"
   ]
  },
  {
   "cell_type": "code",
   "execution_count": 28,
   "id": "2e73ec11",
   "metadata": {},
   "outputs": [],
   "source": [
    "numb = [1,2,6,4,8,14,8] #list of numbers"
   ]
  },
  {
   "cell_type": "code",
   "execution_count": 34,
   "id": "df0637a9",
   "metadata": {},
   "outputs": [],
   "source": [
    "let = ['a','g','r','e','h','f'] #list of letters"
   ]
  },
  {
   "cell_type": "code",
   "execution_count": 6,
   "id": "10f568d3",
   "metadata": {},
   "outputs": [],
   "source": [
    "mix = [1,4,'l','r','train','bus'] #list of mixed data types"
   ]
  },
  {
   "cell_type": "code",
   "execution_count": 26,
   "id": "f50fce40",
   "metadata": {
    "scrolled": true
   },
   "outputs": [
    {
     "data": {
      "text/plain": [
       "['flute', 'piano', 'drums', 'trombone', 'guitar']"
      ]
     },
     "execution_count": 26,
     "metadata": {},
     "output_type": "execute_result"
    }
   ],
   "source": [
    "instruments.append('guitar') #add a new item to the end of the list\n",
    "instruments"
   ]
  },
  {
   "cell_type": "code",
   "execution_count": 21,
   "id": "0acd3ac1",
   "metadata": {},
   "outputs": [
    {
     "data": {
      "text/plain": [
       "['flute', 'piano', 'drums', 'trombone', 'guitar', 1, 2, 6, 4, 8, 14, 8]"
      ]
     },
     "execution_count": 21,
     "metadata": {},
     "output_type": "execute_result"
    }
   ],
   "source": [
    "instruments.extend(numb) #add anoter list to the list\n",
    "instruments"
   ]
  },
  {
   "cell_type": "code",
   "execution_count": 30,
   "id": "17e4d388",
   "metadata": {},
   "outputs": [
    {
     "data": {
      "text/plain": [
       "[1, 2, 3, 3, 6, 4, 8, 14, 8]"
      ]
     },
     "execution_count": 30,
     "metadata": {},
     "output_type": "execute_result"
    }
   ],
   "source": [
    "numb.insert(2, 3) #insert a variable in any point of the list. \n",
    "                #1. variable in the list 2. variable you want to insert\n",
    "\n",
    "numb"
   ]
  },
  {
   "cell_type": "code",
   "execution_count": 32,
   "id": "a51058f3",
   "metadata": {},
   "outputs": [
    {
     "data": {
      "text/plain": [
       "[1, 2, 6, 4, 8, 14, 8]"
      ]
     },
     "execution_count": 32,
     "metadata": {},
     "output_type": "execute_result"
    }
   ],
   "source": [
    "numb.remove(3) #delete an item \n",
    "numb\n"
   ]
  },
  {
   "cell_type": "code",
   "execution_count": null,
   "id": "ab56bda3",
   "metadata": {},
   "outputs": [],
   "source": [
    "numb.clear() #clear the list with 'listname.clear' and add () without an argument"
   ]
  },
  {
   "cell_type": "code",
   "execution_count": 35,
   "id": "730c1924",
   "metadata": {},
   "outputs": [
    {
     "data": {
      "text/plain": [
       "5"
      ]
     },
     "execution_count": 35,
     "metadata": {},
     "output_type": "execute_result"
    }
   ],
   "source": [
    "let.index('f') #find the index position of an item with .index"
   ]
  },
  {
   "cell_type": "code",
   "execution_count": 36,
   "id": "5b707522",
   "metadata": {},
   "outputs": [
    {
     "data": {
      "text/plain": [
       "'e'"
      ]
     },
     "execution_count": 36,
     "metadata": {},
     "output_type": "execute_result"
    }
   ],
   "source": [
    "let[3] #use square brackets if you know the index position and need the data"
   ]
  },
  {
   "cell_type": "code",
   "execution_count": 37,
   "id": "127b63d4",
   "metadata": {},
   "outputs": [
    {
     "data": {
      "text/plain": [
       "['a', 'g', 'r', 'e']"
      ]
     },
     "execution_count": 37,
     "metadata": {},
     "output_type": "execute_result"
    }
   ],
   "source": [
    "let[0:4] #use a collon to find multiple items"
   ]
  },
  {
   "cell_type": "code",
   "execution_count": 47,
   "id": "e44a1dd9",
   "metadata": {},
   "outputs": [
    {
     "data": {
      "text/plain": [
       "0"
      ]
     },
     "execution_count": 47,
     "metadata": {},
     "output_type": "execute_result"
    }
   ],
   "source": [
    "numb.count(3) #count shows you the amount of one specific number, string, float, etc. in a list"
   ]
  },
  {
   "cell_type": "code",
   "execution_count": 42,
   "id": "07d1f426",
   "metadata": {},
   "outputs": [
    {
     "data": {
      "text/plain": [
       "[1, 2, 4, 6, 8, 8, 14]"
      ]
     },
     "execution_count": 42,
     "metadata": {},
     "output_type": "execute_result"
    }
   ],
   "source": [
    "numb.sort() #use sort to sort the list in an ascending order\n",
    "numb"
   ]
  },
  {
   "cell_type": "code",
   "execution_count": 43,
   "id": "23705e88",
   "metadata": {},
   "outputs": [
    {
     "data": {
      "text/plain": [
       "[14, 8, 8, 6, 4, 2, 1]"
      ]
     },
     "execution_count": 43,
     "metadata": {},
     "output_type": "execute_result"
    }
   ],
   "source": [
    "numb.reverse() #use reverse to sort the list in a descending order\n",
    "numb"
   ]
  },
  {
   "cell_type": "code",
   "execution_count": 44,
   "id": "bdc1cb51",
   "metadata": {},
   "outputs": [
    {
     "data": {
      "text/plain": [
       "<function list.copy()>"
      ]
     },
     "execution_count": 44,
     "metadata": {},
     "output_type": "execute_result"
    }
   ],
   "source": [
    "numb.copy #use copy to copy the list"
   ]
  },
  {
   "cell_type": "code",
   "execution_count": null,
   "id": "61504cf9",
   "metadata": {},
   "outputs": [],
   "source": [
    "numb.pop(3) #.pop deletes the variable and shows wich variable was deleted"
   ]
  },
  {
   "cell_type": "markdown",
   "id": "7f3b3318",
   "metadata": {},
   "source": [
    "convert a list to an array:\n"
   ]
  },
  {
   "cell_type": "code",
   "execution_count": 48,
   "id": "a82e59a9",
   "metadata": {},
   "outputs": [],
   "source": [
    "import numpy as np"
   ]
  },
  {
   "cell_type": "code",
   "execution_count": 49,
   "id": "8facaff3",
   "metadata": {},
   "outputs": [],
   "source": [
    "numb2 = ([4,5,6],[7,8,9])"
   ]
  },
  {
   "cell_type": "code",
   "execution_count": 50,
   "id": "dbc00bfe",
   "metadata": {},
   "outputs": [
    {
     "data": {
      "text/plain": [
       "array([[4, 5, 6],\n",
       "       [7, 8, 9]])"
      ]
     },
     "execution_count": 50,
     "metadata": {},
     "output_type": "execute_result"
    }
   ],
   "source": [
    "np.asarray(numb2)"
   ]
  }
 ],
 "metadata": {
  "kernelspec": {
   "display_name": "Python 3 (ipykernel)",
   "language": "python",
   "name": "python3"
  },
  "language_info": {
   "codemirror_mode": {
    "name": "ipython",
    "version": 3
   },
   "file_extension": ".py",
   "mimetype": "text/x-python",
   "name": "python",
   "nbconvert_exporter": "python",
   "pygments_lexer": "ipython3",
   "version": "3.11.5"
  }
 },
 "nbformat": 4,
 "nbformat_minor": 5
}
