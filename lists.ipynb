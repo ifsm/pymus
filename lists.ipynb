{
 "cells": [
  {
   "cell_type": "markdown",
   "id": "26355476",
   "metadata": {},
   "source": [
    "<h1> create a list </h1>"
   ]
  },
  {
   "cell_type": "code",
   "execution_count": 38,
   "id": "01eee30a",
   "metadata": {},
   "outputs": [],
   "source": [
    "instrument1 = 'flute' #list of strings\n",
    "instrument2 = 'piano'\n",
    "instrument3 = 'drums'\n",
    "instrument4 = 'trombone'"
   ]
  },
  {
   "cell_type": "code",
   "execution_count": 39,
   "id": "ee663720",
   "metadata": {
    "scrolled": true
   },
   "outputs": [],
   "source": [
    "instruments = [instrument1, instrument2, instrument3, instrument4]"
   ]
  },
  {
   "cell_type": "code",
   "execution_count": 2,
   "id": "2e73ec11",
   "metadata": {},
   "outputs": [],
   "source": [
    "numb = [1,2,6,4,8,14,8] #list of numbers"
   ]
  },
  {
   "cell_type": "code",
   "execution_count": 14,
   "id": "df0637a9",
   "metadata": {},
   "outputs": [],
   "source": [
    "let = ['a','g','r','e','h','f'] #list of letters"
   ]
  },
  {
   "cell_type": "code",
   "execution_count": 6,
   "id": "10f568d3",
   "metadata": {},
   "outputs": [],
   "source": [
    "mix = [1,4,'l','r','train','bus'] #list of mixed data types"
   ]
  },
  {
   "cell_type": "code",
   "execution_count": 19,
   "id": "64376d08",
   "metadata": {},
   "outputs": [
    {
     "data": {
      "text/plain": [
       "[1, 2, 6, 4, 8, 14, 8]"
      ]
     },
     "execution_count": 19,
     "metadata": {},
     "output_type": "execute_result"
    }
   ],
   "source": [
    "numb"
   ]
  },
  {
   "cell_type": "code",
   "execution_count": null,
   "id": "3adff912",
   "metadata": {},
   "outputs": [],
   "source": [
    "let"
   ]
  },
  {
   "cell_type": "code",
   "execution_count": null,
   "id": "e32b206a",
   "metadata": {},
   "outputs": [],
   "source": [
    "mix"
   ]
  },
  {
   "cell_type": "markdown",
   "id": "bdb13e5c",
   "metadata": {},
   "source": [
    "<h2> append and remove data from a list </h2>"
   ]
  },
  {
   "cell_type": "markdown",
   "id": "8564718d",
   "metadata": {},
   "source": [
    "To create a list you have to use square brackets. If you use normal brackets, you will create a tuple. \n",
    "The difference is that it's not possible to change the data in a tuple."
   ]
  },
  {
   "cell_type": "code",
   "execution_count": 41,
   "id": "f50fce40",
   "metadata": {
    "scrolled": true
   },
   "outputs": [
    {
     "data": {
      "text/plain": [
       "['flute', 'piano', 'drums', 'trombone', 'guitar']"
      ]
     },
     "execution_count": 41,
     "metadata": {},
     "output_type": "execute_result"
    }
   ],
   "source": [
    "instruments.append('guitar') \n",
    "instruments"
   ]
  },
  {
   "cell_type": "code",
   "execution_count": 78,
   "id": "a51058f3",
   "metadata": {},
   "outputs": [
    {
     "data": {
      "text/plain": [
       "['a', 'g', 'r', 'e', 'h', 'f', 'b']"
      ]
     },
     "execution_count": 78,
     "metadata": {},
     "output_type": "execute_result"
    }
   ],
   "source": [
    "let.remove('b')\n",
    "let\n"
   ]
  },
  {
   "cell_type": "code",
   "execution_count": 6,
   "id": "e44a1dd9",
   "metadata": {},
   "outputs": [],
   "source": [
    "numb.append(2)"
   ]
  },
  {
   "cell_type": "code",
   "execution_count": 10,
   "id": "23705e88",
   "metadata": {},
   "outputs": [
    {
     "data": {
      "text/plain": [
       "[1, 4, 3, 6, 7, 8, 2]"
      ]
     },
     "execution_count": 10,
     "metadata": {},
     "output_type": "execute_result"
    }
   ],
   "source": [
    "numb.remove(2)\n",
    "numb"
   ]
  },
  {
   "cell_type": "code",
   "execution_count": null,
   "id": "7d45e8f6",
   "metadata": {},
   "outputs": [],
   "source": [
    "numb.clear() #clear the list with 'listname.clear' and add () without an argument"
   ]
  },
  {
   "cell_type": "code",
   "execution_count": 11,
   "id": "10943602",
   "metadata": {},
   "outputs": [
    {
     "data": {
      "text/plain": [
       "[1, 4, 3, 6, 7, 8, 2]"
      ]
     },
     "execution_count": 11,
     "metadata": {},
     "output_type": "execute_result"
    }
   ],
   "source": [
    "numb"
   ]
  },
  {
   "cell_type": "code",
   "execution_count": null,
   "id": "54ee63ff",
   "metadata": {},
   "outputs": [],
   "source": [
    "type(numb)"
   ]
  },
  {
   "cell_type": "code",
   "execution_count": 3,
   "id": "33568f98",
   "metadata": {},
   "outputs": [],
   "source": [
    "numb.insert(2, 3) #insert a variable at any point of the list. \n",
    "                #1. variable in the list 2. variable you want to insert"
   ]
  },
  {
   "cell_type": "code",
   "execution_count": 62,
   "id": "dacb6690",
   "metadata": {},
   "outputs": [],
   "source": [
    "del(numb[3])\n"
   ]
  },
  {
   "cell_type": "code",
   "execution_count": 77,
   "id": "036c638c",
   "metadata": {},
   "outputs": [
    {
     "data": {
      "text/plain": [
       "4"
      ]
     },
     "execution_count": 77,
     "metadata": {},
     "output_type": "execute_result"
    }
   ],
   "source": [
    "numb.pop(3) #.pop deletes the variable and shows wich variable was deleted"
   ]
  },
  {
   "cell_type": "code",
   "execution_count": 78,
   "id": "47402e8e",
   "metadata": {},
   "outputs": [
    {
     "data": {
      "text/plain": [
       "[1, 2, 3, 6, 7, 8]"
      ]
     },
     "execution_count": 78,
     "metadata": {},
     "output_type": "execute_result"
    }
   ],
   "source": [
    "numb"
   ]
  },
  {
   "cell_type": "code",
   "execution_count": 80,
   "id": "5e0de0f4",
   "metadata": {},
   "outputs": [],
   "source": [
    "let.remove('a')"
   ]
  },
  {
   "cell_type": "markdown",
   "id": "e1456779",
   "metadata": {},
   "source": [
    "<h2> access data in a list </h2>"
   ]
  },
  {
   "cell_type": "code",
   "execution_count": 46,
   "id": "a44db4da",
   "metadata": {},
   "outputs": [
    {
     "data": {
      "text/plain": [
       "[14, 8, 8, 6, 4, 2, 1]"
      ]
     },
     "execution_count": 46,
     "metadata": {},
     "output_type": "execute_result"
    }
   ],
   "source": [
    "numb"
   ]
  },
  {
   "cell_type": "code",
   "execution_count": 47,
   "id": "a615ebb0",
   "metadata": {},
   "outputs": [
    {
     "data": {
      "text/plain": [
       "2"
      ]
     },
     "execution_count": 47,
     "metadata": {},
     "output_type": "execute_result"
    }
   ],
   "source": [
    "numb.count(8) #count shows you the amount of one specific number, string, float, etc. in a list"
   ]
  },
  {
   "cell_type": "code",
   "execution_count": 15,
   "id": "23bb430c",
   "metadata": {},
   "outputs": [
    {
     "data": {
      "text/plain": [
       "['a', 'g', 'r', 'e', 'h', 'f']"
      ]
     },
     "execution_count": 15,
     "metadata": {},
     "output_type": "execute_result"
    }
   ],
   "source": [
    "let"
   ]
  },
  {
   "cell_type": "code",
   "execution_count": 51,
   "id": "6e82d7e6",
   "metadata": {},
   "outputs": [
    {
     "data": {
      "text/plain": [
       "'e'"
      ]
     },
     "execution_count": 51,
     "metadata": {},
     "output_type": "execute_result"
    }
   ],
   "source": [
    "let[3]"
   ]
  },
  {
   "cell_type": "code",
   "execution_count": 53,
   "id": "fb00cb35",
   "metadata": {},
   "outputs": [
    {
     "data": {
      "text/plain": [
       "['a', 'g', 'r', 'e']"
      ]
     },
     "execution_count": 53,
     "metadata": {},
     "output_type": "execute_result"
    }
   ],
   "source": [
    "let[0:4]"
   ]
  },
  {
   "cell_type": "code",
   "execution_count": 4,
   "id": "eb808079",
   "metadata": {},
   "outputs": [
    {
     "ename": "NameError",
     "evalue": "name 'let' is not defined",
     "output_type": "error",
     "traceback": [
      "\u001b[0;31m---------------------------------------------------------------------------\u001b[0m",
      "\u001b[0;31mNameError\u001b[0m                                 Traceback (most recent call last)",
      "Cell \u001b[0;32mIn[4], line 1\u001b[0m\n\u001b[0;32m----> 1\u001b[0m let\u001b[38;5;241m.\u001b[39mindex(\u001b[38;5;124m'\u001b[39m\u001b[38;5;124mf\u001b[39m\u001b[38;5;124m'\u001b[39m)\n",
      "\u001b[0;31mNameError\u001b[0m: name 'let' is not defined"
     ]
    }
   ],
   "source": [
    "let.index('f') #shows you the position of the first variable in a list you are searching for "
   ]
  },
  {
   "cell_type": "code",
   "execution_count": 23,
   "id": "8d5bc595",
   "metadata": {},
   "outputs": [],
   "source": [
    "numb.sort()"
   ]
  },
  {
   "cell_type": "code",
   "execution_count": 25,
   "id": "417d97d1",
   "metadata": {},
   "outputs": [],
   "source": [
    "numb.reverse()"
   ]
  },
  {
   "cell_type": "code",
   "execution_count": 26,
   "id": "512169af",
   "metadata": {},
   "outputs": [
    {
     "data": {
      "text/plain": [
       "[14, 8, 8, 6, 4, 2, 1]"
      ]
     },
     "execution_count": 26,
     "metadata": {},
     "output_type": "execute_result"
    }
   ],
   "source": [
    "numb"
   ]
  },
  {
   "cell_type": "code",
   "execution_count": 5,
   "id": "a82e59a9",
   "metadata": {},
   "outputs": [],
   "source": [
    "import numpy as np"
   ]
  },
  {
   "cell_type": "code",
   "execution_count": 6,
   "id": "8facaff3",
   "metadata": {},
   "outputs": [],
   "source": [
    "numb2 = ([4,5,6],[7,8,9])"
   ]
  },
  {
   "cell_type": "code",
   "execution_count": 7,
   "id": "dbc00bfe",
   "metadata": {},
   "outputs": [
    {
     "data": {
      "text/plain": [
       "array([[4, 5, 6],\n",
       "       [7, 8, 9]])"
      ]
     },
     "execution_count": 7,
     "metadata": {},
     "output_type": "execute_result"
    }
   ],
   "source": [
    "np.asarray(numb2)"
   ]
  },
  {
   "cell_type": "code",
   "execution_count": 9,
   "id": "a05ac5ab",
   "metadata": {},
   "outputs": [
    {
     "data": {
      "text/plain": [
       "array(['1', '4', 'l', 'r', 'train', 'bus'], dtype='<U21')"
      ]
     },
     "execution_count": 9,
     "metadata": {},
     "output_type": "execute_result"
    }
   ],
   "source": [
    "np.asarray(mix)"
   ]
  },
  {
   "cell_type": "code",
   "execution_count": null,
   "id": "d7c37318",
   "metadata": {},
   "outputs": [],
   "source": []
  }
 ],
 "metadata": {
  "kernelspec": {
   "display_name": "Python 3 (ipykernel)",
   "language": "python",
   "name": "python3"
  },
  "language_info": {
   "codemirror_mode": {
    "name": "ipython",
    "version": 3
   },
   "file_extension": ".py",
   "mimetype": "text/x-python",
   "name": "python",
   "nbconvert_exporter": "python",
   "pygments_lexer": "ipython3",
   "version": "3.11.5"
  }
 },
 "nbformat": 4,
 "nbformat_minor": 5
}
