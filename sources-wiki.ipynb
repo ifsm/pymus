{
 "cells": [
  {
   "cell_type": "markdown",
   "metadata": {},
   "source": [
    "<h1> Helpful Sources </h1>"
   ]
  },
  {
   "cell_type": "markdown",
   "metadata": {},
   "source": [
    "Lists: https://www.geeksforgeeks.org/python-lists/\n",
    "\n",
    "Arrays: https://www.geeksforgeeks.org/python-arrays/\n",
    "\n",
    "Audiofiles: https://www.youtube.com/watch?v=zZDdbFgNWYw"
   ]
  }
 ],
 "metadata": {
  "language_info": {
   "name": "python"
  }
 },
 "nbformat": 4,
 "nbformat_minor": 2
}
